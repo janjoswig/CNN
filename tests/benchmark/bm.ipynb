{
 "cells": [
  {
   "cell_type": "markdown",
   "metadata": {},
   "source": [
    "# Benchmarking"
   ]
  },
  {
   "cell_type": "markdown",
   "metadata": {},
   "source": [
    "Notebook to organise benchmarks of different implementations of the CNN algorithms (used e.g. in the `cnnclustering.cnn` and `sklearn.cluster` modules) and other cluster algorithms.\n",
    "The `CNN` clustering class exposes and wraps only one of the variants of the *fit* and the *predict* algorithm per data situation."
   ]
  },
  {
   "cell_type": "markdown",
   "metadata": {
    "toc": true
   },
   "source": [
    "<h1>Table of Contents<span class=\"tocSkip\"></span></h1>\n",
    "<div class=\"toc\"><ul class=\"toc-item\"><li><span><a href=\"#Pre-requirements\" data-toc-modified-id=\"Pre-requirements-1\"><span class=\"toc-item-num\">1&nbsp;&nbsp;</span>Pre-requirements</a></span></li><li><span><a href=\"#Version-info\" data-toc-modified-id=\"Version-info-2\"><span class=\"toc-item-num\">2&nbsp;&nbsp;</span>Version info</a></span></li><li><span><a href=\"#Helper-function-definitions\" data-toc-modified-id=\"Helper-function-definitions-3\"><span class=\"toc-item-num\">3&nbsp;&nbsp;</span>Helper function definitions</a></span><ul class=\"toc-item\"><li><span><a href=\"#Plots\" data-toc-modified-id=\"Plots-3.1\"><span class=\"toc-item-num\">3.1&nbsp;&nbsp;</span>Plots</a></span></li><li><span><a href=\"#Test-data-set-generation\" data-toc-modified-id=\"Test-data-set-generation-3.2\"><span class=\"toc-item-num\">3.2&nbsp;&nbsp;</span>Test data set generation</a></span></li><li><span><a href=\"#Benchmark-organisation\" data-toc-modified-id=\"Benchmark-organisation-3.3\"><span class=\"toc-item-num\">3.3&nbsp;&nbsp;</span>Benchmark organisation</a></span></li><li><span><a href=\"#Profiling\" data-toc-modified-id=\"Profiling-3.4\"><span class=\"toc-item-num\">3.4&nbsp;&nbsp;</span>Profiling</a></span></li></ul></li><li><span><a href=\"#Consitency-check\" data-toc-modified-id=\"Consitency-check-4\"><span class=\"toc-item-num\">4&nbsp;&nbsp;</span>Consitency check</a></span><ul class=\"toc-item\"><li><span><a href=\"#scikit-learn-DBSCAN\" data-toc-modified-id=\"scikit-learn-DBSCAN-4.1\"><span class=\"toc-item-num\">4.1&nbsp;&nbsp;</span>scikit-learn DBSCAN</a></span></li><li><span><a href=\"#scikit-learn-CNN\" data-toc-modified-id=\"scikit-learn-CNN-4.2\"><span class=\"toc-item-num\">4.2&nbsp;&nbsp;</span>scikit-learn CNN</a></span></li></ul></li><li><span><a href=\"#cnnclustering-from-points-on-the-fly\" data-toc-modified-id=\"cnnclustering-from-points-on-the-fly-5\"><span class=\"toc-item-num\">5&nbsp;&nbsp;</span>cnnclustering from points on-the-fly</a></span></li><li><span><a href=\"#cnnclustering-from-points-bulk\" data-toc-modified-id=\"cnnclustering-from-points-bulk-6\"><span class=\"toc-item-num\">6&nbsp;&nbsp;</span>cnnclustering from points bulk</a></span></li><li><span><a href=\"#cnnclustering-from-distances-on-the-fly\" data-toc-modified-id=\"cnnclustering-from-distances-on-the-fly-7\"><span class=\"toc-item-num\">7&nbsp;&nbsp;</span>cnnclustering from distances on-the-fly</a></span></li><li><span><a href=\"#cnnclustering-from-distances-bulk\" data-toc-modified-id=\"cnnclustering-from-distances-bulk-8\"><span class=\"toc-item-num\">8&nbsp;&nbsp;</span>cnnclustering from distances bulk</a></span></li><li><span><a href=\"#Fit-variants\" data-toc-modified-id=\"Fit-variants-9\"><span class=\"toc-item-num\">9&nbsp;&nbsp;</span>Fit variants</a></span><ul class=\"toc-item\"><li><span><a href=\"#From-neighbours\" data-toc-modified-id=\"From-neighbours-9.1\"><span class=\"toc-item-num\">9.1&nbsp;&nbsp;</span>From neighbours</a></span><ul class=\"toc-item\"><li><span><a href=\"#From-list-of-sets\" data-toc-modified-id=\"From-list-of-sets-9.1.1\"><span class=\"toc-item-num\">9.1.1&nbsp;&nbsp;</span>From list of sets</a></span><ul class=\"toc-item\"><li><span><a href=\"#Baseline\" data-toc-modified-id=\"Baseline-9.1.1.1\"><span class=\"toc-item-num\">9.1.1.1&nbsp;&nbsp;</span>Baseline</a></span></li><li><span><a href=\"#Stdlib-index\" data-toc-modified-id=\"Stdlib-index-9.1.1.2\"><span class=\"toc-item-num\">9.1.1.2&nbsp;&nbsp;</span>Stdlib index</a></span></li><li><span><a href=\"#Stdlib-cython\" data-toc-modified-id=\"Stdlib-cython-9.1.1.3\"><span class=\"toc-item-num\">9.1.1.3&nbsp;&nbsp;</span>Stdlib cython</a></span></li></ul></li><li><span><a href=\"#From-numpy.array\" data-toc-modified-id=\"From-numpy.array-9.1.2\"><span class=\"toc-item-num\">9.1.2&nbsp;&nbsp;</span>From numpy.array</a></span></li><li><span><a href=\"#Check-in-CNN-class-context\" data-toc-modified-id=\"Check-in-CNN-class-context-9.1.3\"><span class=\"toc-item-num\">9.1.3&nbsp;&nbsp;</span>Check in CNN class context</a></span></li></ul></li><li><span><a href=\"#From-density-graph\" data-toc-modified-id=\"From-density-graph-9.2\"><span class=\"toc-item-num\">9.2&nbsp;&nbsp;</span>From density graph</a></span><ul class=\"toc-item\"><li><span><a href=\"#From-SparsegraphArray\" data-toc-modified-id=\"From-SparsegraphArray-9.2.1\"><span class=\"toc-item-num\">9.2.1&nbsp;&nbsp;</span>From SparsegraphArray</a></span></li></ul></li></ul></li><li><span><a href=\"#Control-sequence-creation\" data-toc-modified-id=\"Control-sequence-creation-10\"><span class=\"toc-item-num\">10&nbsp;&nbsp;</span>Control sequence creation</a></span></li><li><span><a href=\"#Conversions\" data-toc-modified-id=\"Conversions-11\"><span class=\"toc-item-num\">11&nbsp;&nbsp;</span>Conversions</a></span></li><li><span><a href=\"#Data-types\" data-toc-modified-id=\"Data-types-12\"><span class=\"toc-item-num\">12&nbsp;&nbsp;</span>Data types</a></span><ul class=\"toc-item\"><li><span><a href=\"#Integer-index\" data-toc-modified-id=\"Integer-index-12.1\"><span class=\"toc-item-num\">12.1&nbsp;&nbsp;</span>Integer index</a></span></li><li><span><a href=\"#Integer\" data-toc-modified-id=\"Integer-12.2\"><span class=\"toc-item-num\">12.2&nbsp;&nbsp;</span>Integer</a></span></li><li><span><a href=\"#Fused\" data-toc-modified-id=\"Fused-12.3\"><span class=\"toc-item-num\">12.3&nbsp;&nbsp;</span>Fused</a></span></li></ul></li></ul></div>"
   ]
  },
  {
   "cell_type": "markdown",
   "metadata": {},
   "source": [
    "## Pre-requirements"
   ]
  },
  {
   "cell_type": "code",
   "execution_count": 1,
   "metadata": {
    "ExecuteTime": {
     "end_time": "2020-06-12T14:14:33.158406Z",
     "start_time": "2020-06-12T14:14:31.902048Z"
    },
    "init_cell": true,
    "scrolled": true
   },
   "outputs": [],
   "source": [
    "from collections import Counter\n",
    "import importlib\n",
    "from operator import itemgetter\n",
    "import sys\n",
    "import time\n",
    "\n",
    "\n",
    "from IPython.core.display import display, HTML\n",
    "import numpy as np\n",
    "%matplotlib widget\n",
    "import matplotlib as mpl\n",
    "import matplotlib.pyplot as plt\n",
    "from sklearn import cluster\n",
    "from sklearn import datasets\n",
    "from sklearn.neighbors import NearestNeighbors\n",
    "from sklearn.preprocessing import StandardScaler\n",
    "\n",
    "from cnnclustering import _cfits    # Cythonised fit implementation snippets\n",
    "from cnnclustering import cnn\n",
    "from snippets import fits  # Fit mplementation snippets\n",
    "\n",
    "# Jupyter extensions\n",
    "%load_ext Cython\n",
    "%load_ext line_profiler\n",
    "%load_ext memory_profiler"
   ]
  },
  {
   "cell_type": "code",
   "execution_count": 2,
   "metadata": {
    "ExecuteTime": {
     "end_time": "2020-06-12T14:14:33.172301Z",
     "start_time": "2020-06-12T14:14:33.160152Z"
    }
   },
   "outputs": [
    {
     "data": {
      "text/plain": [
       "<module 'cnnclustering.cnn' from '/home/janjoswig/CNN/cnnclustering/cnn.py'>"
      ]
     },
     "execution_count": 2,
     "metadata": {},
     "output_type": "execute_result"
    }
   ],
   "source": [
    "importlib.reload(cnn)"
   ]
  },
  {
   "cell_type": "code",
   "execution_count": 3,
   "metadata": {
    "ExecuteTime": {
     "end_time": "2020-06-12T14:14:33.200918Z",
     "start_time": "2020-06-12T14:14:33.174969Z"
    },
    "init_cell": true
   },
   "outputs": [],
   "source": [
    "# Matplotlib configuration\n",
    "mpl.rcParams.update(mpl.rcParamsDefault)\n",
    "mpl.rc_file(\"../../docsrc/tutorial/matplotlibrc\", use_default_template=False)"
   ]
  },
  {
   "cell_type": "code",
   "execution_count": 4,
   "metadata": {
    "ExecuteTime": {
     "end_time": "2020-06-12T14:14:33.445831Z",
     "start_time": "2020-06-12T14:14:33.439159Z"
    },
    "init_cell": true
   },
   "outputs": [
    {
     "data": {
      "text/html": [
       "<style>.container { width:85% !important; }</style>"
      ],
      "text/plain": [
       "<IPython.core.display.HTML object>"
      ]
     },
     "metadata": {},
     "output_type": "display_data"
    }
   ],
   "source": [
    "# Jupyter notebook configuration\n",
    "display(HTML(\"<style>.container { width:85% !important; }</style>\"))"
   ]
  },
  {
   "cell_type": "markdown",
   "metadata": {},
   "source": [
    "## Version info"
   ]
  },
  {
   "cell_type": "code",
   "execution_count": 5,
   "metadata": {
    "ExecuteTime": {
     "end_time": "2020-06-12T14:14:34.304892Z",
     "start_time": "2020-06-12T14:14:34.300902Z"
    },
    "init_cell": true
   },
   "outputs": [
    {
     "name": "stdout",
     "output_type": "stream",
     "text": [
      "3.8.3 (default, May 15 2020, 15:24:35) \n",
      "[GCC 8.3.0]\n"
     ]
    }
   ],
   "source": [
    "print(sys.version)"
   ]
  },
  {
   "cell_type": "markdown",
   "metadata": {},
   "source": [
    "## Helper function definitions"
   ]
  },
  {
   "cell_type": "markdown",
   "metadata": {},
   "source": [
    "### Plots"
   ]
  },
  {
   "cell_type": "code",
   "execution_count": 6,
   "metadata": {
    "ExecuteTime": {
     "end_time": "2020-06-12T14:14:35.353888Z",
     "start_time": "2020-06-12T14:14:35.350286Z"
    },
    "init_cell": true
   },
   "outputs": [],
   "source": [
    "# Axis property defaults for the plots\n",
    "ax_props = {\n",
    "    \"xlabel\": None,\n",
    "    \"ylabel\": None,\n",
    "    \"xlim\": (-2.5, 2.5),\n",
    "    \"ylim\": (-2.5, 2.5),\n",
    "    \"xticks\": (),\n",
    "    \"yticks\": (),\n",
    "    \"aspect\": \"equal\"\n",
    "}"
   ]
  },
  {
   "cell_type": "code",
   "execution_count": 7,
   "metadata": {
    "ExecuteTime": {
     "end_time": "2020-06-12T14:14:35.613877Z",
     "start_time": "2020-06-12T14:14:35.597173Z"
    },
    "init_cell": true
   },
   "outputs": [],
   "source": [
    "def plot_data(data, labels=None, ax=None, noise=0):\n",
    "    \"\"\"Take a data set and cluster labels to make a basic 2D dot plot\n",
    "    \n",
    "    Args:\n",
    "        data: Numpy `numpy.ndarray` of shape (#points, 2) with x, y\n",
    "            coordinates of points in 2D\n",
    "        labels: Numpy `numpy.ndarray` of shape (#points,) and\n",
    "            `dtype = int` holding cluster label assignments for all\n",
    "            points.  If `None`, will plot the data set without\n",
    "            point colouring by label.\n",
    "        ax: Matplotlib `matplotlib.axes.SubplotBase` instance to\n",
    "            attach the plot to.  If `None`, wil create a new instance.\n",
    "        noise: Integer label used to mark point as noise (no cluster\n",
    "            assignment; Usually 0 or -1). \n",
    "    \"\"\"\n",
    "\n",
    "    if ax is None:\n",
    "        plt.close('all')\n",
    "        fig, ax = plt.subplots(\n",
    "            figsize=(\n",
    "                mpl.rcParams[\"figure.figsize\"][0] / 2,\n",
    "                mpl.rcParams[\"figure.figsize\"][1]\n",
    "                )\n",
    "            )\n",
    "    else:\n",
    "        fig = ax.get_figure()\n",
    "        \n",
    "    if labels is None:\n",
    "        ax.plot(\n",
    "            *data.T,\n",
    "            linestyle=\"\",\n",
    "            color=\"None\",\n",
    "            marker=\"o\",\n",
    "            markersize=4,\n",
    "            markerfacecolor=\"white\",\n",
    "            markeredgecolor=\"k\",\n",
    "            )\n",
    "\n",
    "    else:\n",
    "        ax.plot(\n",
    "            *data[np.where(labels == noise)[0]].T,\n",
    "            linestyle=\"\",\n",
    "            color=\"None\",\n",
    "            marker=\"o\",\n",
    "            markersize=4,\n",
    "            markerfacecolor=\"gray\",\n",
    "            markeredgecolor=\"k\",\n",
    "            )\n",
    "\n",
    "        for cluster_number in range(noise + 1 , int(np.max(labels)) + 1):\n",
    "            ax.plot(\n",
    "                *data[np.where(labels == cluster_number)[0]].T,\n",
    "                linestyle=\"\",\n",
    "                marker=\"o\",\n",
    "                markersize=4,\n",
    "                markeredgecolor=\"k\",\n",
    "                )\n",
    "\n",
    "    ax.set(**{\n",
    "        \"xticks\": (),\n",
    "        \"yticks\": (),\n",
    "        \"xticklabels\": (),\n",
    "        \"yticklabels\": (),\n",
    "        \"aspect\": \"equal\"\n",
    "        })"
   ]
  },
  {
   "cell_type": "markdown",
   "metadata": {},
   "source": [
    "### Test data set generation"
   ]
  },
  {
   "cell_type": "markdown",
   "metadata": {},
   "source": [
    "Data set generation function should be generally designed in such a way that the expect exactly one argument *n* and return a 2D data set of *n* sample points. A `label` attribute can be optionally added to the function object for identification."
   ]
  },
  {
   "cell_type": "code",
   "execution_count": 8,
   "metadata": {
    "ExecuteTime": {
     "end_time": "2020-06-12T14:14:36.320220Z",
     "start_time": "2020-06-12T14:14:36.316938Z"
    },
    "init_cell": true
   },
   "outputs": [],
   "source": [
    "# Global seed for data set generation functions\n",
    "np.random.seed(42)"
   ]
  },
  {
   "cell_type": "code",
   "execution_count": 9,
   "metadata": {
    "ExecuteTime": {
     "end_time": "2020-06-12T14:14:36.592188Z",
     "start_time": "2020-06-12T14:14:36.574084Z"
    },
    "init_cell": true
   },
   "outputs": [],
   "source": [
    "# circles\n",
    "def gen_circles(n):\n",
    "    circles, _ = datasets.make_circles(\n",
    "        n_samples=n,\n",
    "        factor=.5,\n",
    "        noise=.05,\n",
    "        random_state=10\n",
    "        )\n",
    "    \n",
    "    return StandardScaler().fit_transform(circles)\n",
    "\n",
    "gen_circles.label = \"circles\"\n",
    "\n",
    "# blobs                            \n",
    "def gen_blobs(n):\n",
    "    blobs, _ = datasets.make_blobs(\n",
    "        centers=[[-10, -10], [10, -10], [10, 10]],\n",
    "        n_samples=n,\n",
    "        random_state=10\n",
    "    )\n",
    "    return StandardScaler().fit_transform(blobs)\n",
    "\n",
    "gen_blobs.label = \"blobs\"\n",
    "\n",
    "# moons\n",
    "def gen_moons(n):\n",
    "    moons, _ = datasets.make_moons(\n",
    "        n_samples=n,\n",
    "        noise=.05,\n",
    "        random_state=10\n",
    "        )\n",
    "    \n",
    "    return StandardScaler().fit_transform(moons)\n",
    "\n",
    "gen_moons.label = \"moons\"\n",
    "\n",
    "def gen_no_structure(n):\n",
    "    no_structure = np.random.rand(n, 2)\n",
    "    \n",
    "    return StandardScaler().fit_transform(no_structure)\n",
    "\n",
    "gen_no_structure.label = \"None\"\n",
    "\n",
    "def gen_aniso(n):\n",
    "    X, y = datasets.make_blobs(\n",
    "        n_samples=n,\n",
    "        random_state=170\n",
    "        )\n",
    "\n",
    "    transformation = [[0.6, -0.6], [-0.4, 0.8]]\n",
    "    aniso = np.dot(X, transformation)\n",
    "    \n",
    "    return StandardScaler().fit_transform(aniso)\n",
    "\n",
    "gen_aniso.label = \"aniso\"\n",
    "\n",
    "def gen_varied(n):\n",
    "    varied, _ = datasets.make_blobs(\n",
    "        n_samples=n,\n",
    "        cluster_std=[1.0, 2.5, 0.5],\n",
    "        random_state=170)\n",
    "    \n",
    "    return StandardScaler().fit_transform(varied)\n",
    "\n",
    "gen_varied.label = \"varied\""
   ]
  },
  {
   "cell_type": "markdown",
   "metadata": {},
   "source": [
    "### Benchmark organisation"
   ]
  },
  {
   "cell_type": "code",
   "execution_count": 10,
   "metadata": {
    "ExecuteTime": {
     "end_time": "2020-06-12T14:14:37.071018Z",
     "start_time": "2020-06-12T14:14:37.043590Z"
    },
    "init_cell": true
   },
   "outputs": [],
   "source": [
    "class DS:\n",
    "    \"\"\"Benchmark class to represent a data set\n",
    "    \n",
    "    Initialise a `DS` instance with a data set generation function.\n",
    "    \n",
    "    Attributes:\n",
    "       data: A (2D) sample data set\n",
    "       prepare_neighbourhoods: Pre-compute neighbourhoods\n",
    "    \"\"\"\n",
    "\n",
    "    def __init__(\n",
    "            self, gen_fxn, n, gen_fxn_args=None, gen_fxn_kwargs=None):\n",
    "        self.gen_fxn = gen_fxn\n",
    "        self.n = n\n",
    "        \n",
    "        if gen_fxn_kwargs is None:\n",
    "            gen_fxn_kwargs = {}\n",
    "        if gen_fxn_args is None:\n",
    "            gen_fxn_args = ()  \n",
    "        \n",
    "        self.data = gen_fxn(n, *gen_fxn_args, **gen_fxn_kwargs)\n",
    "        self.neighbourhoods = None  # Pre-computed neighbourhoods \n",
    "        self.r = None               # Neighbourhood computation radius\n",
    "        self.timeits = {}           # Timing results\n",
    "        \n",
    "    def prepare_neighbourhoods(self, r, numpy=False):\n",
    "        \"\"\"Pre-compute neighbourhoods at a given readius `r`\n",
    "        \n",
    "        Uses `sklearn.neighbors.NearestNeighbors`.\n",
    "        \n",
    "        Args:\n",
    "            numpy: If `True`, returns a `numpy.ndarray` of shape\n",
    "            (#points,) containing the neighbours of each points as\n",
    "            `numpy.ndarray` of shape (#neighbours,).  If `False`,\n",
    "            returns a `list` of `sets` instead.\n",
    "        \"\"\"\n",
    "\n",
    "        neighbour_model = NearestNeighbors(radius=r).fit(self.data)\n",
    "        neighbours = neighbour_model.radius_neighbors(\n",
    "            self.data, return_distance=False\n",
    "            )\n",
    "        \n",
    "        # Remove self-counting\n",
    "        neighbours = [set(x) for x in neighbours]   \n",
    "        for c, s in enumerate(neighbours):\n",
    "            s.remove(c)\n",
    "        if numpy:\n",
    "            neighbours = np.array([np.array([y for y in x]) for x in neighbours])    \n",
    "        \n",
    "        self.neighbourhoods = neighbours\n",
    "        self.r = r\n",
    "        \n",
    "    def __str__(self):\n",
    "        try:\n",
    "            desc_gen = self.gen_fxn.label\n",
    "        except AttributeError:\n",
    "            desc_gen = self.gen_fxn.__name__\n",
    "            \n",
    "        # p: from points\n",
    "        # d: from distances\n",
    "        # n: from neighbours\n",
    "        \n",
    "        if self.neighbourhoods is not None:\n",
    "            desc_from = f\"n{self.r}\"\n",
    "        elif self.dist is not None:\n",
    "            desc_from = f\"d\"\n",
    "        else:\n",
    "            desc_from = f\"p\"\n",
    "            \n",
    "        return f\"{desc_gen}_{self.n}_{desc_from}\"\n",
    "    \n",
    "    \n",
    "    def ratios(self, base=None):\n",
    "        \"\"\"Show relative performance of runs based on `timeits` dict\"\"\"\n",
    "\n",
    "        if base is not None:\n",
    "            base = self.timeits[base].average\n",
    "        else:\n",
    "            base = min(x.average for x in self.timeits.values())\n",
    "            \n",
    "        return sorted([\n",
    "            (k, v.average / base)\n",
    "            for k, v in self.timeits.items()\n",
    "            ], key=itemgetter(1))\n",
    "        "
   ]
  },
  {
   "cell_type": "markdown",
   "metadata": {},
   "source": [
    "### Profiling"
   ]
  },
  {
   "cell_type": "code",
   "execution_count": 11,
   "metadata": {
    "ExecuteTime": {
     "end_time": "2020-06-12T14:14:37.436706Z",
     "start_time": "2020-06-12T14:14:37.414412Z"
    },
    "init_cell": true
   },
   "outputs": [],
   "source": [
    "def profile_fxn(\n",
    "        f, ds, report_dir, *args,\n",
    "        t=True, l=True, m=True, label=None, **kwargs):\n",
    "    \"\"\"Function profiling procedure\n",
    "    \n",
    "    Runs %lprun and %timeit line magic on a globally defined function\n",
    "    `fxn`.  Function args and kwargs need to be defined globally as\n",
    "    well.  This is necessary, because (at least lprun) line magic does\n",
    "    not seem to work well with local variables, e.g. the following\n",
    "    alternative did not work (raises `NameError`): \n",
    "    \n",
    "       def profile_fxn(fxn, *args, **kwargs):\n",
    "           %lprun -f fxn fxn(*args, **kwargs)\n",
    "           ...\n",
    "    \n",
    "    This function expects a :obj:`DS` object, providing a dataset and\n",
    "    pre-calculated values if necessary.  Report details are deduced from\n",
    "    this object.  Timings are saved to the object.\n",
    "    \n",
    "    Args:\n",
    "       f (:obj:`func`): Function to profile.\n",
    "       ds (:obj:`DS`): Data set object.\n",
    "       report_dir (str): Output directory file path.\n",
    "       *args: Arguments passed to `f`\n",
    "    \n",
    "    Keyword args:\n",
    "       label (optional, str): Label to identify the run.  If `None`,\n",
    "          `fxn.__name__` is used.\n",
    "       *kwargs: Keyword arguments passed to `f`.\n",
    "          \n",
    "    \n",
    "    Returns:\n",
    "       None\n",
    "    \n",
    "    \"\"\"\n",
    "    \n",
    "    global fxn\n",
    "    global fxn_args\n",
    "    global fxn_kwargs\n",
    "    \n",
    "    fxn = f\n",
    "    fxn_args = args\n",
    "    fxn_kwargs = kwargs\n",
    "    \n",
    "    # Validate function result\n",
    "    result = fxn(*fxn_args, **fxn_kwargs)\n",
    "    \n",
    "    # Convert result if not labels array\n",
    "    if isinstance(result, list) and isinstance(result[0], np.ndarray):\n",
    "        # Convert result if from original implementation (baseline)\n",
    "        result = baseline_to_labels(result)\n",
    "    \n",
    "    if result is not None:\n",
    "        noise = 0\n",
    "        frequencies = Counter(result)\n",
    "        if 0 in frequencies:\n",
    "            noise = frequencies.pop(0)\n",
    "\n",
    "        largest = frequencies.most_common(1)[0][1] if frequencies else 0\n",
    "        clusters = len(frequencies)\n",
    "\n",
    "        print(f\"Length of labels:    {len(result)}\")\n",
    "        print(f\"Noise:               {noise}\")\n",
    "        print(f\"Largest:             {largest}\")\n",
    "        print(f\"Clusters:            {clusters}\")\n",
    "\n",
    "    \n",
    "    # Profile\n",
    "    if l:\n",
    "        %lprun -T {report_dir}/{fxn.__name__}_{ds.__str__()}.lprun -f fxn fxn(*fxn_args, **fxn_kwargs)\n",
    "    if t:\n",
    "        o = %timeit -o fxn(*fxn_args, **fxn_kwargs)\n",
    "\n",
    "        if label is None:\n",
    "            label = fxn.__name__\n",
    "        ds.timeits.update({label: o})"
   ]
  },
  {
   "cell_type": "code",
   "execution_count": 12,
   "metadata": {
    "ExecuteTime": {
     "end_time": "2020-06-12T14:14:37.612003Z",
     "start_time": "2020-06-12T14:14:37.603567Z"
    },
    "init_cell": true,
    "run_control": {
     "marked": true
    }
   },
   "outputs": [],
   "source": [
    "def baseline_to_labels(result):\n",
    "    \"\"\"Convert result from original implementation (baseline)\"\"\"\n",
    "\n",
    "    len_ = len(result)\n",
    "    result = [x for x in result if isinstance(x, np.ndarray)]\n",
    "    result_ = np.zeros(len_)\n",
    "    for c, cluster in enumerate(result, 1):\n",
    "        for member in cluster:\n",
    "            result_[member] = c\n",
    "    result = result_\n",
    "\n",
    "    return result"
   ]
  },
  {
   "cell_type": "markdown",
   "metadata": {},
   "source": [
    "## Consitency check"
   ]
  },
  {
   "cell_type": "markdown",
   "metadata": {},
   "source": [
    "Ensure that every implementation delivers a consistent cluster result for test data sets."
   ]
  },
  {
   "cell_type": "code",
   "execution_count": 13,
   "metadata": {
    "ExecuteTime": {
     "end_time": "2020-06-12T14:14:38.457858Z",
     "start_time": "2020-06-12T14:14:38.184664Z"
    }
   },
   "outputs": [
    {
     "data": {
      "application/vnd.jupyter.widget-view+json": {
       "model_id": "6f1bd7ce793f402b8fafcaa5a5f3a300",
       "version_major": 2,
       "version_minor": 0
      },
      "text/plain": [
       "Canvas(toolbar=Toolbar(toolitems=[('Home', 'Reset original view', 'home', 'home'), ('Back', 'Back to previous …"
      ]
     },
     "metadata": {},
     "output_type": "display_data"
    }
   ],
   "source": [
    "# Plot the test data sets\n",
    "plt.close(\"all\")\n",
    "fig, ax = plt.subplots(2, 3)\n",
    "Ax = ax.flatten()\n",
    "\n",
    "generation_fxns = [\n",
    "    gen_circles, gen_moons, gen_varied,\n",
    "    gen_aniso, gen_blobs, gen_no_structure,\n",
    "    ]\n",
    "\n",
    "for count, gen_fxn in enumerate(generation_fxns):\n",
    "    # Plot\n",
    "    plot_data(gen_fxn(5000), ax=Ax[count])\n",
    "    Ax[count].set(**ax_props)\n",
    "    \n",
    "    try:\n",
    "        name = gen_fxn.label\n",
    "    except AttributeError:\n",
    "        name = gen_fxn.__name__\n",
    "\n",
    "    Ax[count].set_title(f'{name}', fontsize=10, pad=4)\n",
    "    \n",
    "fig.subplots_adjust(\n",
    "    left=0, right=1, bottom=0.05, top=0.9, wspace=0, hspace=0.2 \n",
    "    )\n",
    "\n",
    "plt.show()"
   ]
  },
  {
   "cell_type": "markdown",
   "metadata": {},
   "source": [
    "### scikit-learn DBSCAN"
   ]
  },
  {
   "cell_type": "code",
   "execution_count": 14,
   "metadata": {
    "ExecuteTime": {
     "end_time": "2020-06-12T14:14:39.621051Z",
     "start_time": "2020-06-12T14:14:39.063137Z"
    }
   },
   "outputs": [
    {
     "data": {
      "application/vnd.jupyter.widget-view+json": {
       "model_id": "bc33afe7bdcc435f9f6ddcef965e7931",
       "version_major": 2,
       "version_minor": 0
      },
      "text/plain": [
       "Canvas(toolbar=Toolbar(toolitems=[('Home', 'Reset original view', 'home', 'home'), ('Back', 'Back to previous …"
      ]
     },
     "metadata": {},
     "output_type": "display_data"
    }
   ],
   "source": [
    "# Plot the test data sets\n",
    "plt.close(\"all\")\n",
    "fig, ax = plt.subplots(2, 3)\n",
    "Ax = ax.flatten()\n",
    "\n",
    "generation_fxns = [\n",
    "    gen_circles, gen_moons, gen_varied,\n",
    "    gen_aniso, gen_blobs, gen_no_structure,\n",
    "    ]\n",
    "\n",
    "fit_params = [\n",
    "    {\"eps\": 0.2, \"min_samples\": 5},    # circles\n",
    "    {\"eps\": 0.2, \"min_samples\": 5},    # moons\n",
    "    {\"eps\": 0.14, \"min_samples\": 20},  # varied\n",
    "    {\"eps\": 0.11, \"min_samples\": 20},  # aniso\n",
    "    {\"eps\": 0.2, \"min_samples\": 5},    # blobs\n",
    "    {\"eps\": 0.2, \"min_samples\": 5},    # no structure\n",
    "    ]\n",
    "\n",
    "for count, (gen_fxn, params) in enumerate(zip(generation_fxns, fit_params)):\n",
    "    # Fit\n",
    "    data = gen_fxn(5000)\n",
    "    labels = cluster.dbscan(data, **params)[1]\n",
    "    \n",
    "    # Plot\n",
    "    plot_data(data, labels=labels, ax=Ax[count], noise=-1)\n",
    "    Ax[count].set(**ax_props)\n",
    "    \n",
    "    try:\n",
    "        name = gen_fxn.label\n",
    "    except AttributeError:\n",
    "        name = gen_fxn.__name__\n",
    "\n",
    "    Ax[count].set_title(f'{name}', fontsize=10, pad=4)\n",
    "    \n",
    "fig.subplots_adjust(\n",
    "    left=0, right=1, bottom=0.05, top=0.9, wspace=0, hspace=0.2 \n",
    "    )\n",
    "\n",
    "plt.show()"
   ]
  },
  {
   "cell_type": "markdown",
   "metadata": {},
   "source": [
    "### scikit-learn CNN"
   ]
  },
  {
   "cell_type": "code",
   "execution_count": 15,
   "metadata": {
    "ExecuteTime": {
     "end_time": "2020-06-12T14:14:41.202840Z",
     "start_time": "2020-06-12T14:14:40.165191Z"
    }
   },
   "outputs": [
    {
     "data": {
      "application/vnd.jupyter.widget-view+json": {
       "model_id": "23680b2de1244b53abfb5f041d8cfa51",
       "version_major": 2,
       "version_minor": 0
      },
      "text/plain": [
       "Canvas(toolbar=Toolbar(toolitems=[('Home', 'Reset original view', 'home', 'home'), ('Back', 'Back to previous …"
      ]
     },
     "metadata": {},
     "output_type": "display_data"
    }
   ],
   "source": [
    "# Plot the test data sets\n",
    "plt.close(\"all\")\n",
    "fig, ax = plt.subplots(2, 3)\n",
    "Ax = ax.flatten()\n",
    "\n",
    "generation_fxns = [\n",
    "    gen_circles, gen_moons, gen_varied,\n",
    "    gen_aniso, gen_blobs, gen_no_structure,\n",
    "    ]\n",
    "\n",
    "fit_params = [\n",
    "    {\"eps\": 0.2, \"min_samples\": 5},    # circles\n",
    "    {\"eps\": 0.2, \"min_samples\": 5},    # moons\n",
    "    {\"eps\": 0.18, \"min_samples\": 20},  # varied\n",
    "    {\"eps\": 0.15, \"min_samples\": 10},  # aniso\n",
    "    {\"eps\": 0.2, \"min_samples\": 5},    # blobs\n",
    "    {\"eps\": 0.2, \"min_samples\": 5},    # no structure\n",
    "    ]\n",
    "\n",
    "for count, (gen_fxn, params) in enumerate(zip(generation_fxns, fit_params)):\n",
    "    # Fit\n",
    "    data = gen_fxn(5000)\n",
    "    labels = cluster.cnn(data, **params)\n",
    "    \n",
    "    # Plot\n",
    "    plot_data(data, labels=labels, ax=Ax[count], noise=-1)\n",
    "    Ax[count].set(**ax_props)\n",
    "    \n",
    "    try:\n",
    "        name = gen_fxn.label\n",
    "    except AttributeError:\n",
    "        name = gen_fxn.__name__\n",
    "\n",
    "    Ax[count].set_title(f'{name}', fontsize=10, pad=4)\n",
    "    \n",
    "fig.subplots_adjust(\n",
    "    left=0, right=1, bottom=0.05, top=0.9, wspace=0, hspace=0.2 \n",
    "    )\n",
    "\n",
    "plt.show()"
   ]
  },
  {
   "cell_type": "markdown",
   "metadata": {},
   "source": [
    "## cnnclustering from points on-the-fly"
   ]
  },
  {
   "cell_type": "code",
   "execution_count": 16,
   "metadata": {
    "ExecuteTime": {
     "end_time": "2020-06-12T14:14:56.994169Z",
     "start_time": "2020-06-12T14:14:45.037692Z"
    }
   },
   "outputs": [
    {
     "name": "stdout",
     "output_type": "stream",
     "text": [
      "Execution time for call of fit: 0 hours, 0 minutes, 1.3840 seconds\n",
      "--------------------------------------------------------------------------------\n",
      "#points   R         C         min       max       #clusters %largest  %noise    \n",
      "5000      0.200     5         2         None      2         0.500     0.001     \n",
      "--------------------------------------------------------------------------------\n",
      "Execution time for call of fit: 0 hours, 0 minutes, 1.7146 seconds\n",
      "--------------------------------------------------------------------------------\n",
      "#points   R         C         min       max       #clusters %largest  %noise    \n",
      "5000      0.200     5         2         None      2         0.500     0.000     \n",
      "--------------------------------------------------------------------------------\n",
      "Execution time for call of fit: 0 hours, 0 minutes, 2.4923 seconds\n",
      "--------------------------------------------------------------------------------\n",
      "#points   R         C         min       max       #clusters %largest  %noise    \n",
      "5000      0.180     20        8         None      3         0.337     0.135     \n",
      "--------------------------------------------------------------------------------\n",
      "Execution time for call of fit: 0 hours, 0 minutes, 1.5345 seconds\n",
      "--------------------------------------------------------------------------------\n",
      "#points   R         C         min       max       #clusters %largest  %noise    \n",
      "5000      0.150     10        2         None      3         0.326     0.028     \n",
      "--------------------------------------------------------------------------------\n",
      "Execution time for call of fit: 0 hours, 0 minutes, 3.2358 seconds\n",
      "--------------------------------------------------------------------------------\n",
      "#points   R         C         min       max       #clusters %largest  %noise    \n",
      "5000      0.200     5         2         None      3         0.333     0.000     \n",
      "--------------------------------------------------------------------------------\n",
      "Execution time for call of fit: 0 hours, 0 minutes, 1.3097 seconds\n",
      "--------------------------------------------------------------------------------\n",
      "#points   R         C         min       max       #clusters %largest  %noise    \n",
      "5000      0.200     5         2         None      1         1.000     0.000     \n",
      "--------------------------------------------------------------------------------\n"
     ]
    },
    {
     "data": {
      "application/vnd.jupyter.widget-view+json": {
       "model_id": "81510755f4924f1c9203e49046150537",
       "version_major": 2,
       "version_minor": 0
      },
      "text/plain": [
       "Canvas(toolbar=Toolbar(toolitems=[('Home', 'Reset original view', 'home', 'home'), ('Back', 'Back to previous …"
      ]
     },
     "metadata": {},
     "output_type": "display_data"
    }
   ],
   "source": [
    "# Plot the test data sets\n",
    "plt.close(\"all\")\n",
    "fig, ax = plt.subplots(2, 3)\n",
    "Ax = ax.flatten()\n",
    "\n",
    "generation_fxns = [\n",
    "    gen_circles, gen_moons, gen_varied,\n",
    "    gen_aniso, gen_blobs, gen_no_structure,\n",
    "    ]\n",
    "\n",
    "fit_params = [\n",
    "    {\"radius_cutoff\": 0.2, \"cnn_cutoff\": 5},                        # circles\n",
    "    {\"radius_cutoff\": 0.2, \"cnn_cutoff\": 5},                        # moons\n",
    "    {\"radius_cutoff\": 0.18, \"cnn_cutoff\": 20, \"member_cutoff\": 8},  # varied\n",
    "    {\"radius_cutoff\": 0.15, \"cnn_cutoff\": 10},                      # aniso\n",
    "    {\"radius_cutoff\": 0.2, \"cnn_cutoff\": 5},                        # blobs\n",
    "    {\"radius_cutoff\": 0.2, \"cnn_cutoff\": 5},                        # no structure\n",
    "    ]\n",
    "\n",
    "for count, (gen_fxn, params) in enumerate(zip(generation_fxns, fit_params)):\n",
    "    # Fit\n",
    "    data = gen_fxn(5000)\n",
    "    clustering = cnn.CNN(data)\n",
    "    clustering.fit(**params, rec=True, policy=\"conservative\")\n",
    "    \n",
    "    # Plot\n",
    "    plot_data(data, labels=clustering.labels, ax=Ax[count], noise=0)\n",
    "    Ax[count].set(**ax_props)\n",
    "    \n",
    "    try:\n",
    "        name = gen_fxn.label\n",
    "    except AttributeError:\n",
    "        name = gen_fxn.__name__\n",
    "\n",
    "    Ax[count].set_title(f'{name}', fontsize=10, pad=4)\n",
    "    \n",
    "fig.subplots_adjust(\n",
    "    left=0, right=1, bottom=0.05, top=0.9, wspace=0, hspace=0.2 \n",
    "    )\n",
    "\n",
    "plt.show()"
   ]
  },
  {
   "cell_type": "markdown",
   "metadata": {},
   "source": [
    "## cnnclustering from points bulk"
   ]
  },
  {
   "cell_type": "code",
   "execution_count": 17,
   "metadata": {
    "ExecuteTime": {
     "end_time": "2020-06-12T14:15:02.709587Z",
     "start_time": "2020-06-12T14:15:00.455560Z"
    }
   },
   "outputs": [
    {
     "name": "stdout",
     "output_type": "stream",
     "text": [
      "Execution time for call of fit: 0 hours, 0 minutes, 0.1382 seconds\n",
      "--------------------------------------------------------------------------------\n",
      "#points   R         C         min       max       #clusters %largest  %noise    \n",
      "5000      0.200     5         2         None      2         0.500     0.001     \n",
      "--------------------------------------------------------------------------------\n",
      "Execution time for call of fit: 0 hours, 0 minutes, 0.1708 seconds\n",
      "--------------------------------------------------------------------------------\n",
      "#points   R         C         min       max       #clusters %largest  %noise    \n",
      "5000      0.200     5         2         None      2         0.500     0.000     \n",
      "--------------------------------------------------------------------------------\n",
      "Execution time for call of fit: 0 hours, 0 minutes, 0.3163 seconds\n",
      "--------------------------------------------------------------------------------\n",
      "#points   R         C         min       max       #clusters %largest  %noise    \n",
      "5000      0.180     20        8         None      3         0.337     0.135     \n",
      "--------------------------------------------------------------------------------\n",
      "Execution time for call of fit: 0 hours, 0 minutes, 0.1423 seconds\n",
      "--------------------------------------------------------------------------------\n",
      "#points   R         C         min       max       #clusters %largest  %noise    \n",
      "5000      0.150     10        2         None      3         0.326     0.028     \n",
      "--------------------------------------------------------------------------------\n",
      "Execution time for call of fit: 0 hours, 0 minutes, 1.2130 seconds\n",
      "--------------------------------------------------------------------------------\n",
      "#points   R         C         min       max       #clusters %largest  %noise    \n",
      "5000      0.200     5         2         None      3         0.333     0.000     \n",
      "--------------------------------------------------------------------------------\n",
      "Execution time for call of fit: 0 hours, 0 minutes, 0.0849 seconds\n",
      "--------------------------------------------------------------------------------\n",
      "#points   R         C         min       max       #clusters %largest  %noise    \n",
      "5000      0.200     5         2         None      1         1.000     0.000     \n",
      "--------------------------------------------------------------------------------\n"
     ]
    },
    {
     "data": {
      "application/vnd.jupyter.widget-view+json": {
       "model_id": "15bf21bac68e4d0593e0f610e54f1e42",
       "version_major": 2,
       "version_minor": 0
      },
      "text/plain": [
       "Canvas(toolbar=Toolbar(toolitems=[('Home', 'Reset original view', 'home', 'home'), ('Back', 'Back to previous …"
      ]
     },
     "metadata": {},
     "output_type": "display_data"
    }
   ],
   "source": [
    "# Plot the test data sets\n",
    "plt.close(\"all\")\n",
    "fig, ax = plt.subplots(2, 3)\n",
    "Ax = ax.flatten()\n",
    "\n",
    "generation_fxns = [\n",
    "    gen_circles, gen_moons, gen_varied,\n",
    "    gen_aniso, gen_blobs, gen_no_structure,\n",
    "    ]\n",
    "\n",
    "fit_params = [\n",
    "    {\"radius_cutoff\": 0.2, \"cnn_cutoff\": 5},                        # circles\n",
    "    {\"radius_cutoff\": 0.2, \"cnn_cutoff\": 5},                        # moons\n",
    "    {\"radius_cutoff\": 0.18, \"cnn_cutoff\": 20, \"member_cutoff\": 8},  # varied\n",
    "    {\"radius_cutoff\": 0.15, \"cnn_cutoff\": 10},                      # aniso\n",
    "    {\"radius_cutoff\": 0.2, \"cnn_cutoff\": 5},                        # blobs\n",
    "    {\"radius_cutoff\": 0.2, \"cnn_cutoff\": 5},                        # no structure\n",
    "    ]\n",
    "\n",
    "for count, (gen_fxn, params) in enumerate(zip(generation_fxns, fit_params)):\n",
    "    # Fit\n",
    "    data = gen_fxn(5000)\n",
    "    clustering = cnn.CNN(data)\n",
    "    clustering.fit(**params, rec=True, policy=\"progressive\")\n",
    "    \n",
    "    # Plot\n",
    "    plot_data(data, labels=clustering.labels, ax=Ax[count], noise=0)\n",
    "    Ax[count].set(**ax_props)\n",
    "    \n",
    "    try:\n",
    "        name = gen_fxn.label\n",
    "    except AttributeError:\n",
    "        name = gen_fxn.__name__\n",
    "\n",
    "    Ax[count].set_title(f'{name}', fontsize=10, pad=4)\n",
    "    \n",
    "fig.subplots_adjust(\n",
    "    left=0, right=1, bottom=0.05, top=0.9, wspace=0, hspace=0.2 \n",
    "    )\n",
    "\n",
    "plt.show()"
   ]
  },
  {
   "cell_type": "code",
   "execution_count": 33,
   "metadata": {
    "ExecuteTime": {
     "end_time": "2020-06-12T14:13:06.987040Z",
     "start_time": "2020-06-12T14:13:06.982239Z"
    }
   },
   "outputs": [
    {
     "data": {
      "text/plain": [
       "True"
      ]
     },
     "execution_count": 33,
     "metadata": {},
     "output_type": "execute_result"
    }
   ],
   "source": [
    "clustering.data.neighbourhoods.self_counting"
   ]
  },
  {
   "cell_type": "markdown",
   "metadata": {},
   "source": [
    "## cnnclustering from distances on-the-fly"
   ]
  },
  {
   "cell_type": "code",
   "execution_count": 18,
   "metadata": {
    "ExecuteTime": {
     "end_time": "2020-06-12T13:23:47.463361Z",
     "start_time": "2020-06-12T13:23:41.443500Z"
    }
   },
   "outputs": [
    {
     "data": {
      "application/vnd.jupyter.widget-view+json": {
       "model_id": "d4e99418395c4f9b9c2ead43e244b2b4",
       "version_major": 2,
       "version_minor": 0
      },
      "text/plain": [
       "Canvas(toolbar=Toolbar(toolitems=[('Home', 'Reset original view', 'home', 'home'), ('Back', 'Back to previous …"
      ]
     },
     "metadata": {},
     "output_type": "display_data"
    }
   ],
   "source": [
    "# Plot the test data sets\n",
    "plt.close(\"all\")\n",
    "fig, ax = plt.subplots(2, 3)\n",
    "Ax = ax.flatten()\n",
    "\n",
    "generation_fxns = [\n",
    "    gen_circles, gen_moons, gen_varied,\n",
    "    gen_aniso, gen_blobs, gen_no_structure,\n",
    "    ]\n",
    "\n",
    "fit_params = [\n",
    "    {\"radius_cutoff\": 0.2, \"cnn_cutoff\": 5},                        # circles\n",
    "    {\"radius_cutoff\": 0.2, \"cnn_cutoff\": 5},                        # moons\n",
    "    {\"radius_cutoff\": 0.18, \"cnn_cutoff\": 20, \"member_cutoff\": 8},  # varied\n",
    "    {\"radius_cutoff\": 0.15, \"cnn_cutoff\": 10},                      # aniso\n",
    "    {\"radius_cutoff\": 0.2, \"cnn_cutoff\": 5},                        # blobs\n",
    "    {\"radius_cutoff\": 0.2, \"cnn_cutoff\": 5},                        # no structure\n",
    "    ]\n",
    "\n",
    "for count, (gen_fxn, params) in enumerate(zip(generation_fxns, fit_params)):\n",
    "    # Fit\n",
    "    data = gen_fxn(5000)\n",
    "    clustering = cnn.CNN(data)\n",
    "    clustering.calc_dist()\n",
    "    clustering.fit(**params, rec=False, policy=\"conservative\")\n",
    "    \n",
    "    # Plot\n",
    "    plot_data(data, labels=clustering.labels, ax=Ax[count], noise=0)\n",
    "    Ax[count].set(**ax_props)\n",
    "    \n",
    "    try:\n",
    "        name = gen_fxn.label\n",
    "    except AttributeError:\n",
    "        name = gen_fxn.__name__\n",
    "\n",
    "    Ax[count].set_title(f'{name}', fontsize=10, pad=4)\n",
    "    \n",
    "fig.subplots_adjust(\n",
    "    left=0, right=1, bottom=0.05, top=0.9, wspace=0, hspace=0.2 \n",
    "    )\n",
    "\n",
    "plt.show()"
   ]
  },
  {
   "cell_type": "markdown",
   "metadata": {},
   "source": [
    "## cnnclustering from distances bulk"
   ]
  },
  {
   "cell_type": "code",
   "execution_count": 20,
   "metadata": {
    "ExecuteTime": {
     "end_time": "2020-06-12T13:26:44.800631Z",
     "start_time": "2020-06-12T13:26:41.946116Z"
    }
   },
   "outputs": [
    {
     "data": {
      "application/vnd.jupyter.widget-view+json": {
       "model_id": "afc7580fe3d1434d8eb0f30233865547",
       "version_major": 2,
       "version_minor": 0
      },
      "text/plain": [
       "Canvas(toolbar=Toolbar(toolitems=[('Home', 'Reset original view', 'home', 'home'), ('Back', 'Back to previous …"
      ]
     },
     "metadata": {},
     "output_type": "display_data"
    }
   ],
   "source": [
    "# Plot the test data sets\n",
    "plt.close(\"all\")\n",
    "fig, ax = plt.subplots(2, 3)\n",
    "Ax = ax.flatten()\n",
    "\n",
    "generation_fxns = [\n",
    "    gen_circles, gen_moons, gen_varied,\n",
    "    gen_aniso, gen_blobs, gen_no_structure,\n",
    "    ]\n",
    "\n",
    "fit_params = [\n",
    "    {\"radius_cutoff\": 0.2, \"cnn_cutoff\": 5},                        # circles\n",
    "    {\"radius_cutoff\": 0.2, \"cnn_cutoff\": 5},                        # moons\n",
    "    {\"radius_cutoff\": 0.18, \"cnn_cutoff\": 20, \"member_cutoff\": 8},  # varied\n",
    "    {\"radius_cutoff\": 0.15, \"cnn_cutoff\": 10},                      # aniso\n",
    "    {\"radius_cutoff\": 0.2, \"cnn_cutoff\": 5},                        # blobs\n",
    "    {\"radius_cutoff\": 0.2, \"cnn_cutoff\": 5},                        # no structure\n",
    "    ]\n",
    "\n",
    "for count, (gen_fxn, params) in enumerate(zip(generation_fxns, fit_params)):\n",
    "    # Fit\n",
    "    data = gen_fxn(5000)\n",
    "    clustering = cnn.CNN(data)\n",
    "    clustering.calc_dist()\n",
    "    clustering.fit(**params, rec=False, policy=\"progressive\")\n",
    "    \n",
    "    # Plot\n",
    "    plot_data(data, labels=clustering.labels, ax=Ax[count], noise=0)\n",
    "    Ax[count].set(**ax_props)\n",
    "    \n",
    "    try:\n",
    "        name = gen_fxn.label\n",
    "    except AttributeError:\n",
    "        name = gen_fxn.__name__\n",
    "\n",
    "    Ax[count].set_title(f'{name}', fontsize=10, pad=4)\n",
    "    \n",
    "fig.subplots_adjust(\n",
    "    left=0, right=1, bottom=0.05, top=0.9, wspace=0, hspace=0.2 \n",
    "    )\n",
    "\n",
    "plt.show()"
   ]
  },
  {
   "cell_type": "markdown",
   "metadata": {},
   "source": [
    "## Fit variants"
   ]
  },
  {
   "cell_type": "markdown",
   "metadata": {},
   "source": [
    "Benchmarks for different approaches to the CNN fit function."
   ]
  },
  {
   "cell_type": "code",
   "execution_count": 42,
   "metadata": {
    "ExecuteTime": {
     "end_time": "2020-05-15T08:51:27.225712Z",
     "start_time": "2020-05-15T08:51:27.220982Z"
    }
   },
   "outputs": [
    {
     "data": {
      "text/plain": [
       "<module 'cfits' from '/home/janjoswig/CNN/cfits.cpython-38-x86_64-linux-gnu.so'>"
      ]
     },
     "execution_count": 42,
     "metadata": {},
     "output_type": "execute_result"
    }
   ],
   "source": [
    "importlib.reload(fits)\n",
    "importlib.reload(cfits)"
   ]
  },
  {
   "cell_type": "code",
   "execution_count": 13,
   "metadata": {
    "ExecuteTime": {
     "end_time": "2020-05-27T14:17:17.363759Z",
     "start_time": "2020-05-27T14:17:17.347320Z"
    },
    "init_cell": true
   },
   "outputs": [],
   "source": [
    "# Benchmark results will be saved under:\n",
    "report_dir = \"reports/T460\"\n",
    "# report_dir = \"reports/qcw21\"\n",
    "# report_dir = \"reports/qcm07\""
   ]
  },
  {
   "cell_type": "markdown",
   "metadata": {},
   "source": [
    "### From neighbours"
   ]
  },
  {
   "cell_type": "markdown",
   "metadata": {
    "ExecuteTime": {
     "end_time": "2020-05-12T15:33:50.824853Z",
     "start_time": "2020-05-12T15:33:50.812778Z"
    }
   },
   "source": [
    "Tests of fit functions taking pre-computed neighbourhoods as input. Two ways of setting up the benchmarks are provided:\n",
    "  - Use `prepare_neighbours` function to quickly generate the input data\n",
    "  - Use `DS` benchmark class to organise different runs on essentially the same data set"
   ]
  },
  {
   "cell_type": "code",
   "execution_count": 13,
   "metadata": {
    "ExecuteTime": {
     "end_time": "2020-05-15T08:00:58.494994Z",
     "start_time": "2020-05-15T08:00:58.478279Z"
    },
    "run_control": {
     "marked": true
    }
   },
   "outputs": [],
   "source": [
    "# Benchmark fixture 1\n",
    "def prepare_neighbours(n, r, gen_fxn, numpy=False):\n",
    "    \"\"\"Provide pre-computed neighbourhoods\n",
    "    \n",
    "    Uses `sklearn.neighbors.NearestNeighbors`. Removes self-counting\n",
    "    of points as neighbours of themselves.\n",
    "    \n",
    "    Args:\n",
    "       n: Number of data points\n",
    "       r: Radius\n",
    "       gen_fxn: Function that accepts one parameter `n` and returns\n",
    "           a data set with `n` points, for which neighbourhoods will\n",
    "           be computed.\n",
    "       numpy: If `True`, provide neighbourhoods as 1D `numpy.array` of 1D\n",
    "           `numpy.array`s.  If `False`, convert to `list` of `set`s.  \n",
    "    \"\"\"\n",
    "    \n",
    "    data = gen_fxn(n)\n",
    "    neighbour_model = NearestNeighbors(radius=r).fit(data)\n",
    "    neighbours = neighbour_model.radius_neighbors(data, return_distance=False)\n",
    "    neighbours = [set(x) for x in neighbours]\n",
    "    for c, s in enumerate(neighbours):\n",
    "        # Remove self-counting \n",
    "        s.remove(c)\n",
    "    if numpy:\n",
    "        # Reconvert to numpy.array\n",
    "        neighbours = np.array([np.array([y for y in x]) for x in neighbours])\n",
    "        \n",
    "    return neighbours"
   ]
  },
  {
   "cell_type": "code",
   "execution_count": 78,
   "metadata": {
    "ExecuteTime": {
     "end_time": "2020-05-14T08:28:18.877383Z",
     "start_time": "2020-05-14T08:28:18.643436Z"
    }
   },
   "outputs": [],
   "source": [
    "# 10000 points of circles data set\n",
    "n = 5000\n",
    "r = 0.25\n",
    "gen_fxn = gen_circles\n",
    "ds = gen_fxn.label\n",
    "neighbours = prepare_neighbours(n, r, gen_fxn)"
   ]
  },
  {
   "cell_type": "code",
   "execution_count": 25,
   "metadata": {
    "ExecuteTime": {
     "end_time": "2020-05-26T08:30:32.854389Z",
     "start_time": "2020-05-26T08:30:32.844392Z"
    }
   },
   "outputs": [],
   "source": [
    "# 100 points from circles data set\n",
    "ds = DS(gen_circles, 2000)"
   ]
  },
  {
   "cell_type": "markdown",
   "metadata": {},
   "source": [
    "#### From list of sets"
   ]
  },
  {
   "cell_type": "code",
   "execution_count": 26,
   "metadata": {
    "ExecuteTime": {
     "end_time": "2020-05-26T08:30:34.027171Z",
     "start_time": "2020-05-26T08:30:33.922270Z"
    }
   },
   "outputs": [
    {
     "name": "stdout",
     "output_type": "stream",
     "text": [
      "circles_2000_n0.5\n"
     ]
    }
   ],
   "source": [
    "# Prepare neighbours as list of sets\n",
    "ds.prepare_neighbourhoods(0.5)\n",
    "print(ds)"
   ]
  },
  {
   "cell_type": "markdown",
   "metadata": {},
   "source": [
    "##### Baseline"
   ]
  },
  {
   "cell_type": "code",
   "execution_count": 35,
   "metadata": {
    "ExecuteTime": {
     "end_time": "2020-05-15T08:50:23.164074Z",
     "start_time": "2020-05-15T08:50:22.799633Z"
    }
   },
   "outputs": [
    {
     "data": {
      "application/vnd.jupyter.widget-view+json": {
       "model_id": "e6454bf8747648c5932ca50b6f676a4b",
       "version_major": 2,
       "version_minor": 0
      },
      "text/plain": [
       "Canvas(toolbar=Toolbar(toolitems=[('Home', 'Reset original view', 'home', 'home'), ('Back', 'Back to previous …"
      ]
     },
     "metadata": {},
     "output_type": "display_data"
    }
   ],
   "source": [
    "plt.close(\"all\")\n",
    "fig, ax = plt.subplots()\n",
    "plot_data(ds.data, labels=baseline_to_labels(fits.fit_from_neighbours_baseline(20, ds.neighbours)), ax=ax, noise=0)\n",
    "plt.show()"
   ]
  },
  {
   "cell_type": "code",
   "execution_count": 110,
   "metadata": {
    "ExecuteTime": {
     "end_time": "2020-05-14T08:36:25.945104Z",
     "start_time": "2020-05-14T08:36:21.879559Z"
    }
   },
   "outputs": [
    {
     "name": "stdout",
     "output_type": "stream",
     "text": [
      "Length of labels:    2000\n",
      "Noise:               0\n",
      "Largest:             1000\n",
      "Clusters:            2\n",
      "\n",
      "*** Profile printout saved to text file 'reports/T460/fit_from_neighbours_baseline_circles_2000_n0.5.lprun'. \n",
      "256 ms ± 5.51 ms per loop (mean ± std. dev. of 7 runs, 1 loop each)\n"
     ]
    }
   ],
   "source": [
    "# Implementation using original implementation\n",
    "profile_fxn(\n",
    "    fits.fit_from_neighbours_baseline,\n",
    "    ds, report_dir,\n",
    "    20, ds.neighbours,  # function args\n",
    "    label=\"baseline\"\n",
    "    )"
   ]
  },
  {
   "cell_type": "markdown",
   "metadata": {},
   "source": [
    "##### Stdlib index"
   ]
  },
  {
   "cell_type": "code",
   "execution_count": 47,
   "metadata": {
    "ExecuteTime": {
     "end_time": "2020-05-15T08:52:24.245627Z",
     "start_time": "2020-05-15T08:52:24.137235Z"
    }
   },
   "outputs": [
    {
     "data": {
      "application/vnd.jupyter.widget-view+json": {
       "model_id": "119ea1be4fe1431290aa01daefc904aa",
       "version_major": 2,
       "version_minor": 0
      },
      "text/plain": [
       "Canvas(toolbar=Toolbar(toolitems=[('Home', 'Reset original view', 'home', 'home'), ('Back', 'Back to previous …"
      ]
     },
     "metadata": {},
     "output_type": "display_data"
    }
   ],
   "source": [
    "plt.close(\"all\")\n",
    "fig, ax = plt.subplots()\n",
    "plot_data(ds.data, labels=np.asarray(fits.fit_stdlib_from_neighbours_index(20, ds.neighbourhoods)), ax=ax, noise=0)\n",
    "plt.show()"
   ]
  },
  {
   "cell_type": "code",
   "execution_count": 45,
   "metadata": {
    "ExecuteTime": {
     "end_time": "2020-05-15T08:51:43.228406Z",
     "start_time": "2020-05-15T08:51:38.940902Z"
    }
   },
   "outputs": [
    {
     "name": "stdout",
     "output_type": "stream",
     "text": [
      "Length of labels:    2000\n",
      "Noise:               0\n",
      "Largest:             1000\n",
      "Clusters:            2\n",
      "\n",
      "*** Profile printout saved to text file 'reports/T460/fit_stdlib_from_neighbours_index_circles_2000_n0.5.lprun'. \n",
      "36.3 ms ± 88 µs per loop (mean ± std. dev. of 7 runs, 10 loops each)\n"
     ]
    }
   ],
   "source": [
    "# Implementation using only standard library\n",
    "profile_fxn(\n",
    "    fits.fit_stdlib_from_neighbours_index,\n",
    "    ds, report_dir,\n",
    "    20, ds.neighbourhoods,  # function args\n",
    "    label=\"std_index\"\n",
    "    )"
   ]
  },
  {
   "cell_type": "code",
   "execution_count": 111,
   "metadata": {
    "ExecuteTime": {
     "end_time": "2020-05-14T08:36:54.661424Z",
     "start_time": "2020-05-14T08:36:54.525964Z"
    }
   },
   "outputs": [
    {
     "data": {
      "application/vnd.jupyter.widget-view+json": {
       "model_id": "37342e9248a54c9790490b54608d2300",
       "version_major": 2,
       "version_minor": 0
      },
      "text/plain": [
       "Canvas(toolbar=Toolbar(toolitems=[('Home', 'Reset original view', 'home', 'home'), ('Back', 'Back to previous …"
      ]
     },
     "metadata": {},
     "output_type": "display_data"
    }
   ],
   "source": [
    "plt.close(\"all\")\n",
    "fig, ax = plt.subplots()\n",
    "plot_data(ds.data, labels=np.asarray(fits.fit_stdlib_from_neighbours_loop(20, ds.neighbours)), ax=ax, noise=0)\n",
    "plt.show()"
   ]
  },
  {
   "cell_type": "code",
   "execution_count": 113,
   "metadata": {
    "ExecuteTime": {
     "end_time": "2020-05-14T08:37:57.659941Z",
     "start_time": "2020-05-14T08:37:52.727558Z"
    }
   },
   "outputs": [
    {
     "name": "stdout",
     "output_type": "stream",
     "text": [
      "Length of labels:    2000\n",
      "Noise:               0\n",
      "Largest:             1000\n",
      "Clusters:            2\n",
      "\n",
      "*** Profile printout saved to text file 'reports/T460/fit_stdlib_from_neighbours_loop_circles_2000_n0.5.lprun'. \n",
      "40 ms ± 511 µs per loop (mean ± std. dev. of 7 runs, 10 loops each)\n"
     ]
    }
   ],
   "source": [
    "# Implementation using only standard library\n",
    "profile_fxn(\n",
    "    fits.fit_stdlib_from_neighbours_loop,\n",
    "    ds, report_dir,\n",
    "    20, ds.neighbours,  # function args\n",
    "    label=\"std_loop\"\n",
    "    )"
   ]
  },
  {
   "cell_type": "code",
   "execution_count": 114,
   "metadata": {
    "ExecuteTime": {
     "end_time": "2020-05-14T08:38:38.662331Z",
     "start_time": "2020-05-14T08:38:38.561090Z"
    }
   },
   "outputs": [
    {
     "data": {
      "application/vnd.jupyter.widget-view+json": {
       "model_id": "9e84d8619ff243778e46f17695456c71",
       "version_major": 2,
       "version_minor": 0
      },
      "text/plain": [
       "Canvas(toolbar=Toolbar(toolitems=[('Home', 'Reset original view', 'home', 'home'), ('Back', 'Back to previous …"
      ]
     },
     "metadata": {},
     "output_type": "display_data"
    }
   ],
   "source": [
    "plt.close(\"all\")\n",
    "fig, ax = plt.subplots()\n",
    "plot_data(ds.data, labels=np.asarray(fits.fit_stdlib_from_neighbours_loop_membercheck(20, ds.neighbours)), ax=ax, noise=0)\n",
    "plt.show()"
   ]
  },
  {
   "cell_type": "code",
   "execution_count": 115,
   "metadata": {
    "ExecuteTime": {
     "end_time": "2020-05-14T08:38:50.879587Z",
     "start_time": "2020-05-14T08:38:45.879765Z"
    }
   },
   "outputs": [
    {
     "name": "stdout",
     "output_type": "stream",
     "text": [
      "Length of labels:    2000\n",
      "Noise:               0\n",
      "Largest:             1000\n",
      "Clusters:            2\n",
      "\n",
      "*** Profile printout saved to text file 'reports/T460/fit_stdlib_from_neighbours_loop_membercheck_circles_2000_n0.5.lprun'. \n",
      "41.8 ms ± 3.99 ms per loop (mean ± std. dev. of 7 runs, 10 loops each)\n"
     ]
    }
   ],
   "source": [
    "# Implementation using only standard library\n",
    "profile_fxn(\n",
    "    fits.fit_stdlib_from_neighbours_loop_membercheck,\n",
    "    ds, report_dir,\n",
    "    20, ds.neighbours,  # function args\n",
    "    label=\"std_loop_membercheck\"\n",
    "    )"
   ]
  },
  {
   "cell_type": "markdown",
   "metadata": {},
   "source": [
    "##### Stdlib cython"
   ]
  },
  {
   "cell_type": "code",
   "execution_count": 48,
   "metadata": {
    "ExecuteTime": {
     "end_time": "2020-05-15T08:56:07.963890Z",
     "start_time": "2020-05-15T08:56:07.960483Z"
    }
   },
   "outputs": [],
   "source": [
    "from core import _cfits"
   ]
  },
  {
   "cell_type": "code",
   "execution_count": 29,
   "metadata": {
    "ExecuteTime": {
     "end_time": "2020-05-15T09:23:46.197722Z",
     "start_time": "2020-05-15T09:23:46.122099Z"
    },
    "scrolled": false
   },
   "outputs": [
    {
     "data": {
      "application/vnd.jupyter.widget-view+json": {
       "model_id": "b15c65fe167740c9afdc269b14d9dfb5",
       "version_major": 2,
       "version_minor": 0
      },
      "text/plain": [
       "Canvas(toolbar=Toolbar(toolitems=[('Home', 'Reset original view', 'home', 'home'), ('Back', 'Back to previous …"
      ]
     },
     "metadata": {},
     "output_type": "display_data"
    }
   ],
   "source": [
    "plt.close(\"all\")\n",
    "fig, ax = plt.subplots()\n",
    "plot_data(ds.data, labels=np.asarray(_cfits.fit_from_neighbours(20, ds.neighbourhoods)), ax=ax, noise=0)\n",
    "plt.show()"
   ]
  },
  {
   "cell_type": "code",
   "execution_count": 31,
   "metadata": {
    "ExecuteTime": {
     "end_time": "2020-05-15T09:24:06.967203Z",
     "start_time": "2020-05-15T09:24:06.852622Z"
    }
   },
   "outputs": [
    {
     "name": "stdout",
     "output_type": "stream",
     "text": [
      "Length of labels:    2000\n",
      "Noise:               0\n",
      "Largest:             1000\n",
      "Clusters:            2\n"
     ]
    },
    {
     "ename": "ValueError",
     "evalue": "max() arg is an empty sequence",
     "output_type": "error",
     "traceback": [
      "\u001b[1;31m---------------------------------------------------------------------------\u001b[0m",
      "\u001b[1;31mValueError\u001b[0m                                Traceback (most recent call last)",
      "\u001b[1;32m<ipython-input-31-14cc7f3c97a4>\u001b[0m in \u001b[0;36m<module>\u001b[1;34m\u001b[0m\n\u001b[0;32m      1\u001b[0m \u001b[1;31m# Implementation using only standard library\u001b[0m\u001b[1;33m\u001b[0m\u001b[1;33m\u001b[0m\u001b[1;33m\u001b[0m\u001b[0m\n\u001b[1;32m----> 2\u001b[1;33m profile_fxn(\n\u001b[0m\u001b[0;32m      3\u001b[0m     \u001b[0m_cfits\u001b[0m\u001b[1;33m.\u001b[0m\u001b[0mfit_from_neighbours\u001b[0m\u001b[1;33m,\u001b[0m\u001b[1;33m\u001b[0m\u001b[1;33m\u001b[0m\u001b[0m\n\u001b[0;32m      4\u001b[0m     \u001b[0mds\u001b[0m\u001b[1;33m,\u001b[0m \u001b[0mreport_dir\u001b[0m\u001b[1;33m,\u001b[0m\u001b[1;33m\u001b[0m\u001b[1;33m\u001b[0m\u001b[0m\n\u001b[0;32m      5\u001b[0m     \u001b[1;36m20\u001b[0m\u001b[1;33m,\u001b[0m \u001b[0mds\u001b[0m\u001b[1;33m.\u001b[0m\u001b[0mneighbourhoods\u001b[0m\u001b[1;33m,\u001b[0m  \u001b[1;31m# function args\u001b[0m\u001b[1;33m\u001b[0m\u001b[1;33m\u001b[0m\u001b[0m\n",
      "\u001b[1;32m<ipython-input-22-1405b8a32e8f>\u001b[0m in \u001b[0;36mprofile_fxn\u001b[1;34m(f, ds, report_dir, t, l, m, label, *args, **kwargs)\u001b[0m\n\u001b[0;32m     68\u001b[0m     \u001b[1;31m# Profile\u001b[0m\u001b[1;33m\u001b[0m\u001b[1;33m\u001b[0m\u001b[1;33m\u001b[0m\u001b[0m\n\u001b[0;32m     69\u001b[0m     \u001b[1;32mif\u001b[0m \u001b[0ml\u001b[0m\u001b[1;33m:\u001b[0m\u001b[1;33m\u001b[0m\u001b[1;33m\u001b[0m\u001b[0m\n\u001b[1;32m---> 70\u001b[1;33m         \u001b[0mget_ipython\u001b[0m\u001b[1;33m(\u001b[0m\u001b[1;33m)\u001b[0m\u001b[1;33m.\u001b[0m\u001b[0mrun_line_magic\u001b[0m\u001b[1;33m(\u001b[0m\u001b[1;34m'lprun'\u001b[0m\u001b[1;33m,\u001b[0m \u001b[1;34m'-T {report_dir}/{fxn.__name__}_{ds.__str__()}.lprun -f fxn fxn(*fxn_args, **fxn_kwargs)'\u001b[0m\u001b[1;33m)\u001b[0m\u001b[1;33m\u001b[0m\u001b[1;33m\u001b[0m\u001b[0m\n\u001b[0m\u001b[0;32m     71\u001b[0m     \u001b[1;32mif\u001b[0m \u001b[0mt\u001b[0m\u001b[1;33m:\u001b[0m\u001b[1;33m\u001b[0m\u001b[1;33m\u001b[0m\u001b[0m\n\u001b[0;32m     72\u001b[0m         \u001b[0mo\u001b[0m \u001b[1;33m=\u001b[0m \u001b[0mget_ipython\u001b[0m\u001b[1;33m(\u001b[0m\u001b[1;33m)\u001b[0m\u001b[1;33m.\u001b[0m\u001b[0mrun_line_magic\u001b[0m\u001b[1;33m(\u001b[0m\u001b[1;34m'timeit'\u001b[0m\u001b[1;33m,\u001b[0m \u001b[1;34m'-o fxn(*fxn_args, **fxn_kwargs)'\u001b[0m\u001b[1;33m)\u001b[0m\u001b[1;33m\u001b[0m\u001b[1;33m\u001b[0m\u001b[0m\n",
      "\u001b[1;32m~/.local/share/virtualenvs/CNN-5gkgQAOT/lib/python3.8/site-packages/IPython/core/interactiveshell.py\u001b[0m in \u001b[0;36mrun_line_magic\u001b[1;34m(self, magic_name, line, _stack_depth)\u001b[0m\n\u001b[0;32m   2315\u001b[0m                 \u001b[0mkwargs\u001b[0m\u001b[1;33m[\u001b[0m\u001b[1;34m'local_ns'\u001b[0m\u001b[1;33m]\u001b[0m \u001b[1;33m=\u001b[0m \u001b[0msys\u001b[0m\u001b[1;33m.\u001b[0m\u001b[0m_getframe\u001b[0m\u001b[1;33m(\u001b[0m\u001b[0mstack_depth\u001b[0m\u001b[1;33m)\u001b[0m\u001b[1;33m.\u001b[0m\u001b[0mf_locals\u001b[0m\u001b[1;33m\u001b[0m\u001b[1;33m\u001b[0m\u001b[0m\n\u001b[0;32m   2316\u001b[0m             \u001b[1;32mwith\u001b[0m \u001b[0mself\u001b[0m\u001b[1;33m.\u001b[0m\u001b[0mbuiltin_trap\u001b[0m\u001b[1;33m:\u001b[0m\u001b[1;33m\u001b[0m\u001b[1;33m\u001b[0m\u001b[0m\n\u001b[1;32m-> 2317\u001b[1;33m                 \u001b[0mresult\u001b[0m \u001b[1;33m=\u001b[0m \u001b[0mfn\u001b[0m\u001b[1;33m(\u001b[0m\u001b[1;33m*\u001b[0m\u001b[0margs\u001b[0m\u001b[1;33m,\u001b[0m \u001b[1;33m**\u001b[0m\u001b[0mkwargs\u001b[0m\u001b[1;33m)\u001b[0m\u001b[1;33m\u001b[0m\u001b[1;33m\u001b[0m\u001b[0m\n\u001b[0m\u001b[0;32m   2318\u001b[0m             \u001b[1;32mreturn\u001b[0m \u001b[0mresult\u001b[0m\u001b[1;33m\u001b[0m\u001b[1;33m\u001b[0m\u001b[0m\n\u001b[0;32m   2319\u001b[0m \u001b[1;33m\u001b[0m\u001b[0m\n",
      "\u001b[1;32m<decorator-gen-129>\u001b[0m in \u001b[0;36mlprun\u001b[1;34m(self, parameter_s)\u001b[0m\n",
      "\u001b[1;32m~/.local/share/virtualenvs/CNN-5gkgQAOT/lib/python3.8/site-packages/IPython/core/magic.py\u001b[0m in \u001b[0;36m<lambda>\u001b[1;34m(f, *a, **k)\u001b[0m\n\u001b[0;32m    185\u001b[0m     \u001b[1;31m# but it's overkill for just that one bit of state.\u001b[0m\u001b[1;33m\u001b[0m\u001b[1;33m\u001b[0m\u001b[1;33m\u001b[0m\u001b[0m\n\u001b[0;32m    186\u001b[0m     \u001b[1;32mdef\u001b[0m \u001b[0mmagic_deco\u001b[0m\u001b[1;33m(\u001b[0m\u001b[0marg\u001b[0m\u001b[1;33m)\u001b[0m\u001b[1;33m:\u001b[0m\u001b[1;33m\u001b[0m\u001b[1;33m\u001b[0m\u001b[0m\n\u001b[1;32m--> 187\u001b[1;33m         \u001b[0mcall\u001b[0m \u001b[1;33m=\u001b[0m \u001b[1;32mlambda\u001b[0m \u001b[0mf\u001b[0m\u001b[1;33m,\u001b[0m \u001b[1;33m*\u001b[0m\u001b[0ma\u001b[0m\u001b[1;33m,\u001b[0m \u001b[1;33m**\u001b[0m\u001b[0mk\u001b[0m\u001b[1;33m:\u001b[0m \u001b[0mf\u001b[0m\u001b[1;33m(\u001b[0m\u001b[1;33m*\u001b[0m\u001b[0ma\u001b[0m\u001b[1;33m,\u001b[0m \u001b[1;33m**\u001b[0m\u001b[0mk\u001b[0m\u001b[1;33m)\u001b[0m\u001b[1;33m\u001b[0m\u001b[1;33m\u001b[0m\u001b[0m\n\u001b[0m\u001b[0;32m    188\u001b[0m \u001b[1;33m\u001b[0m\u001b[0m\n\u001b[0;32m    189\u001b[0m         \u001b[1;32mif\u001b[0m \u001b[0mcallable\u001b[0m\u001b[1;33m(\u001b[0m\u001b[0marg\u001b[0m\u001b[1;33m)\u001b[0m\u001b[1;33m:\u001b[0m\u001b[1;33m\u001b[0m\u001b[1;33m\u001b[0m\u001b[0m\n",
      "\u001b[1;32m~/.local/share/virtualenvs/CNN-5gkgQAOT/lib/python3.8/site-packages/line_profiler/line_profiler.py\u001b[0m in \u001b[0;36mlprun\u001b[1;34m(self, parameter_s)\u001b[0m\n\u001b[0;32m    374\u001b[0m         \u001b[1;31m# Trap text output.\u001b[0m\u001b[1;33m\u001b[0m\u001b[1;33m\u001b[0m\u001b[1;33m\u001b[0m\u001b[0m\n\u001b[0;32m    375\u001b[0m         \u001b[0mstdout_trap\u001b[0m \u001b[1;33m=\u001b[0m \u001b[0mStringIO\u001b[0m\u001b[1;33m(\u001b[0m\u001b[1;33m)\u001b[0m\u001b[1;33m\u001b[0m\u001b[1;33m\u001b[0m\u001b[0m\n\u001b[1;32m--> 376\u001b[1;33m         \u001b[0mprofile\u001b[0m\u001b[1;33m.\u001b[0m\u001b[0mprint_stats\u001b[0m\u001b[1;33m(\u001b[0m\u001b[0mstdout_trap\u001b[0m\u001b[1;33m,\u001b[0m \u001b[0moutput_unit\u001b[0m\u001b[1;33m=\u001b[0m\u001b[0moutput_unit\u001b[0m\u001b[1;33m,\u001b[0m \u001b[0mstripzeros\u001b[0m\u001b[1;33m=\u001b[0m\u001b[1;34m's'\u001b[0m \u001b[1;32min\u001b[0m \u001b[0mopts\u001b[0m\u001b[1;33m)\u001b[0m\u001b[1;33m\u001b[0m\u001b[1;33m\u001b[0m\u001b[0m\n\u001b[0m\u001b[0;32m    377\u001b[0m         \u001b[0moutput\u001b[0m \u001b[1;33m=\u001b[0m \u001b[0mstdout_trap\u001b[0m\u001b[1;33m.\u001b[0m\u001b[0mgetvalue\u001b[0m\u001b[1;33m(\u001b[0m\u001b[1;33m)\u001b[0m\u001b[1;33m\u001b[0m\u001b[1;33m\u001b[0m\u001b[0m\n\u001b[0;32m    378\u001b[0m         \u001b[0moutput\u001b[0m \u001b[1;33m=\u001b[0m \u001b[0moutput\u001b[0m\u001b[1;33m.\u001b[0m\u001b[0mrstrip\u001b[0m\u001b[1;33m(\u001b[0m\u001b[1;33m)\u001b[0m\u001b[1;33m\u001b[0m\u001b[1;33m\u001b[0m\u001b[0m\n",
      "\u001b[1;32m~/.local/share/virtualenvs/CNN-5gkgQAOT/lib/python3.8/site-packages/line_profiler/line_profiler.py\u001b[0m in \u001b[0;36mprint_stats\u001b[1;34m(self, stream, output_unit, stripzeros)\u001b[0m\n\u001b[0;32m    142\u001b[0m         \"\"\"\n\u001b[0;32m    143\u001b[0m         \u001b[0mlstats\u001b[0m \u001b[1;33m=\u001b[0m \u001b[0mself\u001b[0m\u001b[1;33m.\u001b[0m\u001b[0mget_stats\u001b[0m\u001b[1;33m(\u001b[0m\u001b[1;33m)\u001b[0m\u001b[1;33m\u001b[0m\u001b[1;33m\u001b[0m\u001b[0m\n\u001b[1;32m--> 144\u001b[1;33m         \u001b[0mshow_text\u001b[0m\u001b[1;33m(\u001b[0m\u001b[0mlstats\u001b[0m\u001b[1;33m.\u001b[0m\u001b[0mtimings\u001b[0m\u001b[1;33m,\u001b[0m \u001b[0mlstats\u001b[0m\u001b[1;33m.\u001b[0m\u001b[0munit\u001b[0m\u001b[1;33m,\u001b[0m \u001b[0moutput_unit\u001b[0m\u001b[1;33m=\u001b[0m\u001b[0moutput_unit\u001b[0m\u001b[1;33m,\u001b[0m \u001b[0mstream\u001b[0m\u001b[1;33m=\u001b[0m\u001b[0mstream\u001b[0m\u001b[1;33m,\u001b[0m \u001b[0mstripzeros\u001b[0m\u001b[1;33m=\u001b[0m\u001b[0mstripzeros\u001b[0m\u001b[1;33m)\u001b[0m\u001b[1;33m\u001b[0m\u001b[1;33m\u001b[0m\u001b[0m\n\u001b[0m\u001b[0;32m    145\u001b[0m \u001b[1;33m\u001b[0m\u001b[0m\n\u001b[0;32m    146\u001b[0m     \u001b[1;32mdef\u001b[0m \u001b[0mrun\u001b[0m\u001b[1;33m(\u001b[0m\u001b[0mself\u001b[0m\u001b[1;33m,\u001b[0m \u001b[0mcmd\u001b[0m\u001b[1;33m)\u001b[0m\u001b[1;33m:\u001b[0m\u001b[1;33m\u001b[0m\u001b[1;33m\u001b[0m\u001b[0m\n",
      "\u001b[1;32m~/.local/share/virtualenvs/CNN-5gkgQAOT/lib/python3.8/site-packages/line_profiler/line_profiler.py\u001b[0m in \u001b[0;36mshow_text\u001b[1;34m(stats, unit, output_unit, stream, stripzeros)\u001b[0m\n\u001b[0;32m    263\u001b[0m \u001b[1;33m\u001b[0m\u001b[0m\n\u001b[0;32m    264\u001b[0m     \u001b[1;32mfor\u001b[0m \u001b[1;33m(\u001b[0m\u001b[0mfn\u001b[0m\u001b[1;33m,\u001b[0m \u001b[0mlineno\u001b[0m\u001b[1;33m,\u001b[0m \u001b[0mname\u001b[0m\u001b[1;33m)\u001b[0m\u001b[1;33m,\u001b[0m \u001b[0mtimings\u001b[0m \u001b[1;32min\u001b[0m \u001b[0msorted\u001b[0m\u001b[1;33m(\u001b[0m\u001b[0mstats\u001b[0m\u001b[1;33m.\u001b[0m\u001b[0mitems\u001b[0m\u001b[1;33m(\u001b[0m\u001b[1;33m)\u001b[0m\u001b[1;33m)\u001b[0m\u001b[1;33m:\u001b[0m\u001b[1;33m\u001b[0m\u001b[1;33m\u001b[0m\u001b[0m\n\u001b[1;32m--> 265\u001b[1;33m         show_func(fn, lineno, name, stats[fn, lineno, name], unit,\n\u001b[0m\u001b[0;32m    266\u001b[0m             output_unit=output_unit, stream=stream, stripzeros=stripzeros)\n\u001b[0;32m    267\u001b[0m \u001b[1;33m\u001b[0m\u001b[0m\n",
      "\u001b[1;32m~/.local/share/virtualenvs/CNN-5gkgQAOT/lib/python3.8/site-packages/line_profiler/line_profiler.py\u001b[0m in \u001b[0;36mshow_func\u001b[1;34m(filename, start_lineno, func_name, timings, unit, output_unit, stream, stripzeros)\u001b[0m\n\u001b[0;32m    227\u001b[0m         \u001b[0mstream\u001b[0m\u001b[1;33m.\u001b[0m\u001b[0mwrite\u001b[0m\u001b[1;33m(\u001b[0m\u001b[1;34m\"Continuing without the function's contents.\\n\"\u001b[0m\u001b[1;33m)\u001b[0m\u001b[1;33m\u001b[0m\u001b[1;33m\u001b[0m\u001b[0m\n\u001b[0;32m    228\u001b[0m         \u001b[1;31m# Fake empty lines so we can see the timings, if not the code.\u001b[0m\u001b[1;33m\u001b[0m\u001b[1;33m\u001b[0m\u001b[1;33m\u001b[0m\u001b[0m\n\u001b[1;32m--> 229\u001b[1;33m         \u001b[0mnlines\u001b[0m \u001b[1;33m=\u001b[0m \u001b[0mmax\u001b[0m\u001b[1;33m(\u001b[0m\u001b[0mlinenos\u001b[0m\u001b[1;33m)\u001b[0m \u001b[1;33m-\u001b[0m \u001b[0mmin\u001b[0m\u001b[1;33m(\u001b[0m\u001b[0mmin\u001b[0m\u001b[1;33m(\u001b[0m\u001b[0mlinenos\u001b[0m\u001b[1;33m)\u001b[0m\u001b[1;33m,\u001b[0m \u001b[0mstart_lineno\u001b[0m\u001b[1;33m)\u001b[0m \u001b[1;33m+\u001b[0m \u001b[1;36m1\u001b[0m\u001b[1;33m\u001b[0m\u001b[1;33m\u001b[0m\u001b[0m\n\u001b[0m\u001b[0;32m    230\u001b[0m         \u001b[0msublines\u001b[0m \u001b[1;33m=\u001b[0m \u001b[1;33m[\u001b[0m\u001b[1;34m''\u001b[0m\u001b[1;33m]\u001b[0m \u001b[1;33m*\u001b[0m \u001b[0mnlines\u001b[0m\u001b[1;33m\u001b[0m\u001b[1;33m\u001b[0m\u001b[0m\n\u001b[0;32m    231\u001b[0m     \u001b[1;32mfor\u001b[0m \u001b[0mlineno\u001b[0m\u001b[1;33m,\u001b[0m \u001b[0mnhits\u001b[0m\u001b[1;33m,\u001b[0m \u001b[0mtime\u001b[0m \u001b[1;32min\u001b[0m \u001b[0mtimings\u001b[0m\u001b[1;33m:\u001b[0m\u001b[1;33m\u001b[0m\u001b[1;33m\u001b[0m\u001b[0m\n",
      "\u001b[1;31mValueError\u001b[0m: max() arg is an empty sequence"
     ]
    }
   ],
   "source": [
    "# Implementation using only standard library\n",
    "profile_fxn(\n",
    "    _cfits.fit_from_neighbours,\n",
    "    ds, report_dir,\n",
    "    20, ds.neighbourhoods,  # function args\n",
    "    label=\"std_cython\"\n",
    "    )"
   ]
  },
  {
   "cell_type": "code",
   "execution_count": 32,
   "metadata": {
    "ExecuteTime": {
     "end_time": "2020-05-15T09:24:16.712935Z",
     "start_time": "2020-05-15T09:24:14.570571Z"
    }
   },
   "outputs": [
    {
     "name": "stdout",
     "output_type": "stream",
     "text": [
      "25.8 ms ± 541 µs per loop (mean ± std. dev. of 7 runs, 10 loops each)\n"
     ]
    }
   ],
   "source": [
    "%timeit _cfits.fit_from_neighbours(20, ds.neighbourhoods)"
   ]
  },
  {
   "cell_type": "markdown",
   "metadata": {
    "ExecuteTime": {
     "end_time": "2020-05-12T16:01:15.725401Z",
     "start_time": "2020-05-12T16:01:15.714863Z"
    }
   },
   "source": [
    "#### From numpy.array"
   ]
  },
  {
   "cell_type": "code",
   "execution_count": 136,
   "metadata": {
    "ExecuteTime": {
     "end_time": "2020-05-14T09:22:18.236029Z",
     "start_time": "2020-05-14T09:22:18.209195Z"
    }
   },
   "outputs": [
    {
     "data": {
      "text/plain": [
       "<module 'snippets.fits' from '/home/janjoswig/CNN/tests/benchmark/snippets/fits.py'>"
      ]
     },
     "execution_count": 136,
     "metadata": {},
     "output_type": "execute_result"
    }
   ],
   "source": [
    "importlib.reload(fits)"
   ]
  },
  {
   "cell_type": "code",
   "execution_count": 118,
   "metadata": {
    "ExecuteTime": {
     "end_time": "2020-05-14T08:43:40.770080Z",
     "start_time": "2020-05-14T08:43:40.573675Z"
    }
   },
   "outputs": [],
   "source": [
    "# Switch to neighbourhoods as numpy.array of numpy.arrays\n",
    "ds.prepare_neighbours(0.5, numpy=True)"
   ]
  },
  {
   "cell_type": "code",
   "execution_count": 142,
   "metadata": {
    "ExecuteTime": {
     "end_time": "2020-05-14T09:25:57.501463Z",
     "start_time": "2020-05-14T09:25:57.055907Z"
    }
   },
   "outputs": [
    {
     "data": {
      "application/vnd.jupyter.widget-view+json": {
       "model_id": "1d986c8eff4b40288ec76bc65e64b913",
       "version_major": 2,
       "version_minor": 0
      },
      "text/plain": [
       "Canvas(toolbar=Toolbar(toolitems=[('Home', 'Reset original view', 'home', 'home'), ('Back', 'Back to previous …"
      ]
     },
     "metadata": {},
     "output_type": "display_data"
    }
   ],
   "source": [
    "plt.close(\"all\")\n",
    "fig, ax = plt.subplots()\n",
    "plot_data(ds.data, labels=baseline_to_labels(fits.fit_from_neighbours_baseline(20, ds.neighbours)), ax=ax, noise=0)\n",
    "plt.show()"
   ]
  },
  {
   "cell_type": "code",
   "execution_count": 140,
   "metadata": {
    "ExecuteTime": {
     "end_time": "2020-05-14T09:24:46.767373Z",
     "start_time": "2020-05-14T09:24:41.204169Z"
    }
   },
   "outputs": [
    {
     "name": "stdout",
     "output_type": "stream",
     "text": [
      "Length of labels:    2000\n",
      "Noise:               0\n",
      "Largest:             1000\n",
      "Clusters:            2\n",
      "\n",
      "*** Profile printout saved to text file 'reports/T460/fit_from_neighbours_baseline_circles_2000_n0.5.lprun'. \n",
      "368 ms ± 57.9 ms per loop (mean ± std. dev. of 7 runs, 1 loop each)\n"
     ]
    }
   ],
   "source": [
    "# Implementation using original implementation\n",
    "profile_fxn(\n",
    "    fits.fit_from_neighbours_baseline,\n",
    "    ds, report_dir,\n",
    "    20, ds.neighbours,  # function args\n",
    "    label=\"baseline\"\n",
    "    )"
   ]
  },
  {
   "cell_type": "code",
   "execution_count": 137,
   "metadata": {
    "ExecuteTime": {
     "end_time": "2020-05-14T09:22:19.737235Z",
     "start_time": "2020-05-14T09:22:19.521795Z"
    }
   },
   "outputs": [
    {
     "data": {
      "application/vnd.jupyter.widget-view+json": {
       "model_id": "77b1d640f4734322a1545d44a18aedf3",
       "version_major": 2,
       "version_minor": 0
      },
      "text/plain": [
       "Canvas(toolbar=Toolbar(toolitems=[('Home', 'Reset original view', 'home', 'home'), ('Back', 'Back to previous …"
      ]
     },
     "metadata": {},
     "output_type": "display_data"
    }
   ],
   "source": [
    "plt.close(\"all\")\n",
    "fig, ax = plt.subplots()\n",
    "plot_data(ds.data, labels=fits.fit_numpy_mix(20, ds.neighbours), ax=ax, noise=0)\n",
    "plt.show()"
   ]
  },
  {
   "cell_type": "code",
   "execution_count": 143,
   "metadata": {
    "ExecuteTime": {
     "end_time": "2020-05-14T09:26:19.807908Z",
     "start_time": "2020-05-14T09:26:07.501844Z"
    }
   },
   "outputs": [
    {
     "name": "stdout",
     "output_type": "stream",
     "text": [
      "Length of labels:    2000\n",
      "Noise:               0\n",
      "Largest:             1000\n",
      "Clusters:            2\n",
      "\n",
      "*** Profile printout saved to text file 'reports/T460/fit_numpy_mix_circles_2000_n0.5.lprun'. \n",
      "146 ms ± 1.58 ms per loop (mean ± std. dev. of 7 runs, 10 loops each)\n"
     ]
    }
   ],
   "source": [
    "# Implementation using numpy\n",
    "profile_fxn(\n",
    "    fits.fit_numpy_mix,\n",
    "    ds, report_dir,\n",
    "    20, ds.neighbours,  # function args\n",
    "    label=\"numpy_index\"\n",
    "    )"
   ]
  },
  {
   "cell_type": "code",
   "execution_count": 119,
   "metadata": {
    "ExecuteTime": {
     "end_time": "2020-05-14T08:43:41.819301Z",
     "start_time": "2020-05-14T08:43:41.643328Z"
    }
   },
   "outputs": [
    {
     "data": {
      "application/vnd.jupyter.widget-view+json": {
       "model_id": "d31e7529f6ea43179ee5343718778ead",
       "version_major": 2,
       "version_minor": 0
      },
      "text/plain": [
       "Canvas(toolbar=Toolbar(toolitems=[('Home', 'Reset original view', 'home', 'home'), ('Back', 'Back to previous …"
      ]
     },
     "metadata": {},
     "output_type": "display_data"
    }
   ],
   "source": [
    "plt.close(\"all\")\n",
    "fig, ax = plt.subplots()\n",
    "plot_data(ds.data, labels=np.asarray(fits.fit_numpy_from_neighbours_index(20, ds.neighbours)), ax=ax, noise=0)\n",
    "plt.show()"
   ]
  },
  {
   "cell_type": "code",
   "execution_count": 139,
   "metadata": {
    "ExecuteTime": {
     "end_time": "2020-05-14T09:23:09.065595Z",
     "start_time": "2020-05-14T09:22:59.353230Z"
    }
   },
   "outputs": [
    {
     "name": "stdout",
     "output_type": "stream",
     "text": [
      "Length of labels:    2000\n",
      "Noise:               0\n",
      "Largest:             1000\n",
      "Clusters:            2\n",
      "\n",
      "*** Profile printout saved to text file 'reports/T460/fit_numpy_from_neighbours_index_circles_2000_n0.5.lprun'. \n",
      "103 ms ± 19.6 ms per loop (mean ± std. dev. of 7 runs, 10 loops each)\n"
     ]
    }
   ],
   "source": [
    "# Implementation using numpy\n",
    "profile_fxn(\n",
    "    fits.fit_numpy_from_neighbours_index,\n",
    "    ds, report_dir,\n",
    "    20, ds.neighbours,  # function args\n",
    "    label=\"numpy_index\"\n",
    "    )"
   ]
  },
  {
   "cell_type": "code",
   "execution_count": 121,
   "metadata": {
    "ExecuteTime": {
     "end_time": "2020-05-14T08:44:29.094125Z",
     "start_time": "2020-05-14T08:44:28.898125Z"
    }
   },
   "outputs": [
    {
     "data": {
      "application/vnd.jupyter.widget-view+json": {
       "model_id": "060cd7d76eec415d8206fc8d8cd883c9",
       "version_major": 2,
       "version_minor": 0
      },
      "text/plain": [
       "Canvas(toolbar=Toolbar(toolitems=[('Home', 'Reset original view', 'home', 'home'), ('Back', 'Back to previous …"
      ]
     },
     "metadata": {},
     "output_type": "display_data"
    }
   ],
   "source": [
    "plt.close(\"all\")\n",
    "fig, ax = plt.subplots()\n",
    "plot_data(ds.data, labels=np.asarray(fits.fit_numpy_from_neighbours_loop(20, ds.neighbours)), ax=ax, noise=0)\n",
    "plt.show()"
   ]
  },
  {
   "cell_type": "code",
   "execution_count": 123,
   "metadata": {
    "ExecuteTime": {
     "end_time": "2020-05-14T08:44:53.210410Z",
     "start_time": "2020-05-14T08:44:43.962404Z"
    }
   },
   "outputs": [
    {
     "name": "stdout",
     "output_type": "stream",
     "text": [
      "Length of labels:    2000\n",
      "Noise:               0\n",
      "Largest:             1000\n",
      "Clusters:            2\n",
      "\n",
      "*** Profile printout saved to text file 'reports/T460/fit_numpy_from_neighbours_loop_circles_2000_n0.5.lprun'. \n",
      "96.9 ms ± 2.24 ms per loop (mean ± std. dev. of 7 runs, 10 loops each)\n"
     ]
    }
   ],
   "source": [
    "# Implementation using numpy\n",
    "profile_fxn(\n",
    "    fits.fit_numpy_from_neighbours_loop,\n",
    "    ds, report_dir,\n",
    "    20, ds.neighbours,  # function args\n",
    "    label=\"numpy_loop\"\n",
    "    )"
   ]
  },
  {
   "cell_type": "code",
   "execution_count": 124,
   "metadata": {
    "ExecuteTime": {
     "end_time": "2020-05-14T08:45:39.229926Z",
     "start_time": "2020-05-14T08:45:39.098221Z"
    }
   },
   "outputs": [
    {
     "data": {
      "application/vnd.jupyter.widget-view+json": {
       "model_id": "646a4ca25ef1436a95b77c8503d1b2c1",
       "version_major": 2,
       "version_minor": 0
      },
      "text/plain": [
       "Canvas(toolbar=Toolbar(toolitems=[('Home', 'Reset original view', 'home', 'home'), ('Back', 'Back to previous …"
      ]
     },
     "metadata": {},
     "output_type": "display_data"
    }
   ],
   "source": [
    "plt.close(\"all\")\n",
    "fig, ax = plt.subplots()\n",
    "plot_data(ds.data, labels=np.asarray(fits.fit_numpy_from_neighbours_filtermembers(20, ds.neighbours)), ax=ax, noise=0)\n",
    "plt.show()"
   ]
  },
  {
   "cell_type": "code",
   "execution_count": 130,
   "metadata": {
    "ExecuteTime": {
     "end_time": "2020-05-14T09:07:18.215444Z",
     "start_time": "2020-05-14T09:07:14.430605Z"
    }
   },
   "outputs": [
    {
     "name": "stdout",
     "output_type": "stream",
     "text": [
      "Length of labels:    2000\n",
      "Noise:               0\n",
      "Largest:             1000\n",
      "Clusters:            2\n",
      "\n",
      "*** Profile printout saved to text file 'reports/T460/fit_numpy_from_neighbours_filtermembers_circles_2000_n0.5.lprun'. \n",
      "43.8 ms ± 965 µs per loop (mean ± std. dev. of 7 runs, 10 loops each)\n"
     ]
    }
   ],
   "source": [
    "# Implementation using numpy\n",
    "profile_fxn(\n",
    "    fits.fit_numpy_from_neighbours_filtermembers,\n",
    "    ds, report_dir,\n",
    "    20, ds.neighbours,  # function args\n",
    "    label=\"numpy_filter\"\n",
    "    )"
   ]
  },
  {
   "cell_type": "code",
   "execution_count": 132,
   "metadata": {
    "ExecuteTime": {
     "end_time": "2020-05-14T09:20:12.936113Z",
     "start_time": "2020-05-14T09:20:12.913045Z"
    }
   },
   "outputs": [
    {
     "data": {
      "text/plain": [
       "<module 'snippets.fits' from '/home/janjoswig/CNN/tests/benchmark/snippets/fits.py'>"
      ]
     },
     "execution_count": 132,
     "metadata": {},
     "output_type": "execute_result"
    }
   ],
   "source": [
    "importlib.reload(fits)"
   ]
  },
  {
   "cell_type": "code",
   "execution_count": 129,
   "metadata": {
    "ExecuteTime": {
     "end_time": "2020-05-14T09:06:58.864939Z",
     "start_time": "2020-05-14T09:06:58.744883Z"
    }
   },
   "outputs": [
    {
     "data": {
      "application/vnd.jupyter.widget-view+json": {
       "model_id": "dc91ed8c4c8b408eb8185bb08e4b8ca4",
       "version_major": 2,
       "version_minor": 0
      },
      "text/plain": [
       "Canvas(toolbar=Toolbar(toolitems=[('Home', 'Reset original view', 'home', 'home'), ('Back', 'Back to previous …"
      ]
     },
     "metadata": {},
     "output_type": "display_data"
    }
   ],
   "source": [
    "plt.close(\"all\")\n",
    "fig, ax = plt.subplots()\n",
    "plot_data(ds.data, labels=np.asarray(fits.fit_numpy_from_neighbours_membercheck(20, ds.neighbours)), ax=ax, noise=0)\n",
    "plt.show()"
   ]
  },
  {
   "cell_type": "code",
   "execution_count": 131,
   "metadata": {
    "ExecuteTime": {
     "end_time": "2020-05-14T09:07:52.463530Z",
     "start_time": "2020-05-14T09:07:48.498782Z"
    }
   },
   "outputs": [
    {
     "name": "stdout",
     "output_type": "stream",
     "text": [
      "Length of labels:    2000\n",
      "Noise:               0\n",
      "Largest:             1000\n",
      "Clusters:            2\n",
      "\n",
      "*** Profile printout saved to text file 'reports/T460/fit_numpy_from_neighbours_membercheck_circles_2000_n0.5.lprun'. \n",
      "46.7 ms ± 4.34 ms per loop (mean ± std. dev. of 7 runs, 10 loops each)\n"
     ]
    }
   ],
   "source": [
    "# Implementation using numpy\n",
    "profile_fxn(\n",
    "    fits.fit_numpy_from_neighbours_membercheck,\n",
    "    ds, report_dir,\n",
    "    20, ds.neighbours,  # function args\n",
    "    label=\"numpy_filter\"\n",
    "    )"
   ]
  },
  {
   "cell_type": "code",
   "execution_count": 73,
   "metadata": {
    "ExecuteTime": {
     "end_time": "2020-05-12T16:37:21.000832Z",
     "start_time": "2020-05-12T16:37:20.958042Z"
    }
   },
   "outputs": [
    {
     "ename": "ValueError",
     "evalue": "Buffer dtype mismatch, expected 'npy_intp' but got 'double'",
     "output_type": "error",
     "traceback": [
      "\u001b[1;31m---------------------------------------------------------------------------\u001b[0m",
      "\u001b[1;31mValueError\u001b[0m                                Traceback (most recent call last)",
      "\u001b[1;32m<ipython-input-73-d8c72077d3b4>\u001b[0m in \u001b[0;36m<module>\u001b[1;34m\u001b[0m\n\u001b[0;32m      1\u001b[0m \u001b[1;31m# Implementation using cythonised numpy\u001b[0m\u001b[1;33m\u001b[0m\u001b[1;33m\u001b[0m\u001b[1;33m\u001b[0m\u001b[0m\n\u001b[1;32m----> 2\u001b[1;33m profile_fxn(\n\u001b[0m\u001b[0;32m      3\u001b[0m     \u001b[0mcfits\u001b[0m\u001b[1;33m.\u001b[0m\u001b[0mcfit_from_neighbours\u001b[0m\u001b[1;33m,\u001b[0m\u001b[1;33m\u001b[0m\u001b[1;33m\u001b[0m\u001b[0m\n\u001b[0;32m      4\u001b[0m     \u001b[0mds\u001b[0m\u001b[1;33m,\u001b[0m \u001b[0mreport_dir\u001b[0m\u001b[1;33m,\u001b[0m\u001b[1;33m\u001b[0m\u001b[1;33m\u001b[0m\u001b[0m\n\u001b[0;32m      5\u001b[0m     \u001b[1;36m1\u001b[0m\u001b[1;33m,\u001b[0m \u001b[0mds\u001b[0m\u001b[1;33m.\u001b[0m\u001b[0mneighbours\u001b[0m\u001b[1;33m,\u001b[0m  \u001b[1;31m# function args\u001b[0m\u001b[1;33m\u001b[0m\u001b[1;33m\u001b[0m\u001b[0m\n",
      "\u001b[1;32m<ipython-input-65-3b108bdce0ce>\u001b[0m in \u001b[0;36mprofile_fxn\u001b[1;34m(f, ds, report_dir, t, l, m, label, *args, **kwargs)\u001b[0m\n\u001b[0;32m     44\u001b[0m \u001b[1;33m\u001b[0m\u001b[0m\n\u001b[0;32m     45\u001b[0m     \u001b[1;31m# Validate function result\u001b[0m\u001b[1;33m\u001b[0m\u001b[1;33m\u001b[0m\u001b[1;33m\u001b[0m\u001b[0m\n\u001b[1;32m---> 46\u001b[1;33m     \u001b[0mresult\u001b[0m \u001b[1;33m=\u001b[0m \u001b[0mfxn\u001b[0m\u001b[1;33m(\u001b[0m\u001b[1;33m*\u001b[0m\u001b[0mfxn_args\u001b[0m\u001b[1;33m,\u001b[0m \u001b[1;33m**\u001b[0m\u001b[0mfxn_kwargs\u001b[0m\u001b[1;33m)\u001b[0m\u001b[1;33m\u001b[0m\u001b[1;33m\u001b[0m\u001b[0m\n\u001b[0m\u001b[0;32m     47\u001b[0m     \u001b[1;32mif\u001b[0m \u001b[0misinstance\u001b[0m\u001b[1;33m(\u001b[0m\u001b[0mresult\u001b[0m\u001b[1;33m,\u001b[0m \u001b[0mlist\u001b[0m\u001b[1;33m)\u001b[0m \u001b[1;32mand\u001b[0m \u001b[0misinstance\u001b[0m\u001b[1;33m(\u001b[0m\u001b[0mresult\u001b[0m\u001b[1;33m[\u001b[0m\u001b[1;36m0\u001b[0m\u001b[1;33m]\u001b[0m\u001b[1;33m,\u001b[0m \u001b[0mnp\u001b[0m\u001b[1;33m.\u001b[0m\u001b[0mndarray\u001b[0m\u001b[1;33m)\u001b[0m\u001b[1;33m:\u001b[0m\u001b[1;33m\u001b[0m\u001b[1;33m\u001b[0m\u001b[0m\n\u001b[0;32m     48\u001b[0m         \u001b[1;31m# Convert result if from original implementation\u001b[0m\u001b[1;33m\u001b[0m\u001b[1;33m\u001b[0m\u001b[1;33m\u001b[0m\u001b[0m\n",
      "\u001b[1;32m~/CNN/tests/benchmark/snippets/cfits.pyx\u001b[0m in \u001b[0;36mcfits.cfit_from_neighbours\u001b[1;34m()\u001b[0m\n",
      "\u001b[1;31mValueError\u001b[0m: Buffer dtype mismatch, expected 'npy_intp' but got 'double'"
     ]
    }
   ],
   "source": [
    "# Implementation using cythonised numpy\n",
    "profile_fxn(\n",
    "    cfits.cfit_from_neighbours,\n",
    "    ds, report_dir,\n",
    "    1, ds.neighbours,  # function args\n",
    "    label=\"cython_numpy_loop\",\n",
    "    l=False\n",
    "    )"
   ]
  },
  {
   "cell_type": "code",
   "execution_count": 34,
   "metadata": {
    "ExecuteTime": {
     "end_time": "2020-05-15T09:26:31.530988Z",
     "start_time": "2020-05-15T09:26:31.521665Z"
    }
   },
   "outputs": [
    {
     "name": "stdout",
     "output_type": "stream",
     "text": [
      "        std_cnn:   1.000\n"
     ]
    }
   ],
   "source": [
    "for x in ds.ratios():\n",
    "    print(f\"{x[0]:>15}: {x[1]:7.3f}\")"
   ]
  },
  {
   "cell_type": "markdown",
   "metadata": {},
   "source": [
    "#### Check in CNN class context"
   ]
  },
  {
   "cell_type": "code",
   "execution_count": 16,
   "metadata": {
    "ExecuteTime": {
     "end_time": "2020-05-26T08:15:54.189879Z",
     "start_time": "2020-05-26T08:15:51.524120Z"
    }
   },
   "outputs": [
    {
     "name": "stdout",
     "output_type": "stream",
     "text": [
      "\n",
      "*** Profile printout saved to text file 'reports/T460/fit_circles_2000_n0.5.lprun'. \n",
      "31.7 ms ± 447 µs per loop (mean ± std. dev. of 7 runs, 10 loops each)\n"
     ]
    }
   ],
   "source": [
    "cobj = cnn.CNN(neighbourhoods=cnn.NeighbourhoodsList(ds.neighbourhoods, 0.5))\n",
    "profile_fxn(\n",
    "    cobj.fit,\n",
    "    ds, report_dir,\n",
    "    0.5, 20,  # function args\n",
    "    label=\"std_cnn\",\n",
    "    rec=False\n",
    "    )"
   ]
  },
  {
   "cell_type": "code",
   "execution_count": 17,
   "metadata": {
    "ExecuteTime": {
     "end_time": "2020-05-26T08:16:11.896565Z",
     "start_time": "2020-05-26T08:16:11.880553Z"
    }
   },
   "outputs": [
    {
     "data": {
      "text/plain": [
       "Labels([1, 2, 2, ..., 1, 2, 2])"
      ]
     },
     "execution_count": 17,
     "metadata": {},
     "output_type": "execute_result"
    }
   ],
   "source": [
    "cobj.labels"
   ]
  },
  {
   "cell_type": "code",
   "execution_count": 27,
   "metadata": {
    "ExecuteTime": {
     "end_time": "2020-05-15T08:46:58.901004Z",
     "start_time": "2020-05-15T08:46:58.895828Z"
    }
   },
   "outputs": [
    {
     "data": {
      "text/plain": [
       "<module 'cfits' from '/home/janjoswig/CNN/cfits.cpython-38-x86_64-linux-gnu.so'>"
      ]
     },
     "execution_count": 27,
     "metadata": {},
     "output_type": "execute_result"
    }
   ],
   "source": [
    "importlib.reload(cfits)"
   ]
  },
  {
   "cell_type": "markdown",
   "metadata": {},
   "source": [
    "### From density graph"
   ]
  },
  {
   "cell_type": "markdown",
   "metadata": {},
   "source": [
    "#### From SparsegraphArray"
   ]
  },
  {
   "cell_type": "code",
   "execution_count": 17,
   "metadata": {
    "ExecuteTime": {
     "end_time": "2020-05-26T08:30:14.241174Z",
     "start_time": "2020-05-26T08:30:14.231270Z"
    }
   },
   "outputs": [
    {
     "data": {
      "text/plain": [
       "<module 'core._cfits' from '/home/janjoswig/CNN/core/_cfits.cpython-38-x86_64-linux-gnu.so'>"
      ]
     },
     "execution_count": 17,
     "metadata": {},
     "output_type": "execute_result"
    }
   ],
   "source": [
    "importlib.reload(cnn)\n",
    "importlib.reload(_cfits)"
   ]
  },
  {
   "cell_type": "code",
   "execution_count": 27,
   "metadata": {
    "ExecuteTime": {
     "end_time": "2020-05-26T08:30:41.948476Z",
     "start_time": "2020-05-26T08:30:40.072104Z"
    }
   },
   "outputs": [],
   "source": [
    "Graph = cnn.SparsegraphArray(*_cfits.NeighbourhoodsList2SparsegraphArray(ds.neighbourhoods, 20))"
   ]
  },
  {
   "cell_type": "code",
   "execution_count": 28,
   "metadata": {
    "ExecuteTime": {
     "end_time": "2020-05-26T08:30:43.299838Z",
     "start_time": "2020-05-26T08:30:43.296208Z"
    }
   },
   "outputs": [
    {
     "data": {
      "text/plain": [
       "2001"
      ]
     },
     "execution_count": 28,
     "metadata": {},
     "output_type": "execute_result"
    }
   ],
   "source": [
    "Graph._indices.shape[0]"
   ]
  },
  {
   "cell_type": "code",
   "execution_count": 32,
   "metadata": {
    "ExecuteTime": {
     "end_time": "2020-05-26T08:32:39.735687Z",
     "start_time": "2020-05-26T08:32:36.270983Z"
    }
   },
   "outputs": [
    {
     "name": "stdout",
     "output_type": "stream",
     "text": [
      "417 µs ± 9.54 µs per loop (mean ± std. dev. of 7 runs, 1000 loops each)\n"
     ]
    }
   ],
   "source": [
    "%timeit labels = cnn.Labels(_cfits.bfs_SparsegraphArray(Graph, Graph._indices))"
   ]
  },
  {
   "cell_type": "code",
   "execution_count": 31,
   "metadata": {
    "ExecuteTime": {
     "end_time": "2020-05-26T08:31:13.029070Z",
     "start_time": "2020-05-26T08:31:13.012730Z"
    }
   },
   "outputs": [
    {
     "data": {
      "text/plain": [
       "Labels([1, 2, 2, ..., 1, 2, 2])"
      ]
     },
     "execution_count": 31,
     "metadata": {},
     "output_type": "execute_result"
    }
   ],
   "source": [
    "labels"
   ]
  },
  {
   "cell_type": "markdown",
   "metadata": {},
   "source": [
    "## Control sequence creation"
   ]
  },
  {
   "cell_type": "code",
   "execution_count": 24,
   "metadata": {
    "ExecuteTime": {
     "end_time": "2020-05-27T14:20:46.606600Z",
     "start_time": "2020-05-27T14:20:39.735975Z"
    },
    "scrolled": false
   },
   "outputs": [
    {
     "data": {
      "text/html": [
       "<!DOCTYPE html>\n",
       "<!-- Generated by Cython 3.0a1 -->\n",
       "<html>\n",
       "<head>\n",
       "    <meta http-equiv=\"Content-Type\" content=\"text/html; charset=utf-8\" />\n",
       "    <title>Cython: _cython_magic_b260fcd6081488ba2de4e0de041254dd8d3df4b5.pyx</title>\n",
       "    <style type=\"text/css\">\n",
       "    \n",
       "body.cython { font-family: courier; font-size: 12; }\n",
       "\n",
       ".cython.tag  {  }\n",
       ".cython.line { margin: 0em }\n",
       ".cython.code { font-size: 9; color: #444444; display: none; margin: 0px 0px 0px 8px; border-left: 8px none; }\n",
       "\n",
       ".cython.line .run { background-color: #B0FFB0; }\n",
       ".cython.line .mis { background-color: #FFB0B0; }\n",
       ".cython.code.run  { border-left: 8px solid #B0FFB0; }\n",
       ".cython.code.mis  { border-left: 8px solid #FFB0B0; }\n",
       "\n",
       ".cython.code .py_c_api  { color: red; }\n",
       ".cython.code .py_macro_api  { color: #FF7000; }\n",
       ".cython.code .pyx_c_api  { color: #FF3000; }\n",
       ".cython.code .pyx_macro_api  { color: #FF7000; }\n",
       ".cython.code .refnanny  { color: #FFA000; }\n",
       ".cython.code .trace  { color: #FFA000; }\n",
       ".cython.code .error_goto  { color: #FFA000; }\n",
       "\n",
       ".cython.code .coerce  { color: #008000; border: 1px dotted #008000 }\n",
       ".cython.code .py_attr { color: #FF0000; font-weight: bold; }\n",
       ".cython.code .c_attr  { color: #0000FF; }\n",
       ".cython.code .py_call { color: #FF0000; font-weight: bold; }\n",
       ".cython.code .c_call  { color: #0000FF; }\n",
       "\n",
       ".cython.score-0 {background-color: #FFFFff;}\n",
       ".cython.score-1 {background-color: #FFFFe7;}\n",
       ".cython.score-2 {background-color: #FFFFd4;}\n",
       ".cython.score-3 {background-color: #FFFFc4;}\n",
       ".cython.score-4 {background-color: #FFFFb6;}\n",
       ".cython.score-5 {background-color: #FFFFaa;}\n",
       ".cython.score-6 {background-color: #FFFF9f;}\n",
       ".cython.score-7 {background-color: #FFFF96;}\n",
       ".cython.score-8 {background-color: #FFFF8d;}\n",
       ".cython.score-9 {background-color: #FFFF86;}\n",
       ".cython.score-10 {background-color: #FFFF7f;}\n",
       ".cython.score-11 {background-color: #FFFF79;}\n",
       ".cython.score-12 {background-color: #FFFF73;}\n",
       ".cython.score-13 {background-color: #FFFF6e;}\n",
       ".cython.score-14 {background-color: #FFFF6a;}\n",
       ".cython.score-15 {background-color: #FFFF66;}\n",
       ".cython.score-16 {background-color: #FFFF62;}\n",
       ".cython.score-17 {background-color: #FFFF5e;}\n",
       ".cython.score-18 {background-color: #FFFF5b;}\n",
       ".cython.score-19 {background-color: #FFFF57;}\n",
       ".cython.score-20 {background-color: #FFFF55;}\n",
       ".cython.score-21 {background-color: #FFFF52;}\n",
       ".cython.score-22 {background-color: #FFFF4f;}\n",
       ".cython.score-23 {background-color: #FFFF4d;}\n",
       ".cython.score-24 {background-color: #FFFF4b;}\n",
       ".cython.score-25 {background-color: #FFFF48;}\n",
       ".cython.score-26 {background-color: #FFFF46;}\n",
       ".cython.score-27 {background-color: #FFFF44;}\n",
       ".cython.score-28 {background-color: #FFFF43;}\n",
       ".cython.score-29 {background-color: #FFFF41;}\n",
       ".cython.score-30 {background-color: #FFFF3f;}\n",
       ".cython.score-31 {background-color: #FFFF3e;}\n",
       ".cython.score-32 {background-color: #FFFF3c;}\n",
       ".cython.score-33 {background-color: #FFFF3b;}\n",
       ".cython.score-34 {background-color: #FFFF39;}\n",
       ".cython.score-35 {background-color: #FFFF38;}\n",
       ".cython.score-36 {background-color: #FFFF37;}\n",
       ".cython.score-37 {background-color: #FFFF36;}\n",
       ".cython.score-38 {background-color: #FFFF35;}\n",
       ".cython.score-39 {background-color: #FFFF34;}\n",
       ".cython.score-40 {background-color: #FFFF33;}\n",
       ".cython.score-41 {background-color: #FFFF32;}\n",
       ".cython.score-42 {background-color: #FFFF31;}\n",
       ".cython.score-43 {background-color: #FFFF30;}\n",
       ".cython.score-44 {background-color: #FFFF2f;}\n",
       ".cython.score-45 {background-color: #FFFF2e;}\n",
       ".cython.score-46 {background-color: #FFFF2d;}\n",
       ".cython.score-47 {background-color: #FFFF2c;}\n",
       ".cython.score-48 {background-color: #FFFF2b;}\n",
       ".cython.score-49 {background-color: #FFFF2b;}\n",
       ".cython.score-50 {background-color: #FFFF2a;}\n",
       ".cython.score-51 {background-color: #FFFF29;}\n",
       ".cython.score-52 {background-color: #FFFF29;}\n",
       ".cython.score-53 {background-color: #FFFF28;}\n",
       ".cython.score-54 {background-color: #FFFF27;}\n",
       ".cython.score-55 {background-color: #FFFF27;}\n",
       ".cython.score-56 {background-color: #FFFF26;}\n",
       ".cython.score-57 {background-color: #FFFF26;}\n",
       ".cython.score-58 {background-color: #FFFF25;}\n",
       ".cython.score-59 {background-color: #FFFF24;}\n",
       ".cython.score-60 {background-color: #FFFF24;}\n",
       ".cython.score-61 {background-color: #FFFF23;}\n",
       ".cython.score-62 {background-color: #FFFF23;}\n",
       ".cython.score-63 {background-color: #FFFF22;}\n",
       ".cython.score-64 {background-color: #FFFF22;}\n",
       ".cython.score-65 {background-color: #FFFF22;}\n",
       ".cython.score-66 {background-color: #FFFF21;}\n",
       ".cython.score-67 {background-color: #FFFF21;}\n",
       ".cython.score-68 {background-color: #FFFF20;}\n",
       ".cython.score-69 {background-color: #FFFF20;}\n",
       ".cython.score-70 {background-color: #FFFF1f;}\n",
       ".cython.score-71 {background-color: #FFFF1f;}\n",
       ".cython.score-72 {background-color: #FFFF1f;}\n",
       ".cython.score-73 {background-color: #FFFF1e;}\n",
       ".cython.score-74 {background-color: #FFFF1e;}\n",
       ".cython.score-75 {background-color: #FFFF1e;}\n",
       ".cython.score-76 {background-color: #FFFF1d;}\n",
       ".cython.score-77 {background-color: #FFFF1d;}\n",
       ".cython.score-78 {background-color: #FFFF1c;}\n",
       ".cython.score-79 {background-color: #FFFF1c;}\n",
       ".cython.score-80 {background-color: #FFFF1c;}\n",
       ".cython.score-81 {background-color: #FFFF1c;}\n",
       ".cython.score-82 {background-color: #FFFF1b;}\n",
       ".cython.score-83 {background-color: #FFFF1b;}\n",
       ".cython.score-84 {background-color: #FFFF1b;}\n",
       ".cython.score-85 {background-color: #FFFF1a;}\n",
       ".cython.score-86 {background-color: #FFFF1a;}\n",
       ".cython.score-87 {background-color: #FFFF1a;}\n",
       ".cython.score-88 {background-color: #FFFF1a;}\n",
       ".cython.score-89 {background-color: #FFFF19;}\n",
       ".cython.score-90 {background-color: #FFFF19;}\n",
       ".cython.score-91 {background-color: #FFFF19;}\n",
       ".cython.score-92 {background-color: #FFFF19;}\n",
       ".cython.score-93 {background-color: #FFFF18;}\n",
       ".cython.score-94 {background-color: #FFFF18;}\n",
       ".cython.score-95 {background-color: #FFFF18;}\n",
       ".cython.score-96 {background-color: #FFFF18;}\n",
       ".cython.score-97 {background-color: #FFFF17;}\n",
       ".cython.score-98 {background-color: #FFFF17;}\n",
       ".cython.score-99 {background-color: #FFFF17;}\n",
       ".cython.score-100 {background-color: #FFFF17;}\n",
       ".cython.score-101 {background-color: #FFFF16;}\n",
       ".cython.score-102 {background-color: #FFFF16;}\n",
       ".cython.score-103 {background-color: #FFFF16;}\n",
       ".cython.score-104 {background-color: #FFFF16;}\n",
       ".cython.score-105 {background-color: #FFFF16;}\n",
       ".cython.score-106 {background-color: #FFFF15;}\n",
       ".cython.score-107 {background-color: #FFFF15;}\n",
       ".cython.score-108 {background-color: #FFFF15;}\n",
       ".cython.score-109 {background-color: #FFFF15;}\n",
       ".cython.score-110 {background-color: #FFFF15;}\n",
       ".cython.score-111 {background-color: #FFFF15;}\n",
       ".cython.score-112 {background-color: #FFFF14;}\n",
       ".cython.score-113 {background-color: #FFFF14;}\n",
       ".cython.score-114 {background-color: #FFFF14;}\n",
       ".cython.score-115 {background-color: #FFFF14;}\n",
       ".cython.score-116 {background-color: #FFFF14;}\n",
       ".cython.score-117 {background-color: #FFFF14;}\n",
       ".cython.score-118 {background-color: #FFFF13;}\n",
       ".cython.score-119 {background-color: #FFFF13;}\n",
       ".cython.score-120 {background-color: #FFFF13;}\n",
       ".cython.score-121 {background-color: #FFFF13;}\n",
       ".cython.score-122 {background-color: #FFFF13;}\n",
       ".cython.score-123 {background-color: #FFFF13;}\n",
       ".cython.score-124 {background-color: #FFFF13;}\n",
       ".cython.score-125 {background-color: #FFFF12;}\n",
       ".cython.score-126 {background-color: #FFFF12;}\n",
       ".cython.score-127 {background-color: #FFFF12;}\n",
       ".cython.score-128 {background-color: #FFFF12;}\n",
       ".cython.score-129 {background-color: #FFFF12;}\n",
       ".cython.score-130 {background-color: #FFFF12;}\n",
       ".cython.score-131 {background-color: #FFFF12;}\n",
       ".cython.score-132 {background-color: #FFFF11;}\n",
       ".cython.score-133 {background-color: #FFFF11;}\n",
       ".cython.score-134 {background-color: #FFFF11;}\n",
       ".cython.score-135 {background-color: #FFFF11;}\n",
       ".cython.score-136 {background-color: #FFFF11;}\n",
       ".cython.score-137 {background-color: #FFFF11;}\n",
       ".cython.score-138 {background-color: #FFFF11;}\n",
       ".cython.score-139 {background-color: #FFFF11;}\n",
       ".cython.score-140 {background-color: #FFFF11;}\n",
       ".cython.score-141 {background-color: #FFFF10;}\n",
       ".cython.score-142 {background-color: #FFFF10;}\n",
       ".cython.score-143 {background-color: #FFFF10;}\n",
       ".cython.score-144 {background-color: #FFFF10;}\n",
       ".cython.score-145 {background-color: #FFFF10;}\n",
       ".cython.score-146 {background-color: #FFFF10;}\n",
       ".cython.score-147 {background-color: #FFFF10;}\n",
       ".cython.score-148 {background-color: #FFFF10;}\n",
       ".cython.score-149 {background-color: #FFFF10;}\n",
       ".cython.score-150 {background-color: #FFFF0f;}\n",
       ".cython.score-151 {background-color: #FFFF0f;}\n",
       ".cython.score-152 {background-color: #FFFF0f;}\n",
       ".cython.score-153 {background-color: #FFFF0f;}\n",
       ".cython.score-154 {background-color: #FFFF0f;}\n",
       ".cython.score-155 {background-color: #FFFF0f;}\n",
       ".cython.score-156 {background-color: #FFFF0f;}\n",
       ".cython.score-157 {background-color: #FFFF0f;}\n",
       ".cython.score-158 {background-color: #FFFF0f;}\n",
       ".cython.score-159 {background-color: #FFFF0f;}\n",
       ".cython.score-160 {background-color: #FFFF0f;}\n",
       ".cython.score-161 {background-color: #FFFF0e;}\n",
       ".cython.score-162 {background-color: #FFFF0e;}\n",
       ".cython.score-163 {background-color: #FFFF0e;}\n",
       ".cython.score-164 {background-color: #FFFF0e;}\n",
       ".cython.score-165 {background-color: #FFFF0e;}\n",
       ".cython.score-166 {background-color: #FFFF0e;}\n",
       ".cython.score-167 {background-color: #FFFF0e;}\n",
       ".cython.score-168 {background-color: #FFFF0e;}\n",
       ".cython.score-169 {background-color: #FFFF0e;}\n",
       ".cython.score-170 {background-color: #FFFF0e;}\n",
       ".cython.score-171 {background-color: #FFFF0e;}\n",
       ".cython.score-172 {background-color: #FFFF0e;}\n",
       ".cython.score-173 {background-color: #FFFF0d;}\n",
       ".cython.score-174 {background-color: #FFFF0d;}\n",
       ".cython.score-175 {background-color: #FFFF0d;}\n",
       ".cython.score-176 {background-color: #FFFF0d;}\n",
       ".cython.score-177 {background-color: #FFFF0d;}\n",
       ".cython.score-178 {background-color: #FFFF0d;}\n",
       ".cython.score-179 {background-color: #FFFF0d;}\n",
       ".cython.score-180 {background-color: #FFFF0d;}\n",
       ".cython.score-181 {background-color: #FFFF0d;}\n",
       ".cython.score-182 {background-color: #FFFF0d;}\n",
       ".cython.score-183 {background-color: #FFFF0d;}\n",
       ".cython.score-184 {background-color: #FFFF0d;}\n",
       ".cython.score-185 {background-color: #FFFF0d;}\n",
       ".cython.score-186 {background-color: #FFFF0d;}\n",
       ".cython.score-187 {background-color: #FFFF0c;}\n",
       ".cython.score-188 {background-color: #FFFF0c;}\n",
       ".cython.score-189 {background-color: #FFFF0c;}\n",
       ".cython.score-190 {background-color: #FFFF0c;}\n",
       ".cython.score-191 {background-color: #FFFF0c;}\n",
       ".cython.score-192 {background-color: #FFFF0c;}\n",
       ".cython.score-193 {background-color: #FFFF0c;}\n",
       ".cython.score-194 {background-color: #FFFF0c;}\n",
       ".cython.score-195 {background-color: #FFFF0c;}\n",
       ".cython.score-196 {background-color: #FFFF0c;}\n",
       ".cython.score-197 {background-color: #FFFF0c;}\n",
       ".cython.score-198 {background-color: #FFFF0c;}\n",
       ".cython.score-199 {background-color: #FFFF0c;}\n",
       ".cython.score-200 {background-color: #FFFF0c;}\n",
       ".cython.score-201 {background-color: #FFFF0c;}\n",
       ".cython.score-202 {background-color: #FFFF0c;}\n",
       ".cython.score-203 {background-color: #FFFF0b;}\n",
       ".cython.score-204 {background-color: #FFFF0b;}\n",
       ".cython.score-205 {background-color: #FFFF0b;}\n",
       ".cython.score-206 {background-color: #FFFF0b;}\n",
       ".cython.score-207 {background-color: #FFFF0b;}\n",
       ".cython.score-208 {background-color: #FFFF0b;}\n",
       ".cython.score-209 {background-color: #FFFF0b;}\n",
       ".cython.score-210 {background-color: #FFFF0b;}\n",
       ".cython.score-211 {background-color: #FFFF0b;}\n",
       ".cython.score-212 {background-color: #FFFF0b;}\n",
       ".cython.score-213 {background-color: #FFFF0b;}\n",
       ".cython.score-214 {background-color: #FFFF0b;}\n",
       ".cython.score-215 {background-color: #FFFF0b;}\n",
       ".cython.score-216 {background-color: #FFFF0b;}\n",
       ".cython.score-217 {background-color: #FFFF0b;}\n",
       ".cython.score-218 {background-color: #FFFF0b;}\n",
       ".cython.score-219 {background-color: #FFFF0b;}\n",
       ".cython.score-220 {background-color: #FFFF0b;}\n",
       ".cython.score-221 {background-color: #FFFF0b;}\n",
       ".cython.score-222 {background-color: #FFFF0a;}\n",
       ".cython.score-223 {background-color: #FFFF0a;}\n",
       ".cython.score-224 {background-color: #FFFF0a;}\n",
       ".cython.score-225 {background-color: #FFFF0a;}\n",
       ".cython.score-226 {background-color: #FFFF0a;}\n",
       ".cython.score-227 {background-color: #FFFF0a;}\n",
       ".cython.score-228 {background-color: #FFFF0a;}\n",
       ".cython.score-229 {background-color: #FFFF0a;}\n",
       ".cython.score-230 {background-color: #FFFF0a;}\n",
       ".cython.score-231 {background-color: #FFFF0a;}\n",
       ".cython.score-232 {background-color: #FFFF0a;}\n",
       ".cython.score-233 {background-color: #FFFF0a;}\n",
       ".cython.score-234 {background-color: #FFFF0a;}\n",
       ".cython.score-235 {background-color: #FFFF0a;}\n",
       ".cython.score-236 {background-color: #FFFF0a;}\n",
       ".cython.score-237 {background-color: #FFFF0a;}\n",
       ".cython.score-238 {background-color: #FFFF0a;}\n",
       ".cython.score-239 {background-color: #FFFF0a;}\n",
       ".cython.score-240 {background-color: #FFFF0a;}\n",
       ".cython.score-241 {background-color: #FFFF0a;}\n",
       ".cython.score-242 {background-color: #FFFF0a;}\n",
       ".cython.score-243 {background-color: #FFFF0a;}\n",
       ".cython.score-244 {background-color: #FFFF0a;}\n",
       ".cython.score-245 {background-color: #FFFF0a;}\n",
       ".cython.score-246 {background-color: #FFFF09;}\n",
       ".cython.score-247 {background-color: #FFFF09;}\n",
       ".cython.score-248 {background-color: #FFFF09;}\n",
       ".cython.score-249 {background-color: #FFFF09;}\n",
       ".cython.score-250 {background-color: #FFFF09;}\n",
       ".cython.score-251 {background-color: #FFFF09;}\n",
       ".cython.score-252 {background-color: #FFFF09;}\n",
       ".cython.score-253 {background-color: #FFFF09;}\n",
       ".cython.score-254 {background-color: #FFFF09;}\n",
       ".cython .hll { background-color: #ffffcc }\n",
       ".cython  { background: #f8f8f8; }\n",
       ".cython .c { color: #408080; font-style: italic } /* Comment */\n",
       ".cython .err { border: 1px solid #FF0000 } /* Error */\n",
       ".cython .k { color: #008000; font-weight: bold } /* Keyword */\n",
       ".cython .o { color: #666666 } /* Operator */\n",
       ".cython .ch { color: #408080; font-style: italic } /* Comment.Hashbang */\n",
       ".cython .cm { color: #408080; font-style: italic } /* Comment.Multiline */\n",
       ".cython .cp { color: #BC7A00 } /* Comment.Preproc */\n",
       ".cython .cpf { color: #408080; font-style: italic } /* Comment.PreprocFile */\n",
       ".cython .c1 { color: #408080; font-style: italic } /* Comment.Single */\n",
       ".cython .cs { color: #408080; font-style: italic } /* Comment.Special */\n",
       ".cython .gd { color: #A00000 } /* Generic.Deleted */\n",
       ".cython .ge { font-style: italic } /* Generic.Emph */\n",
       ".cython .gr { color: #FF0000 } /* Generic.Error */\n",
       ".cython .gh { color: #000080; font-weight: bold } /* Generic.Heading */\n",
       ".cython .gi { color: #00A000 } /* Generic.Inserted */\n",
       ".cython .go { color: #888888 } /* Generic.Output */\n",
       ".cython .gp { color: #000080; font-weight: bold } /* Generic.Prompt */\n",
       ".cython .gs { font-weight: bold } /* Generic.Strong */\n",
       ".cython .gu { color: #800080; font-weight: bold } /* Generic.Subheading */\n",
       ".cython .gt { color: #0044DD } /* Generic.Traceback */\n",
       ".cython .kc { color: #008000; font-weight: bold } /* Keyword.Constant */\n",
       ".cython .kd { color: #008000; font-weight: bold } /* Keyword.Declaration */\n",
       ".cython .kn { color: #008000; font-weight: bold } /* Keyword.Namespace */\n",
       ".cython .kp { color: #008000 } /* Keyword.Pseudo */\n",
       ".cython .kr { color: #008000; font-weight: bold } /* Keyword.Reserved */\n",
       ".cython .kt { color: #B00040 } /* Keyword.Type */\n",
       ".cython .m { color: #666666 } /* Literal.Number */\n",
       ".cython .s { color: #BA2121 } /* Literal.String */\n",
       ".cython .na { color: #7D9029 } /* Name.Attribute */\n",
       ".cython .nb { color: #008000 } /* Name.Builtin */\n",
       ".cython .nc { color: #0000FF; font-weight: bold } /* Name.Class */\n",
       ".cython .no { color: #880000 } /* Name.Constant */\n",
       ".cython .nd { color: #AA22FF } /* Name.Decorator */\n",
       ".cython .ni { color: #999999; font-weight: bold } /* Name.Entity */\n",
       ".cython .ne { color: #D2413A; font-weight: bold } /* Name.Exception */\n",
       ".cython .nf { color: #0000FF } /* Name.Function */\n",
       ".cython .nl { color: #A0A000 } /* Name.Label */\n",
       ".cython .nn { color: #0000FF; font-weight: bold } /* Name.Namespace */\n",
       ".cython .nt { color: #008000; font-weight: bold } /* Name.Tag */\n",
       ".cython .nv { color: #19177C } /* Name.Variable */\n",
       ".cython .ow { color: #AA22FF; font-weight: bold } /* Operator.Word */\n",
       ".cython .w { color: #bbbbbb } /* Text.Whitespace */\n",
       ".cython .mb { color: #666666 } /* Literal.Number.Bin */\n",
       ".cython .mf { color: #666666 } /* Literal.Number.Float */\n",
       ".cython .mh { color: #666666 } /* Literal.Number.Hex */\n",
       ".cython .mi { color: #666666 } /* Literal.Number.Integer */\n",
       ".cython .mo { color: #666666 } /* Literal.Number.Oct */\n",
       ".cython .sa { color: #BA2121 } /* Literal.String.Affix */\n",
       ".cython .sb { color: #BA2121 } /* Literal.String.Backtick */\n",
       ".cython .sc { color: #BA2121 } /* Literal.String.Char */\n",
       ".cython .dl { color: #BA2121 } /* Literal.String.Delimiter */\n",
       ".cython .sd { color: #BA2121; font-style: italic } /* Literal.String.Doc */\n",
       ".cython .s2 { color: #BA2121 } /* Literal.String.Double */\n",
       ".cython .se { color: #BB6622; font-weight: bold } /* Literal.String.Escape */\n",
       ".cython .sh { color: #BA2121 } /* Literal.String.Heredoc */\n",
       ".cython .si { color: #BB6688; font-weight: bold } /* Literal.String.Interpol */\n",
       ".cython .sx { color: #008000 } /* Literal.String.Other */\n",
       ".cython .sr { color: #BB6688 } /* Literal.String.Regex */\n",
       ".cython .s1 { color: #BA2121 } /* Literal.String.Single */\n",
       ".cython .ss { color: #19177C } /* Literal.String.Symbol */\n",
       ".cython .bp { color: #008000 } /* Name.Builtin.Pseudo */\n",
       ".cython .fm { color: #0000FF } /* Name.Function.Magic */\n",
       ".cython .vc { color: #19177C } /* Name.Variable.Class */\n",
       ".cython .vg { color: #19177C } /* Name.Variable.Global */\n",
       ".cython .vi { color: #19177C } /* Name.Variable.Instance */\n",
       ".cython .vm { color: #19177C } /* Name.Variable.Magic */\n",
       ".cython .il { color: #666666 } /* Literal.Number.Integer.Long */\n",
       "    </style>\n",
       "</head>\n",
       "<body class=\"cython\">\n",
       "<p><span style=\"border-bottom: solid 1px grey;\">Generated by Cython 3.0a1</span></p>\n",
       "<p>\n",
       "    <span style=\"background-color: #FFFF00\">Yellow lines</span> hint at Python interaction.<br />\n",
       "    Click on a line that starts with a \"<code>+</code>\" to see the C code that Cython generated for it.\n",
       "</p>\n",
       "<div class=\"cython\"><pre class=\"cython line score-0\">&#xA0;<span class=\"\">01</span>: </pre>\n",
       "<pre class=\"cython line score-14\" onclick=\"(function(s){s.display=s.display==='block'?'none':'block'})(this.nextElementSibling.style)\">+<span class=\"\">02</span>: <span class=\"c\"># distutils: extra_compile_args = -fopenmp</span></pre>\n",
       "<pre class='cython code score-14 '>    __pyx_t_1 = <span class='pyx_c_api'>__Pyx_PyDict_NewPresized</span>(0);<span class='error_goto'> if (unlikely(!__pyx_t_1)) __PYX_ERR(0, 2, __pyx_L1_error)</span>\n",
       "    <span class='refnanny'>__Pyx_GOTREF</span>(__pyx_t_1);\n",
       "    #if CYTHON_COMPILING_IN_LIMITED_API\n",
       "    <span class='pyx_macro_api'>__Pyx_INCREF</span>(__pyx_t_1);\n",
       "    if (<span class='py_c_api'>PyModule_AddObject</span>(__pyx_m, __pyx_k_test, __pyx_t_1) &lt; 0) <span class='error_goto'>__PYX_ERR(0, 2, __pyx_L1_error)</span>\n",
       "    #else\n",
       "    if (<span class='py_c_api'>PyDict_SetItem</span>(__pyx_d, __pyx_n_s_test, __pyx_t_1) &lt; 0) <span class='error_goto'>__PYX_ERR(0, 2, __pyx_L1_error)</span>\n",
       "    #endif\n",
       "    <span class='pyx_macro_api'>__Pyx_DECREF</span>(__pyx_t_1); __pyx_t_1 = 0;\n",
       "</pre><pre class=\"cython line score-0\">&#xA0;<span class=\"\">03</span>: <span class=\"c\"># distutils: extra_link_args = -fopenmp</span></pre>\n",
       "<pre class=\"cython line score-0\">&#xA0;<span class=\"\">04</span>: <span class=\"c\"># distutils: language = c++</span></pre>\n",
       "<pre class=\"cython line score-0\">&#xA0;<span class=\"\">05</span>: <span class=\"c\"># cython: boundscheck = False</span></pre>\n",
       "<pre class=\"cython line score-0\">&#xA0;<span class=\"\">06</span>: <span class=\"c\"># cython: wraparound = False</span></pre>\n",
       "<pre class=\"cython line score-0\">&#xA0;<span class=\"\">07</span>: </pre>\n",
       "<pre class=\"cython line score-0\">&#xA0;<span class=\"\">08</span>: <span class=\"k\">from</span> <span class=\"nn\">cython.parallel</span> <span class=\"k\">cimport</span> <span class=\"n\">prange</span></pre>\n",
       "<pre class=\"cython line score-0\">&#xA0;<span class=\"\">09</span>: <span class=\"k\">from</span> <span class=\"nn\">libcpp.vector</span> <span class=\"k\">cimport</span> <span class=\"n\">vector</span></pre>\n",
       "<pre class=\"cython line score-14\" onclick=\"(function(s){s.display=s.display==='block'?'none':'block'})(this.nextElementSibling.style)\">+<span class=\"\">10</span>: <span class=\"k\">import</span> <span class=\"nn\">numpy</span> <span class=\"k\">as</span> <span class=\"nn\">np</span></pre>\n",
       "<pre class='cython code score-14 '>    __pyx_t_1 = <span class='pyx_c_api'>__Pyx_ImportDottedModule</span>(__pyx_n_s_numpy, NULL);<span class='error_goto'> if (unlikely(!__pyx_t_1)) __PYX_ERR(0, 10, __pyx_L1_error)</span>\n",
       "    <span class='refnanny'>__Pyx_GOTREF</span>(__pyx_t_1);\n",
       "    #if CYTHON_COMPILING_IN_LIMITED_API\n",
       "    <span class='pyx_macro_api'>__Pyx_INCREF</span>(__pyx_t_1);\n",
       "    if (<span class='py_c_api'>PyModule_AddObject</span>(__pyx_m, __pyx_k_np, __pyx_t_1) &lt; 0) <span class='error_goto'>__PYX_ERR(0, 10, __pyx_L1_error)</span>\n",
       "    #else\n",
       "    if (<span class='py_c_api'>PyDict_SetItem</span>(__pyx_d, __pyx_n_s_np, __pyx_t_1) &lt; 0) <span class='error_goto'>__PYX_ERR(0, 10, __pyx_L1_error)</span>\n",
       "    #endif\n",
       "    <span class='pyx_macro_api'>__Pyx_DECREF</span>(__pyx_t_1); __pyx_t_1 = 0;\n",
       "</pre><pre class=\"cython line score-0\">&#xA0;<span class=\"\">11</span>: <span class=\"k\">cimport</span> <span class=\"nn\">numpy</span> <span class=\"k\">as</span> <span class=\"nn\">np</span></pre>\n",
       "<pre class=\"cython line score-0\">&#xA0;<span class=\"\">12</span>: </pre>\n",
       "<pre class=\"cython line score-0\">&#xA0;<span class=\"\">13</span>: </pre>\n",
       "<pre class=\"cython line score-51\" onclick=\"(function(s){s.display=s.display==='block'?'none':'block'})(this.nextElementSibling.style)\">+<span class=\"\">14</span>: <span class=\"k\">cpdef</span> <span class=\"kt\">void</span> <span class=\"nf\">make_nparray</span><span class=\"p\">(</span><span class=\"n\">np</span><span class=\"o\">.</span><span class=\"n\">intp_t</span> <span class=\"n\">n</span><span class=\"p\">):</span></pre>\n",
       "<pre class='cython code score-51 '>static PyObject *__pyx_pw_54_cython_magic_b260fcd6081488ba2de4e0de041254dd8d3df4b5_1make_nparray(PyObject *__pyx_self, PyObject *__pyx_arg_n); /*proto*/\n",
       "static void __pyx_f_54_cython_magic_b260fcd6081488ba2de4e0de041254dd8d3df4b5_make_nparray(__pyx_t_5numpy_intp_t __pyx_v_n, CYTHON_UNUSED int __pyx_skip_dispatch) {\n",
       "  CYTHON_UNUSED __Pyx_memviewslice __pyx_v_a = { 0, 0, { 0 }, { 0 }, { 0 } };\n",
       "  <span class='refnanny'>__Pyx_RefNannyDeclarations</span>\n",
       "  <span class='refnanny'>__Pyx_RefNannySetupContext</span>(\"make_nparray\", 0);\n",
       "/* … */\n",
       "  /* function exit code */\n",
       "  goto __pyx_L0;\n",
       "  __pyx_L1_error:;\n",
       "  <span class='pyx_macro_api'>__Pyx_XDECREF</span>(__pyx_t_1);\n",
       "  <span class='pyx_macro_api'>__Pyx_XDECREF</span>(__pyx_t_2);\n",
       "  <span class='pyx_macro_api'>__Pyx_XDECREF</span>(__pyx_t_3);\n",
       "  <span class='pyx_macro_api'>__Pyx_XDECREF</span>(__pyx_t_4);\n",
       "  <span class='pyx_macro_api'>__Pyx_XDECREF</span>(__pyx_t_5);\n",
       "  __PYX_XDEC_MEMVIEW(&amp;__pyx_t_6, 1);\n",
       "  <span class='pyx_c_api'>__Pyx_WriteUnraisable</span>(\"_cython_magic_b260fcd6081488ba2de4e0de041254dd8d3df4b5.make_nparray\", __pyx_clineno, __pyx_lineno, __pyx_filename, 1, 0);\n",
       "  __pyx_L0:;\n",
       "  __PYX_XDEC_MEMVIEW(&amp;__pyx_v_a, 1);\n",
       "  <span class='refnanny'>__Pyx_RefNannyFinishContext</span>();\n",
       "}\n",
       "\n",
       "/* Python wrapper */\n",
       "static PyObject *__pyx_pw_54_cython_magic_b260fcd6081488ba2de4e0de041254dd8d3df4b5_1make_nparray(PyObject *__pyx_self, PyObject *__pyx_arg_n); /*proto*/\n",
       "static PyMethodDef __pyx_mdef_54_cython_magic_b260fcd6081488ba2de4e0de041254dd8d3df4b5_1make_nparray = {\"make_nparray\", (PyCFunction)__pyx_pw_54_cython_magic_b260fcd6081488ba2de4e0de041254dd8d3df4b5_1make_nparray, METH_O, 0};\n",
       "static PyObject *__pyx_pw_54_cython_magic_b260fcd6081488ba2de4e0de041254dd8d3df4b5_1make_nparray(PyObject *__pyx_self, PyObject *__pyx_arg_n) {\n",
       "  __pyx_t_5numpy_intp_t __pyx_v_n;\n",
       "  CYTHON_UNUSED PyObject *const *__pyx_kwvalues = <span class='pyx_c_api'>__Pyx_KwValues_VARARGS</span>(__pyx_args, __pyx_nargs);\n",
       "  PyObject *__pyx_r = 0;\n",
       "  <span class='refnanny'>__Pyx_RefNannyDeclarations</span>\n",
       "  <span class='refnanny'>__Pyx_RefNannySetupContext</span>(\"make_nparray (wrapper)\", 0);\n",
       "  assert(__pyx_arg_n); {\n",
       "    __pyx_v_n = <span class='pyx_c_api'>__Pyx_PyInt_As_Py_intptr_t</span>(__pyx_arg_n); if (unlikely((__pyx_v_n == ((npy_intp)-1)) &amp;&amp; <span class='py_c_api'>PyErr_Occurred</span>())) <span class='error_goto'>__PYX_ERR(0, 14, __pyx_L3_error)</span>\n",
       "  }\n",
       "  goto __pyx_L4_argument_unpacking_done;\n",
       "  __pyx_L3_error:;\n",
       "  <span class='pyx_c_api'>__Pyx_AddTraceback</span>(\"_cython_magic_b260fcd6081488ba2de4e0de041254dd8d3df4b5.make_nparray\", __pyx_clineno, __pyx_lineno, __pyx_filename);\n",
       "  <span class='refnanny'>__Pyx_RefNannyFinishContext</span>();\n",
       "  return NULL;\n",
       "  __pyx_L4_argument_unpacking_done:;\n",
       "  __pyx_r = __pyx_pf_54_cython_magic_b260fcd6081488ba2de4e0de041254dd8d3df4b5_make_nparray(__pyx_self, ((__pyx_t_5numpy_intp_t)__pyx_v_n));\n",
       "\n",
       "  /* function exit code */\n",
       "  <span class='refnanny'>__Pyx_RefNannyFinishContext</span>();\n",
       "  return __pyx_r;\n",
       "}\n",
       "\n",
       "static PyObject *__pyx_pf_54_cython_magic_b260fcd6081488ba2de4e0de041254dd8d3df4b5_make_nparray(CYTHON_UNUSED PyObject *__pyx_self, __pyx_t_5numpy_intp_t __pyx_v_n) {\n",
       "  PyObject *__pyx_r = NULL;\n",
       "  <span class='refnanny'>__Pyx_RefNannyDeclarations</span>\n",
       "  <span class='refnanny'>__Pyx_RefNannySetupContext</span>(\"make_nparray\", 0);\n",
       "  <span class='pyx_macro_api'>__Pyx_XDECREF</span>(__pyx_r);\n",
       "  __pyx_t_1 = __Pyx_void_to_None(__pyx_f_54_cython_magic_b260fcd6081488ba2de4e0de041254dd8d3df4b5_make_nparray(__pyx_v_n, 0));<span class='error_goto'> if (unlikely(!__pyx_t_1)) __PYX_ERR(0, 14, __pyx_L1_error)</span>\n",
       "  <span class='refnanny'>__Pyx_GOTREF</span>(__pyx_t_1);\n",
       "  __pyx_r = __pyx_t_1;\n",
       "  __pyx_t_1 = 0;\n",
       "  goto __pyx_L0;\n",
       "\n",
       "  /* function exit code */\n",
       "  __pyx_L1_error:;\n",
       "  <span class='pyx_macro_api'>__Pyx_XDECREF</span>(__pyx_t_1);\n",
       "  <span class='pyx_c_api'>__Pyx_AddTraceback</span>(\"_cython_magic_b260fcd6081488ba2de4e0de041254dd8d3df4b5.make_nparray\", __pyx_clineno, __pyx_lineno, __pyx_filename);\n",
       "  __pyx_r = NULL;\n",
       "  __pyx_L0:;\n",
       "  <span class='refnanny'>__Pyx_XGIVEREF</span>(__pyx_r);\n",
       "  <span class='refnanny'>__Pyx_RefNannyFinishContext</span>();\n",
       "  return __pyx_r;\n",
       "}\n",
       "/* … */\n",
       "  __pyx_tuple__25 = <span class='py_c_api'>PyTuple_Pack</span>(2, __pyx_n_s_n, __pyx_n_s_n);<span class='error_goto'> if (unlikely(!__pyx_tuple__25)) __PYX_ERR(0, 14, __pyx_L1_error)</span>\n",
       "  <span class='refnanny'>__Pyx_GOTREF</span>(__pyx_tuple__25);\n",
       "  <span class='refnanny'>__Pyx_GIVEREF</span>(__pyx_tuple__25);\n",
       "/* … */\n",
       "    #if CYTHON_COMPILING_IN_LIMITED_API\n",
       "    __pyx_t_2 = <span class='py_c_api'>PyDict_New</span>();<span class='error_goto'> if (unlikely(!__pyx_t_2)) __PYX_ERR(0, 14, __pyx_L1_error)</span>\n",
       "    <span class='refnanny'>__Pyx_GOTREF</span>(__pyx_t_2);\n",
       "    __pyx_t_1 = <span class='pyx_c_api'>__Pyx_CyFunction_New</span>(&amp;__pyx_mdef_54_cython_magic_b260fcd6081488ba2de4e0de041254dd8d3df4b5_1make_nparray, 0, __pyx_n_s_make_nparray, NULL, __pyx_n_s_cython_magic_b260fcd6081488ba2d, __pyx_t_2, ((PyObject *)__pyx_codeobj__26));<span class='error_goto'> if (unlikely(!__pyx_t_1)) __PYX_ERR(0, 14, __pyx_L1_error)</span>\n",
       "    <span class='pyx_macro_api'>__Pyx_DECREF</span>(__pyx_t_2); __pyx_t_2 = 0;\n",
       "    #else\n",
       "    __pyx_t_1 = <span class='pyx_c_api'>__Pyx_CyFunction_New</span>(&amp;__pyx_mdef_54_cython_magic_b260fcd6081488ba2de4e0de041254dd8d3df4b5_1make_nparray, 0, __pyx_n_s_make_nparray, NULL, __pyx_n_s_cython_magic_b260fcd6081488ba2d, __pyx_d, ((PyObject *)__pyx_codeobj__26));<span class='error_goto'> if (unlikely(!__pyx_t_1)) __PYX_ERR(0, 14, __pyx_L1_error)</span>\n",
       "    #endif\n",
       "    <span class='refnanny'>__Pyx_GOTREF</span>(__pyx_t_1);\n",
       "    #if CYTHON_COMPILING_IN_LIMITED_API\n",
       "    <span class='pyx_macro_api'>__Pyx_INCREF</span>(__pyx_t_1);\n",
       "    if (<span class='py_c_api'>PyModule_AddObject</span>(__pyx_m, __pyx_k_make_nparray, __pyx_t_1) &lt; 0) <span class='error_goto'>__PYX_ERR(0, 14, __pyx_L1_error)</span>\n",
       "    #else\n",
       "    if (<span class='py_c_api'>PyDict_SetItem</span>(__pyx_d, __pyx_n_s_make_nparray, __pyx_t_1) &lt; 0) <span class='error_goto'>__PYX_ERR(0, 14, __pyx_L1_error)</span>\n",
       "    #endif\n",
       "    <span class='pyx_macro_api'>__Pyx_DECREF</span>(__pyx_t_1); __pyx_t_1 = 0;\n",
       "  __pyx_codeobj__26 = (PyObject*)<span class='pyx_c_api'>__Pyx_PyCode_New</span>(1, 0, 0, 2, 0, CO_OPTIMIZED|CO_NEWLOCALS, __pyx_empty_bytes, __pyx_empty_tuple, __pyx_empty_tuple, __pyx_tuple__25, __pyx_empty_tuple, __pyx_empty_tuple, __pyx_kp_s_home_janjoswig_cache_ipython_cy, __pyx_n_s_make_nparray, 14, __pyx_empty_bytes);<span class='error_goto'> if (unlikely(!__pyx_codeobj__26)) __PYX_ERR(0, 14, __pyx_L1_error)</span>\n",
       "</pre><pre class=\"cython line score-32\" onclick=\"(function(s){s.display=s.display==='block'?'none':'block'})(this.nextElementSibling.style)\">+<span class=\"\">15</span>:     <span class=\"k\">cdef</span> <span class=\"kt\">np</span>.<span class=\"kt\">uint8_t</span>[<span class=\"p\">::</span><span class=\"mf\">1</span><span class=\"p\">]</span> <span class=\"n\">a</span> <span class=\"o\">=</span> <span class=\"n\">np</span><span class=\"o\">.</span><span class=\"n\">zeros</span><span class=\"p\">(</span><span class=\"n\">n</span><span class=\"p\">,</span> <span class=\"n\">dtype</span><span class=\"o\">=</span><span class=\"n\">np</span><span class=\"o\">.</span><span class=\"n\">uint8</span><span class=\"p\">)</span></pre>\n",
       "<pre class='cython code score-32 '>  <span class='pyx_c_api'>__Pyx_GetModuleGlobalName</span>(__pyx_t_1, __pyx_n_s_np);<span class='error_goto'> if (unlikely(!__pyx_t_1)) __PYX_ERR(0, 15, __pyx_L1_error)</span>\n",
       "  <span class='refnanny'>__Pyx_GOTREF</span>(__pyx_t_1);\n",
       "  __pyx_t_2 = <span class='pyx_c_api'>__Pyx_PyObject_GetAttrStr</span>(__pyx_t_1, __pyx_n_s_zeros);<span class='error_goto'> if (unlikely(!__pyx_t_2)) __PYX_ERR(0, 15, __pyx_L1_error)</span>\n",
       "  <span class='refnanny'>__Pyx_GOTREF</span>(__pyx_t_2);\n",
       "  <span class='pyx_macro_api'>__Pyx_DECREF</span>(__pyx_t_1); __pyx_t_1 = 0;\n",
       "  __pyx_t_1 = <span class='pyx_c_api'>__Pyx_PyInt_From_Py_intptr_t</span>(__pyx_v_n);<span class='error_goto'> if (unlikely(!__pyx_t_1)) __PYX_ERR(0, 15, __pyx_L1_error)</span>\n",
       "  <span class='refnanny'>__Pyx_GOTREF</span>(__pyx_t_1);\n",
       "  __pyx_t_3 = <span class='py_c_api'>PyTuple_New</span>(1);<span class='error_goto'> if (unlikely(!__pyx_t_3)) __PYX_ERR(0, 15, __pyx_L1_error)</span>\n",
       "  <span class='refnanny'>__Pyx_GOTREF</span>(__pyx_t_3);\n",
       "  <span class='refnanny'>__Pyx_GIVEREF</span>(__pyx_t_1);\n",
       "  <span class='py_macro_api'>PyTuple_SET_ITEM</span>(__pyx_t_3, 0, __pyx_t_1);\n",
       "  __pyx_t_1 = 0;\n",
       "  __pyx_t_1 = <span class='pyx_c_api'>__Pyx_PyDict_NewPresized</span>(1);<span class='error_goto'> if (unlikely(!__pyx_t_1)) __PYX_ERR(0, 15, __pyx_L1_error)</span>\n",
       "  <span class='refnanny'>__Pyx_GOTREF</span>(__pyx_t_1);\n",
       "  <span class='pyx_c_api'>__Pyx_GetModuleGlobalName</span>(__pyx_t_4, __pyx_n_s_np);<span class='error_goto'> if (unlikely(!__pyx_t_4)) __PYX_ERR(0, 15, __pyx_L1_error)</span>\n",
       "  <span class='refnanny'>__Pyx_GOTREF</span>(__pyx_t_4);\n",
       "  __pyx_t_5 = <span class='pyx_c_api'>__Pyx_PyObject_GetAttrStr</span>(__pyx_t_4, __pyx_n_s_uint8);<span class='error_goto'> if (unlikely(!__pyx_t_5)) __PYX_ERR(0, 15, __pyx_L1_error)</span>\n",
       "  <span class='refnanny'>__Pyx_GOTREF</span>(__pyx_t_5);\n",
       "  <span class='pyx_macro_api'>__Pyx_DECREF</span>(__pyx_t_4); __pyx_t_4 = 0;\n",
       "  if (<span class='py_c_api'>PyDict_SetItem</span>(__pyx_t_1, __pyx_n_s_dtype, __pyx_t_5) &lt; 0) <span class='error_goto'>__PYX_ERR(0, 15, __pyx_L1_error)</span>\n",
       "  <span class='pyx_macro_api'>__Pyx_DECREF</span>(__pyx_t_5); __pyx_t_5 = 0;\n",
       "  __pyx_t_5 = <span class='pyx_c_api'>__Pyx_PyObject_Call</span>(__pyx_t_2, __pyx_t_3, __pyx_t_1);<span class='error_goto'> if (unlikely(!__pyx_t_5)) __PYX_ERR(0, 15, __pyx_L1_error)</span>\n",
       "  <span class='refnanny'>__Pyx_GOTREF</span>(__pyx_t_5);\n",
       "  <span class='pyx_macro_api'>__Pyx_DECREF</span>(__pyx_t_2); __pyx_t_2 = 0;\n",
       "  <span class='pyx_macro_api'>__Pyx_DECREF</span>(__pyx_t_3); __pyx_t_3 = 0;\n",
       "  <span class='pyx_macro_api'>__Pyx_DECREF</span>(__pyx_t_1); __pyx_t_1 = 0;\n",
       "  __pyx_t_6 = __Pyx_PyObject_to_MemoryviewSlice_dc_nn___pyx_t_5numpy_uint8_t(__pyx_t_5, PyBUF_WRITABLE);<span class='error_goto'> if (unlikely(!__pyx_t_6.memview)) __PYX_ERR(0, 15, __pyx_L1_error)</span>\n",
       "  <span class='pyx_macro_api'>__Pyx_DECREF</span>(__pyx_t_5); __pyx_t_5 = 0;\n",
       "  __pyx_v_a = __pyx_t_6;\n",
       "  __pyx_t_6.memview = NULL;\n",
       "  __pyx_t_6.data = NULL;\n",
       "</pre><pre class=\"cython line score-0\">&#xA0;<span class=\"\">16</span>: </pre>\n",
       "<pre class=\"cython line score-0\">&#xA0;<span class=\"\">17</span>: <span class=\"c\"># cpdef void make_carray(size_t n):</span></pre>\n",
       "<pre class=\"cython line score-0\">&#xA0;<span class=\"\">18</span>:     <span class=\"c\"># cdef int a [n]  # Not allowed: length of array must be known at</span></pre>\n",
       "<pre class=\"cython line score-0\">&#xA0;<span class=\"\">19</span>:     <span class=\"c\">#     compile time</span></pre>\n",
       "<pre class=\"cython line score-0\">&#xA0;<span class=\"\">20</span>: </pre>\n",
       "<pre class=\"cython line score-44\" onclick=\"(function(s){s.display=s.display==='block'?'none':'block'})(this.nextElementSibling.style)\">+<span class=\"\">21</span>: <span class=\"k\">cpdef</span> <span class=\"kt\">void</span> <span class=\"nf\">make_vector</span><span class=\"p\">(</span><span class=\"n\">Py_ssize_t</span> <span class=\"n\">n</span><span class=\"p\">)</span> <span class=\"k\">nogil</span><span class=\"p\">:</span></pre>\n",
       "<pre class='cython code score-44 '>static PyObject *__pyx_pw_54_cython_magic_b260fcd6081488ba2de4e0de041254dd8d3df4b5_3make_vector(PyObject *__pyx_self, PyObject *__pyx_arg_n); /*proto*/\n",
       "static void __pyx_f_54_cython_magic_b260fcd6081488ba2de4e0de041254dd8d3df4b5_make_vector(Py_ssize_t __pyx_v_n, CYTHON_UNUSED int __pyx_skip_dispatch) {\n",
       "  std::vector&lt;int&gt;  __pyx_v_v;\n",
       "  size_t __pyx_v_i;\n",
       "/* … */\n",
       "  /* function exit code */\n",
       "}\n",
       "\n",
       "/* Python wrapper */\n",
       "static PyObject *__pyx_pw_54_cython_magic_b260fcd6081488ba2de4e0de041254dd8d3df4b5_3make_vector(PyObject *__pyx_self, PyObject *__pyx_arg_n); /*proto*/\n",
       "static PyMethodDef __pyx_mdef_54_cython_magic_b260fcd6081488ba2de4e0de041254dd8d3df4b5_3make_vector = {\"make_vector\", (PyCFunction)__pyx_pw_54_cython_magic_b260fcd6081488ba2de4e0de041254dd8d3df4b5_3make_vector, METH_O, 0};\n",
       "static PyObject *__pyx_pw_54_cython_magic_b260fcd6081488ba2de4e0de041254dd8d3df4b5_3make_vector(PyObject *__pyx_self, PyObject *__pyx_arg_n) {\n",
       "  Py_ssize_t __pyx_v_n;\n",
       "  CYTHON_UNUSED PyObject *const *__pyx_kwvalues = <span class='pyx_c_api'>__Pyx_KwValues_VARARGS</span>(__pyx_args, __pyx_nargs);\n",
       "  PyObject *__pyx_r = 0;\n",
       "  <span class='refnanny'>__Pyx_RefNannyDeclarations</span>\n",
       "  <span class='refnanny'>__Pyx_RefNannySetupContext</span>(\"make_vector (wrapper)\", 0);\n",
       "  assert(__pyx_arg_n); {\n",
       "    __pyx_v_n = <span class='pyx_c_api'>__Pyx_PyIndex_AsSsize_t</span>(__pyx_arg_n); if (unlikely((__pyx_v_n == (Py_ssize_t)-1) &amp;&amp; <span class='py_c_api'>PyErr_Occurred</span>())) <span class='error_goto'>__PYX_ERR(0, 21, __pyx_L3_error)</span>\n",
       "  }\n",
       "  goto __pyx_L4_argument_unpacking_done;\n",
       "  __pyx_L3_error:;\n",
       "  <span class='pyx_c_api'>__Pyx_AddTraceback</span>(\"_cython_magic_b260fcd6081488ba2de4e0de041254dd8d3df4b5.make_vector\", __pyx_clineno, __pyx_lineno, __pyx_filename);\n",
       "  <span class='refnanny'>__Pyx_RefNannyFinishContext</span>();\n",
       "  return NULL;\n",
       "  __pyx_L4_argument_unpacking_done:;\n",
       "  __pyx_r = __pyx_pf_54_cython_magic_b260fcd6081488ba2de4e0de041254dd8d3df4b5_2make_vector(__pyx_self, ((Py_ssize_t)__pyx_v_n));\n",
       "\n",
       "  /* function exit code */\n",
       "  <span class='refnanny'>__Pyx_RefNannyFinishContext</span>();\n",
       "  return __pyx_r;\n",
       "}\n",
       "\n",
       "static PyObject *__pyx_pf_54_cython_magic_b260fcd6081488ba2de4e0de041254dd8d3df4b5_2make_vector(CYTHON_UNUSED PyObject *__pyx_self, Py_ssize_t __pyx_v_n) {\n",
       "  PyObject *__pyx_r = NULL;\n",
       "  <span class='refnanny'>__Pyx_RefNannyDeclarations</span>\n",
       "  <span class='refnanny'>__Pyx_RefNannySetupContext</span>(\"make_vector\", 0);\n",
       "  <span class='pyx_macro_api'>__Pyx_XDECREF</span>(__pyx_r);\n",
       "  __pyx_t_1 = __Pyx_void_to_None(__pyx_f_54_cython_magic_b260fcd6081488ba2de4e0de041254dd8d3df4b5_make_vector(__pyx_v_n, 0));<span class='error_goto'> if (unlikely(!__pyx_t_1)) __PYX_ERR(0, 21, __pyx_L1_error)</span>\n",
       "  <span class='refnanny'>__Pyx_GOTREF</span>(__pyx_t_1);\n",
       "  __pyx_r = __pyx_t_1;\n",
       "  __pyx_t_1 = 0;\n",
       "  goto __pyx_L0;\n",
       "\n",
       "  /* function exit code */\n",
       "  __pyx_L1_error:;\n",
       "  <span class='pyx_macro_api'>__Pyx_XDECREF</span>(__pyx_t_1);\n",
       "  <span class='pyx_c_api'>__Pyx_AddTraceback</span>(\"_cython_magic_b260fcd6081488ba2de4e0de041254dd8d3df4b5.make_vector\", __pyx_clineno, __pyx_lineno, __pyx_filename);\n",
       "  __pyx_r = NULL;\n",
       "  __pyx_L0:;\n",
       "  <span class='refnanny'>__Pyx_XGIVEREF</span>(__pyx_r);\n",
       "  <span class='refnanny'>__Pyx_RefNannyFinishContext</span>();\n",
       "  return __pyx_r;\n",
       "}\n",
       "/* … */\n",
       "  __pyx_tuple__27 = <span class='py_c_api'>PyTuple_Pack</span>(2, __pyx_n_s_n, __pyx_n_s_n);<span class='error_goto'> if (unlikely(!__pyx_tuple__27)) __PYX_ERR(0, 21, __pyx_L1_error)</span>\n",
       "  <span class='refnanny'>__Pyx_GOTREF</span>(__pyx_tuple__27);\n",
       "  <span class='refnanny'>__Pyx_GIVEREF</span>(__pyx_tuple__27);\n",
       "/* … */\n",
       "    #if CYTHON_COMPILING_IN_LIMITED_API\n",
       "    __pyx_t_2 = <span class='py_c_api'>PyDict_New</span>();<span class='error_goto'> if (unlikely(!__pyx_t_2)) __PYX_ERR(0, 21, __pyx_L1_error)</span>\n",
       "    <span class='refnanny'>__Pyx_GOTREF</span>(__pyx_t_2);\n",
       "    __pyx_t_1 = <span class='pyx_c_api'>__Pyx_CyFunction_New</span>(&amp;__pyx_mdef_54_cython_magic_b260fcd6081488ba2de4e0de041254dd8d3df4b5_3make_vector, 0, __pyx_n_s_make_vector, NULL, __pyx_n_s_cython_magic_b260fcd6081488ba2d, __pyx_t_2, ((PyObject *)__pyx_codeobj__28));<span class='error_goto'> if (unlikely(!__pyx_t_1)) __PYX_ERR(0, 21, __pyx_L1_error)</span>\n",
       "    <span class='pyx_macro_api'>__Pyx_DECREF</span>(__pyx_t_2); __pyx_t_2 = 0;\n",
       "    #else\n",
       "    __pyx_t_1 = <span class='pyx_c_api'>__Pyx_CyFunction_New</span>(&amp;__pyx_mdef_54_cython_magic_b260fcd6081488ba2de4e0de041254dd8d3df4b5_3make_vector, 0, __pyx_n_s_make_vector, NULL, __pyx_n_s_cython_magic_b260fcd6081488ba2d, __pyx_d, ((PyObject *)__pyx_codeobj__28));<span class='error_goto'> if (unlikely(!__pyx_t_1)) __PYX_ERR(0, 21, __pyx_L1_error)</span>\n",
       "    #endif\n",
       "    <span class='refnanny'>__Pyx_GOTREF</span>(__pyx_t_1);\n",
       "    #if CYTHON_COMPILING_IN_LIMITED_API\n",
       "    <span class='pyx_macro_api'>__Pyx_INCREF</span>(__pyx_t_1);\n",
       "    if (<span class='py_c_api'>PyModule_AddObject</span>(__pyx_m, __pyx_k_make_vector, __pyx_t_1) &lt; 0) <span class='error_goto'>__PYX_ERR(0, 21, __pyx_L1_error)</span>\n",
       "    #else\n",
       "    if (<span class='py_c_api'>PyDict_SetItem</span>(__pyx_d, __pyx_n_s_make_vector, __pyx_t_1) &lt; 0) <span class='error_goto'>__PYX_ERR(0, 21, __pyx_L1_error)</span>\n",
       "    #endif\n",
       "    <span class='pyx_macro_api'>__Pyx_DECREF</span>(__pyx_t_1); __pyx_t_1 = 0;\n",
       "  __pyx_codeobj__28 = (PyObject*)<span class='pyx_c_api'>__Pyx_PyCode_New</span>(1, 0, 0, 2, 0, CO_OPTIMIZED|CO_NEWLOCALS, __pyx_empty_bytes, __pyx_empty_tuple, __pyx_empty_tuple, __pyx_tuple__27, __pyx_empty_tuple, __pyx_empty_tuple, __pyx_kp_s_home_janjoswig_cache_ipython_cy, __pyx_n_s_make_vector, 21, __pyx_empty_bytes);<span class='error_goto'> if (unlikely(!__pyx_codeobj__28)) __PYX_ERR(0, 21, __pyx_L1_error)</span>\n",
       "</pre><pre class=\"cython line score-0\">&#xA0;<span class=\"\">22</span>:     <span class=\"k\">cdef</span> <span class=\"kt\">vector</span>[<span class=\"kt\">bint</span>] <span class=\"nf\">v</span></pre>\n",
       "<pre class=\"cython line score-0\">&#xA0;<span class=\"\">23</span>:     <span class=\"k\">cdef</span> <span class=\"kt\">size_t</span> <span class=\"nf\">i</span></pre>\n",
       "<pre class=\"cython line score-0\">&#xA0;<span class=\"\">24</span>: </pre>\n",
       "<pre class=\"cython line score-0\" onclick=\"(function(s){s.display=s.display==='block'?'none':'block'})(this.nextElementSibling.style)\">+<span class=\"\">25</span>:     <span class=\"n\">v</span><span class=\"o\">.</span><span class=\"n\">reserve</span><span class=\"p\">(</span><span class=\"n\">n</span><span class=\"p\">)</span></pre>\n",
       "<pre class='cython code score-0 '>  __pyx_v_v.reserve(__pyx_v_n);\n",
       "</pre><pre class=\"cython line score-0\" onclick=\"(function(s){s.display=s.display==='block'?'none':'block'})(this.nextElementSibling.style)\">+<span class=\"\">26</span>:     <span class=\"k\">for</span> <span class=\"n\">i</span> <span class=\"ow\">in</span> <span class=\"nb\">range</span><span class=\"p\">(</span><span class=\"n\">n</span><span class=\"p\">):</span></pre>\n",
       "<pre class='cython code score-0 '>  __pyx_t_1 = __pyx_v_n;\n",
       "  __pyx_t_2 = __pyx_t_1;\n",
       "  for (__pyx_t_3 = 0; __pyx_t_3 &lt; __pyx_t_2; __pyx_t_3+=1) {\n",
       "    __pyx_v_i = __pyx_t_3;\n",
       "</pre><pre class=\"cython line score-0\" onclick=\"(function(s){s.display=s.display==='block'?'none':'block'})(this.nextElementSibling.style)\">+<span class=\"\">27</span>:         <span class=\"n\">v</span><span class=\"p\">[</span><span class=\"n\">i</span><span class=\"p\">]</span> <span class=\"o\">=</span> <span class=\"mf\">0</span></pre>\n",
       "<pre class='cython code score-0 '>    (__pyx_v_v[__pyx_v_i]) = 0;\n",
       "  }\n",
       "</pre></div></body></html>"
      ],
      "text/plain": [
       "<IPython.core.display.HTML object>"
      ]
     },
     "execution_count": 24,
     "metadata": {},
     "output_type": "execute_result"
    }
   ],
   "source": [
    "%%cython -a\n",
    "\n",
    "# distutils: extra_compile_args = -fopenmp\n",
    "# distutils: extra_link_args = -fopenmp\n",
    "# distutils: language = c++\n",
    "# cython: boundscheck = False\n",
    "# cython: wraparound = False\n",
    "\n",
    "from cython.parallel cimport prange\n",
    "from libcpp.vector cimport vector\n",
    "import numpy as np\n",
    "cimport numpy as np\n",
    "\n",
    "\n",
    "cpdef void make_nparray(np.intp_t n):\n",
    "    cdef np.uint8_t[::1] a = np.zeros(n, dtype=np.uint8)\n",
    "\n",
    "# cpdef void make_carray(size_t n):\n",
    "    # cdef int a [n]  # Not allowed: length of array must be known at\n",
    "    #     compile time\n",
    "    \n",
    "cpdef void make_vector(Py_ssize_t n) nogil:\n",
    "    cdef vector[bint] v\n",
    "    cdef size_t i\n",
    "    \n",
    "    v.reserve(n)\n",
    "    for i in range(n):\n",
    "        v[i] = 0"
   ]
  },
  {
   "cell_type": "code",
   "execution_count": 20,
   "metadata": {
    "ExecuteTime": {
     "end_time": "2020-05-27T14:19:44.526767Z",
     "start_time": "2020-05-27T14:19:39.928651Z"
    },
    "scrolled": true
   },
   "outputs": [
    {
     "name": "stdout",
     "output_type": "stream",
     "text": [
      "567 µs ± 38 µs per loop (mean ± std. dev. of 7 runs, 1000 loops each)\n"
     ]
    }
   ],
   "source": [
    "%timeit make_nparray(10000000)"
   ]
  },
  {
   "cell_type": "code",
   "execution_count": 25,
   "metadata": {
    "ExecuteTime": {
     "end_time": "2020-05-27T14:20:53.788721Z",
     "start_time": "2020-05-27T14:20:50.230041Z"
    }
   },
   "outputs": [
    {
     "name": "stdout",
     "output_type": "stream",
     "text": [
      "4.3 ms ± 84.2 µs per loop (mean ± std. dev. of 7 runs, 100 loops each)\n"
     ]
    }
   ],
   "source": [
    "%timeit make_vector(10000000)"
   ]
  },
  {
   "cell_type": "markdown",
   "metadata": {},
   "source": [
    "## Conversions"
   ]
  },
  {
   "cell_type": "code",
   "execution_count": 2,
   "metadata": {
    "ExecuteTime": {
     "end_time": "2020-05-25T18:19:39.498850Z",
     "start_time": "2020-05-25T18:19:39.491984Z"
    }
   },
   "outputs": [
    {
     "data": {
      "text/plain": [
       "<module 'core._cfits' from '/home/janjoswig/CNN/core/_cfits.cpython-38-x86_64-linux-gnu.so'>"
      ]
     },
     "execution_count": 2,
     "metadata": {},
     "output_type": "execute_result"
    }
   ],
   "source": [
    "importlib.reload(_cfits)"
   ]
  },
  {
   "cell_type": "code",
   "execution_count": 19,
   "metadata": {
    "ExecuteTime": {
     "end_time": "2020-05-25T18:29:21.663791Z",
     "start_time": "2020-05-25T18:29:21.653785Z"
    }
   },
   "outputs": [],
   "source": [
    "edges, indices = _cfits.NeighbourhoodsList2SparsegraphArray(\n",
    "    [{1, 2, 3, 11},  # 0\n",
    "    {0, 2, 4, 12},  # 1\n",
    "    {0, 1, 3},      # 2\n",
    "    {0, 2},         # 3\n",
    "    {1,},            # 4\n",
    "    {6,},            # 5\n",
    "    {5,},            # 6\n",
    "    set(),             # 7 \n",
    "    {9, 10},        # 8\n",
    "    {8, 10},        # 9\n",
    "    {8, 9},         # 10\n",
    "    {0,},            # 11\n",
    "    {1,}],           # 12\n",
    "    1\n",
    ")"
   ]
  },
  {
   "cell_type": "code",
   "execution_count": 21,
   "metadata": {
    "ExecuteTime": {
     "end_time": "2020-05-25T18:29:28.312458Z",
     "start_time": "2020-05-25T18:29:28.298398Z"
    }
   },
   "outputs": [
    {
     "data": {
      "text/plain": [
       "([1, 2, 3, 0, 2, 0, 1, 3, 0, 2, 9, 10, 8, 10, 8, 9],\n",
       " [0, 3, 5, 8, 10, 10, 10, 10, 10, 12, 14, 16, 16])"
      ]
     },
     "execution_count": 21,
     "metadata": {},
     "output_type": "execute_result"
    }
   ],
   "source": [
    "edges, indices"
   ]
  },
  {
   "cell_type": "code",
   "execution_count": 34,
   "metadata": {
    "ExecuteTime": {
     "end_time": "2020-05-26T09:00:14.639111Z",
     "start_time": "2020-05-26T09:00:14.635750Z"
    }
   },
   "outputs": [],
   "source": [
    "%load_ext cython"
   ]
  },
  {
   "cell_type": "markdown",
   "metadata": {},
   "source": [
    "## Data types"
   ]
  },
  {
   "cell_type": "markdown",
   "metadata": {},
   "source": [
    "### Integer index"
   ]
  },
  {
   "cell_type": "code",
   "execution_count": 19,
   "metadata": {
    "ExecuteTime": {
     "end_time": "2020-05-27T08:27:46.150058Z",
     "start_time": "2020-05-27T08:27:40.793833Z"
    }
   },
   "outputs": [
    {
     "name": "stdout",
     "output_type": "stream",
     "text": [
      "[1 1 1 1 1 1 1 1 1 1] int64\n",
      "<MemoryView of 'ndarray' object> int64\n",
      "<MemoryView of 'ndarray' object> int64\n"
     ]
    }
   ],
   "source": [
    "%%cython\n",
    "\n",
    "import numpy as np\n",
    "cimport numpy as np\n",
    "\n",
    "ctypedef np.npy_intp npyintp\n",
    "ctypedef np.intp_t npintp_t\n",
    "INTP = np.intp\n",
    "# cdef intptr_t intptr\n",
    "\n",
    "a = np.ones(10, dtype=INTP)\n",
    "cdef npyintp[:] aview1 = a\n",
    "cdef npintp_t[:] aview2 = a\n",
    "\n",
    "print(a, a.dtype)\n",
    "print(aview1, np.asarray(aview1).dtype)\n",
    "print(aview2, np.asarray(aview2).dtype)"
   ]
  },
  {
   "cell_type": "markdown",
   "metadata": {},
   "source": [
    "### Integer"
   ]
  },
  {
   "cell_type": "code",
   "execution_count": 25,
   "metadata": {
    "ExecuteTime": {
     "end_time": "2020-05-27T08:36:28.310299Z",
     "start_time": "2020-05-27T08:36:22.215482Z"
    }
   },
   "outputs": [
    {
     "name": "stdout",
     "output_type": "stream",
     "text": [
      "[1 1 1 1 1 1 1 1 1 1] int64\n",
      "<MemoryView of 'ndarray' object> int64\n",
      "[1 1 1 1 1 1 1 1 1 1] int32\n",
      "<MemoryView of 'ndarray' object> int32\n",
      "[1 1 1 1 1 1 1 1 1 1] int64\n"
     ]
    }
   ],
   "source": [
    "%%cython\n",
    "\n",
    "import numpy as np\n",
    "cimport numpy as np\n",
    "\n",
    "ctypedef np.npy_int npyint\n",
    "ctypedef np.int64_t npint64_t\n",
    "INT = np.int\n",
    "INT32 = np.int32\n",
    "INT64 = np.int64\n",
    "# cdef intptr_t intptr\n",
    "\n",
    "a = np.ones(10, dtype=INT)\n",
    "b = np.ones(10, dtype=INT32)\n",
    "c = np.ones(10, dtype=INT64)\n",
    "\n",
    "cdef npint64_t[:] aview = a\n",
    "cdef npyint[:] bview = b\n",
    "\n",
    "\n",
    "print(a, a.dtype)\n",
    "print(aview, np.asarray(aview).dtype)\n",
    "\n",
    "print(b, b.dtype)\n",
    "print(bview, np.asarray(bview).dtype)\n",
    "\n",
    "print(c, c.dtype)"
   ]
  },
  {
   "cell_type": "code",
   "execution_count": null,
   "metadata": {},
   "outputs": [],
   "source": []
  },
  {
   "cell_type": "markdown",
   "metadata": {},
   "source": [
    "### Fused"
   ]
  },
  {
   "cell_type": "code",
   "execution_count": 40,
   "metadata": {
    "ExecuteTime": {
     "end_time": "2020-05-27T10:16:02.993395Z",
     "start_time": "2020-05-27T10:15:55.326606Z"
    },
    "scrolled": true
   },
   "outputs": [
    {
     "data": {
      "text/html": [
       "<!DOCTYPE html>\n",
       "<!-- Generated by Cython 3.0a1 -->\n",
       "<html>\n",
       "<head>\n",
       "    <meta http-equiv=\"Content-Type\" content=\"text/html; charset=utf-8\" />\n",
       "    <title>Cython: _cython_magic_dc0946c22004d47e2e730d191a067bf901003dc7.pyx</title>\n",
       "    <style type=\"text/css\">\n",
       "    \n",
       "body.cython { font-family: courier; font-size: 12; }\n",
       "\n",
       ".cython.tag  {  }\n",
       ".cython.line { margin: 0em }\n",
       ".cython.code { font-size: 9; color: #444444; display: none; margin: 0px 0px 0px 8px; border-left: 8px none; }\n",
       "\n",
       ".cython.line .run { background-color: #B0FFB0; }\n",
       ".cython.line .mis { background-color: #FFB0B0; }\n",
       ".cython.code.run  { border-left: 8px solid #B0FFB0; }\n",
       ".cython.code.mis  { border-left: 8px solid #FFB0B0; }\n",
       "\n",
       ".cython.code .py_c_api  { color: red; }\n",
       ".cython.code .py_macro_api  { color: #FF7000; }\n",
       ".cython.code .pyx_c_api  { color: #FF3000; }\n",
       ".cython.code .pyx_macro_api  { color: #FF7000; }\n",
       ".cython.code .refnanny  { color: #FFA000; }\n",
       ".cython.code .trace  { color: #FFA000; }\n",
       ".cython.code .error_goto  { color: #FFA000; }\n",
       "\n",
       ".cython.code .coerce  { color: #008000; border: 1px dotted #008000 }\n",
       ".cython.code .py_attr { color: #FF0000; font-weight: bold; }\n",
       ".cython.code .c_attr  { color: #0000FF; }\n",
       ".cython.code .py_call { color: #FF0000; font-weight: bold; }\n",
       ".cython.code .c_call  { color: #0000FF; }\n",
       "\n",
       ".cython.score-0 {background-color: #FFFFff;}\n",
       ".cython.score-1 {background-color: #FFFFe7;}\n",
       ".cython.score-2 {background-color: #FFFFd4;}\n",
       ".cython.score-3 {background-color: #FFFFc4;}\n",
       ".cython.score-4 {background-color: #FFFFb6;}\n",
       ".cython.score-5 {background-color: #FFFFaa;}\n",
       ".cython.score-6 {background-color: #FFFF9f;}\n",
       ".cython.score-7 {background-color: #FFFF96;}\n",
       ".cython.score-8 {background-color: #FFFF8d;}\n",
       ".cython.score-9 {background-color: #FFFF86;}\n",
       ".cython.score-10 {background-color: #FFFF7f;}\n",
       ".cython.score-11 {background-color: #FFFF79;}\n",
       ".cython.score-12 {background-color: #FFFF73;}\n",
       ".cython.score-13 {background-color: #FFFF6e;}\n",
       ".cython.score-14 {background-color: #FFFF6a;}\n",
       ".cython.score-15 {background-color: #FFFF66;}\n",
       ".cython.score-16 {background-color: #FFFF62;}\n",
       ".cython.score-17 {background-color: #FFFF5e;}\n",
       ".cython.score-18 {background-color: #FFFF5b;}\n",
       ".cython.score-19 {background-color: #FFFF57;}\n",
       ".cython.score-20 {background-color: #FFFF55;}\n",
       ".cython.score-21 {background-color: #FFFF52;}\n",
       ".cython.score-22 {background-color: #FFFF4f;}\n",
       ".cython.score-23 {background-color: #FFFF4d;}\n",
       ".cython.score-24 {background-color: #FFFF4b;}\n",
       ".cython.score-25 {background-color: #FFFF48;}\n",
       ".cython.score-26 {background-color: #FFFF46;}\n",
       ".cython.score-27 {background-color: #FFFF44;}\n",
       ".cython.score-28 {background-color: #FFFF43;}\n",
       ".cython.score-29 {background-color: #FFFF41;}\n",
       ".cython.score-30 {background-color: #FFFF3f;}\n",
       ".cython.score-31 {background-color: #FFFF3e;}\n",
       ".cython.score-32 {background-color: #FFFF3c;}\n",
       ".cython.score-33 {background-color: #FFFF3b;}\n",
       ".cython.score-34 {background-color: #FFFF39;}\n",
       ".cython.score-35 {background-color: #FFFF38;}\n",
       ".cython.score-36 {background-color: #FFFF37;}\n",
       ".cython.score-37 {background-color: #FFFF36;}\n",
       ".cython.score-38 {background-color: #FFFF35;}\n",
       ".cython.score-39 {background-color: #FFFF34;}\n",
       ".cython.score-40 {background-color: #FFFF33;}\n",
       ".cython.score-41 {background-color: #FFFF32;}\n",
       ".cython.score-42 {background-color: #FFFF31;}\n",
       ".cython.score-43 {background-color: #FFFF30;}\n",
       ".cython.score-44 {background-color: #FFFF2f;}\n",
       ".cython.score-45 {background-color: #FFFF2e;}\n",
       ".cython.score-46 {background-color: #FFFF2d;}\n",
       ".cython.score-47 {background-color: #FFFF2c;}\n",
       ".cython.score-48 {background-color: #FFFF2b;}\n",
       ".cython.score-49 {background-color: #FFFF2b;}\n",
       ".cython.score-50 {background-color: #FFFF2a;}\n",
       ".cython.score-51 {background-color: #FFFF29;}\n",
       ".cython.score-52 {background-color: #FFFF29;}\n",
       ".cython.score-53 {background-color: #FFFF28;}\n",
       ".cython.score-54 {background-color: #FFFF27;}\n",
       ".cython.score-55 {background-color: #FFFF27;}\n",
       ".cython.score-56 {background-color: #FFFF26;}\n",
       ".cython.score-57 {background-color: #FFFF26;}\n",
       ".cython.score-58 {background-color: #FFFF25;}\n",
       ".cython.score-59 {background-color: #FFFF24;}\n",
       ".cython.score-60 {background-color: #FFFF24;}\n",
       ".cython.score-61 {background-color: #FFFF23;}\n",
       ".cython.score-62 {background-color: #FFFF23;}\n",
       ".cython.score-63 {background-color: #FFFF22;}\n",
       ".cython.score-64 {background-color: #FFFF22;}\n",
       ".cython.score-65 {background-color: #FFFF22;}\n",
       ".cython.score-66 {background-color: #FFFF21;}\n",
       ".cython.score-67 {background-color: #FFFF21;}\n",
       ".cython.score-68 {background-color: #FFFF20;}\n",
       ".cython.score-69 {background-color: #FFFF20;}\n",
       ".cython.score-70 {background-color: #FFFF1f;}\n",
       ".cython.score-71 {background-color: #FFFF1f;}\n",
       ".cython.score-72 {background-color: #FFFF1f;}\n",
       ".cython.score-73 {background-color: #FFFF1e;}\n",
       ".cython.score-74 {background-color: #FFFF1e;}\n",
       ".cython.score-75 {background-color: #FFFF1e;}\n",
       ".cython.score-76 {background-color: #FFFF1d;}\n",
       ".cython.score-77 {background-color: #FFFF1d;}\n",
       ".cython.score-78 {background-color: #FFFF1c;}\n",
       ".cython.score-79 {background-color: #FFFF1c;}\n",
       ".cython.score-80 {background-color: #FFFF1c;}\n",
       ".cython.score-81 {background-color: #FFFF1c;}\n",
       ".cython.score-82 {background-color: #FFFF1b;}\n",
       ".cython.score-83 {background-color: #FFFF1b;}\n",
       ".cython.score-84 {background-color: #FFFF1b;}\n",
       ".cython.score-85 {background-color: #FFFF1a;}\n",
       ".cython.score-86 {background-color: #FFFF1a;}\n",
       ".cython.score-87 {background-color: #FFFF1a;}\n",
       ".cython.score-88 {background-color: #FFFF1a;}\n",
       ".cython.score-89 {background-color: #FFFF19;}\n",
       ".cython.score-90 {background-color: #FFFF19;}\n",
       ".cython.score-91 {background-color: #FFFF19;}\n",
       ".cython.score-92 {background-color: #FFFF19;}\n",
       ".cython.score-93 {background-color: #FFFF18;}\n",
       ".cython.score-94 {background-color: #FFFF18;}\n",
       ".cython.score-95 {background-color: #FFFF18;}\n",
       ".cython.score-96 {background-color: #FFFF18;}\n",
       ".cython.score-97 {background-color: #FFFF17;}\n",
       ".cython.score-98 {background-color: #FFFF17;}\n",
       ".cython.score-99 {background-color: #FFFF17;}\n",
       ".cython.score-100 {background-color: #FFFF17;}\n",
       ".cython.score-101 {background-color: #FFFF16;}\n",
       ".cython.score-102 {background-color: #FFFF16;}\n",
       ".cython.score-103 {background-color: #FFFF16;}\n",
       ".cython.score-104 {background-color: #FFFF16;}\n",
       ".cython.score-105 {background-color: #FFFF16;}\n",
       ".cython.score-106 {background-color: #FFFF15;}\n",
       ".cython.score-107 {background-color: #FFFF15;}\n",
       ".cython.score-108 {background-color: #FFFF15;}\n",
       ".cython.score-109 {background-color: #FFFF15;}\n",
       ".cython.score-110 {background-color: #FFFF15;}\n",
       ".cython.score-111 {background-color: #FFFF15;}\n",
       ".cython.score-112 {background-color: #FFFF14;}\n",
       ".cython.score-113 {background-color: #FFFF14;}\n",
       ".cython.score-114 {background-color: #FFFF14;}\n",
       ".cython.score-115 {background-color: #FFFF14;}\n",
       ".cython.score-116 {background-color: #FFFF14;}\n",
       ".cython.score-117 {background-color: #FFFF14;}\n",
       ".cython.score-118 {background-color: #FFFF13;}\n",
       ".cython.score-119 {background-color: #FFFF13;}\n",
       ".cython.score-120 {background-color: #FFFF13;}\n",
       ".cython.score-121 {background-color: #FFFF13;}\n",
       ".cython.score-122 {background-color: #FFFF13;}\n",
       ".cython.score-123 {background-color: #FFFF13;}\n",
       ".cython.score-124 {background-color: #FFFF13;}\n",
       ".cython.score-125 {background-color: #FFFF12;}\n",
       ".cython.score-126 {background-color: #FFFF12;}\n",
       ".cython.score-127 {background-color: #FFFF12;}\n",
       ".cython.score-128 {background-color: #FFFF12;}\n",
       ".cython.score-129 {background-color: #FFFF12;}\n",
       ".cython.score-130 {background-color: #FFFF12;}\n",
       ".cython.score-131 {background-color: #FFFF12;}\n",
       ".cython.score-132 {background-color: #FFFF11;}\n",
       ".cython.score-133 {background-color: #FFFF11;}\n",
       ".cython.score-134 {background-color: #FFFF11;}\n",
       ".cython.score-135 {background-color: #FFFF11;}\n",
       ".cython.score-136 {background-color: #FFFF11;}\n",
       ".cython.score-137 {background-color: #FFFF11;}\n",
       ".cython.score-138 {background-color: #FFFF11;}\n",
       ".cython.score-139 {background-color: #FFFF11;}\n",
       ".cython.score-140 {background-color: #FFFF11;}\n",
       ".cython.score-141 {background-color: #FFFF10;}\n",
       ".cython.score-142 {background-color: #FFFF10;}\n",
       ".cython.score-143 {background-color: #FFFF10;}\n",
       ".cython.score-144 {background-color: #FFFF10;}\n",
       ".cython.score-145 {background-color: #FFFF10;}\n",
       ".cython.score-146 {background-color: #FFFF10;}\n",
       ".cython.score-147 {background-color: #FFFF10;}\n",
       ".cython.score-148 {background-color: #FFFF10;}\n",
       ".cython.score-149 {background-color: #FFFF10;}\n",
       ".cython.score-150 {background-color: #FFFF0f;}\n",
       ".cython.score-151 {background-color: #FFFF0f;}\n",
       ".cython.score-152 {background-color: #FFFF0f;}\n",
       ".cython.score-153 {background-color: #FFFF0f;}\n",
       ".cython.score-154 {background-color: #FFFF0f;}\n",
       ".cython.score-155 {background-color: #FFFF0f;}\n",
       ".cython.score-156 {background-color: #FFFF0f;}\n",
       ".cython.score-157 {background-color: #FFFF0f;}\n",
       ".cython.score-158 {background-color: #FFFF0f;}\n",
       ".cython.score-159 {background-color: #FFFF0f;}\n",
       ".cython.score-160 {background-color: #FFFF0f;}\n",
       ".cython.score-161 {background-color: #FFFF0e;}\n",
       ".cython.score-162 {background-color: #FFFF0e;}\n",
       ".cython.score-163 {background-color: #FFFF0e;}\n",
       ".cython.score-164 {background-color: #FFFF0e;}\n",
       ".cython.score-165 {background-color: #FFFF0e;}\n",
       ".cython.score-166 {background-color: #FFFF0e;}\n",
       ".cython.score-167 {background-color: #FFFF0e;}\n",
       ".cython.score-168 {background-color: #FFFF0e;}\n",
       ".cython.score-169 {background-color: #FFFF0e;}\n",
       ".cython.score-170 {background-color: #FFFF0e;}\n",
       ".cython.score-171 {background-color: #FFFF0e;}\n",
       ".cython.score-172 {background-color: #FFFF0e;}\n",
       ".cython.score-173 {background-color: #FFFF0d;}\n",
       ".cython.score-174 {background-color: #FFFF0d;}\n",
       ".cython.score-175 {background-color: #FFFF0d;}\n",
       ".cython.score-176 {background-color: #FFFF0d;}\n",
       ".cython.score-177 {background-color: #FFFF0d;}\n",
       ".cython.score-178 {background-color: #FFFF0d;}\n",
       ".cython.score-179 {background-color: #FFFF0d;}\n",
       ".cython.score-180 {background-color: #FFFF0d;}\n",
       ".cython.score-181 {background-color: #FFFF0d;}\n",
       ".cython.score-182 {background-color: #FFFF0d;}\n",
       ".cython.score-183 {background-color: #FFFF0d;}\n",
       ".cython.score-184 {background-color: #FFFF0d;}\n",
       ".cython.score-185 {background-color: #FFFF0d;}\n",
       ".cython.score-186 {background-color: #FFFF0d;}\n",
       ".cython.score-187 {background-color: #FFFF0c;}\n",
       ".cython.score-188 {background-color: #FFFF0c;}\n",
       ".cython.score-189 {background-color: #FFFF0c;}\n",
       ".cython.score-190 {background-color: #FFFF0c;}\n",
       ".cython.score-191 {background-color: #FFFF0c;}\n",
       ".cython.score-192 {background-color: #FFFF0c;}\n",
       ".cython.score-193 {background-color: #FFFF0c;}\n",
       ".cython.score-194 {background-color: #FFFF0c;}\n",
       ".cython.score-195 {background-color: #FFFF0c;}\n",
       ".cython.score-196 {background-color: #FFFF0c;}\n",
       ".cython.score-197 {background-color: #FFFF0c;}\n",
       ".cython.score-198 {background-color: #FFFF0c;}\n",
       ".cython.score-199 {background-color: #FFFF0c;}\n",
       ".cython.score-200 {background-color: #FFFF0c;}\n",
       ".cython.score-201 {background-color: #FFFF0c;}\n",
       ".cython.score-202 {background-color: #FFFF0c;}\n",
       ".cython.score-203 {background-color: #FFFF0b;}\n",
       ".cython.score-204 {background-color: #FFFF0b;}\n",
       ".cython.score-205 {background-color: #FFFF0b;}\n",
       ".cython.score-206 {background-color: #FFFF0b;}\n",
       ".cython.score-207 {background-color: #FFFF0b;}\n",
       ".cython.score-208 {background-color: #FFFF0b;}\n",
       ".cython.score-209 {background-color: #FFFF0b;}\n",
       ".cython.score-210 {background-color: #FFFF0b;}\n",
       ".cython.score-211 {background-color: #FFFF0b;}\n",
       ".cython.score-212 {background-color: #FFFF0b;}\n",
       ".cython.score-213 {background-color: #FFFF0b;}\n",
       ".cython.score-214 {background-color: #FFFF0b;}\n",
       ".cython.score-215 {background-color: #FFFF0b;}\n",
       ".cython.score-216 {background-color: #FFFF0b;}\n",
       ".cython.score-217 {background-color: #FFFF0b;}\n",
       ".cython.score-218 {background-color: #FFFF0b;}\n",
       ".cython.score-219 {background-color: #FFFF0b;}\n",
       ".cython.score-220 {background-color: #FFFF0b;}\n",
       ".cython.score-221 {background-color: #FFFF0b;}\n",
       ".cython.score-222 {background-color: #FFFF0a;}\n",
       ".cython.score-223 {background-color: #FFFF0a;}\n",
       ".cython.score-224 {background-color: #FFFF0a;}\n",
       ".cython.score-225 {background-color: #FFFF0a;}\n",
       ".cython.score-226 {background-color: #FFFF0a;}\n",
       ".cython.score-227 {background-color: #FFFF0a;}\n",
       ".cython.score-228 {background-color: #FFFF0a;}\n",
       ".cython.score-229 {background-color: #FFFF0a;}\n",
       ".cython.score-230 {background-color: #FFFF0a;}\n",
       ".cython.score-231 {background-color: #FFFF0a;}\n",
       ".cython.score-232 {background-color: #FFFF0a;}\n",
       ".cython.score-233 {background-color: #FFFF0a;}\n",
       ".cython.score-234 {background-color: #FFFF0a;}\n",
       ".cython.score-235 {background-color: #FFFF0a;}\n",
       ".cython.score-236 {background-color: #FFFF0a;}\n",
       ".cython.score-237 {background-color: #FFFF0a;}\n",
       ".cython.score-238 {background-color: #FFFF0a;}\n",
       ".cython.score-239 {background-color: #FFFF0a;}\n",
       ".cython.score-240 {background-color: #FFFF0a;}\n",
       ".cython.score-241 {background-color: #FFFF0a;}\n",
       ".cython.score-242 {background-color: #FFFF0a;}\n",
       ".cython.score-243 {background-color: #FFFF0a;}\n",
       ".cython.score-244 {background-color: #FFFF0a;}\n",
       ".cython.score-245 {background-color: #FFFF0a;}\n",
       ".cython.score-246 {background-color: #FFFF09;}\n",
       ".cython.score-247 {background-color: #FFFF09;}\n",
       ".cython.score-248 {background-color: #FFFF09;}\n",
       ".cython.score-249 {background-color: #FFFF09;}\n",
       ".cython.score-250 {background-color: #FFFF09;}\n",
       ".cython.score-251 {background-color: #FFFF09;}\n",
       ".cython.score-252 {background-color: #FFFF09;}\n",
       ".cython.score-253 {background-color: #FFFF09;}\n",
       ".cython.score-254 {background-color: #FFFF09;}\n",
       ".cython .hll { background-color: #ffffcc }\n",
       ".cython  { background: #f8f8f8; }\n",
       ".cython .c { color: #408080; font-style: italic } /* Comment */\n",
       ".cython .err { border: 1px solid #FF0000 } /* Error */\n",
       ".cython .k { color: #008000; font-weight: bold } /* Keyword */\n",
       ".cython .o { color: #666666 } /* Operator */\n",
       ".cython .ch { color: #408080; font-style: italic } /* Comment.Hashbang */\n",
       ".cython .cm { color: #408080; font-style: italic } /* Comment.Multiline */\n",
       ".cython .cp { color: #BC7A00 } /* Comment.Preproc */\n",
       ".cython .cpf { color: #408080; font-style: italic } /* Comment.PreprocFile */\n",
       ".cython .c1 { color: #408080; font-style: italic } /* Comment.Single */\n",
       ".cython .cs { color: #408080; font-style: italic } /* Comment.Special */\n",
       ".cython .gd { color: #A00000 } /* Generic.Deleted */\n",
       ".cython .ge { font-style: italic } /* Generic.Emph */\n",
       ".cython .gr { color: #FF0000 } /* Generic.Error */\n",
       ".cython .gh { color: #000080; font-weight: bold } /* Generic.Heading */\n",
       ".cython .gi { color: #00A000 } /* Generic.Inserted */\n",
       ".cython .go { color: #888888 } /* Generic.Output */\n",
       ".cython .gp { color: #000080; font-weight: bold } /* Generic.Prompt */\n",
       ".cython .gs { font-weight: bold } /* Generic.Strong */\n",
       ".cython .gu { color: #800080; font-weight: bold } /* Generic.Subheading */\n",
       ".cython .gt { color: #0044DD } /* Generic.Traceback */\n",
       ".cython .kc { color: #008000; font-weight: bold } /* Keyword.Constant */\n",
       ".cython .kd { color: #008000; font-weight: bold } /* Keyword.Declaration */\n",
       ".cython .kn { color: #008000; font-weight: bold } /* Keyword.Namespace */\n",
       ".cython .kp { color: #008000 } /* Keyword.Pseudo */\n",
       ".cython .kr { color: #008000; font-weight: bold } /* Keyword.Reserved */\n",
       ".cython .kt { color: #B00040 } /* Keyword.Type */\n",
       ".cython .m { color: #666666 } /* Literal.Number */\n",
       ".cython .s { color: #BA2121 } /* Literal.String */\n",
       ".cython .na { color: #7D9029 } /* Name.Attribute */\n",
       ".cython .nb { color: #008000 } /* Name.Builtin */\n",
       ".cython .nc { color: #0000FF; font-weight: bold } /* Name.Class */\n",
       ".cython .no { color: #880000 } /* Name.Constant */\n",
       ".cython .nd { color: #AA22FF } /* Name.Decorator */\n",
       ".cython .ni { color: #999999; font-weight: bold } /* Name.Entity */\n",
       ".cython .ne { color: #D2413A; font-weight: bold } /* Name.Exception */\n",
       ".cython .nf { color: #0000FF } /* Name.Function */\n",
       ".cython .nl { color: #A0A000 } /* Name.Label */\n",
       ".cython .nn { color: #0000FF; font-weight: bold } /* Name.Namespace */\n",
       ".cython .nt { color: #008000; font-weight: bold } /* Name.Tag */\n",
       ".cython .nv { color: #19177C } /* Name.Variable */\n",
       ".cython .ow { color: #AA22FF; font-weight: bold } /* Operator.Word */\n",
       ".cython .w { color: #bbbbbb } /* Text.Whitespace */\n",
       ".cython .mb { color: #666666 } /* Literal.Number.Bin */\n",
       ".cython .mf { color: #666666 } /* Literal.Number.Float */\n",
       ".cython .mh { color: #666666 } /* Literal.Number.Hex */\n",
       ".cython .mi { color: #666666 } /* Literal.Number.Integer */\n",
       ".cython .mo { color: #666666 } /* Literal.Number.Oct */\n",
       ".cython .sa { color: #BA2121 } /* Literal.String.Affix */\n",
       ".cython .sb { color: #BA2121 } /* Literal.String.Backtick */\n",
       ".cython .sc { color: #BA2121 } /* Literal.String.Char */\n",
       ".cython .dl { color: #BA2121 } /* Literal.String.Delimiter */\n",
       ".cython .sd { color: #BA2121; font-style: italic } /* Literal.String.Doc */\n",
       ".cython .s2 { color: #BA2121 } /* Literal.String.Double */\n",
       ".cython .se { color: #BB6622; font-weight: bold } /* Literal.String.Escape */\n",
       ".cython .sh { color: #BA2121 } /* Literal.String.Heredoc */\n",
       ".cython .si { color: #BB6688; font-weight: bold } /* Literal.String.Interpol */\n",
       ".cython .sx { color: #008000 } /* Literal.String.Other */\n",
       ".cython .sr { color: #BB6688 } /* Literal.String.Regex */\n",
       ".cython .s1 { color: #BA2121 } /* Literal.String.Single */\n",
       ".cython .ss { color: #19177C } /* Literal.String.Symbol */\n",
       ".cython .bp { color: #008000 } /* Name.Builtin.Pseudo */\n",
       ".cython .fm { color: #0000FF } /* Name.Function.Magic */\n",
       ".cython .vc { color: #19177C } /* Name.Variable.Class */\n",
       ".cython .vg { color: #19177C } /* Name.Variable.Global */\n",
       ".cython .vi { color: #19177C } /* Name.Variable.Instance */\n",
       ".cython .vm { color: #19177C } /* Name.Variable.Magic */\n",
       ".cython .il { color: #666666 } /* Literal.Number.Integer.Long */\n",
       "    </style>\n",
       "</head>\n",
       "<body class=\"cython\">\n",
       "<p><span style=\"border-bottom: solid 1px grey;\">Generated by Cython 3.0a1</span></p>\n",
       "<p>\n",
       "    <span style=\"background-color: #FFFF00\">Yellow lines</span> hint at Python interaction.<br />\n",
       "    Click on a line that starts with a \"<code>+</code>\" to see the C code that Cython generated for it.\n",
       "</p>\n",
       "<div class=\"cython\"><pre class=\"cython line score-0\">&#xA0;<span class=\"\">01</span>: </pre>\n",
       "<pre class=\"cython line score-14\" onclick=\"(function(s){s.display=s.display==='block'?'none':'block'})(this.nextElementSibling.style)\">+<span class=\"\">02</span>: <span class=\"c\"># cython: boundscheck = False</span></pre>\n",
       "<pre class='cython code score-14 '>    __pyx_t_3 = <span class='pyx_c_api'>__Pyx_PyDict_NewPresized</span>(0);<span class='error_goto'> if (unlikely(!__pyx_t_3)) __PYX_ERR(0, 2, __pyx_L1_error)</span>\n",
       "    <span class='refnanny'>__Pyx_GOTREF</span>(__pyx_t_3);\n",
       "    #if CYTHON_COMPILING_IN_LIMITED_API\n",
       "    <span class='pyx_macro_api'>__Pyx_INCREF</span>(__pyx_t_3);\n",
       "    if (<span class='py_c_api'>PyModule_AddObject</span>(__pyx_m, __pyx_k_test, __pyx_t_3) &lt; 0) <span class='error_goto'>__PYX_ERR(0, 2, __pyx_L1_error)</span>\n",
       "    #else\n",
       "    if (<span class='py_c_api'>PyDict_SetItem</span>(__pyx_d, __pyx_n_s_test, __pyx_t_3) &lt; 0) <span class='error_goto'>__PYX_ERR(0, 2, __pyx_L1_error)</span>\n",
       "    #endif\n",
       "    <span class='pyx_macro_api'>__Pyx_DECREF</span>(__pyx_t_3); __pyx_t_3 = 0;\n",
       "</pre><pre class=\"cython line score-0\">&#xA0;<span class=\"\">03</span>: </pre>\n",
       "<pre class=\"cython line score-0\">&#xA0;<span class=\"\">04</span>: <span class=\"k\">import</span> <span class=\"nn\">cython</span></pre>\n",
       "<pre class=\"cython line score-14\" onclick=\"(function(s){s.display=s.display==='block'?'none':'block'})(this.nextElementSibling.style)\">+<span class=\"\">05</span>: <span class=\"k\">import</span> <span class=\"nn\">numpy</span> <span class=\"k\">as</span> <span class=\"nn\">np</span></pre>\n",
       "<pre class='cython code score-14 '>    __pyx_t_1 = <span class='pyx_c_api'>__Pyx_ImportDottedModule</span>(__pyx_n_s_numpy, NULL);<span class='error_goto'> if (unlikely(!__pyx_t_1)) __PYX_ERR(0, 5, __pyx_L1_error)</span>\n",
       "    <span class='refnanny'>__Pyx_GOTREF</span>(__pyx_t_1);\n",
       "    #if CYTHON_COMPILING_IN_LIMITED_API\n",
       "    <span class='pyx_macro_api'>__Pyx_INCREF</span>(__pyx_t_1);\n",
       "    if (<span class='py_c_api'>PyModule_AddObject</span>(__pyx_m, __pyx_k_np, __pyx_t_1) &lt; 0) <span class='error_goto'>__PYX_ERR(0, 5, __pyx_L1_error)</span>\n",
       "    #else\n",
       "    if (<span class='py_c_api'>PyDict_SetItem</span>(__pyx_d, __pyx_n_s_np, __pyx_t_1) &lt; 0) <span class='error_goto'>__PYX_ERR(0, 5, __pyx_L1_error)</span>\n",
       "    #endif\n",
       "    <span class='pyx_macro_api'>__Pyx_DECREF</span>(__pyx_t_1); __pyx_t_1 = 0;\n",
       "</pre><pre class=\"cython line score-0\">&#xA0;<span class=\"\">06</span>: <span class=\"k\">cimport</span> <span class=\"nn\">numpy</span> <span class=\"k\">as</span> <span class=\"nn\">np</span></pre>\n",
       "<pre class=\"cython line score-0\">&#xA0;<span class=\"\">07</span>: </pre>\n",
       "<pre class=\"cython line score-0\">&#xA0;<span class=\"\">08</span>: <span class=\"k\">ctypedef</span> <span class=\"k\">fused</span> <span class=\"n\">npint_or_float</span><span class=\"p\">:</span></pre>\n",
       "<pre class=\"cython line score-0\">&#xA0;<span class=\"\">09</span>:     <span class=\"n\">np</span><span class=\"o\">.</span><span class=\"n\">int32_t</span></pre>\n",
       "<pre class=\"cython line score-0\">&#xA0;<span class=\"\">10</span>:     <span class=\"n\">np</span><span class=\"o\">.</span><span class=\"n\">int64_t</span></pre>\n",
       "<pre class=\"cython line score-0\">&#xA0;<span class=\"\">11</span>:     <span class=\"n\">np</span><span class=\"o\">.</span><span class=\"n\">float32_t</span></pre>\n",
       "<pre class=\"cython line score-0\">&#xA0;<span class=\"\">12</span>:     <span class=\"n\">np</span><span class=\"o\">.</span><span class=\"n\">float64_t</span></pre>\n",
       "<pre class=\"cython line score-0\">&#xA0;<span class=\"\">13</span>: </pre>\n",
       "<pre class=\"cython line score-875\" onclick=\"(function(s){s.display=s.display==='block'?'none':'block'})(this.nextElementSibling.style)\">+<span class=\"\">14</span>: <span class=\"k\">cpdef</span> <span class=\"kt\">void</span> <span class=\"nf\">calc_something</span><span class=\"p\">(</span><span class=\"n\">npint_or_float</span><span class=\"p\">[:]</span> <span class=\"n\">a</span><span class=\"p\">):</span></pre>\n",
       "<pre class='cython code score-875 '>/* Python wrapper */\n",
       "static PyObject *__pyx_pw_54_cython_magic_dc0946c22004d47e2e730d191a067bf901003dc7_1calc_something(PyObject *__pyx_self, PyObject *__pyx_args, PyObject *__pyx_kwds); /*proto*/\n",
       "static PyMethodDef __pyx_mdef_54_cython_magic_dc0946c22004d47e2e730d191a067bf901003dc7_1calc_something = {\"calc_something\", (PyCFunction)(void*)(PyCFunctionWithKeywords)__pyx_pw_54_cython_magic_dc0946c22004d47e2e730d191a067bf901003dc7_1calc_something, METH_VARARGS|METH_KEYWORDS, 0};\n",
       "static PyObject *__pyx_pw_54_cython_magic_dc0946c22004d47e2e730d191a067bf901003dc7_1calc_something(PyObject *__pyx_self, PyObject *__pyx_args, PyObject *__pyx_kwds) {\n",
       "  PyObject *__pyx_v_signatures = 0;\n",
       "  PyObject *__pyx_v_args = 0;\n",
       "  PyObject *__pyx_v_kwargs = 0;\n",
       "  CYTHON_UNUSED PyObject *__pyx_v_defaults = 0;\n",
       "  PyObject *__pyx_v__fused_sigindex = 0;\n",
       "  CYTHON_UNUSED const Py_ssize_t __pyx_nargs = <span class='py_macro_api'>PyTuple_GET_SIZE</span>(__pyx_args);\n",
       "  CYTHON_UNUSED PyObject *const *__pyx_kwvalues = <span class='pyx_c_api'>__Pyx_KwValues_VARARGS</span>(__pyx_args, __pyx_nargs);\n",
       "  PyObject *__pyx_r = 0;\n",
       "  <span class='refnanny'>__Pyx_RefNannyDeclarations</span>\n",
       "  <span class='refnanny'>__Pyx_RefNannySetupContext</span>(\"__pyx_fused_cpdef (wrapper)\", 0);\n",
       "  {\n",
       "    #if CYTHON_COMPILING_IN_LIMITED_API\n",
       "    PyObject **__pyx_pyargnames[] = {&amp;__pyx_n_s_signatures,&amp;__pyx_n_s_args,&amp;__pyx_n_s_kwargs,&amp;__pyx_n_s_defaults,&amp;__pyx_n_s_fused_sigindex,0};\n",
       "    #else\n",
       "    static PyObject **__pyx_pyargnames[] = {&amp;__pyx_n_s_signatures,&amp;__pyx_n_s_args,&amp;__pyx_n_s_kwargs,&amp;__pyx_n_s_defaults,&amp;__pyx_n_s_fused_sigindex,0};\n",
       "    #endif\n",
       "    PyObject* values[5] = {0,0,0,0,0};\n",
       "    __pyx_defaults *__pyx_dynamic_args = <span class='pyx_c_api'>__Pyx_CyFunction_Defaults</span>(__pyx_defaults, __pyx_self);\n",
       "    values[4] = __pyx_dynamic_args-&gt;__pyx_arg__fused_sigindex;\n",
       "    if (__pyx_kwds) {\n",
       "      Py_ssize_t kw_args;\n",
       "      switch (__pyx_nargs) {\n",
       "        case  5: values[4] = <span class='pyx_c_api'>__Pyx_Arg_VARARGS</span>(__pyx_args, 4);\n",
       "        CYTHON_FALLTHROUGH;\n",
       "        case  4: values[3] = <span class='pyx_c_api'>__Pyx_Arg_VARARGS</span>(__pyx_args, 3);\n",
       "        CYTHON_FALLTHROUGH;\n",
       "        case  3: values[2] = <span class='pyx_c_api'>__Pyx_Arg_VARARGS</span>(__pyx_args, 2);\n",
       "        CYTHON_FALLTHROUGH;\n",
       "        case  2: values[1] = <span class='pyx_c_api'>__Pyx_Arg_VARARGS</span>(__pyx_args, 1);\n",
       "        CYTHON_FALLTHROUGH;\n",
       "        case  1: values[0] = <span class='pyx_c_api'>__Pyx_Arg_VARARGS</span>(__pyx_args, 0);\n",
       "        CYTHON_FALLTHROUGH;\n",
       "        case  0: break;\n",
       "        default: goto __pyx_L5_argtuple_error;\n",
       "      }\n",
       "      kw_args = <span class='pyx_c_api'>__Pyx_NumKwargs_VARARGS</span>(__pyx_kwds);\n",
       "      switch (__pyx_nargs) {\n",
       "        case  0:\n",
       "        if (likely((values[0] = <span class='pyx_c_api'>__Pyx_GetKwValue_VARARGS</span>(__pyx_kwds, __pyx_kwvalues, __pyx_n_s_signatures)) != 0)) kw_args--;\n",
       "        else if (unlikely(<span class='py_c_api'>PyErr_Occurred</span>())) <span class='error_goto'>__PYX_ERR(0, 14, __pyx_L3_error)</span>\n",
       "        else goto __pyx_L5_argtuple_error;\n",
       "        CYTHON_FALLTHROUGH;\n",
       "        case  1:\n",
       "        if (likely((values[1] = <span class='pyx_c_api'>__Pyx_GetKwValue_VARARGS</span>(__pyx_kwds, __pyx_kwvalues, __pyx_n_s_args)) != 0)) kw_args--;\n",
       "        else if (unlikely(<span class='py_c_api'>PyErr_Occurred</span>())) <span class='error_goto'>__PYX_ERR(0, 14, __pyx_L3_error)</span>\n",
       "        else {\n",
       "          <span class='pyx_c_api'>__Pyx_RaiseArgtupleInvalid</span>(\"__pyx_fused_cpdef\", 0, 4, 5, 1); <span class='error_goto'>__PYX_ERR(0, 14, __pyx_L3_error)</span>\n",
       "        }\n",
       "        CYTHON_FALLTHROUGH;\n",
       "        case  2:\n",
       "        if (likely((values[2] = <span class='pyx_c_api'>__Pyx_GetKwValue_VARARGS</span>(__pyx_kwds, __pyx_kwvalues, __pyx_n_s_kwargs)) != 0)) kw_args--;\n",
       "        else if (unlikely(<span class='py_c_api'>PyErr_Occurred</span>())) <span class='error_goto'>__PYX_ERR(0, 14, __pyx_L3_error)</span>\n",
       "        else {\n",
       "          <span class='pyx_c_api'>__Pyx_RaiseArgtupleInvalid</span>(\"__pyx_fused_cpdef\", 0, 4, 5, 2); <span class='error_goto'>__PYX_ERR(0, 14, __pyx_L3_error)</span>\n",
       "        }\n",
       "        CYTHON_FALLTHROUGH;\n",
       "        case  3:\n",
       "        if (likely((values[3] = <span class='pyx_c_api'>__Pyx_GetKwValue_VARARGS</span>(__pyx_kwds, __pyx_kwvalues, __pyx_n_s_defaults)) != 0)) kw_args--;\n",
       "        else if (unlikely(<span class='py_c_api'>PyErr_Occurred</span>())) <span class='error_goto'>__PYX_ERR(0, 14, __pyx_L3_error)</span>\n",
       "        else {\n",
       "          <span class='pyx_c_api'>__Pyx_RaiseArgtupleInvalid</span>(\"__pyx_fused_cpdef\", 0, 4, 5, 3); <span class='error_goto'>__PYX_ERR(0, 14, __pyx_L3_error)</span>\n",
       "        }\n",
       "        CYTHON_FALLTHROUGH;\n",
       "        case  4:\n",
       "        if (kw_args &gt; 0) {\n",
       "          PyObject* value = <span class='pyx_c_api'>__Pyx_GetKwValue_VARARGS</span>(__pyx_kwds, __pyx_kwvalues, __pyx_n_s_fused_sigindex);\n",
       "          if (value) { values[4] = value; kw_args--; }\n",
       "          else if (unlikely(<span class='py_c_api'>PyErr_Occurred</span>())) <span class='error_goto'>__PYX_ERR(0, 14, __pyx_L3_error)</span>\n",
       "        }\n",
       "      }\n",
       "      if (unlikely(kw_args &gt; 0)) {\n",
       "        const Py_ssize_t kwd_pos_args = __pyx_nargs;\n",
       "        if (unlikely(<span class='pyx_c_api'>__Pyx_ParseOptionalKeywords</span>(__pyx_kwds, __pyx_kwvalues, __pyx_pyargnames, 0, values + 0, kwd_pos_args, \"__pyx_fused_cpdef\") &lt; 0)) <span class='error_goto'>__PYX_ERR(0, 14, __pyx_L3_error)</span>\n",
       "      }\n",
       "    } else {\n",
       "      switch (__pyx_nargs) {\n",
       "        case  5: values[4] = <span class='pyx_c_api'>__Pyx_Arg_VARARGS</span>(__pyx_args, 4);\n",
       "        CYTHON_FALLTHROUGH;\n",
       "        case  4: values[3] = <span class='pyx_c_api'>__Pyx_Arg_VARARGS</span>(__pyx_args, 3);\n",
       "        values[2] = <span class='pyx_c_api'>__Pyx_Arg_VARARGS</span>(__pyx_args, 2);\n",
       "        values[1] = <span class='pyx_c_api'>__Pyx_Arg_VARARGS</span>(__pyx_args, 1);\n",
       "        values[0] = <span class='pyx_c_api'>__Pyx_Arg_VARARGS</span>(__pyx_args, 0);\n",
       "        break;\n",
       "        default: goto __pyx_L5_argtuple_error;\n",
       "      }\n",
       "    }\n",
       "    __pyx_v_signatures = values[0];\n",
       "    __pyx_v_args = values[1];\n",
       "    __pyx_v_kwargs = values[2];\n",
       "    __pyx_v_defaults = values[3];\n",
       "    __pyx_v__fused_sigindex = values[4];\n",
       "  }\n",
       "  goto __pyx_L4_argument_unpacking_done;\n",
       "  __pyx_L5_argtuple_error:;\n",
       "  <span class='pyx_c_api'>__Pyx_RaiseArgtupleInvalid</span>(\"__pyx_fused_cpdef\", 0, 4, 5, __pyx_nargs); <span class='error_goto'>__PYX_ERR(0, 14, __pyx_L3_error)</span>\n",
       "  __pyx_L3_error:;\n",
       "  <span class='pyx_c_api'>__Pyx_AddTraceback</span>(\"_cython_magic_dc0946c22004d47e2e730d191a067bf901003dc7.__pyx_fused_cpdef\", __pyx_clineno, __pyx_lineno, __pyx_filename);\n",
       "  <span class='refnanny'>__Pyx_RefNannyFinishContext</span>();\n",
       "  return NULL;\n",
       "  __pyx_L4_argument_unpacking_done:;\n",
       "  __pyx_r = __pyx_pf_54_cython_magic_dc0946c22004d47e2e730d191a067bf901003dc7_calc_something(__pyx_self, __pyx_v_signatures, __pyx_v_args, __pyx_v_kwargs, __pyx_v_defaults, __pyx_v__fused_sigindex);\n",
       "\n",
       "  /* function exit code */\n",
       "  <span class='refnanny'>__Pyx_RefNannyFinishContext</span>();\n",
       "  return __pyx_r;\n",
       "}\n",
       "\n",
       "static PyObject *__pyx_pf_54_cython_magic_dc0946c22004d47e2e730d191a067bf901003dc7_calc_something(CYTHON_UNUSED PyObject *__pyx_self, PyObject *__pyx_v_signatures, PyObject *__pyx_v_args, PyObject *__pyx_v_kwargs, CYTHON_UNUSED PyObject *__pyx_v_defaults, PyObject *__pyx_v__fused_sigindex) {\n",
       "  PyObject *__pyx_v_search_list = 0;\n",
       "  PyObject *__pyx_v_sn = 0;\n",
       "  PyObject *__pyx_v_sigindex_node = 0;\n",
       "  PyObject *__pyx_v_dest_sig = NULL;\n",
       "  PyTypeObject *__pyx_v_ndarray = 0;\n",
       "  __Pyx_memviewslice __pyx_v_memslice;\n",
       "  Py_ssize_t __pyx_v_itemsize;\n",
       "  int __pyx_v_dtype_signed;\n",
       "  char __pyx_v_kind;\n",
       "  int __pyx_v____pyx_int32_t_is_signed;\n",
       "  int __pyx_v____pyx_int64_t_is_signed;\n",
       "  PyObject *__pyx_v_arg = NULL;\n",
       "  PyObject *__pyx_v_dtype = NULL;\n",
       "  PyObject *__pyx_v_arg_base = NULL;\n",
       "  PyObject *__pyx_v_sig = NULL;\n",
       "  PyObject *__pyx_v_sig_series = NULL;\n",
       "  PyObject *__pyx_v_last_type = NULL;\n",
       "  PyObject *__pyx_v_sig_type = NULL;\n",
       "  PyObject *__pyx_v_sigindex_matches = NULL;\n",
       "  PyObject *__pyx_v_sigindex_candidates = NULL;\n",
       "  PyObject *__pyx_v_dst_type = NULL;\n",
       "  PyObject *__pyx_v_found_matches = NULL;\n",
       "  PyObject *__pyx_v_found_candidates = NULL;\n",
       "  PyObject *__pyx_v_candidates = NULL;\n",
       "  PyObject *__pyx_r = NULL;\n",
       "  <span class='refnanny'>__Pyx_RefNannyDeclarations</span>\n",
       "  <span class='refnanny'>__Pyx_RefNannySetupContext</span>(\"calc_something\", 0);\n",
       "  <span class='pyx_macro_api'>__Pyx_INCREF</span>(__pyx_v_kwargs);\n",
       "  __pyx_t_1 = <span class='py_c_api'>PyList_New</span>(1);<span class='error_goto'> if (unlikely(!__pyx_t_1)) __PYX_ERR(0, 14, __pyx_L1_error)</span>\n",
       "  <span class='refnanny'>__Pyx_GOTREF</span>(__pyx_t_1);\n",
       "  <span class='pyx_macro_api'>__Pyx_INCREF</span>(Py_None);\n",
       "  <span class='refnanny'>__Pyx_GIVEREF</span>(Py_None);\n",
       "  <span class='py_macro_api'>PyList_SET_ITEM</span>(__pyx_t_1, 0, Py_None);\n",
       "  __pyx_v_dest_sig = ((PyObject*)__pyx_t_1);\n",
       "  __pyx_t_1 = 0;\n",
       "  __pyx_t_3 = (__pyx_v_kwargs != Py_None);\n",
       "  __pyx_t_4 = (__pyx_t_3 != 0);\n",
       "  if (__pyx_t_4) {\n",
       "  } else {\n",
       "    __pyx_t_2 = __pyx_t_4;\n",
       "    goto __pyx_L4_bool_binop_done;\n",
       "  }\n",
       "  __pyx_t_4 = <span class='pyx_c_api'>__Pyx_PyObject_IsTrue</span>(__pyx_v_kwargs); if (unlikely(__pyx_t_4 &lt; 0)) <span class='error_goto'>__PYX_ERR(0, 14, __pyx_L1_error)</span>\n",
       "  __pyx_t_3 = ((!__pyx_t_4) != 0);\n",
       "  __pyx_t_2 = __pyx_t_3;\n",
       "  __pyx_L4_bool_binop_done:;\n",
       "  if (__pyx_t_2) {\n",
       "    <span class='pyx_macro_api'>__Pyx_INCREF</span>(Py_None);\n",
       "    <span class='pyx_macro_api'>__Pyx_DECREF_SET</span>(__pyx_v_kwargs, Py_None);\n",
       "  }\n",
       "  __pyx_t_1 = ((PyObject *)<span class='pyx_c_api'>__Pyx_ImportNumPyArrayTypeIfAvailable</span>());<span class='error_goto'> if (unlikely(!__pyx_t_1)) __PYX_ERR(0, 14, __pyx_L1_error)</span>\n",
       "  <span class='refnanny'>__Pyx_GOTREF</span>(__pyx_t_1);\n",
       "  __pyx_v_ndarray = ((PyTypeObject*)__pyx_t_1);\n",
       "  __pyx_t_1 = 0;\n",
       "  __pyx_v_itemsize = -1L;\n",
       "  __pyx_v____pyx_int32_t_is_signed = (!((((__pyx_t_5numpy_int32_t)-1L) &gt; 0) != 0));\n",
       "  __pyx_v____pyx_int64_t_is_signed = (!((((__pyx_t_5numpy_int64_t)-1L) &gt; 0) != 0));\n",
       "  if (unlikely(__pyx_v_args == Py_None)) {\n",
       "    <span class='py_c_api'>PyErr_SetString</span>(PyExc_TypeError, \"object of type 'NoneType' has no len()\");\n",
       "    <span class='error_goto'>__PYX_ERR(0, 14, __pyx_L1_error)</span>\n",
       "  }\n",
       "  __pyx_t_5 = <span class='py_macro_api'>PyTuple_GET_SIZE</span>(((PyObject*)__pyx_v_args));<span class='error_goto'> if (unlikely(__pyx_t_5 == ((Py_ssize_t)-1))) __PYX_ERR(0, 14, __pyx_L1_error)</span>\n",
       "  __pyx_t_2 = ((0 &lt; __pyx_t_5) != 0);\n",
       "  if (__pyx_t_2) {\n",
       "    if (unlikely(__pyx_v_args == Py_None)) {\n",
       "      <span class='py_c_api'>PyErr_SetString</span>(PyExc_TypeError, \"'NoneType' object is not subscriptable\");\n",
       "      <span class='error_goto'>__PYX_ERR(0, 14, __pyx_L1_error)</span>\n",
       "    }\n",
       "    __pyx_t_1 = <span class='py_macro_api'>PyTuple_GET_ITEM</span>(((PyObject*)__pyx_v_args), 0);\n",
       "    <span class='pyx_macro_api'>__Pyx_INCREF</span>(__pyx_t_1);\n",
       "    __pyx_v_arg = __pyx_t_1;\n",
       "    __pyx_t_1 = 0;\n",
       "    goto __pyx_L6;\n",
       "  }\n",
       "  __pyx_t_3 = (__pyx_v_kwargs != Py_None);\n",
       "  __pyx_t_4 = (__pyx_t_3 != 0);\n",
       "  if (__pyx_t_4) {\n",
       "  } else {\n",
       "    __pyx_t_2 = __pyx_t_4;\n",
       "    goto __pyx_L7_bool_binop_done;\n",
       "  }\n",
       "  if (unlikely(__pyx_v_kwargs == Py_None)) {\n",
       "    <span class='py_c_api'>PyErr_SetString</span>(PyExc_TypeError, \"'NoneType' object is not iterable\");\n",
       "    <span class='error_goto'>__PYX_ERR(0, 14, __pyx_L1_error)</span>\n",
       "  }\n",
       "  __pyx_t_4 = (<span class='pyx_c_api'>__Pyx_PyDict_ContainsTF</span>(__pyx_n_s_a, ((PyObject*)__pyx_v_kwargs), Py_EQ)); if (unlikely(__pyx_t_4 &lt; 0)) <span class='error_goto'>__PYX_ERR(0, 14, __pyx_L1_error)</span>\n",
       "  __pyx_t_3 = (__pyx_t_4 != 0);\n",
       "  __pyx_t_2 = __pyx_t_3;\n",
       "  __pyx_L7_bool_binop_done:;\n",
       "  if (likely(__pyx_t_2)) {\n",
       "    if (unlikely(__pyx_v_kwargs == Py_None)) {\n",
       "      <span class='py_c_api'>PyErr_SetString</span>(PyExc_TypeError, \"'NoneType' object is not subscriptable\");\n",
       "      <span class='error_goto'>__PYX_ERR(0, 14, __pyx_L1_error)</span>\n",
       "    }\n",
       "    __pyx_t_1 = <span class='pyx_c_api'>__Pyx_PyDict_GetItem</span>(((PyObject*)__pyx_v_kwargs), __pyx_n_s_a);<span class='error_goto'> if (unlikely(!__pyx_t_1)) __PYX_ERR(0, 14, __pyx_L1_error)</span>\n",
       "    <span class='refnanny'>__Pyx_GOTREF</span>(__pyx_t_1);\n",
       "    __pyx_v_arg = __pyx_t_1;\n",
       "    __pyx_t_1 = 0;\n",
       "    goto __pyx_L6;\n",
       "  }\n",
       "  /*else*/ {\n",
       "    if (unlikely(__pyx_v_args == Py_None)) {\n",
       "      <span class='py_c_api'>PyErr_SetString</span>(PyExc_TypeError, \"object of type 'NoneType' has no len()\");\n",
       "      <span class='error_goto'>__PYX_ERR(0, 14, __pyx_L1_error)</span>\n",
       "    }\n",
       "    __pyx_t_5 = <span class='py_macro_api'>PyTuple_GET_SIZE</span>(((PyObject*)__pyx_v_args));<span class='error_goto'> if (unlikely(__pyx_t_5 == ((Py_ssize_t)-1))) __PYX_ERR(0, 14, __pyx_L1_error)</span>\n",
       "    __pyx_t_1 = <span class='py_c_api'>PyInt_FromSsize_t</span>(__pyx_t_5);<span class='error_goto'> if (unlikely(!__pyx_t_1)) __PYX_ERR(0, 14, __pyx_L1_error)</span>\n",
       "    <span class='refnanny'>__Pyx_GOTREF</span>(__pyx_t_1);\n",
       "    __pyx_t_6 = <span class='py_c_api'>PyTuple_New</span>(3);<span class='error_goto'> if (unlikely(!__pyx_t_6)) __PYX_ERR(0, 14, __pyx_L1_error)</span>\n",
       "    <span class='refnanny'>__Pyx_GOTREF</span>(__pyx_t_6);\n",
       "    <span class='pyx_macro_api'>__Pyx_INCREF</span>(__pyx_int_1);\n",
       "    <span class='refnanny'>__Pyx_GIVEREF</span>(__pyx_int_1);\n",
       "    <span class='py_macro_api'>PyTuple_SET_ITEM</span>(__pyx_t_6, 0, __pyx_int_1);\n",
       "    <span class='pyx_macro_api'>__Pyx_INCREF</span>(__pyx_kp_s_);\n",
       "    <span class='refnanny'>__Pyx_GIVEREF</span>(__pyx_kp_s_);\n",
       "    <span class='py_macro_api'>PyTuple_SET_ITEM</span>(__pyx_t_6, 1, __pyx_kp_s_);\n",
       "    <span class='refnanny'>__Pyx_GIVEREF</span>(__pyx_t_1);\n",
       "    <span class='py_macro_api'>PyTuple_SET_ITEM</span>(__pyx_t_6, 2, __pyx_t_1);\n",
       "    __pyx_t_1 = 0;\n",
       "    __pyx_t_1 = <span class='pyx_c_api'>__Pyx_PyString_Format</span>(__pyx_kp_s_Expected_at_least_d_argument_s_g, __pyx_t_6);<span class='error_goto'> if (unlikely(!__pyx_t_1)) __PYX_ERR(0, 14, __pyx_L1_error)</span>\n",
       "    <span class='refnanny'>__Pyx_GOTREF</span>(__pyx_t_1);\n",
       "    <span class='pyx_macro_api'>__Pyx_DECREF</span>(__pyx_t_6); __pyx_t_6 = 0;\n",
       "    __pyx_t_6 = <span class='pyx_c_api'>__Pyx_PyObject_CallOneArg</span>(__pyx_builtin_TypeError, __pyx_t_1);<span class='error_goto'> if (unlikely(!__pyx_t_6)) __PYX_ERR(0, 14, __pyx_L1_error)</span>\n",
       "    <span class='refnanny'>__Pyx_GOTREF</span>(__pyx_t_6);\n",
       "    <span class='pyx_macro_api'>__Pyx_DECREF</span>(__pyx_t_1); __pyx_t_1 = 0;\n",
       "    <span class='pyx_c_api'>__Pyx_Raise</span>(__pyx_t_6, 0, 0, 0);\n",
       "    <span class='pyx_macro_api'>__Pyx_DECREF</span>(__pyx_t_6); __pyx_t_6 = 0;\n",
       "    <span class='error_goto'>__PYX_ERR(0, 14, __pyx_L1_error)</span>\n",
       "  }\n",
       "  __pyx_L6:;\n",
       "  while (1) {\n",
       "    __pyx_t_2 = (__pyx_v_ndarray != ((PyTypeObject*)Py_None));\n",
       "    __pyx_t_3 = (__pyx_t_2 != 0);\n",
       "    if (__pyx_t_3) {\n",
       "      __pyx_t_3 = <span class='pyx_c_api'>__Pyx_TypeCheck</span>(__pyx_v_arg, __pyx_v_ndarray); \n",
       "      __pyx_t_2 = (__pyx_t_3 != 0);\n",
       "      if (__pyx_t_2) {\n",
       "        __pyx_t_6 = <span class='pyx_c_api'>__Pyx_PyObject_GetAttrStr</span>(__pyx_v_arg, __pyx_n_s_dtype);<span class='error_goto'> if (unlikely(!__pyx_t_6)) __PYX_ERR(0, 14, __pyx_L1_error)</span>\n",
       "        <span class='refnanny'>__Pyx_GOTREF</span>(__pyx_t_6);\n",
       "        __pyx_v_dtype = __pyx_t_6;\n",
       "        __pyx_t_6 = 0;\n",
       "        goto __pyx_L12;\n",
       "      }\n",
       "      __pyx_t_2 = __pyx_memoryview_check(__pyx_v_arg); \n",
       "      __pyx_t_3 = (__pyx_t_2 != 0);\n",
       "      if (__pyx_t_3) {\n",
       "        __pyx_t_6 = <span class='pyx_c_api'>__Pyx_PyObject_GetAttrStr</span>(__pyx_v_arg, __pyx_n_s_base);<span class='error_goto'> if (unlikely(!__pyx_t_6)) __PYX_ERR(0, 14, __pyx_L1_error)</span>\n",
       "        <span class='refnanny'>__Pyx_GOTREF</span>(__pyx_t_6);\n",
       "        __pyx_v_arg_base = __pyx_t_6;\n",
       "        __pyx_t_6 = 0;\n",
       "        __pyx_t_3 = <span class='pyx_c_api'>__Pyx_TypeCheck</span>(__pyx_v_arg_base, __pyx_v_ndarray); \n",
       "        __pyx_t_2 = (__pyx_t_3 != 0);\n",
       "        if (__pyx_t_2) {\n",
       "          __pyx_t_6 = <span class='pyx_c_api'>__Pyx_PyObject_GetAttrStr</span>(__pyx_v_arg_base, __pyx_n_s_dtype);<span class='error_goto'> if (unlikely(!__pyx_t_6)) __PYX_ERR(0, 14, __pyx_L1_error)</span>\n",
       "          <span class='refnanny'>__Pyx_GOTREF</span>(__pyx_t_6);\n",
       "          __pyx_v_dtype = __pyx_t_6;\n",
       "          __pyx_t_6 = 0;\n",
       "          goto __pyx_L13;\n",
       "        }\n",
       "        /*else*/ {\n",
       "          <span class='pyx_macro_api'>__Pyx_INCREF</span>(Py_None);\n",
       "          __pyx_v_dtype = Py_None;\n",
       "        }\n",
       "        __pyx_L13:;\n",
       "        goto __pyx_L12;\n",
       "      }\n",
       "      /*else*/ {\n",
       "        <span class='pyx_macro_api'>__Pyx_INCREF</span>(Py_None);\n",
       "        __pyx_v_dtype = Py_None;\n",
       "      }\n",
       "      __pyx_L12:;\n",
       "      __pyx_v_itemsize = -1L;\n",
       "      __pyx_t_2 = (__pyx_v_dtype != Py_None);\n",
       "      __pyx_t_3 = (__pyx_t_2 != 0);\n",
       "      if (__pyx_t_3) {\n",
       "        __pyx_t_6 = <span class='pyx_c_api'>__Pyx_PyObject_GetAttrStr</span>(__pyx_v_dtype, __pyx_n_s_itemsize);<span class='error_goto'> if (unlikely(!__pyx_t_6)) __PYX_ERR(0, 14, __pyx_L1_error)</span>\n",
       "        <span class='refnanny'>__Pyx_GOTREF</span>(__pyx_t_6);\n",
       "        __pyx_t_5 = <span class='pyx_c_api'>__Pyx_PyIndex_AsSsize_t</span>(__pyx_t_6); if (unlikely((__pyx_t_5 == (Py_ssize_t)-1) &amp;&amp; <span class='py_c_api'>PyErr_Occurred</span>())) <span class='error_goto'>__PYX_ERR(0, 14, __pyx_L1_error)</span>\n",
       "        <span class='pyx_macro_api'>__Pyx_DECREF</span>(__pyx_t_6); __pyx_t_6 = 0;\n",
       "        __pyx_v_itemsize = __pyx_t_5;\n",
       "        __pyx_t_6 = <span class='pyx_c_api'>__Pyx_PyObject_GetAttrStr</span>(__pyx_v_dtype, __pyx_n_s_kind);<span class='error_goto'> if (unlikely(!__pyx_t_6)) __PYX_ERR(0, 14, __pyx_L1_error)</span>\n",
       "        <span class='refnanny'>__Pyx_GOTREF</span>(__pyx_t_6);\n",
       "        __pyx_t_7 = <span class='pyx_c_api'>__Pyx_PyObject_Ord</span>(__pyx_t_6);<span class='error_goto'> if (unlikely(__pyx_t_7 == ((long)(long)(Py_UCS4)-1))) __PYX_ERR(0, 14, __pyx_L1_error)</span>\n",
       "        <span class='pyx_macro_api'>__Pyx_DECREF</span>(__pyx_t_6); __pyx_t_6 = 0;\n",
       "        __pyx_v_kind = __pyx_t_7;\n",
       "        __pyx_v_dtype_signed = (__pyx_v_kind == 'i');\n",
       "        switch (__pyx_v_kind) {\n",
       "          case 'i':\n",
       "          case 'u':\n",
       "          __pyx_t_2 = (((sizeof(__pyx_t_5numpy_int32_t)) == __pyx_v_itemsize) != 0);\n",
       "          if (__pyx_t_2) {\n",
       "          } else {\n",
       "            __pyx_t_3 = __pyx_t_2;\n",
       "            goto __pyx_L16_bool_binop_done;\n",
       "          }\n",
       "          __pyx_t_6 = <span class='pyx_c_api'>__Pyx_PyObject_GetAttrStr</span>(__pyx_v_arg, __pyx_n_s_ndim);<span class='error_goto'> if (unlikely(!__pyx_t_6)) __PYX_ERR(0, 14, __pyx_L1_error)</span>\n",
       "          <span class='refnanny'>__Pyx_GOTREF</span>(__pyx_t_6);\n",
       "          __pyx_t_5 = <span class='pyx_c_api'>__Pyx_PyIndex_AsSsize_t</span>(__pyx_t_6); if (unlikely((__pyx_t_5 == (Py_ssize_t)-1) &amp;&amp; <span class='py_c_api'>PyErr_Occurred</span>())) <span class='error_goto'>__PYX_ERR(0, 14, __pyx_L1_error)</span>\n",
       "          <span class='pyx_macro_api'>__Pyx_DECREF</span>(__pyx_t_6); __pyx_t_6 = 0;\n",
       "          __pyx_t_2 = ((((Py_ssize_t)__pyx_t_5) == 1) != 0);\n",
       "          if (__pyx_t_2) {\n",
       "          } else {\n",
       "            __pyx_t_3 = __pyx_t_2;\n",
       "            goto __pyx_L16_bool_binop_done;\n",
       "          }\n",
       "          __pyx_t_2 = ((!((__pyx_v____pyx_int32_t_is_signed ^ __pyx_v_dtype_signed) != 0)) != 0);\n",
       "          __pyx_t_3 = __pyx_t_2;\n",
       "          __pyx_L16_bool_binop_done:;\n",
       "          if (__pyx_t_3) {\n",
       "            if (unlikely(<span class='pyx_c_api'>__Pyx_SetItemInt</span>(__pyx_v_dest_sig, 0, __pyx_n_s_int32_t, long, 1, __Pyx_PyInt_From_long, 1, 0, 0) &lt; 0)) <span class='error_goto'>__PYX_ERR(0, 14, __pyx_L1_error)</span>\n",
       "            goto __pyx_L10_break;\n",
       "          }\n",
       "          __pyx_t_2 = (((sizeof(__pyx_t_5numpy_int64_t)) == __pyx_v_itemsize) != 0);\n",
       "          if (__pyx_t_2) {\n",
       "          } else {\n",
       "            __pyx_t_3 = __pyx_t_2;\n",
       "            goto __pyx_L20_bool_binop_done;\n",
       "          }\n",
       "          __pyx_t_6 = <span class='pyx_c_api'>__Pyx_PyObject_GetAttrStr</span>(__pyx_v_arg, __pyx_n_s_ndim);<span class='error_goto'> if (unlikely(!__pyx_t_6)) __PYX_ERR(0, 14, __pyx_L1_error)</span>\n",
       "          <span class='refnanny'>__Pyx_GOTREF</span>(__pyx_t_6);\n",
       "          __pyx_t_5 = <span class='pyx_c_api'>__Pyx_PyIndex_AsSsize_t</span>(__pyx_t_6); if (unlikely((__pyx_t_5 == (Py_ssize_t)-1) &amp;&amp; <span class='py_c_api'>PyErr_Occurred</span>())) <span class='error_goto'>__PYX_ERR(0, 14, __pyx_L1_error)</span>\n",
       "          <span class='pyx_macro_api'>__Pyx_DECREF</span>(__pyx_t_6); __pyx_t_6 = 0;\n",
       "          __pyx_t_2 = ((((Py_ssize_t)__pyx_t_5) == 1) != 0);\n",
       "          if (__pyx_t_2) {\n",
       "          } else {\n",
       "            __pyx_t_3 = __pyx_t_2;\n",
       "            goto __pyx_L20_bool_binop_done;\n",
       "          }\n",
       "          __pyx_t_2 = ((!((__pyx_v____pyx_int64_t_is_signed ^ __pyx_v_dtype_signed) != 0)) != 0);\n",
       "          __pyx_t_3 = __pyx_t_2;\n",
       "          __pyx_L20_bool_binop_done:;\n",
       "          if (__pyx_t_3) {\n",
       "            if (unlikely(<span class='pyx_c_api'>__Pyx_SetItemInt</span>(__pyx_v_dest_sig, 0, __pyx_n_s_int64_t, long, 1, __Pyx_PyInt_From_long, 1, 0, 0) &lt; 0)) <span class='error_goto'>__PYX_ERR(0, 14, __pyx_L1_error)</span>\n",
       "            goto __pyx_L10_break;\n",
       "          }\n",
       "          break;\n",
       "          case 'f':\n",
       "          __pyx_t_2 = (((sizeof(__pyx_t_5numpy_float32_t)) == __pyx_v_itemsize) != 0);\n",
       "          if (__pyx_t_2) {\n",
       "          } else {\n",
       "            __pyx_t_3 = __pyx_t_2;\n",
       "            goto __pyx_L24_bool_binop_done;\n",
       "          }\n",
       "          __pyx_t_6 = <span class='pyx_c_api'>__Pyx_PyObject_GetAttrStr</span>(__pyx_v_arg, __pyx_n_s_ndim);<span class='error_goto'> if (unlikely(!__pyx_t_6)) __PYX_ERR(0, 14, __pyx_L1_error)</span>\n",
       "          <span class='refnanny'>__Pyx_GOTREF</span>(__pyx_t_6);\n",
       "          __pyx_t_5 = <span class='pyx_c_api'>__Pyx_PyIndex_AsSsize_t</span>(__pyx_t_6); if (unlikely((__pyx_t_5 == (Py_ssize_t)-1) &amp;&amp; <span class='py_c_api'>PyErr_Occurred</span>())) <span class='error_goto'>__PYX_ERR(0, 14, __pyx_L1_error)</span>\n",
       "          <span class='pyx_macro_api'>__Pyx_DECREF</span>(__pyx_t_6); __pyx_t_6 = 0;\n",
       "          __pyx_t_2 = ((((Py_ssize_t)__pyx_t_5) == 1) != 0);\n",
       "          __pyx_t_3 = __pyx_t_2;\n",
       "          __pyx_L24_bool_binop_done:;\n",
       "          if (__pyx_t_3) {\n",
       "            if (unlikely(<span class='pyx_c_api'>__Pyx_SetItemInt</span>(__pyx_v_dest_sig, 0, __pyx_n_s_float32_t, long, 1, __Pyx_PyInt_From_long, 1, 0, 0) &lt; 0)) <span class='error_goto'>__PYX_ERR(0, 14, __pyx_L1_error)</span>\n",
       "            goto __pyx_L10_break;\n",
       "          }\n",
       "          __pyx_t_2 = (((sizeof(__pyx_t_5numpy_float64_t)) == __pyx_v_itemsize) != 0);\n",
       "          if (__pyx_t_2) {\n",
       "          } else {\n",
       "            __pyx_t_3 = __pyx_t_2;\n",
       "            goto __pyx_L27_bool_binop_done;\n",
       "          }\n",
       "          __pyx_t_6 = <span class='pyx_c_api'>__Pyx_PyObject_GetAttrStr</span>(__pyx_v_arg, __pyx_n_s_ndim);<span class='error_goto'> if (unlikely(!__pyx_t_6)) __PYX_ERR(0, 14, __pyx_L1_error)</span>\n",
       "          <span class='refnanny'>__Pyx_GOTREF</span>(__pyx_t_6);\n",
       "          __pyx_t_5 = <span class='pyx_c_api'>__Pyx_PyIndex_AsSsize_t</span>(__pyx_t_6); if (unlikely((__pyx_t_5 == (Py_ssize_t)-1) &amp;&amp; <span class='py_c_api'>PyErr_Occurred</span>())) <span class='error_goto'>__PYX_ERR(0, 14, __pyx_L1_error)</span>\n",
       "          <span class='pyx_macro_api'>__Pyx_DECREF</span>(__pyx_t_6); __pyx_t_6 = 0;\n",
       "          __pyx_t_2 = ((((Py_ssize_t)__pyx_t_5) == 1) != 0);\n",
       "          __pyx_t_3 = __pyx_t_2;\n",
       "          __pyx_L27_bool_binop_done:;\n",
       "          if (__pyx_t_3) {\n",
       "            if (unlikely(<span class='pyx_c_api'>__Pyx_SetItemInt</span>(__pyx_v_dest_sig, 0, __pyx_n_s_float64_t, long, 1, __Pyx_PyInt_From_long, 1, 0, 0) &lt; 0)) <span class='error_goto'>__PYX_ERR(0, 14, __pyx_L1_error)</span>\n",
       "            goto __pyx_L10_break;\n",
       "          }\n",
       "          break;\n",
       "          case 'c':\n",
       "          break;\n",
       "          case 'O':\n",
       "          break;\n",
       "          default: break;\n",
       "        }\n",
       "      }\n",
       "    }\n",
       "    __pyx_t_2 = ((__pyx_v_itemsize == -1L) != 0);\n",
       "    if (!__pyx_t_2) {\n",
       "    } else {\n",
       "      __pyx_t_3 = __pyx_t_2;\n",
       "      goto __pyx_L30_bool_binop_done;\n",
       "    }\n",
       "    __pyx_t_2 = ((__pyx_v_itemsize == (sizeof(__pyx_t_5numpy_int32_t))) != 0);\n",
       "    __pyx_t_3 = __pyx_t_2;\n",
       "    __pyx_L30_bool_binop_done:;\n",
       "    if (__pyx_t_3) {\n",
       "      __pyx_t_8 = __Pyx_PyObject_to_MemoryviewSlice_ds_nn___pyx_t_5numpy_int32_t(__pyx_v_arg, 0); \n",
       "      __pyx_v_memslice = __pyx_t_8;\n",
       "      __pyx_t_3 = (__pyx_v_memslice.memview != 0);\n",
       "      if (__pyx_t_3) {\n",
       "        __PYX_XDEC_MEMVIEW((&amp;__pyx_v_memslice), 1); \n",
       "        if (unlikely(<span class='pyx_c_api'>__Pyx_SetItemInt</span>(__pyx_v_dest_sig, 0, __pyx_n_s_int32_t, long, 1, __Pyx_PyInt_From_long, 1, 0, 0) &lt; 0)) <span class='error_goto'>__PYX_ERR(0, 14, __pyx_L1_error)</span>\n",
       "        goto __pyx_L10_break;\n",
       "      }\n",
       "      /*else*/ {\n",
       "        <span class='py_c_api'>PyErr_Clear</span>(); \n",
       "      }\n",
       "    }\n",
       "    __pyx_t_2 = ((__pyx_v_itemsize == -1L) != 0);\n",
       "    if (!__pyx_t_2) {\n",
       "    } else {\n",
       "      __pyx_t_3 = __pyx_t_2;\n",
       "      goto __pyx_L34_bool_binop_done;\n",
       "    }\n",
       "    __pyx_t_2 = ((__pyx_v_itemsize == (sizeof(__pyx_t_5numpy_int64_t))) != 0);\n",
       "    __pyx_t_3 = __pyx_t_2;\n",
       "    __pyx_L34_bool_binop_done:;\n",
       "    if (__pyx_t_3) {\n",
       "      __pyx_t_8 = __Pyx_PyObject_to_MemoryviewSlice_ds_nn___pyx_t_5numpy_int64_t(__pyx_v_arg, 0); \n",
       "      __pyx_v_memslice = __pyx_t_8;\n",
       "      __pyx_t_3 = (__pyx_v_memslice.memview != 0);\n",
       "      if (__pyx_t_3) {\n",
       "        __PYX_XDEC_MEMVIEW((&amp;__pyx_v_memslice), 1); \n",
       "        if (unlikely(<span class='pyx_c_api'>__Pyx_SetItemInt</span>(__pyx_v_dest_sig, 0, __pyx_n_s_int64_t, long, 1, __Pyx_PyInt_From_long, 1, 0, 0) &lt; 0)) <span class='error_goto'>__PYX_ERR(0, 14, __pyx_L1_error)</span>\n",
       "        goto __pyx_L10_break;\n",
       "      }\n",
       "      /*else*/ {\n",
       "        <span class='py_c_api'>PyErr_Clear</span>(); \n",
       "      }\n",
       "    }\n",
       "    __pyx_t_2 = ((__pyx_v_itemsize == -1L) != 0);\n",
       "    if (!__pyx_t_2) {\n",
       "    } else {\n",
       "      __pyx_t_3 = __pyx_t_2;\n",
       "      goto __pyx_L38_bool_binop_done;\n",
       "    }\n",
       "    __pyx_t_2 = ((__pyx_v_itemsize == (sizeof(__pyx_t_5numpy_float32_t))) != 0);\n",
       "    __pyx_t_3 = __pyx_t_2;\n",
       "    __pyx_L38_bool_binop_done:;\n",
       "    if (__pyx_t_3) {\n",
       "      __pyx_t_8 = __Pyx_PyObject_to_MemoryviewSlice_ds_nn___pyx_t_5numpy_float32_t(__pyx_v_arg, 0); \n",
       "      __pyx_v_memslice = __pyx_t_8;\n",
       "      __pyx_t_3 = (__pyx_v_memslice.memview != 0);\n",
       "      if (__pyx_t_3) {\n",
       "        __PYX_XDEC_MEMVIEW((&amp;__pyx_v_memslice), 1); \n",
       "        if (unlikely(<span class='pyx_c_api'>__Pyx_SetItemInt</span>(__pyx_v_dest_sig, 0, __pyx_n_s_float32_t, long, 1, __Pyx_PyInt_From_long, 1, 0, 0) &lt; 0)) <span class='error_goto'>__PYX_ERR(0, 14, __pyx_L1_error)</span>\n",
       "        goto __pyx_L10_break;\n",
       "      }\n",
       "      /*else*/ {\n",
       "        <span class='py_c_api'>PyErr_Clear</span>(); \n",
       "      }\n",
       "    }\n",
       "    __pyx_t_2 = ((__pyx_v_itemsize == -1L) != 0);\n",
       "    if (!__pyx_t_2) {\n",
       "    } else {\n",
       "      __pyx_t_3 = __pyx_t_2;\n",
       "      goto __pyx_L42_bool_binop_done;\n",
       "    }\n",
       "    __pyx_t_2 = ((__pyx_v_itemsize == (sizeof(__pyx_t_5numpy_float64_t))) != 0);\n",
       "    __pyx_t_3 = __pyx_t_2;\n",
       "    __pyx_L42_bool_binop_done:;\n",
       "    if (__pyx_t_3) {\n",
       "      __pyx_t_8 = __Pyx_PyObject_to_MemoryviewSlice_ds_nn___pyx_t_5numpy_float64_t(__pyx_v_arg, 0); \n",
       "      __pyx_v_memslice = __pyx_t_8;\n",
       "      __pyx_t_3 = (__pyx_v_memslice.memview != 0);\n",
       "      if (__pyx_t_3) {\n",
       "        __PYX_XDEC_MEMVIEW((&amp;__pyx_v_memslice), 1); \n",
       "        if (unlikely(<span class='pyx_c_api'>__Pyx_SetItemInt</span>(__pyx_v_dest_sig, 0, __pyx_n_s_float64_t, long, 1, __Pyx_PyInt_From_long, 1, 0, 0) &lt; 0)) <span class='error_goto'>__PYX_ERR(0, 14, __pyx_L1_error)</span>\n",
       "        goto __pyx_L10_break;\n",
       "      }\n",
       "      /*else*/ {\n",
       "        <span class='py_c_api'>PyErr_Clear</span>(); \n",
       "      }\n",
       "    }\n",
       "    if (unlikely(<span class='pyx_c_api'>__Pyx_SetItemInt</span>(__pyx_v_dest_sig, 0, Py_None, long, 1, __Pyx_PyInt_From_long, 1, 0, 0) &lt; 0)) <span class='error_goto'>__PYX_ERR(0, 14, __pyx_L1_error)</span>\n",
       "    goto __pyx_L10_break;\n",
       "  }\n",
       "  __pyx_L10_break:;\n",
       "  __pyx_t_3 = <span class='pyx_c_api'>__Pyx_PyObject_IsTrue</span>(__pyx_v__fused_sigindex); if (unlikely(__pyx_t_3 &lt; 0)) <span class='error_goto'>__PYX_ERR(0, 14, __pyx_L1_error)</span>\n",
       "  __pyx_t_2 = ((!__pyx_t_3) != 0);\n",
       "  if (__pyx_t_2) {\n",
       "    __pyx_t_5 = 0;\n",
       "    if (unlikely(__pyx_v_signatures == Py_None)) {\n",
       "      <span class='py_c_api'>PyErr_SetString</span>(PyExc_TypeError, \"'NoneType' object is not iterable\");\n",
       "      <span class='error_goto'>__PYX_ERR(0, 14, __pyx_L1_error)</span>\n",
       "    }\n",
       "    __pyx_t_1 = __Pyx_dict_iterator(((PyObject*)__pyx_v_signatures), 1, ((PyObject *)NULL), (&amp;__pyx_t_9), (&amp;__pyx_t_10));<span class='error_goto'> if (unlikely(!__pyx_t_1)) __PYX_ERR(0, 14, __pyx_L1_error)</span>\n",
       "    <span class='refnanny'>__Pyx_GOTREF</span>(__pyx_t_1);\n",
       "    <span class='pyx_macro_api'>__Pyx_XDECREF</span>(__pyx_t_6);\n",
       "    __pyx_t_6 = __pyx_t_1;\n",
       "    __pyx_t_1 = 0;\n",
       "    while (1) {\n",
       "      __pyx_t_11 = __Pyx_dict_iter_next(__pyx_t_6, __pyx_t_9, &amp;__pyx_t_5, &amp;__pyx_t_1, NULL, NULL, __pyx_t_10);\n",
       "      if (unlikely(__pyx_t_11 == 0)) break;\n",
       "      if (unlikely(__pyx_t_11 == -1)) <span class='error_goto'>__PYX_ERR(0, 14, __pyx_L1_error)</span>\n",
       "      <span class='refnanny'>__Pyx_GOTREF</span>(__pyx_t_1);\n",
       "      <span class='pyx_macro_api'>__Pyx_XDECREF_SET</span>(__pyx_v_sig, __pyx_t_1);\n",
       "      __pyx_t_1 = 0;\n",
       "      if (!(likely(<span class='py_c_api'>PyDict_CheckExact</span>(__pyx_v__fused_sigindex))||((__pyx_v__fused_sigindex) == Py_None)||(<span class='py_c_api'>PyErr_Format</span>(PyExc_TypeError, \"Expected %.16s, got %.200s\", \"dict\", <span class='pyx_c_api'>__Pyx_PyType_Name</span>(Py_TYPE(__pyx_v__fused_sigindex))), 0))) <span class='error_goto'>__PYX_ERR(0, 14, __pyx_L1_error)</span>\n",
       "      __pyx_t_1 = __pyx_v__fused_sigindex;\n",
       "      <span class='pyx_macro_api'>__Pyx_INCREF</span>(__pyx_t_1);\n",
       "      <span class='pyx_macro_api'>__Pyx_XDECREF_SET</span>(__pyx_v_sigindex_node, ((PyObject*)__pyx_t_1));\n",
       "      __pyx_t_1 = 0;\n",
       "      __pyx_t_13 = <span class='pyx_c_api'>__Pyx_PyObject_GetAttrStr</span>(__pyx_v_sig, __pyx_n_s_strip);<span class='error_goto'> if (unlikely(!__pyx_t_13)) __PYX_ERR(0, 14, __pyx_L1_error)</span>\n",
       "      <span class='refnanny'>__Pyx_GOTREF</span>(__pyx_t_13);\n",
       "      __pyx_t_14 = NULL;\n",
       "      __pyx_t_11 = 0;\n",
       "      if (CYTHON_UNPACK_METHODS &amp;&amp; likely(<span class='py_c_api'>PyMethod_Check</span>(__pyx_t_13))) {\n",
       "        __pyx_t_14 = <span class='py_macro_api'>PyMethod_GET_SELF</span>(__pyx_t_13);\n",
       "        if (likely(__pyx_t_14)) {\n",
       "          PyObject* function = <span class='py_macro_api'>PyMethod_GET_FUNCTION</span>(__pyx_t_13);\n",
       "          <span class='pyx_macro_api'>__Pyx_INCREF</span>(__pyx_t_14);\n",
       "          <span class='pyx_macro_api'>__Pyx_INCREF</span>(function);\n",
       "          <span class='pyx_macro_api'>__Pyx_DECREF_SET</span>(__pyx_t_13, function);\n",
       "          __pyx_t_11 = 1;\n",
       "        }\n",
       "      }\n",
       "      {\n",
       "        PyObject *__pyx_callargs[2] = {__pyx_t_14, __pyx_kp_s__2};\n",
       "        __pyx_t_12 = <span class='pyx_c_api'>__Pyx_PyObject_FastCall</span>(__pyx_t_13, __pyx_callargs+1-__pyx_t_11, 1+__pyx_t_11);\n",
       "        <span class='pyx_macro_api'>__Pyx_XDECREF</span>(__pyx_t_14); __pyx_t_14 = 0;\n",
       "        if (unlikely(!__pyx_t_12)) <span class='error_goto'>__PYX_ERR(0, 14, __pyx_L1_error)</span>\n",
       "        <span class='refnanny'>__Pyx_GOTREF</span>(__pyx_t_12);\n",
       "        <span class='pyx_macro_api'>__Pyx_DECREF</span>(__pyx_t_13); __pyx_t_13 = 0;\n",
       "      }\n",
       "      __pyx_t_13 = <span class='pyx_c_api'>__Pyx_PyObject_GetAttrStr</span>(__pyx_t_12, __pyx_n_s_split);<span class='error_goto'> if (unlikely(!__pyx_t_13)) __PYX_ERR(0, 14, __pyx_L1_error)</span>\n",
       "      <span class='refnanny'>__Pyx_GOTREF</span>(__pyx_t_13);\n",
       "      <span class='pyx_macro_api'>__Pyx_DECREF</span>(__pyx_t_12); __pyx_t_12 = 0;\n",
       "      __pyx_t_12 = NULL;\n",
       "      __pyx_t_15 = 0;\n",
       "      if (CYTHON_UNPACK_METHODS &amp;&amp; likely(<span class='py_c_api'>PyMethod_Check</span>(__pyx_t_13))) {\n",
       "        __pyx_t_12 = <span class='py_macro_api'>PyMethod_GET_SELF</span>(__pyx_t_13);\n",
       "        if (likely(__pyx_t_12)) {\n",
       "          PyObject* function = <span class='py_macro_api'>PyMethod_GET_FUNCTION</span>(__pyx_t_13);\n",
       "          <span class='pyx_macro_api'>__Pyx_INCREF</span>(__pyx_t_12);\n",
       "          <span class='pyx_macro_api'>__Pyx_INCREF</span>(function);\n",
       "          <span class='pyx_macro_api'>__Pyx_DECREF_SET</span>(__pyx_t_13, function);\n",
       "          __pyx_t_15 = 1;\n",
       "        }\n",
       "      }\n",
       "      {\n",
       "        PyObject *__pyx_callargs[2] = {__pyx_t_12, __pyx_kp_s__3};\n",
       "        __pyx_t_1 = <span class='pyx_c_api'>__Pyx_PyObject_FastCall</span>(__pyx_t_13, __pyx_callargs+1-__pyx_t_15, 1+__pyx_t_15);\n",
       "        <span class='pyx_macro_api'>__Pyx_XDECREF</span>(__pyx_t_12); __pyx_t_12 = 0;\n",
       "        if (unlikely(!__pyx_t_1)) <span class='error_goto'>__PYX_ERR(0, 14, __pyx_L1_error)</span>\n",
       "        <span class='refnanny'>__Pyx_GOTREF</span>(__pyx_t_1);\n",
       "        <span class='pyx_macro_api'>__Pyx_DECREF</span>(__pyx_t_13); __pyx_t_13 = 0;\n",
       "      }\n",
       "      __pyx_t_13 = <span class='pyx_c_api'>__Pyx_PySequence_ListKeepNew</span>(__pyx_t_1);<span class='error_goto'> if (unlikely(!__pyx_t_13)) __PYX_ERR(0, 14, __pyx_L1_error)</span>\n",
       "      <span class='refnanny'>__Pyx_GOTREF</span>(__pyx_t_13);\n",
       "      <span class='pyx_macro_api'>__Pyx_DECREF</span>(__pyx_t_1); __pyx_t_1 = 0;\n",
       "      __pyx_t_16 = <span class='py_macro_api'>PyList_GET_SIZE</span>(__pyx_t_13);\n",
       "      if (unlikely(__pyx_t_16 &lt; 1)) {\n",
       "        <span class='pyx_c_api'>__Pyx_RaiseNeedMoreValuesError</span>(0+__pyx_t_16); <span class='error_goto'>__PYX_ERR(0, 14, __pyx_L1_error)</span>\n",
       "      }\n",
       "      #if CYTHON_COMPILING_IN_CPYTHON\n",
       "      __pyx_t_12 = <span class='py_macro_api'>PyList_GET_ITEM</span>(__pyx_t_13, __pyx_t_16-1); \n",
       "      ((PyVarObject*)__pyx_t_13)-&gt;ob_size--;\n",
       "      #else\n",
       "      __pyx_t_12 = <span class='py_macro_api'>PySequence_ITEM</span>(__pyx_t_13, __pyx_t_16-1); \n",
       "      #endif\n",
       "      <span class='refnanny'>__Pyx_GOTREF</span>(__pyx_t_12);\n",
       "      #if !CYTHON_COMPILING_IN_CPYTHON\n",
       "      __pyx_t_14 = <span class='py_c_api'>PySequence_GetSlice</span>(__pyx_t_13, 0, __pyx_t_16-1);<span class='error_goto'> if (unlikely(!__pyx_t_14)) __PYX_ERR(0, 14, __pyx_L1_error)</span>\n",
       "      <span class='refnanny'>__Pyx_GOTREF</span>(__pyx_t_14);\n",
       "      <span class='pyx_macro_api'>__Pyx_DECREF</span>(__pyx_t_13);\n",
       "      __pyx_t_13 = __pyx_t_14; __pyx_t_14 = NULL;\n",
       "      #else\n",
       "      (void)__pyx_t_14;\n",
       "      #endif\n",
       "      <span class='pyx_macro_api'>__Pyx_XDECREF_SET</span>(__pyx_v_sig_series, ((PyObject*)__pyx_t_13));\n",
       "      __pyx_t_13 = 0;\n",
       "      <span class='pyx_macro_api'>__Pyx_XDECREF_SET</span>(__pyx_v_last_type, __pyx_t_12);\n",
       "      __pyx_t_12 = 0;\n",
       "      if (likely(<span class='py_c_api'>PyList_CheckExact</span>(__pyx_v_sig_series)) || <span class='py_c_api'>PyTuple_CheckExact</span>(__pyx_v_sig_series)) {\n",
       "        __pyx_t_1 = __pyx_v_sig_series; <span class='pyx_macro_api'>__Pyx_INCREF</span>(__pyx_t_1); __pyx_t_16 = 0;\n",
       "        __pyx_t_17 = NULL;\n",
       "      } else {\n",
       "        __pyx_t_16 = -1; __pyx_t_1 = <span class='py_c_api'>PyObject_GetIter</span>(__pyx_v_sig_series);<span class='error_goto'> if (unlikely(!__pyx_t_1)) __PYX_ERR(0, 14, __pyx_L1_error)</span>\n",
       "        <span class='refnanny'>__Pyx_GOTREF</span>(__pyx_t_1);\n",
       "        __pyx_t_17 = Py_TYPE(__pyx_t_1)-&gt;tp_iternext;<span class='error_goto'> if (unlikely(!__pyx_t_17)) __PYX_ERR(0, 14, __pyx_L1_error)</span>\n",
       "      }\n",
       "      for (;;) {\n",
       "        if (likely(!__pyx_t_17)) {\n",
       "          if (likely(<span class='py_c_api'>PyList_CheckExact</span>(__pyx_t_1))) {\n",
       "            if (__pyx_t_16 &gt;= <span class='py_macro_api'>PyList_GET_SIZE</span>(__pyx_t_1)) break;\n",
       "            #if CYTHON_ASSUME_SAFE_MACROS &amp;&amp; !CYTHON_AVOID_BORROWED_REFS\n",
       "            __pyx_t_12 = <span class='py_macro_api'>PyList_GET_ITEM</span>(__pyx_t_1, __pyx_t_16); <span class='pyx_macro_api'>__Pyx_INCREF</span>(__pyx_t_12); __pyx_t_16++; if (unlikely(0 &lt; 0)) <span class='error_goto'>__PYX_ERR(0, 14, __pyx_L1_error)</span>\n",
       "            #else\n",
       "            __pyx_t_12 = <span class='py_macro_api'>PySequence_ITEM</span>(__pyx_t_1, __pyx_t_16); __pyx_t_16++;<span class='error_goto'> if (unlikely(!__pyx_t_12)) __PYX_ERR(0, 14, __pyx_L1_error)</span>\n",
       "            <span class='refnanny'>__Pyx_GOTREF</span>(__pyx_t_12);\n",
       "            #endif\n",
       "          } else {\n",
       "            if (__pyx_t_16 &gt;= <span class='py_macro_api'>PyTuple_GET_SIZE</span>(__pyx_t_1)) break;\n",
       "            #if CYTHON_ASSUME_SAFE_MACROS &amp;&amp; !CYTHON_AVOID_BORROWED_REFS\n",
       "            __pyx_t_12 = <span class='py_macro_api'>PyTuple_GET_ITEM</span>(__pyx_t_1, __pyx_t_16); <span class='pyx_macro_api'>__Pyx_INCREF</span>(__pyx_t_12); __pyx_t_16++; if (unlikely(0 &lt; 0)) <span class='error_goto'>__PYX_ERR(0, 14, __pyx_L1_error)</span>\n",
       "            #else\n",
       "            __pyx_t_12 = <span class='py_macro_api'>PySequence_ITEM</span>(__pyx_t_1, __pyx_t_16); __pyx_t_16++;<span class='error_goto'> if (unlikely(!__pyx_t_12)) __PYX_ERR(0, 14, __pyx_L1_error)</span>\n",
       "            <span class='refnanny'>__Pyx_GOTREF</span>(__pyx_t_12);\n",
       "            #endif\n",
       "          }\n",
       "        } else {\n",
       "          __pyx_t_12 = __pyx_t_17(__pyx_t_1);\n",
       "          if (unlikely(!__pyx_t_12)) {\n",
       "            PyObject* exc_type = <span class='py_c_api'>PyErr_Occurred</span>();\n",
       "            if (exc_type) {\n",
       "              if (likely(<span class='pyx_c_api'>__Pyx_PyErr_GivenExceptionMatches</span>(exc_type, PyExc_StopIteration))) <span class='py_c_api'>PyErr_Clear</span>();\n",
       "              else <span class='error_goto'>__PYX_ERR(0, 14, __pyx_L1_error)</span>\n",
       "            }\n",
       "            break;\n",
       "          }\n",
       "          <span class='refnanny'>__Pyx_GOTREF</span>(__pyx_t_12);\n",
       "        }\n",
       "        <span class='pyx_macro_api'>__Pyx_XDECREF_SET</span>(__pyx_v_sig_type, __pyx_t_12);\n",
       "        __pyx_t_12 = 0;\n",
       "        if (unlikely(__pyx_v_sigindex_node == Py_None)) {\n",
       "          <span class='py_c_api'>PyErr_SetString</span>(PyExc_TypeError, \"'NoneType' object is not iterable\");\n",
       "          <span class='error_goto'>__PYX_ERR(0, 14, __pyx_L1_error)</span>\n",
       "        }\n",
       "        __pyx_t_2 = (<span class='pyx_c_api'>__Pyx_PyDict_ContainsTF</span>(__pyx_v_sig_type, __pyx_v_sigindex_node, Py_NE)); if (unlikely(__pyx_t_2 &lt; 0)) <span class='error_goto'>__PYX_ERR(0, 14, __pyx_L1_error)</span>\n",
       "        __pyx_t_3 = (__pyx_t_2 != 0);\n",
       "        if (__pyx_t_3) {\n",
       "          __pyx_t_12 = <span class='pyx_c_api'>__Pyx_PyDict_NewPresized</span>(0);<span class='error_goto'> if (unlikely(!__pyx_t_12)) __PYX_ERR(0, 14, __pyx_L1_error)</span>\n",
       "          <span class='refnanny'>__Pyx_GOTREF</span>(__pyx_t_12);\n",
       "          if (unlikely(__pyx_v_sigindex_node == Py_None)) {\n",
       "            <span class='py_c_api'>PyErr_SetString</span>(PyExc_TypeError, \"'NoneType' object is not subscriptable\");\n",
       "            <span class='error_goto'>__PYX_ERR(0, 14, __pyx_L1_error)</span>\n",
       "          }\n",
       "          if (unlikely(<span class='py_c_api'>PyDict_SetItem</span>(__pyx_v_sigindex_node, __pyx_v_sig_type, __pyx_t_12) &lt; 0)) <span class='error_goto'>__PYX_ERR(0, 14, __pyx_L1_error)</span>\n",
       "          <span class='pyx_macro_api'>__Pyx_INCREF</span>(__pyx_t_12);\n",
       "          <span class='pyx_macro_api'>__Pyx_DECREF_SET</span>(__pyx_v_sigindex_node, __pyx_t_12);\n",
       "          <span class='pyx_macro_api'>__Pyx_DECREF</span>(__pyx_t_12); __pyx_t_12 = 0;\n",
       "          goto __pyx_L50;\n",
       "        }\n",
       "        /*else*/ {\n",
       "          if (unlikely(__pyx_v_sigindex_node == Py_None)) {\n",
       "            <span class='py_c_api'>PyErr_SetString</span>(PyExc_TypeError, \"'NoneType' object is not subscriptable\");\n",
       "            <span class='error_goto'>__PYX_ERR(0, 14, __pyx_L1_error)</span>\n",
       "          }\n",
       "          __pyx_t_12 = <span class='pyx_c_api'>__Pyx_PyDict_GetItem</span>(__pyx_v_sigindex_node, __pyx_v_sig_type);<span class='error_goto'> if (unlikely(!__pyx_t_12)) __PYX_ERR(0, 14, __pyx_L1_error)</span>\n",
       "          <span class='refnanny'>__Pyx_GOTREF</span>(__pyx_t_12);\n",
       "          if (!(likely(<span class='py_c_api'>PyDict_CheckExact</span>(__pyx_t_12))||((__pyx_t_12) == Py_None)||(<span class='py_c_api'>PyErr_Format</span>(PyExc_TypeError, \"Expected %.16s, got %.200s\", \"dict\", <span class='pyx_c_api'>__Pyx_PyType_Name</span>(Py_TYPE(__pyx_t_12))), 0))) <span class='error_goto'>__PYX_ERR(0, 14, __pyx_L1_error)</span>\n",
       "          <span class='pyx_macro_api'>__Pyx_DECREF_SET</span>(__pyx_v_sigindex_node, ((PyObject*)__pyx_t_12));\n",
       "          __pyx_t_12 = 0;\n",
       "        }\n",
       "        __pyx_L50:;\n",
       "      }\n",
       "      <span class='pyx_macro_api'>__Pyx_DECREF</span>(__pyx_t_1); __pyx_t_1 = 0;\n",
       "      if (unlikely(__pyx_v_sigindex_node == Py_None)) {\n",
       "        <span class='py_c_api'>PyErr_SetString</span>(PyExc_TypeError, \"'NoneType' object is not subscriptable\");\n",
       "        <span class='error_goto'>__PYX_ERR(0, 14, __pyx_L1_error)</span>\n",
       "      }\n",
       "      if (unlikely(<span class='py_c_api'>PyDict_SetItem</span>(__pyx_v_sigindex_node, __pyx_v_last_type, __pyx_v_sig) &lt; 0)) <span class='error_goto'>__PYX_ERR(0, 14, __pyx_L1_error)</span>\n",
       "    }\n",
       "    <span class='pyx_macro_api'>__Pyx_DECREF</span>(__pyx_t_6); __pyx_t_6 = 0;\n",
       "  }\n",
       "  __pyx_t_6 = <span class='py_c_api'>PyList_New</span>(0);<span class='error_goto'> if (unlikely(!__pyx_t_6)) __PYX_ERR(0, 14, __pyx_L1_error)</span>\n",
       "  <span class='refnanny'>__Pyx_GOTREF</span>(__pyx_t_6);\n",
       "  __pyx_v_sigindex_matches = ((PyObject*)__pyx_t_6);\n",
       "  __pyx_t_6 = 0;\n",
       "  __pyx_t_6 = <span class='py_c_api'>PyList_New</span>(1);<span class='error_goto'> if (unlikely(!__pyx_t_6)) __PYX_ERR(0, 14, __pyx_L1_error)</span>\n",
       "  <span class='refnanny'>__Pyx_GOTREF</span>(__pyx_t_6);\n",
       "  <span class='pyx_macro_api'>__Pyx_INCREF</span>(__pyx_v__fused_sigindex);\n",
       "  <span class='refnanny'>__Pyx_GIVEREF</span>(__pyx_v__fused_sigindex);\n",
       "  <span class='py_macro_api'>PyList_SET_ITEM</span>(__pyx_t_6, 0, __pyx_v__fused_sigindex);\n",
       "  __pyx_v_sigindex_candidates = ((PyObject*)__pyx_t_6);\n",
       "  __pyx_t_6 = 0;\n",
       "  __pyx_t_6 = __pyx_v_dest_sig; <span class='pyx_macro_api'>__Pyx_INCREF</span>(__pyx_t_6); __pyx_t_9 = 0;\n",
       "  for (;;) {\n",
       "    if (__pyx_t_9 &gt;= <span class='py_macro_api'>PyList_GET_SIZE</span>(__pyx_t_6)) break;\n",
       "    #if CYTHON_ASSUME_SAFE_MACROS &amp;&amp; !CYTHON_AVOID_BORROWED_REFS\n",
       "    __pyx_t_1 = <span class='py_macro_api'>PyList_GET_ITEM</span>(__pyx_t_6, __pyx_t_9); <span class='pyx_macro_api'>__Pyx_INCREF</span>(__pyx_t_1); __pyx_t_9++; if (unlikely(0 &lt; 0)) <span class='error_goto'>__PYX_ERR(0, 14, __pyx_L1_error)</span>\n",
       "    #else\n",
       "    __pyx_t_1 = <span class='py_macro_api'>PySequence_ITEM</span>(__pyx_t_6, __pyx_t_9); __pyx_t_9++;<span class='error_goto'> if (unlikely(!__pyx_t_1)) __PYX_ERR(0, 14, __pyx_L1_error)</span>\n",
       "    <span class='refnanny'>__Pyx_GOTREF</span>(__pyx_t_1);\n",
       "    #endif\n",
       "    <span class='pyx_macro_api'>__Pyx_XDECREF_SET</span>(__pyx_v_dst_type, __pyx_t_1);\n",
       "    __pyx_t_1 = 0;\n",
       "    __pyx_t_1 = <span class='py_c_api'>PyList_New</span>(0);<span class='error_goto'> if (unlikely(!__pyx_t_1)) __PYX_ERR(0, 14, __pyx_L1_error)</span>\n",
       "    <span class='refnanny'>__Pyx_GOTREF</span>(__pyx_t_1);\n",
       "    <span class='pyx_macro_api'>__Pyx_XDECREF_SET</span>(__pyx_v_found_matches, ((PyObject*)__pyx_t_1));\n",
       "    __pyx_t_1 = 0;\n",
       "    __pyx_t_1 = <span class='py_c_api'>PyList_New</span>(0);<span class='error_goto'> if (unlikely(!__pyx_t_1)) __PYX_ERR(0, 14, __pyx_L1_error)</span>\n",
       "    <span class='refnanny'>__Pyx_GOTREF</span>(__pyx_t_1);\n",
       "    <span class='pyx_macro_api'>__Pyx_XDECREF_SET</span>(__pyx_v_found_candidates, ((PyObject*)__pyx_t_1));\n",
       "    __pyx_t_1 = 0;\n",
       "    __pyx_t_3 = (__pyx_v_dst_type == Py_None);\n",
       "    __pyx_t_2 = (__pyx_t_3 != 0);\n",
       "    if (__pyx_t_2) {\n",
       "      __pyx_t_1 = __pyx_v_sigindex_matches; <span class='pyx_macro_api'>__Pyx_INCREF</span>(__pyx_t_1); __pyx_t_5 = 0;\n",
       "      for (;;) {\n",
       "        if (__pyx_t_5 &gt;= <span class='py_macro_api'>PyList_GET_SIZE</span>(__pyx_t_1)) break;\n",
       "        #if CYTHON_ASSUME_SAFE_MACROS &amp;&amp; !CYTHON_AVOID_BORROWED_REFS\n",
       "        __pyx_t_12 = <span class='py_macro_api'>PyList_GET_ITEM</span>(__pyx_t_1, __pyx_t_5); <span class='pyx_macro_api'>__Pyx_INCREF</span>(__pyx_t_12); __pyx_t_5++; if (unlikely(0 &lt; 0)) <span class='error_goto'>__PYX_ERR(0, 14, __pyx_L1_error)</span>\n",
       "        #else\n",
       "        __pyx_t_12 = <span class='py_macro_api'>PySequence_ITEM</span>(__pyx_t_1, __pyx_t_5); __pyx_t_5++;<span class='error_goto'> if (unlikely(!__pyx_t_12)) __PYX_ERR(0, 14, __pyx_L1_error)</span>\n",
       "        <span class='refnanny'>__Pyx_GOTREF</span>(__pyx_t_12);\n",
       "        #endif\n",
       "        if (!(likely(<span class='py_c_api'>PyDict_CheckExact</span>(__pyx_t_12))||((__pyx_t_12) == Py_None)||(<span class='py_c_api'>PyErr_Format</span>(PyExc_TypeError, \"Expected %.16s, got %.200s\", \"dict\", <span class='pyx_c_api'>__Pyx_PyType_Name</span>(Py_TYPE(__pyx_t_12))), 0))) <span class='error_goto'>__PYX_ERR(0, 14, __pyx_L1_error)</span>\n",
       "        <span class='pyx_macro_api'>__Pyx_XDECREF_SET</span>(__pyx_v_sn, ((PyObject*)__pyx_t_12));\n",
       "        __pyx_t_12 = 0;\n",
       "        if (unlikely(__pyx_v_sn == Py_None)) {\n",
       "          <span class='py_c_api'>PyErr_Format</span>(PyExc_AttributeError, \"'NoneType' object has no attribute '%.30s'\", \"values\");\n",
       "          <span class='error_goto'>__PYX_ERR(0, 14, __pyx_L1_error)</span>\n",
       "        }\n",
       "        __pyx_t_12 = <span class='pyx_c_api'>__Pyx_PyDict_Values</span>(__pyx_v_sn);<span class='error_goto'> if (unlikely(!__pyx_t_12)) __PYX_ERR(0, 14, __pyx_L1_error)</span>\n",
       "        <span class='refnanny'>__Pyx_GOTREF</span>(__pyx_t_12);\n",
       "        __pyx_t_18 = <span class='pyx_c_api'>__Pyx_PyList_Extend</span>(__pyx_v_found_matches, __pyx_t_12);<span class='error_goto'> if (unlikely(__pyx_t_18 == ((int)-1))) __PYX_ERR(0, 14, __pyx_L1_error)</span>\n",
       "        <span class='pyx_macro_api'>__Pyx_DECREF</span>(__pyx_t_12); __pyx_t_12 = 0;\n",
       "      }\n",
       "      <span class='pyx_macro_api'>__Pyx_DECREF</span>(__pyx_t_1); __pyx_t_1 = 0;\n",
       "      __pyx_t_1 = __pyx_v_sigindex_candidates; <span class='pyx_macro_api'>__Pyx_INCREF</span>(__pyx_t_1); __pyx_t_5 = 0;\n",
       "      for (;;) {\n",
       "        if (__pyx_t_5 &gt;= <span class='py_macro_api'>PyList_GET_SIZE</span>(__pyx_t_1)) break;\n",
       "        #if CYTHON_ASSUME_SAFE_MACROS &amp;&amp; !CYTHON_AVOID_BORROWED_REFS\n",
       "        __pyx_t_12 = <span class='py_macro_api'>PyList_GET_ITEM</span>(__pyx_t_1, __pyx_t_5); <span class='pyx_macro_api'>__Pyx_INCREF</span>(__pyx_t_12); __pyx_t_5++; if (unlikely(0 &lt; 0)) <span class='error_goto'>__PYX_ERR(0, 14, __pyx_L1_error)</span>\n",
       "        #else\n",
       "        __pyx_t_12 = <span class='py_macro_api'>PySequence_ITEM</span>(__pyx_t_1, __pyx_t_5); __pyx_t_5++;<span class='error_goto'> if (unlikely(!__pyx_t_12)) __PYX_ERR(0, 14, __pyx_L1_error)</span>\n",
       "        <span class='refnanny'>__Pyx_GOTREF</span>(__pyx_t_12);\n",
       "        #endif\n",
       "        if (!(likely(<span class='py_c_api'>PyDict_CheckExact</span>(__pyx_t_12))||((__pyx_t_12) == Py_None)||(<span class='py_c_api'>PyErr_Format</span>(PyExc_TypeError, \"Expected %.16s, got %.200s\", \"dict\", <span class='pyx_c_api'>__Pyx_PyType_Name</span>(Py_TYPE(__pyx_t_12))), 0))) <span class='error_goto'>__PYX_ERR(0, 14, __pyx_L1_error)</span>\n",
       "        <span class='pyx_macro_api'>__Pyx_XDECREF_SET</span>(__pyx_v_sn, ((PyObject*)__pyx_t_12));\n",
       "        __pyx_t_12 = 0;\n",
       "        if (unlikely(__pyx_v_sn == Py_None)) {\n",
       "          <span class='py_c_api'>PyErr_Format</span>(PyExc_AttributeError, \"'NoneType' object has no attribute '%.30s'\", \"values\");\n",
       "          <span class='error_goto'>__PYX_ERR(0, 14, __pyx_L1_error)</span>\n",
       "        }\n",
       "        __pyx_t_12 = <span class='pyx_c_api'>__Pyx_PyDict_Values</span>(__pyx_v_sn);<span class='error_goto'> if (unlikely(!__pyx_t_12)) __PYX_ERR(0, 14, __pyx_L1_error)</span>\n",
       "        <span class='refnanny'>__Pyx_GOTREF</span>(__pyx_t_12);\n",
       "        __pyx_t_18 = <span class='pyx_c_api'>__Pyx_PyList_Extend</span>(__pyx_v_found_candidates, __pyx_t_12);<span class='error_goto'> if (unlikely(__pyx_t_18 == ((int)-1))) __PYX_ERR(0, 14, __pyx_L1_error)</span>\n",
       "        <span class='pyx_macro_api'>__Pyx_DECREF</span>(__pyx_t_12); __pyx_t_12 = 0;\n",
       "      }\n",
       "      <span class='pyx_macro_api'>__Pyx_DECREF</span>(__pyx_t_1); __pyx_t_1 = 0;\n",
       "      goto __pyx_L53;\n",
       "    }\n",
       "    /*else*/ {\n",
       "      __pyx_t_1 = <span class='py_c_api'>PyTuple_New</span>(2);<span class='error_goto'> if (unlikely(!__pyx_t_1)) __PYX_ERR(0, 14, __pyx_L1_error)</span>\n",
       "      <span class='refnanny'>__Pyx_GOTREF</span>(__pyx_t_1);\n",
       "      <span class='pyx_macro_api'>__Pyx_INCREF</span>(__pyx_v_sigindex_matches);\n",
       "      <span class='refnanny'>__Pyx_GIVEREF</span>(__pyx_v_sigindex_matches);\n",
       "      <span class='py_macro_api'>PyTuple_SET_ITEM</span>(__pyx_t_1, 0, __pyx_v_sigindex_matches);\n",
       "      <span class='pyx_macro_api'>__Pyx_INCREF</span>(__pyx_v_sigindex_candidates);\n",
       "      <span class='refnanny'>__Pyx_GIVEREF</span>(__pyx_v_sigindex_candidates);\n",
       "      <span class='py_macro_api'>PyTuple_SET_ITEM</span>(__pyx_t_1, 1, __pyx_v_sigindex_candidates);\n",
       "      __pyx_t_12 = __pyx_t_1; <span class='pyx_macro_api'>__Pyx_INCREF</span>(__pyx_t_12); __pyx_t_5 = 0;\n",
       "      <span class='pyx_macro_api'>__Pyx_DECREF</span>(__pyx_t_1); __pyx_t_1 = 0;\n",
       "      for (;;) {\n",
       "        if (__pyx_t_5 &gt;= 2) break;\n",
       "        #if CYTHON_ASSUME_SAFE_MACROS &amp;&amp; !CYTHON_AVOID_BORROWED_REFS\n",
       "        __pyx_t_1 = <span class='py_macro_api'>PyTuple_GET_ITEM</span>(__pyx_t_12, __pyx_t_5); <span class='pyx_macro_api'>__Pyx_INCREF</span>(__pyx_t_1); __pyx_t_5++; if (unlikely(0 &lt; 0)) <span class='error_goto'>__PYX_ERR(0, 14, __pyx_L1_error)</span>\n",
       "        #else\n",
       "        __pyx_t_1 = <span class='py_macro_api'>PySequence_ITEM</span>(__pyx_t_12, __pyx_t_5); __pyx_t_5++;<span class='error_goto'> if (unlikely(!__pyx_t_1)) __PYX_ERR(0, 14, __pyx_L1_error)</span>\n",
       "        <span class='refnanny'>__Pyx_GOTREF</span>(__pyx_t_1);\n",
       "        #endif\n",
       "        <span class='pyx_macro_api'>__Pyx_XDECREF_SET</span>(__pyx_v_search_list, ((PyObject*)__pyx_t_1));\n",
       "        __pyx_t_1 = 0;\n",
       "        if (unlikely(__pyx_v_search_list == Py_None)) {\n",
       "          <span class='py_c_api'>PyErr_SetString</span>(PyExc_TypeError, \"'NoneType' object is not iterable\");\n",
       "          <span class='error_goto'>__PYX_ERR(0, 14, __pyx_L1_error)</span>\n",
       "        }\n",
       "        __pyx_t_1 = __pyx_v_search_list; <span class='pyx_macro_api'>__Pyx_INCREF</span>(__pyx_t_1); __pyx_t_16 = 0;\n",
       "        for (;;) {\n",
       "          if (__pyx_t_16 &gt;= <span class='py_macro_api'>PyList_GET_SIZE</span>(__pyx_t_1)) break;\n",
       "          #if CYTHON_ASSUME_SAFE_MACROS &amp;&amp; !CYTHON_AVOID_BORROWED_REFS\n",
       "          __pyx_t_13 = <span class='py_macro_api'>PyList_GET_ITEM</span>(__pyx_t_1, __pyx_t_16); <span class='pyx_macro_api'>__Pyx_INCREF</span>(__pyx_t_13); __pyx_t_16++; if (unlikely(0 &lt; 0)) <span class='error_goto'>__PYX_ERR(0, 14, __pyx_L1_error)</span>\n",
       "          #else\n",
       "          __pyx_t_13 = <span class='py_macro_api'>PySequence_ITEM</span>(__pyx_t_1, __pyx_t_16); __pyx_t_16++;<span class='error_goto'> if (unlikely(!__pyx_t_13)) __PYX_ERR(0, 14, __pyx_L1_error)</span>\n",
       "          <span class='refnanny'>__Pyx_GOTREF</span>(__pyx_t_13);\n",
       "          #endif\n",
       "          if (!(likely(<span class='py_c_api'>PyDict_CheckExact</span>(__pyx_t_13))||((__pyx_t_13) == Py_None)||(<span class='py_c_api'>PyErr_Format</span>(PyExc_TypeError, \"Expected %.16s, got %.200s\", \"dict\", <span class='pyx_c_api'>__Pyx_PyType_Name</span>(Py_TYPE(__pyx_t_13))), 0))) <span class='error_goto'>__PYX_ERR(0, 14, __pyx_L1_error)</span>\n",
       "          <span class='pyx_macro_api'>__Pyx_XDECREF_SET</span>(__pyx_v_sn, ((PyObject*)__pyx_t_13));\n",
       "          __pyx_t_13 = 0;\n",
       "          if (unlikely(__pyx_v_sn == Py_None)) {\n",
       "            <span class='py_c_api'>PyErr_SetString</span>(PyExc_TypeError, \"'NoneType' object is not iterable\");\n",
       "            <span class='error_goto'>__PYX_ERR(0, 14, __pyx_L1_error)</span>\n",
       "          }\n",
       "          __pyx_t_2 = (<span class='pyx_c_api'>__Pyx_PyDict_ContainsTF</span>(__pyx_v_dst_type, __pyx_v_sn, Py_EQ)); if (unlikely(__pyx_t_2 &lt; 0)) <span class='error_goto'>__PYX_ERR(0, 14, __pyx_L1_error)</span>\n",
       "          __pyx_t_3 = (__pyx_t_2 != 0);\n",
       "          if (__pyx_t_3) {\n",
       "            if (unlikely(__pyx_v_sn == Py_None)) {\n",
       "              <span class='py_c_api'>PyErr_SetString</span>(PyExc_TypeError, \"'NoneType' object is not subscriptable\");\n",
       "              <span class='error_goto'>__PYX_ERR(0, 14, __pyx_L1_error)</span>\n",
       "            }\n",
       "            __pyx_t_13 = <span class='pyx_c_api'>__Pyx_PyDict_GetItem</span>(__pyx_v_sn, __pyx_v_dst_type);<span class='error_goto'> if (unlikely(!__pyx_t_13)) __PYX_ERR(0, 14, __pyx_L1_error)</span>\n",
       "            <span class='refnanny'>__Pyx_GOTREF</span>(__pyx_t_13);\n",
       "            __pyx_t_18 = <span class='pyx_c_api'>__Pyx_PyList_Append</span>(__pyx_v_found_matches, __pyx_t_13);<span class='error_goto'> if (unlikely(__pyx_t_18 == ((int)-1))) __PYX_ERR(0, 14, __pyx_L1_error)</span>\n",
       "            <span class='pyx_macro_api'>__Pyx_DECREF</span>(__pyx_t_13); __pyx_t_13 = 0;\n",
       "          }\n",
       "        }\n",
       "        <span class='pyx_macro_api'>__Pyx_DECREF</span>(__pyx_t_1); __pyx_t_1 = 0;\n",
       "      }\n",
       "      <span class='pyx_macro_api'>__Pyx_DECREF</span>(__pyx_t_12); __pyx_t_12 = 0;\n",
       "    }\n",
       "    __pyx_L53:;\n",
       "    <span class='pyx_macro_api'>__Pyx_INCREF</span>(__pyx_v_found_matches);\n",
       "    <span class='pyx_macro_api'>__Pyx_DECREF_SET</span>(__pyx_v_sigindex_matches, __pyx_v_found_matches);\n",
       "    <span class='pyx_macro_api'>__Pyx_INCREF</span>(__pyx_v_found_candidates);\n",
       "    <span class='pyx_macro_api'>__Pyx_DECREF_SET</span>(__pyx_v_sigindex_candidates, __pyx_v_found_candidates);\n",
       "    __pyx_t_2 = (<span class='py_macro_api'>PyList_GET_SIZE</span>(__pyx_v_found_matches) != 0);\n",
       "    if (!__pyx_t_2) {\n",
       "    } else {\n",
       "      __pyx_t_3 = __pyx_t_2;\n",
       "      goto __pyx_L64_bool_binop_done;\n",
       "    }\n",
       "    __pyx_t_2 = (<span class='py_macro_api'>PyList_GET_SIZE</span>(__pyx_v_found_candidates) != 0);\n",
       "    __pyx_t_3 = __pyx_t_2;\n",
       "    __pyx_L64_bool_binop_done:;\n",
       "    __pyx_t_2 = ((!__pyx_t_3) != 0);\n",
       "    if (__pyx_t_2) {\n",
       "      goto __pyx_L52_break;\n",
       "    }\n",
       "  }\n",
       "  __pyx_L52_break:;\n",
       "  <span class='pyx_macro_api'>__Pyx_DECREF</span>(__pyx_t_6); __pyx_t_6 = 0;\n",
       "  <span class='pyx_macro_api'>__Pyx_INCREF</span>(__pyx_v_sigindex_matches);\n",
       "  __pyx_v_candidates = __pyx_v_sigindex_matches;\n",
       "  __pyx_t_2 = (<span class='py_macro_api'>PyList_GET_SIZE</span>(__pyx_v_candidates) != 0);\n",
       "  __pyx_t_3 = ((!__pyx_t_2) != 0);\n",
       "  if (unlikely(__pyx_t_3)) {\n",
       "    __pyx_t_6 = <span class='pyx_c_api'>__Pyx_PyObject_Call</span>(__pyx_builtin_TypeError, __pyx_tuple__4, NULL);<span class='error_goto'> if (unlikely(!__pyx_t_6)) __PYX_ERR(0, 14, __pyx_L1_error)</span>\n",
       "    <span class='refnanny'>__Pyx_GOTREF</span>(__pyx_t_6);\n",
       "    <span class='pyx_c_api'>__Pyx_Raise</span>(__pyx_t_6, 0, 0, 0);\n",
       "    <span class='pyx_macro_api'>__Pyx_DECREF</span>(__pyx_t_6); __pyx_t_6 = 0;\n",
       "    <span class='error_goto'>__PYX_ERR(0, 14, __pyx_L1_error)</span>\n",
       "  }\n",
       "  __pyx_t_9 = <span class='py_macro_api'>PyList_GET_SIZE</span>(__pyx_v_candidates);<span class='error_goto'> if (unlikely(__pyx_t_9 == ((Py_ssize_t)-1))) __PYX_ERR(0, 14, __pyx_L1_error)</span>\n",
       "  __pyx_t_3 = ((__pyx_t_9 &gt; 1) != 0);\n",
       "  if (unlikely(__pyx_t_3)) {\n",
       "/* … */\n",
       "  __pyx_tuple__4 = <span class='py_c_api'>PyTuple_Pack</span>(1, __pyx_kp_s_No_matching_signature_found);<span class='error_goto'> if (unlikely(!__pyx_tuple__4)) __PYX_ERR(0, 14, __pyx_L1_error)</span>\n",
       "  <span class='refnanny'>__Pyx_GOTREF</span>(__pyx_tuple__4);\n",
       "  <span class='refnanny'>__Pyx_GIVEREF</span>(__pyx_tuple__4);\n",
       "    __pyx_t_6 = <span class='pyx_c_api'>__Pyx_PyObject_Call</span>(__pyx_builtin_TypeError, __pyx_tuple__5, NULL);<span class='error_goto'> if (unlikely(!__pyx_t_6)) __PYX_ERR(0, 14, __pyx_L1_error)</span>\n",
       "    <span class='refnanny'>__Pyx_GOTREF</span>(__pyx_t_6);\n",
       "    <span class='pyx_c_api'>__Pyx_Raise</span>(__pyx_t_6, 0, 0, 0);\n",
       "    <span class='pyx_macro_api'>__Pyx_DECREF</span>(__pyx_t_6); __pyx_t_6 = 0;\n",
       "    <span class='error_goto'>__PYX_ERR(0, 14, __pyx_L1_error)</span>\n",
       "  }\n",
       "  /*else*/ {\n",
       "    <span class='pyx_macro_api'>__Pyx_XDECREF</span>(__pyx_r);\n",
       "    if (unlikely(__pyx_v_signatures == Py_None)) {\n",
       "      <span class='py_c_api'>PyErr_SetString</span>(PyExc_TypeError, \"'NoneType' object is not subscriptable\");\n",
       "      <span class='error_goto'>__PYX_ERR(0, 14, __pyx_L1_error)</span>\n",
       "    }\n",
       "    __pyx_t_6 = <span class='pyx_c_api'>__Pyx_PyDict_GetItem</span>(((PyObject*)__pyx_v_signatures), <span class='py_macro_api'>PyList_GET_ITEM</span>(__pyx_v_candidates, 0));<span class='error_goto'> if (unlikely(!__pyx_t_6)) __PYX_ERR(0, 14, __pyx_L1_error)</span>\n",
       "    <span class='refnanny'>__Pyx_GOTREF</span>(__pyx_t_6);\n",
       "    __pyx_r = __pyx_t_6;\n",
       "    __pyx_t_6 = 0;\n",
       "    goto __pyx_L0;\n",
       "  }\n",
       "\n",
       "  /* function exit code */\n",
       "  __pyx_L1_error:;\n",
       "  <span class='pyx_macro_api'>__Pyx_XDECREF</span>(__pyx_t_1);\n",
       "  <span class='pyx_macro_api'>__Pyx_XDECREF</span>(__pyx_t_6);\n",
       "  <span class='pyx_macro_api'>__Pyx_XDECREF</span>(__pyx_t_12);\n",
       "  <span class='pyx_macro_api'>__Pyx_XDECREF</span>(__pyx_t_13);\n",
       "  <span class='pyx_macro_api'>__Pyx_XDECREF</span>(__pyx_t_14);\n",
       "  <span class='pyx_c_api'>__Pyx_AddTraceback</span>(\"_cython_magic_dc0946c22004d47e2e730d191a067bf901003dc7.__pyx_fused_cpdef\", __pyx_clineno, __pyx_lineno, __pyx_filename);\n",
       "  __pyx_r = NULL;\n",
       "  __pyx_L0:;\n",
       "  <span class='pyx_macro_api'>__Pyx_XDECREF</span>(__pyx_v_search_list);\n",
       "  <span class='pyx_macro_api'>__Pyx_XDECREF</span>(__pyx_v_sn);\n",
       "  <span class='pyx_macro_api'>__Pyx_XDECREF</span>(__pyx_v_sigindex_node);\n",
       "  <span class='pyx_macro_api'>__Pyx_XDECREF</span>(__pyx_v_dest_sig);\n",
       "  <span class='pyx_macro_api'>__Pyx_XDECREF</span>((PyObject *)__pyx_v_ndarray);\n",
       "  <span class='pyx_macro_api'>__Pyx_XDECREF</span>(__pyx_v_arg);\n",
       "  <span class='pyx_macro_api'>__Pyx_XDECREF</span>(__pyx_v_dtype);\n",
       "  <span class='pyx_macro_api'>__Pyx_XDECREF</span>(__pyx_v_arg_base);\n",
       "  <span class='pyx_macro_api'>__Pyx_XDECREF</span>(__pyx_v_sig);\n",
       "  <span class='pyx_macro_api'>__Pyx_XDECREF</span>(__pyx_v_sig_series);\n",
       "  <span class='pyx_macro_api'>__Pyx_XDECREF</span>(__pyx_v_last_type);\n",
       "  <span class='pyx_macro_api'>__Pyx_XDECREF</span>(__pyx_v_sig_type);\n",
       "  <span class='pyx_macro_api'>__Pyx_XDECREF</span>(__pyx_v_sigindex_matches);\n",
       "  <span class='pyx_macro_api'>__Pyx_XDECREF</span>(__pyx_v_sigindex_candidates);\n",
       "  <span class='pyx_macro_api'>__Pyx_XDECREF</span>(__pyx_v_dst_type);\n",
       "  <span class='pyx_macro_api'>__Pyx_XDECREF</span>(__pyx_v_found_matches);\n",
       "  <span class='pyx_macro_api'>__Pyx_XDECREF</span>(__pyx_v_found_candidates);\n",
       "  <span class='pyx_macro_api'>__Pyx_XDECREF</span>(__pyx_v_candidates);\n",
       "  <span class='pyx_macro_api'>__Pyx_XDECREF</span>(__pyx_v_kwargs);\n",
       "  <span class='refnanny'>__Pyx_XGIVEREF</span>(__pyx_r);\n",
       "  <span class='refnanny'>__Pyx_RefNannyFinishContext</span>();\n",
       "  return __pyx_r;\n",
       "}\n",
       "\n",
       "static PyObject *__pyx_pw_54_cython_magic_dc0946c22004d47e2e730d191a067bf901003dc7_3__pyx_fuse_0calc_something(PyObject *__pyx_self, PyObject *__pyx_arg_a); /*proto*/\n",
       "static PyObject *__pyx_pw_54_cython_magic_dc0946c22004d47e2e730d191a067bf901003dc7_1calc_something(PyObject *__pyx_self, PyObject *__pyx_args, PyObject *__pyx_kwds); /*proto*/\n",
       "static void __pyx_fuse_0__pyx_f_54_cython_magic_dc0946c22004d47e2e730d191a067bf901003dc7_calc_something(__Pyx_memviewslice __pyx_v_a, CYTHON_UNUSED int __pyx_skip_dispatch) {\n",
       "  __pyx_t_5numpy_uintp_t __pyx_v_i;\n",
       "  __pyx_t_5numpy_uintp_t __pyx_v_n;\n",
       "  <span class='refnanny'>__Pyx_RefNannyDeclarations</span>\n",
       "  <span class='refnanny'>__Pyx_RefNannySetupContext</span>(\"__pyx_fuse_0calc_something\", 0);\n",
       "/* … */\n",
       "  /* function exit code */\n",
       "  <span class='refnanny'>__Pyx_RefNannyFinishContext</span>();\n",
       "}\n",
       "\n",
       "/* Python wrapper */\n",
       "static PyObject *__pyx_pw_54_cython_magic_dc0946c22004d47e2e730d191a067bf901003dc7_3__pyx_fuse_0calc_something(PyObject *__pyx_self, PyObject *__pyx_arg_a); /*proto*/\n",
       "static PyMethodDef __pyx_fuse_0__pyx_mdef_54_cython_magic_dc0946c22004d47e2e730d191a067bf901003dc7_3__pyx_fuse_0calc_something = {\"__pyx_fuse_0calc_something\", (PyCFunction)__pyx_pw_54_cython_magic_dc0946c22004d47e2e730d191a067bf901003dc7_3__pyx_fuse_0calc_something, METH_O, 0};\n",
       "static PyObject *__pyx_pw_54_cython_magic_dc0946c22004d47e2e730d191a067bf901003dc7_3__pyx_fuse_0calc_something(PyObject *__pyx_self, PyObject *__pyx_arg_a) {\n",
       "  __Pyx_memviewslice __pyx_v_a = { 0, 0, { 0 }, { 0 }, { 0 } };\n",
       "  CYTHON_UNUSED PyObject *const *__pyx_kwvalues = <span class='pyx_c_api'>__Pyx_KwValues_VARARGS</span>(__pyx_args, __pyx_nargs);\n",
       "  PyObject *__pyx_r = 0;\n",
       "  <span class='refnanny'>__Pyx_RefNannyDeclarations</span>\n",
       "  <span class='refnanny'>__Pyx_RefNannySetupContext</span>(\"__pyx_fuse_0calc_something (wrapper)\", 0);\n",
       "  assert(__pyx_arg_a); {\n",
       "    __pyx_v_a = __Pyx_PyObject_to_MemoryviewSlice_ds_nn___pyx_t_5numpy_int32_t(__pyx_arg_a, PyBUF_WRITABLE);<span class='error_goto'> if (unlikely(!__pyx_v_a.memview)) __PYX_ERR(0, 14, __pyx_L3_error)</span>\n",
       "  }\n",
       "  goto __pyx_L4_argument_unpacking_done;\n",
       "  __pyx_L3_error:;\n",
       "  <span class='pyx_c_api'>__Pyx_AddTraceback</span>(\"_cython_magic_dc0946c22004d47e2e730d191a067bf901003dc7.__pyx_fuse_0calc_something\", __pyx_clineno, __pyx_lineno, __pyx_filename);\n",
       "  <span class='refnanny'>__Pyx_RefNannyFinishContext</span>();\n",
       "  return NULL;\n",
       "  __pyx_L4_argument_unpacking_done:;\n",
       "  __pyx_r = __pyx_pf_54_cython_magic_dc0946c22004d47e2e730d191a067bf901003dc7_2__pyx_fuse_0calc_something(__pyx_self, __pyx_v_a);\n",
       "\n",
       "  /* function exit code */\n",
       "  <span class='refnanny'>__Pyx_RefNannyFinishContext</span>();\n",
       "  return __pyx_r;\n",
       "}\n",
       "\n",
       "static PyObject *__pyx_pf_54_cython_magic_dc0946c22004d47e2e730d191a067bf901003dc7_2__pyx_fuse_0calc_something(CYTHON_UNUSED PyObject *__pyx_self, __Pyx_memviewslice __pyx_v_a) {\n",
       "  PyObject *__pyx_r = NULL;\n",
       "  <span class='refnanny'>__Pyx_RefNannyDeclarations</span>\n",
       "  <span class='refnanny'>__Pyx_RefNannySetupContext</span>(\"__pyx_fuse_0calc_something\", 0);\n",
       "  <span class='pyx_macro_api'>__Pyx_XDECREF</span>(__pyx_r);\n",
       "  if (unlikely(!__pyx_v_a.memview)) { <span class='pyx_c_api'>__Pyx_RaiseUnboundLocalError</span>(\"a\"); <span class='error_goto'>__PYX_ERR(0, 14, __pyx_L1_error)</span> }\n",
       "  __pyx_t_1 = __Pyx_void_to_None(__pyx_fuse_0__pyx_f_54_cython_magic_dc0946c22004d47e2e730d191a067bf901003dc7_calc_something(__pyx_v_a, 0));<span class='error_goto'> if (unlikely(!__pyx_t_1)) __PYX_ERR(0, 14, __pyx_L1_error)</span>\n",
       "  <span class='refnanny'>__Pyx_GOTREF</span>(__pyx_t_1);\n",
       "  __pyx_r = __pyx_t_1;\n",
       "  __pyx_t_1 = 0;\n",
       "  goto __pyx_L0;\n",
       "\n",
       "  /* function exit code */\n",
       "  __pyx_L1_error:;\n",
       "  <span class='pyx_macro_api'>__Pyx_XDECREF</span>(__pyx_t_1);\n",
       "  <span class='pyx_c_api'>__Pyx_AddTraceback</span>(\"_cython_magic_dc0946c22004d47e2e730d191a067bf901003dc7.__pyx_fuse_0calc_something\", __pyx_clineno, __pyx_lineno, __pyx_filename);\n",
       "  __pyx_r = NULL;\n",
       "  __pyx_L0:;\n",
       "  __PYX_XDEC_MEMVIEW(&amp;__pyx_v_a, 1);\n",
       "  <span class='refnanny'>__Pyx_XGIVEREF</span>(__pyx_r);\n",
       "  <span class='refnanny'>__Pyx_RefNannyFinishContext</span>();\n",
       "  return __pyx_r;\n",
       "}\n",
       "\n",
       "static PyObject *__pyx_pw_54_cython_magic_dc0946c22004d47e2e730d191a067bf901003dc7_5__pyx_fuse_1calc_something(PyObject *__pyx_self, PyObject *__pyx_arg_a); /*proto*/\n",
       "static PyObject *__pyx_pw_54_cython_magic_dc0946c22004d47e2e730d191a067bf901003dc7_1calc_something(PyObject *__pyx_self, PyObject *__pyx_args, PyObject *__pyx_kwds); /*proto*/\n",
       "static void __pyx_fuse_1__pyx_f_54_cython_magic_dc0946c22004d47e2e730d191a067bf901003dc7_calc_something(__Pyx_memviewslice __pyx_v_a, CYTHON_UNUSED int __pyx_skip_dispatch) {\n",
       "  __pyx_t_5numpy_uintp_t __pyx_v_i;\n",
       "  __pyx_t_5numpy_uintp_t __pyx_v_n;\n",
       "  <span class='refnanny'>__Pyx_RefNannyDeclarations</span>\n",
       "  <span class='refnanny'>__Pyx_RefNannySetupContext</span>(\"__pyx_fuse_1calc_something\", 0);\n",
       "/* … */\n",
       "  /* function exit code */\n",
       "  <span class='refnanny'>__Pyx_RefNannyFinishContext</span>();\n",
       "}\n",
       "\n",
       "/* Python wrapper */\n",
       "static PyObject *__pyx_pw_54_cython_magic_dc0946c22004d47e2e730d191a067bf901003dc7_5__pyx_fuse_1calc_something(PyObject *__pyx_self, PyObject *__pyx_arg_a); /*proto*/\n",
       "static PyMethodDef __pyx_fuse_1__pyx_mdef_54_cython_magic_dc0946c22004d47e2e730d191a067bf901003dc7_5__pyx_fuse_1calc_something = {\"__pyx_fuse_1calc_something\", (PyCFunction)__pyx_pw_54_cython_magic_dc0946c22004d47e2e730d191a067bf901003dc7_5__pyx_fuse_1calc_something, METH_O, 0};\n",
       "static PyObject *__pyx_pw_54_cython_magic_dc0946c22004d47e2e730d191a067bf901003dc7_5__pyx_fuse_1calc_something(PyObject *__pyx_self, PyObject *__pyx_arg_a) {\n",
       "  __Pyx_memviewslice __pyx_v_a = { 0, 0, { 0 }, { 0 }, { 0 } };\n",
       "  CYTHON_UNUSED PyObject *const *__pyx_kwvalues = <span class='pyx_c_api'>__Pyx_KwValues_VARARGS</span>(__pyx_args, __pyx_nargs);\n",
       "  PyObject *__pyx_r = 0;\n",
       "  <span class='refnanny'>__Pyx_RefNannyDeclarations</span>\n",
       "  <span class='refnanny'>__Pyx_RefNannySetupContext</span>(\"__pyx_fuse_1calc_something (wrapper)\", 0);\n",
       "  assert(__pyx_arg_a); {\n",
       "    __pyx_v_a = __Pyx_PyObject_to_MemoryviewSlice_ds_nn___pyx_t_5numpy_int64_t(__pyx_arg_a, PyBUF_WRITABLE);<span class='error_goto'> if (unlikely(!__pyx_v_a.memview)) __PYX_ERR(0, 14, __pyx_L3_error)</span>\n",
       "  }\n",
       "  goto __pyx_L4_argument_unpacking_done;\n",
       "  __pyx_L3_error:;\n",
       "  <span class='pyx_c_api'>__Pyx_AddTraceback</span>(\"_cython_magic_dc0946c22004d47e2e730d191a067bf901003dc7.__pyx_fuse_1calc_something\", __pyx_clineno, __pyx_lineno, __pyx_filename);\n",
       "  <span class='refnanny'>__Pyx_RefNannyFinishContext</span>();\n",
       "  return NULL;\n",
       "  __pyx_L4_argument_unpacking_done:;\n",
       "  __pyx_r = __pyx_pf_54_cython_magic_dc0946c22004d47e2e730d191a067bf901003dc7_4__pyx_fuse_1calc_something(__pyx_self, __pyx_v_a);\n",
       "\n",
       "  /* function exit code */\n",
       "  <span class='refnanny'>__Pyx_RefNannyFinishContext</span>();\n",
       "  return __pyx_r;\n",
       "}\n",
       "\n",
       "static PyObject *__pyx_pf_54_cython_magic_dc0946c22004d47e2e730d191a067bf901003dc7_4__pyx_fuse_1calc_something(CYTHON_UNUSED PyObject *__pyx_self, __Pyx_memviewslice __pyx_v_a) {\n",
       "  PyObject *__pyx_r = NULL;\n",
       "  <span class='refnanny'>__Pyx_RefNannyDeclarations</span>\n",
       "  <span class='refnanny'>__Pyx_RefNannySetupContext</span>(\"__pyx_fuse_1calc_something\", 0);\n",
       "  <span class='pyx_macro_api'>__Pyx_XDECREF</span>(__pyx_r);\n",
       "  if (unlikely(!__pyx_v_a.memview)) { <span class='pyx_c_api'>__Pyx_RaiseUnboundLocalError</span>(\"a\"); <span class='error_goto'>__PYX_ERR(0, 14, __pyx_L1_error)</span> }\n",
       "  __pyx_t_1 = __Pyx_void_to_None(__pyx_fuse_1__pyx_f_54_cython_magic_dc0946c22004d47e2e730d191a067bf901003dc7_calc_something(__pyx_v_a, 0));<span class='error_goto'> if (unlikely(!__pyx_t_1)) __PYX_ERR(0, 14, __pyx_L1_error)</span>\n",
       "  <span class='refnanny'>__Pyx_GOTREF</span>(__pyx_t_1);\n",
       "  __pyx_r = __pyx_t_1;\n",
       "  __pyx_t_1 = 0;\n",
       "  goto __pyx_L0;\n",
       "\n",
       "  /* function exit code */\n",
       "  __pyx_L1_error:;\n",
       "  <span class='pyx_macro_api'>__Pyx_XDECREF</span>(__pyx_t_1);\n",
       "  <span class='pyx_c_api'>__Pyx_AddTraceback</span>(\"_cython_magic_dc0946c22004d47e2e730d191a067bf901003dc7.__pyx_fuse_1calc_something\", __pyx_clineno, __pyx_lineno, __pyx_filename);\n",
       "  __pyx_r = NULL;\n",
       "  __pyx_L0:;\n",
       "  __PYX_XDEC_MEMVIEW(&amp;__pyx_v_a, 1);\n",
       "  <span class='refnanny'>__Pyx_XGIVEREF</span>(__pyx_r);\n",
       "  <span class='refnanny'>__Pyx_RefNannyFinishContext</span>();\n",
       "  return __pyx_r;\n",
       "}\n",
       "\n",
       "static PyObject *__pyx_pw_54_cython_magic_dc0946c22004d47e2e730d191a067bf901003dc7_7__pyx_fuse_2calc_something(PyObject *__pyx_self, PyObject *__pyx_arg_a); /*proto*/\n",
       "static PyObject *__pyx_pw_54_cython_magic_dc0946c22004d47e2e730d191a067bf901003dc7_1calc_something(PyObject *__pyx_self, PyObject *__pyx_args, PyObject *__pyx_kwds); /*proto*/\n",
       "static void __pyx_fuse_2__pyx_f_54_cython_magic_dc0946c22004d47e2e730d191a067bf901003dc7_calc_something(__Pyx_memviewslice __pyx_v_a, CYTHON_UNUSED int __pyx_skip_dispatch) {\n",
       "  __pyx_t_5numpy_uintp_t __pyx_v_i;\n",
       "  __pyx_t_5numpy_uintp_t __pyx_v_n;\n",
       "  <span class='refnanny'>__Pyx_RefNannyDeclarations</span>\n",
       "  <span class='refnanny'>__Pyx_RefNannySetupContext</span>(\"__pyx_fuse_2calc_something\", 0);\n",
       "/* … */\n",
       "  /* function exit code */\n",
       "  <span class='refnanny'>__Pyx_RefNannyFinishContext</span>();\n",
       "}\n",
       "\n",
       "/* Python wrapper */\n",
       "static PyObject *__pyx_pw_54_cython_magic_dc0946c22004d47e2e730d191a067bf901003dc7_7__pyx_fuse_2calc_something(PyObject *__pyx_self, PyObject *__pyx_arg_a); /*proto*/\n",
       "static PyMethodDef __pyx_fuse_2__pyx_mdef_54_cython_magic_dc0946c22004d47e2e730d191a067bf901003dc7_7__pyx_fuse_2calc_something = {\"__pyx_fuse_2calc_something\", (PyCFunction)__pyx_pw_54_cython_magic_dc0946c22004d47e2e730d191a067bf901003dc7_7__pyx_fuse_2calc_something, METH_O, 0};\n",
       "static PyObject *__pyx_pw_54_cython_magic_dc0946c22004d47e2e730d191a067bf901003dc7_7__pyx_fuse_2calc_something(PyObject *__pyx_self, PyObject *__pyx_arg_a) {\n",
       "  __Pyx_memviewslice __pyx_v_a = { 0, 0, { 0 }, { 0 }, { 0 } };\n",
       "  CYTHON_UNUSED PyObject *const *__pyx_kwvalues = <span class='pyx_c_api'>__Pyx_KwValues_VARARGS</span>(__pyx_args, __pyx_nargs);\n",
       "  PyObject *__pyx_r = 0;\n",
       "  <span class='refnanny'>__Pyx_RefNannyDeclarations</span>\n",
       "  <span class='refnanny'>__Pyx_RefNannySetupContext</span>(\"__pyx_fuse_2calc_something (wrapper)\", 0);\n",
       "  assert(__pyx_arg_a); {\n",
       "    __pyx_v_a = __Pyx_PyObject_to_MemoryviewSlice_ds_nn___pyx_t_5numpy_float32_t(__pyx_arg_a, PyBUF_WRITABLE);<span class='error_goto'> if (unlikely(!__pyx_v_a.memview)) __PYX_ERR(0, 14, __pyx_L3_error)</span>\n",
       "  }\n",
       "  goto __pyx_L4_argument_unpacking_done;\n",
       "  __pyx_L3_error:;\n",
       "  <span class='pyx_c_api'>__Pyx_AddTraceback</span>(\"_cython_magic_dc0946c22004d47e2e730d191a067bf901003dc7.__pyx_fuse_2calc_something\", __pyx_clineno, __pyx_lineno, __pyx_filename);\n",
       "  <span class='refnanny'>__Pyx_RefNannyFinishContext</span>();\n",
       "  return NULL;\n",
       "  __pyx_L4_argument_unpacking_done:;\n",
       "  __pyx_r = __pyx_pf_54_cython_magic_dc0946c22004d47e2e730d191a067bf901003dc7_6__pyx_fuse_2calc_something(__pyx_self, __pyx_v_a);\n",
       "\n",
       "  /* function exit code */\n",
       "  <span class='refnanny'>__Pyx_RefNannyFinishContext</span>();\n",
       "  return __pyx_r;\n",
       "}\n",
       "\n",
       "static PyObject *__pyx_pf_54_cython_magic_dc0946c22004d47e2e730d191a067bf901003dc7_6__pyx_fuse_2calc_something(CYTHON_UNUSED PyObject *__pyx_self, __Pyx_memviewslice __pyx_v_a) {\n",
       "  PyObject *__pyx_r = NULL;\n",
       "  <span class='refnanny'>__Pyx_RefNannyDeclarations</span>\n",
       "  <span class='refnanny'>__Pyx_RefNannySetupContext</span>(\"__pyx_fuse_2calc_something\", 0);\n",
       "  <span class='pyx_macro_api'>__Pyx_XDECREF</span>(__pyx_r);\n",
       "  if (unlikely(!__pyx_v_a.memview)) { <span class='pyx_c_api'>__Pyx_RaiseUnboundLocalError</span>(\"a\"); <span class='error_goto'>__PYX_ERR(0, 14, __pyx_L1_error)</span> }\n",
       "  __pyx_t_1 = __Pyx_void_to_None(__pyx_fuse_2__pyx_f_54_cython_magic_dc0946c22004d47e2e730d191a067bf901003dc7_calc_something(__pyx_v_a, 0));<span class='error_goto'> if (unlikely(!__pyx_t_1)) __PYX_ERR(0, 14, __pyx_L1_error)</span>\n",
       "  <span class='refnanny'>__Pyx_GOTREF</span>(__pyx_t_1);\n",
       "  __pyx_r = __pyx_t_1;\n",
       "  __pyx_t_1 = 0;\n",
       "  goto __pyx_L0;\n",
       "\n",
       "  /* function exit code */\n",
       "  __pyx_L1_error:;\n",
       "  <span class='pyx_macro_api'>__Pyx_XDECREF</span>(__pyx_t_1);\n",
       "  <span class='pyx_c_api'>__Pyx_AddTraceback</span>(\"_cython_magic_dc0946c22004d47e2e730d191a067bf901003dc7.__pyx_fuse_2calc_something\", __pyx_clineno, __pyx_lineno, __pyx_filename);\n",
       "  __pyx_r = NULL;\n",
       "  __pyx_L0:;\n",
       "  __PYX_XDEC_MEMVIEW(&amp;__pyx_v_a, 1);\n",
       "  <span class='refnanny'>__Pyx_XGIVEREF</span>(__pyx_r);\n",
       "  <span class='refnanny'>__Pyx_RefNannyFinishContext</span>();\n",
       "  return __pyx_r;\n",
       "}\n",
       "\n",
       "static PyObject *__pyx_pw_54_cython_magic_dc0946c22004d47e2e730d191a067bf901003dc7_9__pyx_fuse_3calc_something(PyObject *__pyx_self, PyObject *__pyx_arg_a); /*proto*/\n",
       "static PyObject *__pyx_pw_54_cython_magic_dc0946c22004d47e2e730d191a067bf901003dc7_1calc_something(PyObject *__pyx_self, PyObject *__pyx_args, PyObject *__pyx_kwds); /*proto*/\n",
       "static void __pyx_fuse_3__pyx_f_54_cython_magic_dc0946c22004d47e2e730d191a067bf901003dc7_calc_something(__Pyx_memviewslice __pyx_v_a, CYTHON_UNUSED int __pyx_skip_dispatch) {\n",
       "  __pyx_t_5numpy_uintp_t __pyx_v_i;\n",
       "  __pyx_t_5numpy_uintp_t __pyx_v_n;\n",
       "  <span class='refnanny'>__Pyx_RefNannyDeclarations</span>\n",
       "  <span class='refnanny'>__Pyx_RefNannySetupContext</span>(\"__pyx_fuse_3calc_something\", 0);\n",
       "/* … */\n",
       "  /* function exit code */\n",
       "  <span class='refnanny'>__Pyx_RefNannyFinishContext</span>();\n",
       "}\n",
       "\n",
       "/* Python wrapper */\n",
       "static PyObject *__pyx_pw_54_cython_magic_dc0946c22004d47e2e730d191a067bf901003dc7_9__pyx_fuse_3calc_something(PyObject *__pyx_self, PyObject *__pyx_arg_a); /*proto*/\n",
       "static PyMethodDef __pyx_fuse_3__pyx_mdef_54_cython_magic_dc0946c22004d47e2e730d191a067bf901003dc7_9__pyx_fuse_3calc_something = {\"__pyx_fuse_3calc_something\", (PyCFunction)__pyx_pw_54_cython_magic_dc0946c22004d47e2e730d191a067bf901003dc7_9__pyx_fuse_3calc_something, METH_O, 0};\n",
       "static PyObject *__pyx_pw_54_cython_magic_dc0946c22004d47e2e730d191a067bf901003dc7_9__pyx_fuse_3calc_something(PyObject *__pyx_self, PyObject *__pyx_arg_a) {\n",
       "  __Pyx_memviewslice __pyx_v_a = { 0, 0, { 0 }, { 0 }, { 0 } };\n",
       "  CYTHON_UNUSED PyObject *const *__pyx_kwvalues = <span class='pyx_c_api'>__Pyx_KwValues_VARARGS</span>(__pyx_args, __pyx_nargs);\n",
       "  PyObject *__pyx_r = 0;\n",
       "  <span class='refnanny'>__Pyx_RefNannyDeclarations</span>\n",
       "  <span class='refnanny'>__Pyx_RefNannySetupContext</span>(\"__pyx_fuse_3calc_something (wrapper)\", 0);\n",
       "  assert(__pyx_arg_a); {\n",
       "    __pyx_v_a = __Pyx_PyObject_to_MemoryviewSlice_ds_nn___pyx_t_5numpy_float64_t(__pyx_arg_a, PyBUF_WRITABLE);<span class='error_goto'> if (unlikely(!__pyx_v_a.memview)) __PYX_ERR(0, 14, __pyx_L3_error)</span>\n",
       "  }\n",
       "  goto __pyx_L4_argument_unpacking_done;\n",
       "  __pyx_L3_error:;\n",
       "  <span class='pyx_c_api'>__Pyx_AddTraceback</span>(\"_cython_magic_dc0946c22004d47e2e730d191a067bf901003dc7.__pyx_fuse_3calc_something\", __pyx_clineno, __pyx_lineno, __pyx_filename);\n",
       "  <span class='refnanny'>__Pyx_RefNannyFinishContext</span>();\n",
       "  return NULL;\n",
       "  __pyx_L4_argument_unpacking_done:;\n",
       "  __pyx_r = __pyx_pf_54_cython_magic_dc0946c22004d47e2e730d191a067bf901003dc7_8__pyx_fuse_3calc_something(__pyx_self, __pyx_v_a);\n",
       "\n",
       "  /* function exit code */\n",
       "  <span class='refnanny'>__Pyx_RefNannyFinishContext</span>();\n",
       "  return __pyx_r;\n",
       "}\n",
       "\n",
       "static PyObject *__pyx_pf_54_cython_magic_dc0946c22004d47e2e730d191a067bf901003dc7_8__pyx_fuse_3calc_something(CYTHON_UNUSED PyObject *__pyx_self, __Pyx_memviewslice __pyx_v_a) {\n",
       "  PyObject *__pyx_r = NULL;\n",
       "  <span class='refnanny'>__Pyx_RefNannyDeclarations</span>\n",
       "  <span class='refnanny'>__Pyx_RefNannySetupContext</span>(\"__pyx_fuse_3calc_something\", 0);\n",
       "  <span class='pyx_macro_api'>__Pyx_XDECREF</span>(__pyx_r);\n",
       "  if (unlikely(!__pyx_v_a.memview)) { <span class='pyx_c_api'>__Pyx_RaiseUnboundLocalError</span>(\"a\"); <span class='error_goto'>__PYX_ERR(0, 14, __pyx_L1_error)</span> }\n",
       "  __pyx_t_1 = __Pyx_void_to_None(__pyx_fuse_3__pyx_f_54_cython_magic_dc0946c22004d47e2e730d191a067bf901003dc7_calc_something(__pyx_v_a, 0));<span class='error_goto'> if (unlikely(!__pyx_t_1)) __PYX_ERR(0, 14, __pyx_L1_error)</span>\n",
       "  <span class='refnanny'>__Pyx_GOTREF</span>(__pyx_t_1);\n",
       "  __pyx_r = __pyx_t_1;\n",
       "  __pyx_t_1 = 0;\n",
       "  goto __pyx_L0;\n",
       "\n",
       "  /* function exit code */\n",
       "  __pyx_L1_error:;\n",
       "  <span class='pyx_macro_api'>__Pyx_XDECREF</span>(__pyx_t_1);\n",
       "  <span class='pyx_c_api'>__Pyx_AddTraceback</span>(\"_cython_magic_dc0946c22004d47e2e730d191a067bf901003dc7.__pyx_fuse_3calc_something\", __pyx_clineno, __pyx_lineno, __pyx_filename);\n",
       "  __pyx_r = NULL;\n",
       "  __pyx_L0:;\n",
       "  __PYX_XDEC_MEMVIEW(&amp;__pyx_v_a, 1);\n",
       "  <span class='refnanny'>__Pyx_XGIVEREF</span>(__pyx_r);\n",
       "  <span class='refnanny'>__Pyx_RefNannyFinishContext</span>();\n",
       "  return __pyx_r;\n",
       "}\n",
       "  __pyx_tuple__5 = <span class='py_c_api'>PyTuple_Pack</span>(1, __pyx_kp_s_Function_call_with_ambiguous_arg);<span class='error_goto'> if (unlikely(!__pyx_tuple__5)) __PYX_ERR(0, 14, __pyx_L1_error)</span>\n",
       "  <span class='refnanny'>__Pyx_GOTREF</span>(__pyx_tuple__5);\n",
       "  <span class='refnanny'>__Pyx_GIVEREF</span>(__pyx_tuple__5);\n",
       "/* … */\n",
       "  __pyx_tuple__30 = <span class='py_c_api'>PyTuple_Pack</span>(2, __pyx_n_s_a, __pyx_n_s_a);<span class='error_goto'> if (unlikely(!__pyx_tuple__30)) __PYX_ERR(0, 14, __pyx_L1_error)</span>\n",
       "  <span class='refnanny'>__Pyx_GOTREF</span>(__pyx_tuple__30);\n",
       "  <span class='refnanny'>__Pyx_GIVEREF</span>(__pyx_tuple__30);\n",
       "  __pyx_codeobj__31 = (PyObject*)<span class='pyx_c_api'>__Pyx_PyCode_New</span>(1, 0, 0, 2, 0, CO_OPTIMIZED|CO_NEWLOCALS, __pyx_empty_bytes, __pyx_empty_tuple, __pyx_empty_tuple, __pyx_tuple__30, __pyx_empty_tuple, __pyx_empty_tuple, __pyx_kp_s_home_janjoswig_cache_ipython_cy, __pyx_n_s_pyx_fuse_0calc_something, 14, __pyx_empty_bytes);<span class='error_goto'> if (unlikely(!__pyx_codeobj__31)) __PYX_ERR(0, 14, __pyx_L1_error)</span>\n",
       "  __pyx_tuple__32 = <span class='py_c_api'>PyTuple_Pack</span>(2, __pyx_n_s_a, __pyx_n_s_a);<span class='error_goto'> if (unlikely(!__pyx_tuple__32)) __PYX_ERR(0, 14, __pyx_L1_error)</span>\n",
       "  <span class='refnanny'>__Pyx_GOTREF</span>(__pyx_tuple__32);\n",
       "  <span class='refnanny'>__Pyx_GIVEREF</span>(__pyx_tuple__32);\n",
       "/* … */\n",
       "    #if CYTHON_COMPILING_IN_LIMITED_API\n",
       "    __pyx_t_2 = <span class='py_c_api'>PyDict_New</span>();<span class='error_goto'> if (unlikely(!__pyx_t_2)) __PYX_ERR(0, 14, __pyx_L1_error)</span>\n",
       "    <span class='refnanny'>__Pyx_GOTREF</span>(__pyx_t_2);\n",
       "    __pyx_t_1 = <span class='pyx_c_api'>__Pyx_CyFunction_New</span>(&amp;__pyx_fuse_0__pyx_mdef_54_cython_magic_dc0946c22004d47e2e730d191a067bf901003dc7_3__pyx_fuse_0calc_something, 0, __pyx_n_s_pyx_fuse_0calc_something, NULL, __pyx_n_s_cython_magic_dc0946c22004d47e2e, __pyx_t_2, ((PyObject *)__pyx_codeobj__33));<span class='error_goto'> if (unlikely(!__pyx_t_1)) __PYX_ERR(0, 14, __pyx_L1_error)</span>\n",
       "    <span class='pyx_macro_api'>__Pyx_DECREF</span>(__pyx_t_2); __pyx_t_2 = 0;\n",
       "    #else\n",
       "    __pyx_t_1 = <span class='pyx_c_api'>__Pyx_CyFunction_New</span>(&amp;__pyx_fuse_0__pyx_mdef_54_cython_magic_dc0946c22004d47e2e730d191a067bf901003dc7_3__pyx_fuse_0calc_something, 0, __pyx_n_s_pyx_fuse_0calc_something, NULL, __pyx_n_s_cython_magic_dc0946c22004d47e2e, __pyx_d, ((PyObject *)__pyx_codeobj__33));<span class='error_goto'> if (unlikely(!__pyx_t_1)) __PYX_ERR(0, 14, __pyx_L1_error)</span>\n",
       "    #endif\n",
       "    <span class='refnanny'>__Pyx_GOTREF</span>(__pyx_t_1);\n",
       "    #if CYTHON_COMPILING_IN_LIMITED_API\n",
       "    <span class='pyx_macro_api'>__Pyx_INCREF</span>(__pyx_t_1);\n",
       "    if (<span class='py_c_api'>PyModule_AddObject</span>(__pyx_m, __pyx_k_calc_something, __pyx_t_1) &lt; 0) <span class='error_goto'>__PYX_ERR(0, 14, __pyx_L1_error)</span>\n",
       "    #else\n",
       "    if (<span class='py_c_api'>PyDict_SetItem</span>(__pyx_d, __pyx_n_s_calc_something, __pyx_t_1) &lt; 0) <span class='error_goto'>__PYX_ERR(0, 14, __pyx_L1_error)</span>\n",
       "    #endif\n",
       "    <span class='pyx_macro_api'>__Pyx_DECREF</span>(__pyx_t_1); __pyx_t_1 = 0;\n",
       "  __pyx_codeobj__33 = (PyObject*)<span class='pyx_c_api'>__Pyx_PyCode_New</span>(1, 0, 0, 2, 0, CO_OPTIMIZED|CO_NEWLOCALS, __pyx_empty_bytes, __pyx_empty_tuple, __pyx_empty_tuple, __pyx_tuple__32, __pyx_empty_tuple, __pyx_empty_tuple, __pyx_kp_s_home_janjoswig_cache_ipython_cy, __pyx_n_s_pyx_fuse_0calc_something, 14, __pyx_empty_bytes);<span class='error_goto'> if (unlikely(!__pyx_codeobj__33)) __PYX_ERR(0, 14, __pyx_L1_error)</span>\n",
       "  __pyx_tuple__34 = <span class='py_c_api'>PyTuple_Pack</span>(2, __pyx_n_s_a, __pyx_n_s_a);<span class='error_goto'> if (unlikely(!__pyx_tuple__34)) __PYX_ERR(0, 14, __pyx_L1_error)</span>\n",
       "  <span class='refnanny'>__Pyx_GOTREF</span>(__pyx_tuple__34);\n",
       "  <span class='refnanny'>__Pyx_GIVEREF</span>(__pyx_tuple__34);\n",
       "    #if CYTHON_COMPILING_IN_LIMITED_API\n",
       "    __pyx_t_2 = <span class='py_c_api'>PyDict_New</span>();<span class='error_goto'> if (unlikely(!__pyx_t_2)) __PYX_ERR(0, 14, __pyx_L1_error)</span>\n",
       "    <span class='refnanny'>__Pyx_GOTREF</span>(__pyx_t_2);\n",
       "    __pyx_t_1 = <span class='pyx_c_api'>__Pyx_CyFunction_New</span>(&amp;__pyx_fuse_1__pyx_mdef_54_cython_magic_dc0946c22004d47e2e730d191a067bf901003dc7_5__pyx_fuse_1calc_something, 0, __pyx_n_s_pyx_fuse_1calc_something, NULL, __pyx_n_s_cython_magic_dc0946c22004d47e2e, __pyx_t_2, ((PyObject *)__pyx_codeobj__35));<span class='error_goto'> if (unlikely(!__pyx_t_1)) __PYX_ERR(0, 14, __pyx_L1_error)</span>\n",
       "    <span class='pyx_macro_api'>__Pyx_DECREF</span>(__pyx_t_2); __pyx_t_2 = 0;\n",
       "    #else\n",
       "    __pyx_t_1 = <span class='pyx_c_api'>__Pyx_CyFunction_New</span>(&amp;__pyx_fuse_1__pyx_mdef_54_cython_magic_dc0946c22004d47e2e730d191a067bf901003dc7_5__pyx_fuse_1calc_something, 0, __pyx_n_s_pyx_fuse_1calc_something, NULL, __pyx_n_s_cython_magic_dc0946c22004d47e2e, __pyx_d, ((PyObject *)__pyx_codeobj__35));<span class='error_goto'> if (unlikely(!__pyx_t_1)) __PYX_ERR(0, 14, __pyx_L1_error)</span>\n",
       "    #endif\n",
       "    <span class='refnanny'>__Pyx_GOTREF</span>(__pyx_t_1);\n",
       "    #if CYTHON_COMPILING_IN_LIMITED_API\n",
       "    <span class='pyx_macro_api'>__Pyx_INCREF</span>(__pyx_t_1);\n",
       "    if (<span class='py_c_api'>PyModule_AddObject</span>(__pyx_m, __pyx_k_calc_something, __pyx_t_1) &lt; 0) <span class='error_goto'>__PYX_ERR(0, 14, __pyx_L1_error)</span>\n",
       "    #else\n",
       "    if (<span class='py_c_api'>PyDict_SetItem</span>(__pyx_d, __pyx_n_s_calc_something, __pyx_t_1) &lt; 0) <span class='error_goto'>__PYX_ERR(0, 14, __pyx_L1_error)</span>\n",
       "    #endif\n",
       "    <span class='pyx_macro_api'>__Pyx_DECREF</span>(__pyx_t_1); __pyx_t_1 = 0;\n",
       "  __pyx_codeobj__35 = (PyObject*)<span class='pyx_c_api'>__Pyx_PyCode_New</span>(1, 0, 0, 2, 0, CO_OPTIMIZED|CO_NEWLOCALS, __pyx_empty_bytes, __pyx_empty_tuple, __pyx_empty_tuple, __pyx_tuple__34, __pyx_empty_tuple, __pyx_empty_tuple, __pyx_kp_s_home_janjoswig_cache_ipython_cy, __pyx_n_s_pyx_fuse_1calc_something, 14, __pyx_empty_bytes);<span class='error_goto'> if (unlikely(!__pyx_codeobj__35)) __PYX_ERR(0, 14, __pyx_L1_error)</span>\n",
       "  __pyx_tuple__36 = <span class='py_c_api'>PyTuple_Pack</span>(2, __pyx_n_s_a, __pyx_n_s_a);<span class='error_goto'> if (unlikely(!__pyx_tuple__36)) __PYX_ERR(0, 14, __pyx_L1_error)</span>\n",
       "  <span class='refnanny'>__Pyx_GOTREF</span>(__pyx_tuple__36);\n",
       "  <span class='refnanny'>__Pyx_GIVEREF</span>(__pyx_tuple__36);\n",
       "    #if CYTHON_COMPILING_IN_LIMITED_API\n",
       "    __pyx_t_2 = <span class='py_c_api'>PyDict_New</span>();<span class='error_goto'> if (unlikely(!__pyx_t_2)) __PYX_ERR(0, 14, __pyx_L1_error)</span>\n",
       "    <span class='refnanny'>__Pyx_GOTREF</span>(__pyx_t_2);\n",
       "    __pyx_t_1 = <span class='pyx_c_api'>__Pyx_CyFunction_New</span>(&amp;__pyx_fuse_2__pyx_mdef_54_cython_magic_dc0946c22004d47e2e730d191a067bf901003dc7_7__pyx_fuse_2calc_something, 0, __pyx_n_s_pyx_fuse_2calc_something, NULL, __pyx_n_s_cython_magic_dc0946c22004d47e2e, __pyx_t_2, ((PyObject *)__pyx_codeobj__37));<span class='error_goto'> if (unlikely(!__pyx_t_1)) __PYX_ERR(0, 14, __pyx_L1_error)</span>\n",
       "    <span class='pyx_macro_api'>__Pyx_DECREF</span>(__pyx_t_2); __pyx_t_2 = 0;\n",
       "    #else\n",
       "    __pyx_t_1 = <span class='pyx_c_api'>__Pyx_CyFunction_New</span>(&amp;__pyx_fuse_2__pyx_mdef_54_cython_magic_dc0946c22004d47e2e730d191a067bf901003dc7_7__pyx_fuse_2calc_something, 0, __pyx_n_s_pyx_fuse_2calc_something, NULL, __pyx_n_s_cython_magic_dc0946c22004d47e2e, __pyx_d, ((PyObject *)__pyx_codeobj__37));<span class='error_goto'> if (unlikely(!__pyx_t_1)) __PYX_ERR(0, 14, __pyx_L1_error)</span>\n",
       "    #endif\n",
       "    <span class='refnanny'>__Pyx_GOTREF</span>(__pyx_t_1);\n",
       "    #if CYTHON_COMPILING_IN_LIMITED_API\n",
       "    <span class='pyx_macro_api'>__Pyx_INCREF</span>(__pyx_t_1);\n",
       "    if (<span class='py_c_api'>PyModule_AddObject</span>(__pyx_m, __pyx_k_calc_something, __pyx_t_1) &lt; 0) <span class='error_goto'>__PYX_ERR(0, 14, __pyx_L1_error)</span>\n",
       "    #else\n",
       "    if (<span class='py_c_api'>PyDict_SetItem</span>(__pyx_d, __pyx_n_s_calc_something, __pyx_t_1) &lt; 0) <span class='error_goto'>__PYX_ERR(0, 14, __pyx_L1_error)</span>\n",
       "    #endif\n",
       "    <span class='pyx_macro_api'>__Pyx_DECREF</span>(__pyx_t_1); __pyx_t_1 = 0;\n",
       "  __pyx_codeobj__37 = (PyObject*)<span class='pyx_c_api'>__Pyx_PyCode_New</span>(1, 0, 0, 2, 0, CO_OPTIMIZED|CO_NEWLOCALS, __pyx_empty_bytes, __pyx_empty_tuple, __pyx_empty_tuple, __pyx_tuple__36, __pyx_empty_tuple, __pyx_empty_tuple, __pyx_kp_s_home_janjoswig_cache_ipython_cy, __pyx_n_s_pyx_fuse_2calc_something, 14, __pyx_empty_bytes);<span class='error_goto'> if (unlikely(!__pyx_codeobj__37)) __PYX_ERR(0, 14, __pyx_L1_error)</span>\n",
       "  __pyx_tuple__38 = <span class='py_c_api'>PyTuple_Pack</span>(2, __pyx_n_s_a, __pyx_n_s_a);<span class='error_goto'> if (unlikely(!__pyx_tuple__38)) __PYX_ERR(0, 14, __pyx_L1_error)</span>\n",
       "  <span class='refnanny'>__Pyx_GOTREF</span>(__pyx_tuple__38);\n",
       "  <span class='refnanny'>__Pyx_GIVEREF</span>(__pyx_tuple__38);\n",
       "    #if CYTHON_COMPILING_IN_LIMITED_API\n",
       "    __pyx_t_2 = <span class='py_c_api'>PyDict_New</span>();<span class='error_goto'> if (unlikely(!__pyx_t_2)) __PYX_ERR(0, 14, __pyx_L1_error)</span>\n",
       "    <span class='refnanny'>__Pyx_GOTREF</span>(__pyx_t_2);\n",
       "    __pyx_t_1 = <span class='pyx_c_api'>__Pyx_CyFunction_New</span>(&amp;__pyx_fuse_3__pyx_mdef_54_cython_magic_dc0946c22004d47e2e730d191a067bf901003dc7_9__pyx_fuse_3calc_something, 0, __pyx_n_s_pyx_fuse_3calc_something, NULL, __pyx_n_s_cython_magic_dc0946c22004d47e2e, __pyx_t_2, ((PyObject *)__pyx_codeobj__39));<span class='error_goto'> if (unlikely(!__pyx_t_1)) __PYX_ERR(0, 14, __pyx_L1_error)</span>\n",
       "    <span class='pyx_macro_api'>__Pyx_DECREF</span>(__pyx_t_2); __pyx_t_2 = 0;\n",
       "    #else\n",
       "    __pyx_t_1 = <span class='pyx_c_api'>__Pyx_CyFunction_New</span>(&amp;__pyx_fuse_3__pyx_mdef_54_cython_magic_dc0946c22004d47e2e730d191a067bf901003dc7_9__pyx_fuse_3calc_something, 0, __pyx_n_s_pyx_fuse_3calc_something, NULL, __pyx_n_s_cython_magic_dc0946c22004d47e2e, __pyx_d, ((PyObject *)__pyx_codeobj__39));<span class='error_goto'> if (unlikely(!__pyx_t_1)) __PYX_ERR(0, 14, __pyx_L1_error)</span>\n",
       "    #endif\n",
       "    <span class='refnanny'>__Pyx_GOTREF</span>(__pyx_t_1);\n",
       "    #if CYTHON_COMPILING_IN_LIMITED_API\n",
       "    <span class='pyx_macro_api'>__Pyx_INCREF</span>(__pyx_t_1);\n",
       "    if (<span class='py_c_api'>PyModule_AddObject</span>(__pyx_m, __pyx_k_calc_something, __pyx_t_1) &lt; 0) <span class='error_goto'>__PYX_ERR(0, 14, __pyx_L1_error)</span>\n",
       "    #else\n",
       "    if (<span class='py_c_api'>PyDict_SetItem</span>(__pyx_d, __pyx_n_s_calc_something, __pyx_t_1) &lt; 0) <span class='error_goto'>__PYX_ERR(0, 14, __pyx_L1_error)</span>\n",
       "    #endif\n",
       "    <span class='pyx_macro_api'>__Pyx_DECREF</span>(__pyx_t_1); __pyx_t_1 = 0;\n",
       "    __pyx_t_1 = <span class='pyx_c_api'>__Pyx_PyDict_NewPresized</span>(4);<span class='error_goto'> if (unlikely(!__pyx_t_1)) __PYX_ERR(0, 14, __pyx_L1_error)</span>\n",
       "    <span class='refnanny'>__Pyx_GOTREF</span>(__pyx_t_1);\n",
       "    #if CYTHON_COMPILING_IN_LIMITED_API\n",
       "    __pyx_t_3 = <span class='py_c_api'>PyDict_New</span>();<span class='error_goto'> if (unlikely(!__pyx_t_3)) __PYX_ERR(0, 14, __pyx_L1_error)</span>\n",
       "    <span class='refnanny'>__Pyx_GOTREF</span>(__pyx_t_3);\n",
       "    __pyx_t_2 = __pyx_FusedFunction_New(&amp;__pyx_fuse_0__pyx_mdef_54_cython_magic_dc0946c22004d47e2e730d191a067bf901003dc7_3__pyx_fuse_0calc_something, 0, __pyx_n_s_pyx_fuse_0calc_something, NULL, __pyx_n_s_cython_magic_dc0946c22004d47e2e, __pyx_t_3, ((PyObject *)__pyx_codeobj__31));<span class='error_goto'> if (unlikely(!__pyx_t_2)) __PYX_ERR(0, 14, __pyx_L1_error)</span>\n",
       "    <span class='pyx_macro_api'>__Pyx_DECREF</span>(__pyx_t_3); __pyx_t_3 = 0;\n",
       "    #else\n",
       "    __pyx_t_2 = __pyx_FusedFunction_New(&amp;__pyx_fuse_0__pyx_mdef_54_cython_magic_dc0946c22004d47e2e730d191a067bf901003dc7_3__pyx_fuse_0calc_something, 0, __pyx_n_s_pyx_fuse_0calc_something, NULL, __pyx_n_s_cython_magic_dc0946c22004d47e2e, __pyx_d, ((PyObject *)__pyx_codeobj__31));<span class='error_goto'> if (unlikely(!__pyx_t_2)) __PYX_ERR(0, 14, __pyx_L1_error)</span>\n",
       "    #endif\n",
       "    <span class='refnanny'>__Pyx_GOTREF</span>(__pyx_t_2);\n",
       "    <span class='pyx_c_api'>__Pyx_CyFunction_SetDefaultsTuple</span>(__pyx_t_2, __pyx_empty_tuple);\n",
       "    if (<span class='py_c_api'>PyDict_SetItem</span>(__pyx_t_1, __pyx_n_s_int32_t, __pyx_t_2) &lt; 0) <span class='error_goto'>__PYX_ERR(0, 14, __pyx_L1_error)</span>\n",
       "    <span class='pyx_macro_api'>__Pyx_DECREF</span>(__pyx_t_2); __pyx_t_2 = 0;\n",
       "    #if CYTHON_COMPILING_IN_LIMITED_API\n",
       "    __pyx_t_3 = <span class='py_c_api'>PyDict_New</span>();<span class='error_goto'> if (unlikely(!__pyx_t_3)) __PYX_ERR(0, 14, __pyx_L1_error)</span>\n",
       "    <span class='refnanny'>__Pyx_GOTREF</span>(__pyx_t_3);\n",
       "    __pyx_t_2 = __pyx_FusedFunction_New(&amp;__pyx_fuse_1__pyx_mdef_54_cython_magic_dc0946c22004d47e2e730d191a067bf901003dc7_5__pyx_fuse_1calc_something, 0, __pyx_n_s_pyx_fuse_1calc_something, NULL, __pyx_n_s_cython_magic_dc0946c22004d47e2e, __pyx_t_3, ((PyObject *)__pyx_codeobj__31));<span class='error_goto'> if (unlikely(!__pyx_t_2)) __PYX_ERR(0, 14, __pyx_L1_error)</span>\n",
       "    <span class='pyx_macro_api'>__Pyx_DECREF</span>(__pyx_t_3); __pyx_t_3 = 0;\n",
       "    #else\n",
       "    __pyx_t_2 = __pyx_FusedFunction_New(&amp;__pyx_fuse_1__pyx_mdef_54_cython_magic_dc0946c22004d47e2e730d191a067bf901003dc7_5__pyx_fuse_1calc_something, 0, __pyx_n_s_pyx_fuse_1calc_something, NULL, __pyx_n_s_cython_magic_dc0946c22004d47e2e, __pyx_d, ((PyObject *)__pyx_codeobj__31));<span class='error_goto'> if (unlikely(!__pyx_t_2)) __PYX_ERR(0, 14, __pyx_L1_error)</span>\n",
       "    #endif\n",
       "    <span class='refnanny'>__Pyx_GOTREF</span>(__pyx_t_2);\n",
       "    <span class='pyx_c_api'>__Pyx_CyFunction_SetDefaultsTuple</span>(__pyx_t_2, __pyx_empty_tuple);\n",
       "    if (<span class='py_c_api'>PyDict_SetItem</span>(__pyx_t_1, __pyx_n_s_int64_t, __pyx_t_2) &lt; 0) <span class='error_goto'>__PYX_ERR(0, 14, __pyx_L1_error)</span>\n",
       "    <span class='pyx_macro_api'>__Pyx_DECREF</span>(__pyx_t_2); __pyx_t_2 = 0;\n",
       "    #if CYTHON_COMPILING_IN_LIMITED_API\n",
       "    __pyx_t_3 = <span class='py_c_api'>PyDict_New</span>();<span class='error_goto'> if (unlikely(!__pyx_t_3)) __PYX_ERR(0, 14, __pyx_L1_error)</span>\n",
       "    <span class='refnanny'>__Pyx_GOTREF</span>(__pyx_t_3);\n",
       "    __pyx_t_2 = __pyx_FusedFunction_New(&amp;__pyx_fuse_2__pyx_mdef_54_cython_magic_dc0946c22004d47e2e730d191a067bf901003dc7_7__pyx_fuse_2calc_something, 0, __pyx_n_s_pyx_fuse_2calc_something, NULL, __pyx_n_s_cython_magic_dc0946c22004d47e2e, __pyx_t_3, ((PyObject *)__pyx_codeobj__31));<span class='error_goto'> if (unlikely(!__pyx_t_2)) __PYX_ERR(0, 14, __pyx_L1_error)</span>\n",
       "    <span class='pyx_macro_api'>__Pyx_DECREF</span>(__pyx_t_3); __pyx_t_3 = 0;\n",
       "    #else\n",
       "    __pyx_t_2 = __pyx_FusedFunction_New(&amp;__pyx_fuse_2__pyx_mdef_54_cython_magic_dc0946c22004d47e2e730d191a067bf901003dc7_7__pyx_fuse_2calc_something, 0, __pyx_n_s_pyx_fuse_2calc_something, NULL, __pyx_n_s_cython_magic_dc0946c22004d47e2e, __pyx_d, ((PyObject *)__pyx_codeobj__31));<span class='error_goto'> if (unlikely(!__pyx_t_2)) __PYX_ERR(0, 14, __pyx_L1_error)</span>\n",
       "    #endif\n",
       "    <span class='refnanny'>__Pyx_GOTREF</span>(__pyx_t_2);\n",
       "    <span class='pyx_c_api'>__Pyx_CyFunction_SetDefaultsTuple</span>(__pyx_t_2, __pyx_empty_tuple);\n",
       "    if (<span class='py_c_api'>PyDict_SetItem</span>(__pyx_t_1, __pyx_n_s_float32_t, __pyx_t_2) &lt; 0) <span class='error_goto'>__PYX_ERR(0, 14, __pyx_L1_error)</span>\n",
       "    <span class='pyx_macro_api'>__Pyx_DECREF</span>(__pyx_t_2); __pyx_t_2 = 0;\n",
       "    #if CYTHON_COMPILING_IN_LIMITED_API\n",
       "    __pyx_t_3 = <span class='py_c_api'>PyDict_New</span>();<span class='error_goto'> if (unlikely(!__pyx_t_3)) __PYX_ERR(0, 14, __pyx_L1_error)</span>\n",
       "    <span class='refnanny'>__Pyx_GOTREF</span>(__pyx_t_3);\n",
       "    __pyx_t_2 = __pyx_FusedFunction_New(&amp;__pyx_fuse_3__pyx_mdef_54_cython_magic_dc0946c22004d47e2e730d191a067bf901003dc7_9__pyx_fuse_3calc_something, 0, __pyx_n_s_pyx_fuse_3calc_something, NULL, __pyx_n_s_cython_magic_dc0946c22004d47e2e, __pyx_t_3, ((PyObject *)__pyx_codeobj__31));<span class='error_goto'> if (unlikely(!__pyx_t_2)) __PYX_ERR(0, 14, __pyx_L1_error)</span>\n",
       "    <span class='pyx_macro_api'>__Pyx_DECREF</span>(__pyx_t_3); __pyx_t_3 = 0;\n",
       "    #else\n",
       "    __pyx_t_2 = __pyx_FusedFunction_New(&amp;__pyx_fuse_3__pyx_mdef_54_cython_magic_dc0946c22004d47e2e730d191a067bf901003dc7_9__pyx_fuse_3calc_something, 0, __pyx_n_s_pyx_fuse_3calc_something, NULL, __pyx_n_s_cython_magic_dc0946c22004d47e2e, __pyx_d, ((PyObject *)__pyx_codeobj__31));<span class='error_goto'> if (unlikely(!__pyx_t_2)) __PYX_ERR(0, 14, __pyx_L1_error)</span>\n",
       "    #endif\n",
       "    <span class='refnanny'>__Pyx_GOTREF</span>(__pyx_t_2);\n",
       "    <span class='pyx_c_api'>__Pyx_CyFunction_SetDefaultsTuple</span>(__pyx_t_2, __pyx_empty_tuple);\n",
       "    if (<span class='py_c_api'>PyDict_SetItem</span>(__pyx_t_1, __pyx_n_s_float64_t, __pyx_t_2) &lt; 0) <span class='error_goto'>__PYX_ERR(0, 14, __pyx_L1_error)</span>\n",
       "    <span class='pyx_macro_api'>__Pyx_DECREF</span>(__pyx_t_2); __pyx_t_2 = 0;\n",
       "    #if CYTHON_COMPILING_IN_LIMITED_API\n",
       "    __pyx_t_3 = <span class='py_c_api'>PyDict_New</span>();<span class='error_goto'> if (unlikely(!__pyx_t_3)) __PYX_ERR(0, 14, __pyx_L1_error)</span>\n",
       "    <span class='refnanny'>__Pyx_GOTREF</span>(__pyx_t_3);\n",
       "    __pyx_t_2 = __pyx_FusedFunction_New(&amp;__pyx_mdef_54_cython_magic_dc0946c22004d47e2e730d191a067bf901003dc7_1calc_something, 0, __pyx_n_s_calc_something, NULL, __pyx_n_s_cython_magic_dc0946c22004d47e2e, __pyx_t_3, ((PyObject *)__pyx_codeobj__31));<span class='error_goto'> if (unlikely(!__pyx_t_2)) __PYX_ERR(0, 14, __pyx_L1_error)</span>\n",
       "    <span class='pyx_macro_api'>__Pyx_DECREF</span>(__pyx_t_3); __pyx_t_3 = 0;\n",
       "    #else\n",
       "    __pyx_t_2 = __pyx_FusedFunction_New(&amp;__pyx_mdef_54_cython_magic_dc0946c22004d47e2e730d191a067bf901003dc7_1calc_something, 0, __pyx_n_s_calc_something, NULL, __pyx_n_s_cython_magic_dc0946c22004d47e2e, __pyx_d, ((PyObject *)__pyx_codeobj__31));<span class='error_goto'> if (unlikely(!__pyx_t_2)) __PYX_ERR(0, 14, __pyx_L1_error)</span>\n",
       "    #endif\n",
       "    <span class='refnanny'>__Pyx_GOTREF</span>(__pyx_t_2);\n",
       "    if (!<span class='pyx_c_api'>__Pyx_CyFunction_InitDefaults</span>(__pyx_t_2, sizeof(__pyx_defaults), 1)) <span class='error_goto'>__PYX_ERR(0, 14, __pyx_L1_error)</span>\n",
       "    __pyx_t_3 = <span class='pyx_c_api'>__Pyx_PyDict_NewPresized</span>(0);<span class='error_goto'> if (unlikely(!__pyx_t_3)) __PYX_ERR(0, 14, __pyx_L1_error)</span>\n",
       "    <span class='refnanny'>__Pyx_GOTREF</span>(__pyx_t_3);\n",
       "    <span class='pyx_c_api'>__Pyx_CyFunction_Defaults</span>(__pyx_defaults, __pyx_t_2)-&gt;__pyx_arg__fused_sigindex = __pyx_t_3;\n",
       "    <span class='refnanny'>__Pyx_GIVEREF</span>(__pyx_t_3);\n",
       "    __pyx_t_3 = 0;\n",
       "    <span class='pyx_c_api'>__Pyx_CyFunction_SetDefaultsTuple</span>(__pyx_t_2, __pyx_empty_tuple);\n",
       "    ((__pyx_FusedFunctionObject *) __pyx_t_2)-&gt;__signatures__ = __pyx_t_1;\n",
       "    <span class='refnanny'>__Pyx_GIVEREF</span>(__pyx_t_1);\n",
       "    #if CYTHON_COMPILING_IN_LIMITED_API\n",
       "    <span class='pyx_macro_api'>__Pyx_INCREF</span>(__pyx_t_2);\n",
       "    if (<span class='py_c_api'>PyModule_AddObject</span>(__pyx_m, __pyx_k_calc_something, __pyx_t_2) &lt; 0) <span class='error_goto'>__PYX_ERR(0, 14, __pyx_L1_error)</span>\n",
       "    #else\n",
       "    if (<span class='py_c_api'>PyDict_SetItem</span>(__pyx_d, __pyx_n_s_calc_something, __pyx_t_2) &lt; 0) <span class='error_goto'>__PYX_ERR(0, 14, __pyx_L1_error)</span>\n",
       "    #endif\n",
       "    <span class='pyx_macro_api'>__Pyx_DECREF</span>(__pyx_t_2); __pyx_t_2 = 0;\n",
       "  __pyx_codeobj__39 = (PyObject*)<span class='pyx_c_api'>__Pyx_PyCode_New</span>(1, 0, 0, 2, 0, CO_OPTIMIZED|CO_NEWLOCALS, __pyx_empty_bytes, __pyx_empty_tuple, __pyx_empty_tuple, __pyx_tuple__38, __pyx_empty_tuple, __pyx_empty_tuple, __pyx_kp_s_home_janjoswig_cache_ipython_cy, __pyx_n_s_pyx_fuse_3calc_something, 14, __pyx_empty_bytes);<span class='error_goto'> if (unlikely(!__pyx_codeobj__39)) __PYX_ERR(0, 14, __pyx_L1_error)</span>\n",
       "</pre><pre class=\"cython line score-0\">&#xA0;<span class=\"\">15</span>:     <span class=\"k\">cdef</span><span class=\"p\">:</span></pre>\n",
       "<pre class=\"cython line score-0\" onclick=\"(function(s){s.display=s.display==='block'?'none':'block'})(this.nextElementSibling.style)\">+<span class=\"\">16</span>:         <span class=\"n\">np</span><span class=\"o\">.</span><span class=\"n\">uintp_t</span> <span class=\"n\">i</span><span class=\"p\">,</span> <span class=\"n\">n</span> <span class=\"o\">=</span> <span class=\"n\">a</span><span class=\"o\">.</span><span class=\"n\">shape</span><span class=\"p\">[</span><span class=\"mf\">0</span><span class=\"p\">]</span></pre>\n",
       "<pre class='cython code score-0 '>  __pyx_v_n = (__pyx_v_a.shape[0]);\n",
       "/* … */\n",
       "  __pyx_v_n = (__pyx_v_a.shape[0]);\n",
       "/* … */\n",
       "  __pyx_v_n = (__pyx_v_a.shape[0]);\n",
       "/* … */\n",
       "  __pyx_v_n = (__pyx_v_a.shape[0]);\n",
       "</pre><pre class=\"cython line score-0\">&#xA0;<span class=\"\">17</span>: </pre>\n",
       "<pre class=\"cython line score-0\" onclick=\"(function(s){s.display=s.display==='block'?'none':'block'})(this.nextElementSibling.style)\">+<span class=\"\">18</span>:     <span class=\"k\">for</span> <span class=\"n\">i</span> <span class=\"ow\">in</span> <span class=\"nb\">range</span><span class=\"p\">(</span><span class=\"n\">n</span><span class=\"p\">):</span></pre>\n",
       "<pre class='cython code score-0 '>  __pyx_t_1 = __pyx_v_n;\n",
       "  __pyx_t_2 = __pyx_t_1;\n",
       "  for (__pyx_t_3 = 0; __pyx_t_3 &lt; __pyx_t_2; __pyx_t_3+=1) {\n",
       "    __pyx_v_i = __pyx_t_3;\n",
       "/* … */\n",
       "  __pyx_t_1 = __pyx_v_n;\n",
       "  __pyx_t_2 = __pyx_t_1;\n",
       "  for (__pyx_t_3 = 0; __pyx_t_3 &lt; __pyx_t_2; __pyx_t_3+=1) {\n",
       "    __pyx_v_i = __pyx_t_3;\n",
       "/* … */\n",
       "  __pyx_t_1 = __pyx_v_n;\n",
       "  __pyx_t_2 = __pyx_t_1;\n",
       "  for (__pyx_t_3 = 0; __pyx_t_3 &lt; __pyx_t_2; __pyx_t_3+=1) {\n",
       "    __pyx_v_i = __pyx_t_3;\n",
       "/* … */\n",
       "  __pyx_t_1 = __pyx_v_n;\n",
       "  __pyx_t_2 = __pyx_t_1;\n",
       "  for (__pyx_t_3 = 0; __pyx_t_3 &lt; __pyx_t_2; __pyx_t_3+=1) {\n",
       "    __pyx_v_i = __pyx_t_3;\n",
       "</pre><pre class=\"cython line score-0\" onclick=\"(function(s){s.display=s.display==='block'?'none':'block'})(this.nextElementSibling.style)\">+<span class=\"\">19</span>:         <span class=\"n\">cython</span><span class=\"o\">.</span><span class=\"n\">typeof</span><span class=\"p\">(</span><span class=\"n\">a</span><span class=\"p\">[</span><span class=\"n\">i</span><span class=\"p\">])</span></pre>\n",
       "<pre class='cython code score-0 '>    (void)(__pyx_n_s_int32_t);\n",
       "/* … */\n",
       "    (void)(__pyx_n_s_int64_t);\n",
       "/* … */\n",
       "    (void)(__pyx_n_s_float32_t);\n",
       "/* … */\n",
       "    (void)(__pyx_n_s_float64_t);\n",
       "</pre><pre class=\"cython line score-0\" onclick=\"(function(s){s.display=s.display==='block'?'none':'block'})(this.nextElementSibling.style)\">+<span class=\"\">20</span>:         <span class=\"n\">a</span><span class=\"p\">[</span><span class=\"n\">i</span><span class=\"p\">]</span> <span class=\"o\">+=</span> <span class=\"mf\">1</span></pre>\n",
       "<pre class='cython code score-0 '>    __pyx_t_4 = __pyx_v_i;\n",
       "    *((__pyx_t_5numpy_int32_t *) ( /* dim=0 */ (__pyx_v_a.data + __pyx_t_4 * __pyx_v_a.strides[0]) )) += 1;\n",
       "  }\n",
       "/* … */\n",
       "    __pyx_t_4 = __pyx_v_i;\n",
       "    *((__pyx_t_5numpy_int64_t *) ( /* dim=0 */ (__pyx_v_a.data + __pyx_t_4 * __pyx_v_a.strides[0]) )) += 1;\n",
       "  }\n",
       "/* … */\n",
       "    __pyx_t_4 = __pyx_v_i;\n",
       "    *((__pyx_t_5numpy_float32_t *) ( /* dim=0 */ (__pyx_v_a.data + __pyx_t_4 * __pyx_v_a.strides[0]) )) += 1.0;\n",
       "  }\n",
       "/* … */\n",
       "    __pyx_t_4 = __pyx_v_i;\n",
       "    *((__pyx_t_5numpy_float64_t *) ( /* dim=0 */ (__pyx_v_a.data + __pyx_t_4 * __pyx_v_a.strides[0]) )) += 1.0;\n",
       "  }\n",
       "</pre><pre class=\"cython line score-0\">&#xA0;<span class=\"\">21</span>: </pre>\n",
       "</div></body></html>"
      ],
      "text/plain": [
       "<IPython.core.display.HTML object>"
      ]
     },
     "execution_count": 40,
     "metadata": {},
     "output_type": "execute_result"
    }
   ],
   "source": [
    "%%cython -a\n",
    "\n",
    "# cython: boundscheck = False\n",
    "\n",
    "import cython\n",
    "import numpy as np\n",
    "cimport numpy as np\n",
    "\n",
    "ctypedef fused npint_or_float:\n",
    "    np.int32_t\n",
    "    np.int64_t\n",
    "    np.float32_t\n",
    "    np.float64_t\n",
    "    \n",
    "cpdef void calc_something(npint_or_float[:] a):\n",
    "    cdef:\n",
    "        np.uintp_t i, n = a.shape[0]\n",
    "        \n",
    "    for i in range(n):\n",
    "        cython.typeof(a[i])\n",
    "        a[i] += 1\n",
    "        "
   ]
  },
  {
   "cell_type": "code",
   "execution_count": 42,
   "metadata": {
    "ExecuteTime": {
     "end_time": "2020-05-27T10:16:16.399038Z",
     "start_time": "2020-05-27T10:16:16.392288Z"
    }
   },
   "outputs": [
    {
     "name": "stdout",
     "output_type": "stream",
     "text": [
      "[1. 1. 1. 1. 1. 1. 1. 1. 1. 1.]\n"
     ]
    }
   ],
   "source": [
    "a = np.zeros(10, dtype=np.float32)\n",
    "calc_something(a)\n",
    "print(a)"
   ]
  }
 ],
 "metadata": {
  "celltoolbar": "Initialization Cell",
  "kernelspec": {
   "display_name": "Python 3",
   "language": "python",
   "name": "python3"
  },
  "language_info": {
   "codemirror_mode": {
    "name": "ipython",
    "version": 3
   },
   "file_extension": ".py",
   "mimetype": "text/x-python",
   "name": "python",
   "nbconvert_exporter": "python",
   "pygments_lexer": "ipython3",
   "version": "3.8.3"
  },
  "toc": {
   "base_numbering": 1,
   "nav_menu": {},
   "number_sections": true,
   "sideBar": true,
   "skip_h1_title": true,
   "title_cell": "Table of Contents",
   "title_sidebar": "Contents",
   "toc_cell": true,
   "toc_position": {
    "height": "calc(100% - 180px)",
    "left": "10px",
    "top": "150px",
    "width": "164.988px"
   },
   "toc_section_display": true,
   "toc_window_display": false
  },
  "varInspector": {
   "cols": {
    "lenName": 16,
    "lenType": 16,
    "lenVar": 40
   },
   "kernels_config": {
    "python": {
     "delete_cmd_postfix": "",
     "delete_cmd_prefix": "del ",
     "library": "var_list.py",
     "varRefreshCmd": "print(var_dic_list())"
    },
    "r": {
     "delete_cmd_postfix": ") ",
     "delete_cmd_prefix": "rm(",
     "library": "var_list.r",
     "varRefreshCmd": "cat(var_dic_list()) "
    }
   },
   "types_to_exclude": [
    "module",
    "function",
    "builtin_function_or_method",
    "instance",
    "_Feature"
   ],
   "window_display": false
  }
 },
 "nbformat": 4,
 "nbformat_minor": 4
}
