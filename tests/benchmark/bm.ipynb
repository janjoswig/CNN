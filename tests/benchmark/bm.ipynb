{
 "cells": [
  {
   "cell_type": "markdown",
   "metadata": {},
   "source": [
    "# Benchmarking"
   ]
  },
  {
   "cell_type": "markdown",
   "metadata": {},
   "source": [
    "Notebook to organise benchmarks of different implementations of the algorithms used in the `core.cnn` and `sklearn.cluster` modules.\n",
    "The `CNN` clustering class exposes and wraps only one of the variants of the *fit* and the *predict* algorithm per data situation."
   ]
  },
  {
   "cell_type": "markdown",
   "metadata": {
    "toc": true
   },
   "source": [
    "<h1>Table of Contents<span class=\"tocSkip\"></span></h1>\n",
    "<div class=\"toc\"><ul class=\"toc-item\"><li><span><a href=\"#Pre-requirements\" data-toc-modified-id=\"Pre-requirements-1\"><span class=\"toc-item-num\">1&nbsp;&nbsp;</span>Pre-requirements</a></span></li><li><span><a href=\"#Version-info\" data-toc-modified-id=\"Version-info-2\"><span class=\"toc-item-num\">2&nbsp;&nbsp;</span>Version info</a></span></li><li><span><a href=\"#Helper-function-definitions\" data-toc-modified-id=\"Helper-function-definitions-3\"><span class=\"toc-item-num\">3&nbsp;&nbsp;</span>Helper function definitions</a></span><ul class=\"toc-item\"><li><span><a href=\"#Plots\" data-toc-modified-id=\"Plots-3.1\"><span class=\"toc-item-num\">3.1&nbsp;&nbsp;</span>Plots</a></span></li><li><span><a href=\"#Test-data-set-generation\" data-toc-modified-id=\"Test-data-set-generation-3.2\"><span class=\"toc-item-num\">3.2&nbsp;&nbsp;</span>Test data set generation</a></span></li><li><span><a href=\"#Benchmark-organisation\" data-toc-modified-id=\"Benchmark-organisation-3.3\"><span class=\"toc-item-num\">3.3&nbsp;&nbsp;</span>Benchmark organisation</a></span></li></ul></li><li><span><a href=\"#Consitency-check\" data-toc-modified-id=\"Consitency-check-4\"><span class=\"toc-item-num\">4&nbsp;&nbsp;</span>Consitency check</a></span><ul class=\"toc-item\"><li><span><a href=\"#Scikit-learn-DBSCAN\" data-toc-modified-id=\"Scikit-learn-DBSCAN-4.1\"><span class=\"toc-item-num\">4.1&nbsp;&nbsp;</span>Scikit-learn DBSCAN</a></span></li><li><span><a href=\"#Scikit-learn-CNN\" data-toc-modified-id=\"Scikit-learn-CNN-4.2\"><span class=\"toc-item-num\">4.2&nbsp;&nbsp;</span>Scikit-learn CNN</a></span></li><li><span><a href=\"#core.cnn-CNN\" data-toc-modified-id=\"core.cnn-CNN-4.3\"><span class=\"toc-item-num\">4.3&nbsp;&nbsp;</span>core.cnn CNN</a></span></li></ul></li><li><span><a href=\"#Fit-variants\" data-toc-modified-id=\"Fit-variants-5\"><span class=\"toc-item-num\">5&nbsp;&nbsp;</span>Fit variants</a></span><ul class=\"toc-item\"><li><span><a href=\"#From-neighbours\" data-toc-modified-id=\"From-neighbours-5.1\"><span class=\"toc-item-num\">5.1&nbsp;&nbsp;</span>From neighbours</a></span><ul class=\"toc-item\"><li><span><a href=\"#From-list-of-sets\" data-toc-modified-id=\"From-list-of-sets-5.1.1\"><span class=\"toc-item-num\">5.1.1&nbsp;&nbsp;</span>From list of sets</a></span><ul class=\"toc-item\"><li><span><a href=\"#Baseline\" data-toc-modified-id=\"Baseline-5.1.1.1\"><span class=\"toc-item-num\">5.1.1.1&nbsp;&nbsp;</span>Baseline</a></span></li><li><span><a href=\"#Stdlib-index\" data-toc-modified-id=\"Stdlib-index-5.1.1.2\"><span class=\"toc-item-num\">5.1.1.2&nbsp;&nbsp;</span>Stdlib index</a></span></li><li><span><a href=\"#Stdlib-cython\" data-toc-modified-id=\"Stdlib-cython-5.1.1.3\"><span class=\"toc-item-num\">5.1.1.3&nbsp;&nbsp;</span>Stdlib cython</a></span></li></ul></li><li><span><a href=\"#From-numpy.array\" data-toc-modified-id=\"From-numpy.array-5.1.2\"><span class=\"toc-item-num\">5.1.2&nbsp;&nbsp;</span>From numpy.array</a></span></li><li><span><a href=\"#Check-in-CNN-class-context\" data-toc-modified-id=\"Check-in-CNN-class-context-5.1.3\"><span class=\"toc-item-num\">5.1.3&nbsp;&nbsp;</span>Check in CNN class context</a></span></li></ul></li></ul></li></ul></div>"
   ]
  },
  {
   "cell_type": "markdown",
   "metadata": {},
   "source": [
    "## Pre-requirements"
   ]
  },
  {
   "cell_type": "code",
   "execution_count": 13,
   "metadata": {
    "ExecuteTime": {
     "end_time": "2020-05-15T09:22:40.132130Z",
     "start_time": "2020-05-15T09:22:40.110323Z"
    },
    "init_cell": true,
    "scrolled": true
   },
   "outputs": [
    {
     "name": "stdout",
     "output_type": "stream",
     "text": [
      "The Cython extension is already loaded. To reload it, use:\n",
      "  %reload_ext Cython\n",
      "The line_profiler extension is already loaded. To reload it, use:\n",
      "  %reload_ext line_profiler\n",
      "The memory_profiler extension is already loaded. To reload it, use:\n",
      "  %reload_ext memory_profiler\n"
     ]
    }
   ],
   "source": [
    "from collections import Counter\n",
    "import importlib\n",
    "from operator import itemgetter\n",
    "import sys\n",
    "import time\n",
    "\n",
    "\n",
    "from IPython.core.display import display, HTML\n",
    "import numpy as np\n",
    "%matplotlib widget\n",
    "import matplotlib as mpl\n",
    "import matplotlib.pyplot as plt\n",
    "from sklearn import cluster\n",
    "from sklearn import datasets\n",
    "from sklearn.neighbors import NearestNeighbors\n",
    "from sklearn.preprocessing import StandardScaler\n",
    "\n",
    "from core import _cfits             # Cythonised fit implementation snippets\n",
    "from core import cnn\n",
    "from snippets import fits  # Fit mplementation snippets\n",
    "\n",
    "# Jupyter extensions\n",
    "%load_ext Cython\n",
    "%load_ext line_profiler\n",
    "%load_ext memory_profiler"
   ]
  },
  {
   "cell_type": "code",
   "execution_count": 14,
   "metadata": {
    "ExecuteTime": {
     "end_time": "2020-05-15T09:22:40.154055Z",
     "start_time": "2020-05-15T09:22:40.133928Z"
    },
    "init_cell": true
   },
   "outputs": [],
   "source": [
    "# Matplotlib configuration\n",
    "mpl.rcParams.update(mpl.rcParamsDefault)\n",
    "mpl.rc_file(\"../../tutorial/matplotlibrc\", use_default_template=False)"
   ]
  },
  {
   "cell_type": "code",
   "execution_count": 15,
   "metadata": {
    "ExecuteTime": {
     "end_time": "2020-05-15T09:22:40.171993Z",
     "start_time": "2020-05-15T09:22:40.159461Z"
    },
    "init_cell": true
   },
   "outputs": [
    {
     "data": {
      "text/html": [
       "<style>.container { width:85% !important; }</style>"
      ],
      "text/plain": [
       "<IPython.core.display.HTML object>"
      ]
     },
     "metadata": {},
     "output_type": "display_data"
    }
   ],
   "source": [
    "# Jupyter notebook configuration\n",
    "display(HTML(\"<style>.container { width:85% !important; }</style>\"))"
   ]
  },
  {
   "cell_type": "markdown",
   "metadata": {},
   "source": [
    "## Version info"
   ]
  },
  {
   "cell_type": "code",
   "execution_count": 16,
   "metadata": {
    "ExecuteTime": {
     "end_time": "2020-05-15T09:22:40.192818Z",
     "start_time": "2020-05-15T09:22:40.174227Z"
    },
    "init_cell": true
   },
   "outputs": [
    {
     "name": "stdout",
     "output_type": "stream",
     "text": [
      "3.8.1 (default, Jan 23 2020, 07:59:15) \n",
      "[GCC 8.3.0]\n"
     ]
    }
   ],
   "source": [
    "print(sys.version)"
   ]
  },
  {
   "cell_type": "markdown",
   "metadata": {},
   "source": [
    "## Helper function definitions"
   ]
  },
  {
   "cell_type": "markdown",
   "metadata": {},
   "source": [
    "### Plots"
   ]
  },
  {
   "cell_type": "code",
   "execution_count": 17,
   "metadata": {
    "ExecuteTime": {
     "end_time": "2020-05-15T09:22:40.207455Z",
     "start_time": "2020-05-15T09:22:40.196151Z"
    },
    "init_cell": true
   },
   "outputs": [],
   "source": [
    "# Axis property defaults for the plots\n",
    "ax_props = {\n",
    "    \"xlabel\": None,\n",
    "    \"ylabel\": None,\n",
    "    \"xlim\": (-2.5, 2.5),\n",
    "    \"ylim\": (-2.5, 2.5),\n",
    "    \"xticks\": (),\n",
    "    \"yticks\": (),\n",
    "    \"aspect\": \"equal\"\n",
    "}"
   ]
  },
  {
   "cell_type": "code",
   "execution_count": 18,
   "metadata": {
    "ExecuteTime": {
     "end_time": "2020-05-15T09:22:40.222779Z",
     "start_time": "2020-05-15T09:22:40.209334Z"
    },
    "init_cell": true
   },
   "outputs": [],
   "source": [
    "def plot_data(data, labels=None, ax=None, noise=0):\n",
    "    \"\"\"Take a data set and cluster labels to make a basic 2D dot plot\n",
    "    \n",
    "    Args:\n",
    "        data: Numpy `numpy.ndarray` of shape (#points, 2) with x, y\n",
    "            coordinates of points in 2D\n",
    "        labels: Numpy `numpy.ndarray` of shape (#points,) and\n",
    "            `dtype = int` holding cluster label assignments for all\n",
    "            points.  If `None`, will plot the data set without\n",
    "            point colouring by label.\n",
    "        ax: Matplotlib `matplotlib.axes.SubplotBase` instance to\n",
    "            attach the plot to.  If `None`, wil create a new instance.\n",
    "        noise: Integer label used to mark point as noise (no cluster\n",
    "            assignment; Usually 0 or -1). \n",
    "    \"\"\"\n",
    "\n",
    "    if ax is None:\n",
    "        plt.close('all')\n",
    "        fig, ax = plt.subplots(\n",
    "            figsize=(\n",
    "                mpl.rcParams[\"figure.figsize\"][0] / 2,\n",
    "                mpl.rcParams[\"figure.figsize\"][1]\n",
    "                )\n",
    "            )\n",
    "    else:\n",
    "        fig = ax.get_figure()\n",
    "        \n",
    "    if labels is None:\n",
    "        ax.plot(\n",
    "            *data.T,\n",
    "            linestyle=\"\",\n",
    "            color=\"None\",\n",
    "            marker=\"o\",\n",
    "            markersize=4,\n",
    "            markerfacecolor=\"white\",\n",
    "            markeredgecolor=\"k\",\n",
    "            )\n",
    "\n",
    "    else:\n",
    "        ax.plot(\n",
    "            *data[np.where(labels == noise)[0]].T,\n",
    "            linestyle=\"\",\n",
    "            color=\"None\",\n",
    "            marker=\"o\",\n",
    "            markersize=4,\n",
    "            markerfacecolor=\"gray\",\n",
    "            markeredgecolor=\"k\",\n",
    "            )\n",
    "\n",
    "        for cluster_number in range(noise + 1 , int(np.max(labels)) + 1):\n",
    "            ax.plot(\n",
    "                *data[np.where(labels == cluster_number)[0]].T,\n",
    "                linestyle=\"\",\n",
    "                marker=\"o\",\n",
    "                markersize=4,\n",
    "                markeredgecolor=\"k\",\n",
    "                )\n",
    "\n",
    "    ax.set(**{\n",
    "        \"xticks\": (),\n",
    "        \"yticks\": (),\n",
    "        \"xticklabels\": (),\n",
    "        \"yticklabels\": (),\n",
    "        \"aspect\": \"equal\"\n",
    "        })"
   ]
  },
  {
   "cell_type": "markdown",
   "metadata": {},
   "source": [
    "### Test data set generation"
   ]
  },
  {
   "cell_type": "markdown",
   "metadata": {},
   "source": [
    "Data set generation function should be generally designed in such a way that the expect exactly one argument *n* and return a 2D data set of *n* sample points. A `label` attribute can be optionally added to the function object for identification."
   ]
  },
  {
   "cell_type": "code",
   "execution_count": 19,
   "metadata": {
    "ExecuteTime": {
     "end_time": "2020-05-15T09:22:40.243717Z",
     "start_time": "2020-05-15T09:22:40.225189Z"
    },
    "init_cell": true
   },
   "outputs": [],
   "source": [
    "# Global seed for data set generation functions\n",
    "np.random.seed(42)"
   ]
  },
  {
   "cell_type": "code",
   "execution_count": 20,
   "metadata": {
    "ExecuteTime": {
     "end_time": "2020-05-15T09:22:40.367478Z",
     "start_time": "2020-05-15T09:22:40.246931Z"
    },
    "init_cell": true
   },
   "outputs": [],
   "source": [
    "# circles\n",
    "def gen_circles(n):\n",
    "    circles, _ = datasets.make_circles(\n",
    "        n_samples=n,\n",
    "        factor=.5,\n",
    "        noise=.05,\n",
    "        random_state=10\n",
    "        )\n",
    "    \n",
    "    return StandardScaler().fit_transform(circles)\n",
    "\n",
    "gen_circles.label = \"circles\"\n",
    "\n",
    "# blobs                            \n",
    "def gen_blobs(n):\n",
    "    blobs, _ = datasets.make_blobs(\n",
    "        centers=[[-10, -10], [10, -10], [10, 10]],\n",
    "        n_samples=n,\n",
    "        random_state=10\n",
    "    )\n",
    "    return StandardScaler().fit_transform(blobs)\n",
    "\n",
    "gen_blobs.label = \"blobs\"\n",
    "\n",
    "# moons\n",
    "def gen_moons(n):\n",
    "    moons, _ = datasets.make_moons(\n",
    "        n_samples=n,\n",
    "        noise=.05,\n",
    "        random_state=10\n",
    "        )\n",
    "    \n",
    "    return StandardScaler().fit_transform(moons)\n",
    "\n",
    "gen_moons.label = \"moons\"\n",
    "\n",
    "def gen_no_structure(n):\n",
    "    no_structure = np.random.rand(n, 2)\n",
    "    \n",
    "    return StandardScaler().fit_transform(no_structure)\n",
    "\n",
    "gen_no_structure.label = \"None\"\n",
    "\n",
    "def gen_aniso(n):\n",
    "    X, y = datasets.make_blobs(\n",
    "        n_samples=n,\n",
    "        random_state=170\n",
    "        )\n",
    "\n",
    "    transformation = [[0.6, -0.6], [-0.4, 0.8]]\n",
    "    aniso = np.dot(X, transformation)\n",
    "    \n",
    "    return StandardScaler().fit_transform(aniso)\n",
    "\n",
    "gen_aniso.label = \"aniso\"\n",
    "\n",
    "def gen_varied(n):\n",
    "    varied, _ = datasets.make_blobs(\n",
    "        n_samples=n,\n",
    "        cluster_std=[1.0, 2.5, 0.5],\n",
    "        random_state=170)\n",
    "    \n",
    "    return StandardScaler().fit_transform(varied)\n",
    "\n",
    "gen_varied.label = \"varied\""
   ]
  },
  {
   "cell_type": "markdown",
   "metadata": {},
   "source": [
    "### Benchmark organisation"
   ]
  },
  {
   "cell_type": "code",
   "execution_count": 21,
   "metadata": {
    "ExecuteTime": {
     "end_time": "2020-05-15T09:22:40.390236Z",
     "start_time": "2020-05-15T09:22:40.370415Z"
    },
    "init_cell": true
   },
   "outputs": [],
   "source": [
    "class DS:\n",
    "    \"\"\"Benchmark class to represent a data set\n",
    "    \n",
    "    Initialise a `DS` instance with a data set generation function.\n",
    "    \n",
    "    Attributes:\n",
    "       data: A (2D) sample data set\n",
    "       prepare_neighbourhoods: Pre-compute neighbourhoods\n",
    "    \"\"\"\n",
    "\n",
    "    def __init__(\n",
    "            self, gen_fxn, n, gen_fxn_args=None, gen_fxn_kwargs=None):\n",
    "        self.gen_fxn = gen_fxn\n",
    "        self.n = n\n",
    "        \n",
    "        if gen_fxn_kwargs is None:\n",
    "            gen_fxn_kwargs = {}\n",
    "        if gen_fxn_args is None:\n",
    "            gen_fxn_args = ()  \n",
    "        \n",
    "        self.data = gen_fxn(n, *gen_fxn_args, **gen_fxn_kwargs)\n",
    "        self.neighbourhoods = None  # Pre-computed neighbourhoods \n",
    "        self.r = None               # Neighbourhood computation radius\n",
    "        self.timeits = {}           # Timing results\n",
    "        \n",
    "    def prepare_neighbourhoods(self, r, numpy=False):\n",
    "        \"\"\"Pre-compute neighbourhoods at a given readius `r`\n",
    "        \n",
    "        Uses `sklearn.neighbors.NearestNeighbors`.\n",
    "        \n",
    "        Args:\n",
    "            numpy: If `True`, returns a `numpy.ndarray` of shape\n",
    "            (#points,) containing the neighbours of each points as\n",
    "            `numpy.ndarray` of shape (#neighbours,).  If `False`,\n",
    "            returns a `list` of `sets` instead.\n",
    "        \"\"\"\n",
    "\n",
    "        neighbour_model = NearestNeighbors(radius=r).fit(self.data)\n",
    "        neighbours = neighbour_model.radius_neighbors(\n",
    "            self.data, return_distance=False\n",
    "            )\n",
    "        \n",
    "        # Remove self-counting\n",
    "        neighbours = [set(x) for x in neighbours]   \n",
    "        for c, s in enumerate(neighbours):\n",
    "            s.remove(c)\n",
    "        if numpy:\n",
    "            neighbours = np.array([np.array([y for y in x]) for x in neighbours])    \n",
    "        \n",
    "        self.neighbourhoods = neighbours\n",
    "        self.r = r\n",
    "        \n",
    "    def __str__(self):\n",
    "        try:\n",
    "            desc_gen = self.gen_fxn.label\n",
    "        except AttributeError:\n",
    "            desc_gen = self.gen_fxn.__name__\n",
    "            \n",
    "        # p: from points\n",
    "        # d: from distances\n",
    "        # n: from neighbours\n",
    "        \n",
    "        if self.neighbourhoods is not None:\n",
    "            desc_from = f\"n{self.r}\"\n",
    "        elif self.dist is not None:\n",
    "            desc_from = f\"d\"\n",
    "        else:\n",
    "            desc_from = f\"p\"\n",
    "            \n",
    "        return f\"{desc_gen}_{self.n}_{desc_from}\"\n",
    "    \n",
    "    \n",
    "    def ratios(self, base=None):\n",
    "        \"\"\"Show relative performance of runs based on `timeits` dict\"\"\"\n",
    "\n",
    "        if base is not None:\n",
    "            base = self.timeits[base].average\n",
    "        else:\n",
    "            base = min(x.average for x in self.timeits.values())\n",
    "            \n",
    "        return sorted([\n",
    "            (k, v.average / base)\n",
    "            for k, v in self.timeits.items()\n",
    "            ], key=itemgetter(1))\n",
    "        "
   ]
  },
  {
   "cell_type": "code",
   "execution_count": 22,
   "metadata": {
    "ExecuteTime": {
     "end_time": "2020-05-15T09:22:40.412264Z",
     "start_time": "2020-05-15T09:22:40.392365Z"
    },
    "init_cell": true
   },
   "outputs": [],
   "source": [
    "def profile_fxn(\n",
    "        f, ds, report_dir, *args,\n",
    "        t=True, l=True, m=True, label=None, **kwargs):\n",
    "    \"\"\"Function profiling procedure\n",
    "    \n",
    "    Runs %lprun and %timeit line magic on a globally defined function\n",
    "    `fxn`.  Function args and kwargs need to be defined globally as\n",
    "    well.  This is necessary, because (at least lprun) line magic does\n",
    "    not seem to work well with local variables, e.g. the following\n",
    "    alternative did not work (raises `NameError`): \n",
    "    \n",
    "       def profile_fxn(fxn, *args, **kwargs):\n",
    "           %lprun -f fxn fxn(*args, **kwargs)\n",
    "           ...\n",
    "    \n",
    "    This function expects a :obj:`DS` object, providing a dataset and\n",
    "    pre-calculated values if necessary.  Report details are deduced from\n",
    "    this object.  Timings are saved to the object.\n",
    "    \n",
    "    Args:\n",
    "       f (:obj:`func`): Function to profile.\n",
    "       ds (:obj:`DS`): Data set object.\n",
    "       report_dir (str): Output directory file path.\n",
    "       *args: Arguments passed to `f`\n",
    "    \n",
    "    Keyword args:\n",
    "       label (optional, str): Label to identify the run.  If `None`,\n",
    "          `fxn.__name__` is used.\n",
    "       *kwargs: Keyword arguments passed to `f`.\n",
    "          \n",
    "    \n",
    "    Returns:\n",
    "       None\n",
    "    \n",
    "    \"\"\"\n",
    "    \n",
    "    global fxn\n",
    "    global fxn_args\n",
    "    global fxn_kwargs\n",
    "    \n",
    "    fxn = f\n",
    "    fxn_args = args\n",
    "    fxn_kwargs = kwargs\n",
    "    \n",
    "    # Validate function result\n",
    "    result = fxn(*fxn_args, **fxn_kwargs)\n",
    "    \n",
    "    # Convert result if not labels array\n",
    "    if isinstance(result, list) and isinstance(result[0], np.ndarray):\n",
    "        # Convert result if from original implementation (baseline)\n",
    "        result = baseline_to_labels(result)\n",
    "    \n",
    "    if result is not None:\n",
    "        noise = 0\n",
    "        frequencies = Counter(result)\n",
    "        if 0 in frequencies:\n",
    "            noise = frequencies.pop(0)\n",
    "\n",
    "        largest = frequencies.most_common(1)[0][1] if frequencies else 0\n",
    "        clusters = len(frequencies)\n",
    "\n",
    "        print(f\"Length of labels:    {len(result)}\")\n",
    "        print(f\"Noise:               {noise}\")\n",
    "        print(f\"Largest:             {largest}\")\n",
    "        print(f\"Clusters:            {clusters}\")\n",
    "\n",
    "    \n",
    "    # Profile\n",
    "    if l:\n",
    "        %lprun -T {report_dir}/{fxn.__name__}_{ds.__str__()}.lprun -f fxn fxn(*fxn_args, **fxn_kwargs)\n",
    "    if t:\n",
    "        o = %timeit -o fxn(*fxn_args, **fxn_kwargs)\n",
    "\n",
    "        if label is None:\n",
    "            label = fxn.__name__\n",
    "        ds.timeits.update({label: o})"
   ]
  },
  {
   "cell_type": "code",
   "execution_count": 23,
   "metadata": {
    "ExecuteTime": {
     "end_time": "2020-05-15T09:22:40.430587Z",
     "start_time": "2020-05-15T09:22:40.415104Z"
    },
    "init_cell": true,
    "run_control": {
     "marked": true
    }
   },
   "outputs": [],
   "source": [
    "def baseline_to_labels(result):\n",
    "    \"\"\"Convert result from original implementation (baseline)\"\"\"\n",
    "\n",
    "    len_ = len(result)\n",
    "    result = [x for x in result if isinstance(x, np.ndarray)]\n",
    "    result_ = np.zeros(len_)\n",
    "    for c, cluster in enumerate(result, 1):\n",
    "        for member in cluster:\n",
    "            result_[member] = c\n",
    "    result = result_\n",
    "\n",
    "    return result"
   ]
  },
  {
   "cell_type": "markdown",
   "metadata": {},
   "source": [
    "## Consitency check"
   ]
  },
  {
   "cell_type": "markdown",
   "metadata": {},
   "source": [
    "Ensure that every implementation delivers a consistent cluster result for test data sets."
   ]
  },
  {
   "cell_type": "code",
   "execution_count": 18,
   "metadata": {
    "ExecuteTime": {
     "end_time": "2020-05-15T08:01:39.991794Z",
     "start_time": "2020-05-15T08:01:39.830379Z"
    }
   },
   "outputs": [
    {
     "data": {
      "application/vnd.jupyter.widget-view+json": {
       "model_id": "59eebb4037644de083980720205b2c4c",
       "version_major": 2,
       "version_minor": 0
      },
      "text/plain": [
       "Canvas(toolbar=Toolbar(toolitems=[('Home', 'Reset original view', 'home', 'home'), ('Back', 'Back to previous …"
      ]
     },
     "metadata": {},
     "output_type": "display_data"
    }
   ],
   "source": [
    "# Plot the test data sets\n",
    "plt.close(\"all\")\n",
    "fig, ax = plt.subplots(2, 3)\n",
    "Ax = ax.flatten()\n",
    "\n",
    "generation_fxns = [\n",
    "    gen_circles, gen_moons, gen_varied,\n",
    "    gen_aniso, gen_blobs, gen_no_structure,\n",
    "    ]\n",
    "\n",
    "for count, gen_fxn in enumerate(generation_fxns):\n",
    "    # Plot\n",
    "    plot_data(gen_fxn(5000), ax=Ax[count])\n",
    "    Ax[count].set(**ax_props)\n",
    "    \n",
    "    try:\n",
    "        name = gen_fxn.label\n",
    "    except AttributeError:\n",
    "        name = gen_fxn.__name__\n",
    "\n",
    "    Ax[count].set_title(f'{name}', fontsize=10, pad=4)\n",
    "    \n",
    "fig.subplots_adjust(\n",
    "    left=0, right=1, bottom=0.05, top=0.9, wspace=0, hspace=0.2 \n",
    "    )\n",
    "\n",
    "plt.show()"
   ]
  },
  {
   "cell_type": "markdown",
   "metadata": {},
   "source": [
    "### Scikit-learn DBSCAN"
   ]
  },
  {
   "cell_type": "code",
   "execution_count": 19,
   "metadata": {
    "ExecuteTime": {
     "end_time": "2020-05-15T08:01:44.122975Z",
     "start_time": "2020-05-15T08:01:43.499858Z"
    }
   },
   "outputs": [
    {
     "data": {
      "application/vnd.jupyter.widget-view+json": {
       "model_id": "144e840d03c54405b08cf97e8b26aaa6",
       "version_major": 2,
       "version_minor": 0
      },
      "text/plain": [
       "Canvas(toolbar=Toolbar(toolitems=[('Home', 'Reset original view', 'home', 'home'), ('Back', 'Back to previous …"
      ]
     },
     "metadata": {},
     "output_type": "display_data"
    }
   ],
   "source": [
    "# Plot the test data sets\n",
    "plt.close(\"all\")\n",
    "fig, ax = plt.subplots(2, 3)\n",
    "Ax = ax.flatten()\n",
    "\n",
    "generation_fxns = [\n",
    "    gen_circles, gen_moons, gen_varied,\n",
    "    gen_aniso, gen_blobs, gen_no_structure,\n",
    "    ]\n",
    "\n",
    "fit_params = [\n",
    "    {\"eps\": 0.2, \"min_samples\": 5},    # circles\n",
    "    {\"eps\": 0.2, \"min_samples\": 5},    # moons\n",
    "    {\"eps\": 0.14, \"min_samples\": 20},  # varied\n",
    "    {\"eps\": 0.11, \"min_samples\": 20},  # aniso\n",
    "    {\"eps\": 0.2, \"min_samples\": 5},    # blobs\n",
    "    {\"eps\": 0.2, \"min_samples\": 5},    # no structure\n",
    "    ]\n",
    "\n",
    "for count, (gen_fxn, params) in enumerate(zip(generation_fxns, fit_params)):\n",
    "    # Fit\n",
    "    data = gen_fxn(5000)\n",
    "    labels = cluster.dbscan(data, **params)[1]\n",
    "    \n",
    "    # Plot\n",
    "    plot_data(data, labels=labels, ax=Ax[count], noise=-1)\n",
    "    Ax[count].set(**ax_props)\n",
    "    \n",
    "    try:\n",
    "        name = gen_fxn.label\n",
    "    except AttributeError:\n",
    "        name = gen_fxn.__name__\n",
    "\n",
    "    Ax[count].set_title(f'{name}', fontsize=10, pad=4)\n",
    "    \n",
    "fig.subplots_adjust(\n",
    "    left=0, right=1, bottom=0.05, top=0.9, wspace=0, hspace=0.2 \n",
    "    )\n",
    "\n",
    "plt.show()"
   ]
  },
  {
   "cell_type": "markdown",
   "metadata": {},
   "source": [
    "### Scikit-learn CNN"
   ]
  },
  {
   "cell_type": "code",
   "execution_count": 20,
   "metadata": {
    "ExecuteTime": {
     "end_time": "2020-05-15T08:01:47.763204Z",
     "start_time": "2020-05-15T08:01:46.938456Z"
    }
   },
   "outputs": [
    {
     "data": {
      "application/vnd.jupyter.widget-view+json": {
       "model_id": "fd0f765c33e44d189988561c3b8d460b",
       "version_major": 2,
       "version_minor": 0
      },
      "text/plain": [
       "Canvas(toolbar=Toolbar(toolitems=[('Home', 'Reset original view', 'home', 'home'), ('Back', 'Back to previous …"
      ]
     },
     "metadata": {},
     "output_type": "display_data"
    }
   ],
   "source": [
    "# Plot the test data sets\n",
    "plt.close(\"all\")\n",
    "fig, ax = plt.subplots(2, 3)\n",
    "Ax = ax.flatten()\n",
    "\n",
    "generation_fxns = [\n",
    "    gen_circles, gen_moons, gen_varied,\n",
    "    gen_aniso, gen_blobs, gen_no_structure,\n",
    "    ]\n",
    "\n",
    "fit_params = [\n",
    "    {\"eps\": 0.2, \"min_samples\": 5},    # circles\n",
    "    {\"eps\": 0.2, \"min_samples\": 5},    # moons\n",
    "    {\"eps\": 0.18, \"min_samples\": 20},  # varied\n",
    "    {\"eps\": 0.15, \"min_samples\": 10},  # aniso\n",
    "    {\"eps\": 0.2, \"min_samples\": 5},    # blobs\n",
    "    {\"eps\": 0.2, \"min_samples\": 5},    # no structure\n",
    "    ]\n",
    "\n",
    "for count, (gen_fxn, params) in enumerate(zip(generation_fxns, fit_params)):\n",
    "    # Fit\n",
    "    data = gen_fxn(5000)\n",
    "    labels = cluster.cnn(data, **params)\n",
    "    \n",
    "    # Plot\n",
    "    plot_data(data, labels=labels, ax=Ax[count], noise=-1)\n",
    "    Ax[count].set(**ax_props)\n",
    "    \n",
    "    try:\n",
    "        name = gen_fxn.label\n",
    "    except AttributeError:\n",
    "        name = gen_fxn.__name__\n",
    "\n",
    "    Ax[count].set_title(f'{name}', fontsize=10, pad=4)\n",
    "    \n",
    "fig.subplots_adjust(\n",
    "    left=0, right=1, bottom=0.05, top=0.9, wspace=0, hspace=0.2 \n",
    "    )\n",
    "\n",
    "plt.show()"
   ]
  },
  {
   "cell_type": "code",
   "execution_count": 35,
   "metadata": {
    "ExecuteTime": {
     "end_time": "2020-05-15T09:29:49.805952Z",
     "start_time": "2020-05-15T09:29:45.312940Z"
    }
   },
   "outputs": [
    {
     "data": {
      "application/vnd.jupyter.widget-view+json": {
       "model_id": "0040a7ef004d4c4e96987708e5ac2743",
       "version_major": 2,
       "version_minor": 0
      },
      "text/plain": [
       "Canvas(toolbar=Toolbar(toolitems=[('Home', 'Reset original view', 'home', 'home'), ('Back', 'Back to previous …"
      ]
     },
     "metadata": {},
     "output_type": "display_data"
    }
   ],
   "source": [
    "# Plot the test data sets\n",
    "plt.close(\"all\")\n",
    "fig, ax = plt.subplots(2, 3)\n",
    "Ax = ax.flatten()\n",
    "\n",
    "generation_fxns = [\n",
    "    gen_circles, gen_moons, gen_varied,\n",
    "    gen_aniso, gen_blobs, gen_no_structure,\n",
    "    ]\n",
    "\n",
    "fit_params = [\n",
    "    {\"radius_cutoff\": 0.2, \"cnn_cutoff\": 5},                        # circles\n",
    "    {\"radius_cutoff\": 0.2, \"cnn_cutoff\": 5},                        # moons\n",
    "    {\"radius_cutoff\": 0.18, \"cnn_cutoff\": 20, \"member_cutoff\": 8},  # varied\n",
    "    {\"radius_cutoff\": 0.15, \"cnn_cutoff\": 10},                      # aniso\n",
    "    {\"radius_cutoff\": 0.2, \"cnn_cutoff\": 5},                        # blobs\n",
    "    {\"radius_cutoff\": 0.2, \"cnn_cutoff\": 5},                        # no structure\n",
    "    ]\n",
    "\n",
    "for count, (gen_fxn, params) in enumerate(zip(generation_fxns, fit_params)):\n",
    "    # Fit\n",
    "    data = gen_fxn(5000)\n",
    "    clustering = cnn.CNN(data)\n",
    "    clustering.calc_dist()\n",
    "    clustering.fit(**params, rec=False)\n",
    "    \n",
    "    # Plot\n",
    "    plot_data(data, labels=clustering.labels, ax=Ax[count], noise=0)\n",
    "    Ax[count].set(**ax_props)\n",
    "    \n",
    "    try:\n",
    "        name = gen_fxn.label\n",
    "    except AttributeError:\n",
    "        name = gen_fxn.__name__\n",
    "\n",
    "    Ax[count].set_title(f'{name}', fontsize=10, pad=4)\n",
    "    \n",
    "fig.subplots_adjust(\n",
    "    left=0, right=1, bottom=0.05, top=0.9, wspace=0, hspace=0.2 \n",
    "    )\n",
    "\n",
    "plt.show()"
   ]
  },
  {
   "cell_type": "markdown",
   "metadata": {},
   "source": [
    "### core.cnn CNN"
   ]
  },
  {
   "cell_type": "markdown",
   "metadata": {},
   "source": [
    "## Fit variants"
   ]
  },
  {
   "cell_type": "markdown",
   "metadata": {},
   "source": [
    "Benchmarks for different approaches to the CNN fit function."
   ]
  },
  {
   "cell_type": "code",
   "execution_count": 42,
   "metadata": {
    "ExecuteTime": {
     "end_time": "2020-05-15T08:51:27.225712Z",
     "start_time": "2020-05-15T08:51:27.220982Z"
    }
   },
   "outputs": [
    {
     "data": {
      "text/plain": [
       "<module 'cfits' from '/home/janjoswig/CNN/cfits.cpython-38-x86_64-linux-gnu.so'>"
      ]
     },
     "execution_count": 42,
     "metadata": {},
     "output_type": "execute_result"
    }
   ],
   "source": [
    "importlib.reload(fits)\n",
    "importlib.reload(cfits)"
   ]
  },
  {
   "cell_type": "code",
   "execution_count": 26,
   "metadata": {
    "ExecuteTime": {
     "end_time": "2020-05-15T09:23:20.208362Z",
     "start_time": "2020-05-15T09:23:20.205751Z"
    },
    "init_cell": true
   },
   "outputs": [],
   "source": [
    "# Benchmark results will be saved under:\n",
    "report_dir = \"reports/T460\"\n",
    "# report_dir = \"reports/qcw21\"\n",
    "# report_dir = \"reports/qcm07\""
   ]
  },
  {
   "cell_type": "markdown",
   "metadata": {},
   "source": [
    "### From neighbours"
   ]
  },
  {
   "cell_type": "markdown",
   "metadata": {
    "ExecuteTime": {
     "end_time": "2020-05-12T15:33:50.824853Z",
     "start_time": "2020-05-12T15:33:50.812778Z"
    }
   },
   "source": [
    "Tests of fit functions taking pre-computed neighbourhoods as input. Two ways of setting up the benchmarks are provided:\n",
    "  - Use `prepare_neighbours` function to quickly generate the input data\n",
    "  - Use `DS` benchmark class to organise different runs on essentially the same data set"
   ]
  },
  {
   "cell_type": "code",
   "execution_count": 13,
   "metadata": {
    "ExecuteTime": {
     "end_time": "2020-05-15T08:00:58.494994Z",
     "start_time": "2020-05-15T08:00:58.478279Z"
    },
    "run_control": {
     "marked": true
    }
   },
   "outputs": [],
   "source": [
    "# Benchmark fixture 1\n",
    "def prepare_neighbours(n, r, gen_fxn, numpy=False):\n",
    "    \"\"\"Provide pre-computed neighbourhoods\n",
    "    \n",
    "    Uses `sklearn.neighbors.NearestNeighbors`. Removes self-counting\n",
    "    of points as neighbours of themselves.\n",
    "    \n",
    "    Args:\n",
    "       n: Number of data points\n",
    "       r: Radius\n",
    "       gen_fxn: Function that accepts one parameter `n` and returns\n",
    "           a data set with `n` points, for which neighbourhoods will\n",
    "           be computed.\n",
    "       numpy: If `True`, provide neighbourhoods as 1D `numpy.array` of 1D\n",
    "           `numpy.array`s.  If `False`, convert to `list` of `set`s.  \n",
    "    \"\"\"\n",
    "    \n",
    "    data = gen_fxn(n)\n",
    "    neighbour_model = NearestNeighbors(radius=r).fit(data)\n",
    "    neighbours = neighbour_model.radius_neighbors(data, return_distance=False)\n",
    "    neighbours = [set(x) for x in neighbours]\n",
    "    for c, s in enumerate(neighbours):\n",
    "        # Remove self-counting \n",
    "        s.remove(c)\n",
    "    if numpy:\n",
    "        # Reconvert to numpy.array\n",
    "        neighbours = np.array([np.array([y for y in x]) for x in neighbours])\n",
    "        \n",
    "    return neighbours"
   ]
  },
  {
   "cell_type": "code",
   "execution_count": 78,
   "metadata": {
    "ExecuteTime": {
     "end_time": "2020-05-14T08:28:18.877383Z",
     "start_time": "2020-05-14T08:28:18.643436Z"
    }
   },
   "outputs": [],
   "source": [
    "# 10000 points of circles data set\n",
    "n = 5000\n",
    "r = 0.25\n",
    "gen_fxn = gen_circles\n",
    "ds = gen_fxn.label\n",
    "neighbours = prepare_neighbours(n, r, gen_fxn)"
   ]
  },
  {
   "cell_type": "code",
   "execution_count": 27,
   "metadata": {
    "ExecuteTime": {
     "end_time": "2020-05-15T09:23:25.472433Z",
     "start_time": "2020-05-15T09:23:25.450781Z"
    }
   },
   "outputs": [],
   "source": [
    "# 100 points from circles data set\n",
    "ds = DS(gen_circles, 2000)"
   ]
  },
  {
   "cell_type": "markdown",
   "metadata": {},
   "source": [
    "#### From list of sets"
   ]
  },
  {
   "cell_type": "code",
   "execution_count": 28,
   "metadata": {
    "ExecuteTime": {
     "end_time": "2020-05-15T09:23:27.294482Z",
     "start_time": "2020-05-15T09:23:27.202446Z"
    }
   },
   "outputs": [
    {
     "name": "stdout",
     "output_type": "stream",
     "text": [
      "circles_2000_n0.5\n"
     ]
    }
   ],
   "source": [
    "# Prepare neighbours as list of sets\n",
    "ds.prepare_neighbourhoods(0.5)\n",
    "print(ds)"
   ]
  },
  {
   "cell_type": "markdown",
   "metadata": {},
   "source": [
    "##### Baseline"
   ]
  },
  {
   "cell_type": "code",
   "execution_count": 35,
   "metadata": {
    "ExecuteTime": {
     "end_time": "2020-05-15T08:50:23.164074Z",
     "start_time": "2020-05-15T08:50:22.799633Z"
    }
   },
   "outputs": [
    {
     "data": {
      "application/vnd.jupyter.widget-view+json": {
       "model_id": "e6454bf8747648c5932ca50b6f676a4b",
       "version_major": 2,
       "version_minor": 0
      },
      "text/plain": [
       "Canvas(toolbar=Toolbar(toolitems=[('Home', 'Reset original view', 'home', 'home'), ('Back', 'Back to previous …"
      ]
     },
     "metadata": {},
     "output_type": "display_data"
    }
   ],
   "source": [
    "plt.close(\"all\")\n",
    "fig, ax = plt.subplots()\n",
    "plot_data(ds.data, labels=baseline_to_labels(fits.fit_from_neighbours_baseline(20, ds.neighbours)), ax=ax, noise=0)\n",
    "plt.show()"
   ]
  },
  {
   "cell_type": "code",
   "execution_count": 110,
   "metadata": {
    "ExecuteTime": {
     "end_time": "2020-05-14T08:36:25.945104Z",
     "start_time": "2020-05-14T08:36:21.879559Z"
    }
   },
   "outputs": [
    {
     "name": "stdout",
     "output_type": "stream",
     "text": [
      "Length of labels:    2000\n",
      "Noise:               0\n",
      "Largest:             1000\n",
      "Clusters:            2\n",
      "\n",
      "*** Profile printout saved to text file 'reports/T460/fit_from_neighbours_baseline_circles_2000_n0.5.lprun'. \n",
      "256 ms ± 5.51 ms per loop (mean ± std. dev. of 7 runs, 1 loop each)\n"
     ]
    }
   ],
   "source": [
    "# Implementation using original implementation\n",
    "profile_fxn(\n",
    "    fits.fit_from_neighbours_baseline,\n",
    "    ds, report_dir,\n",
    "    20, ds.neighbours,  # function args\n",
    "    label=\"baseline\"\n",
    "    )"
   ]
  },
  {
   "cell_type": "markdown",
   "metadata": {},
   "source": [
    "##### Stdlib index"
   ]
  },
  {
   "cell_type": "code",
   "execution_count": 47,
   "metadata": {
    "ExecuteTime": {
     "end_time": "2020-05-15T08:52:24.245627Z",
     "start_time": "2020-05-15T08:52:24.137235Z"
    }
   },
   "outputs": [
    {
     "data": {
      "application/vnd.jupyter.widget-view+json": {
       "model_id": "119ea1be4fe1431290aa01daefc904aa",
       "version_major": 2,
       "version_minor": 0
      },
      "text/plain": [
       "Canvas(toolbar=Toolbar(toolitems=[('Home', 'Reset original view', 'home', 'home'), ('Back', 'Back to previous …"
      ]
     },
     "metadata": {},
     "output_type": "display_data"
    }
   ],
   "source": [
    "plt.close(\"all\")\n",
    "fig, ax = plt.subplots()\n",
    "plot_data(ds.data, labels=np.asarray(fits.fit_stdlib_from_neighbours_index(20, ds.neighbourhoods)), ax=ax, noise=0)\n",
    "plt.show()"
   ]
  },
  {
   "cell_type": "code",
   "execution_count": 45,
   "metadata": {
    "ExecuteTime": {
     "end_time": "2020-05-15T08:51:43.228406Z",
     "start_time": "2020-05-15T08:51:38.940902Z"
    }
   },
   "outputs": [
    {
     "name": "stdout",
     "output_type": "stream",
     "text": [
      "Length of labels:    2000\n",
      "Noise:               0\n",
      "Largest:             1000\n",
      "Clusters:            2\n",
      "\n",
      "*** Profile printout saved to text file 'reports/T460/fit_stdlib_from_neighbours_index_circles_2000_n0.5.lprun'. \n",
      "36.3 ms ± 88 µs per loop (mean ± std. dev. of 7 runs, 10 loops each)\n"
     ]
    }
   ],
   "source": [
    "# Implementation using only standard library\n",
    "profile_fxn(\n",
    "    fits.fit_stdlib_from_neighbours_index,\n",
    "    ds, report_dir,\n",
    "    20, ds.neighbourhoods,  # function args\n",
    "    label=\"std_index\"\n",
    "    )"
   ]
  },
  {
   "cell_type": "code",
   "execution_count": 111,
   "metadata": {
    "ExecuteTime": {
     "end_time": "2020-05-14T08:36:54.661424Z",
     "start_time": "2020-05-14T08:36:54.525964Z"
    }
   },
   "outputs": [
    {
     "data": {
      "application/vnd.jupyter.widget-view+json": {
       "model_id": "37342e9248a54c9790490b54608d2300",
       "version_major": 2,
       "version_minor": 0
      },
      "text/plain": [
       "Canvas(toolbar=Toolbar(toolitems=[('Home', 'Reset original view', 'home', 'home'), ('Back', 'Back to previous …"
      ]
     },
     "metadata": {},
     "output_type": "display_data"
    }
   ],
   "source": [
    "plt.close(\"all\")\n",
    "fig, ax = plt.subplots()\n",
    "plot_data(ds.data, labels=np.asarray(fits.fit_stdlib_from_neighbours_loop(20, ds.neighbours)), ax=ax, noise=0)\n",
    "plt.show()"
   ]
  },
  {
   "cell_type": "code",
   "execution_count": 113,
   "metadata": {
    "ExecuteTime": {
     "end_time": "2020-05-14T08:37:57.659941Z",
     "start_time": "2020-05-14T08:37:52.727558Z"
    }
   },
   "outputs": [
    {
     "name": "stdout",
     "output_type": "stream",
     "text": [
      "Length of labels:    2000\n",
      "Noise:               0\n",
      "Largest:             1000\n",
      "Clusters:            2\n",
      "\n",
      "*** Profile printout saved to text file 'reports/T460/fit_stdlib_from_neighbours_loop_circles_2000_n0.5.lprun'. \n",
      "40 ms ± 511 µs per loop (mean ± std. dev. of 7 runs, 10 loops each)\n"
     ]
    }
   ],
   "source": [
    "# Implementation using only standard library\n",
    "profile_fxn(\n",
    "    fits.fit_stdlib_from_neighbours_loop,\n",
    "    ds, report_dir,\n",
    "    20, ds.neighbours,  # function args\n",
    "    label=\"std_loop\"\n",
    "    )"
   ]
  },
  {
   "cell_type": "code",
   "execution_count": 114,
   "metadata": {
    "ExecuteTime": {
     "end_time": "2020-05-14T08:38:38.662331Z",
     "start_time": "2020-05-14T08:38:38.561090Z"
    }
   },
   "outputs": [
    {
     "data": {
      "application/vnd.jupyter.widget-view+json": {
       "model_id": "9e84d8619ff243778e46f17695456c71",
       "version_major": 2,
       "version_minor": 0
      },
      "text/plain": [
       "Canvas(toolbar=Toolbar(toolitems=[('Home', 'Reset original view', 'home', 'home'), ('Back', 'Back to previous …"
      ]
     },
     "metadata": {},
     "output_type": "display_data"
    }
   ],
   "source": [
    "plt.close(\"all\")\n",
    "fig, ax = plt.subplots()\n",
    "plot_data(ds.data, labels=np.asarray(fits.fit_stdlib_from_neighbours_loop_membercheck(20, ds.neighbours)), ax=ax, noise=0)\n",
    "plt.show()"
   ]
  },
  {
   "cell_type": "code",
   "execution_count": 115,
   "metadata": {
    "ExecuteTime": {
     "end_time": "2020-05-14T08:38:50.879587Z",
     "start_time": "2020-05-14T08:38:45.879765Z"
    }
   },
   "outputs": [
    {
     "name": "stdout",
     "output_type": "stream",
     "text": [
      "Length of labels:    2000\n",
      "Noise:               0\n",
      "Largest:             1000\n",
      "Clusters:            2\n",
      "\n",
      "*** Profile printout saved to text file 'reports/T460/fit_stdlib_from_neighbours_loop_membercheck_circles_2000_n0.5.lprun'. \n",
      "41.8 ms ± 3.99 ms per loop (mean ± std. dev. of 7 runs, 10 loops each)\n"
     ]
    }
   ],
   "source": [
    "# Implementation using only standard library\n",
    "profile_fxn(\n",
    "    fits.fit_stdlib_from_neighbours_loop_membercheck,\n",
    "    ds, report_dir,\n",
    "    20, ds.neighbours,  # function args\n",
    "    label=\"std_loop_membercheck\"\n",
    "    )"
   ]
  },
  {
   "cell_type": "markdown",
   "metadata": {},
   "source": [
    "##### Stdlib cython"
   ]
  },
  {
   "cell_type": "code",
   "execution_count": 48,
   "metadata": {
    "ExecuteTime": {
     "end_time": "2020-05-15T08:56:07.963890Z",
     "start_time": "2020-05-15T08:56:07.960483Z"
    }
   },
   "outputs": [],
   "source": [
    "from core import _cfits"
   ]
  },
  {
   "cell_type": "code",
   "execution_count": 29,
   "metadata": {
    "ExecuteTime": {
     "end_time": "2020-05-15T09:23:46.197722Z",
     "start_time": "2020-05-15T09:23:46.122099Z"
    },
    "scrolled": false
   },
   "outputs": [
    {
     "data": {
      "application/vnd.jupyter.widget-view+json": {
       "model_id": "b15c65fe167740c9afdc269b14d9dfb5",
       "version_major": 2,
       "version_minor": 0
      },
      "text/plain": [
       "Canvas(toolbar=Toolbar(toolitems=[('Home', 'Reset original view', 'home', 'home'), ('Back', 'Back to previous …"
      ]
     },
     "metadata": {},
     "output_type": "display_data"
    }
   ],
   "source": [
    "plt.close(\"all\")\n",
    "fig, ax = plt.subplots()\n",
    "plot_data(ds.data, labels=np.asarray(_cfits.fit_from_neighbours(20, ds.neighbourhoods)), ax=ax, noise=0)\n",
    "plt.show()"
   ]
  },
  {
   "cell_type": "code",
   "execution_count": 31,
   "metadata": {
    "ExecuteTime": {
     "end_time": "2020-05-15T09:24:06.967203Z",
     "start_time": "2020-05-15T09:24:06.852622Z"
    }
   },
   "outputs": [
    {
     "name": "stdout",
     "output_type": "stream",
     "text": [
      "Length of labels:    2000\n",
      "Noise:               0\n",
      "Largest:             1000\n",
      "Clusters:            2\n"
     ]
    },
    {
     "ename": "ValueError",
     "evalue": "max() arg is an empty sequence",
     "output_type": "error",
     "traceback": [
      "\u001b[1;31m---------------------------------------------------------------------------\u001b[0m",
      "\u001b[1;31mValueError\u001b[0m                                Traceback (most recent call last)",
      "\u001b[1;32m<ipython-input-31-14cc7f3c97a4>\u001b[0m in \u001b[0;36m<module>\u001b[1;34m\u001b[0m\n\u001b[0;32m      1\u001b[0m \u001b[1;31m# Implementation using only standard library\u001b[0m\u001b[1;33m\u001b[0m\u001b[1;33m\u001b[0m\u001b[1;33m\u001b[0m\u001b[0m\n\u001b[1;32m----> 2\u001b[1;33m profile_fxn(\n\u001b[0m\u001b[0;32m      3\u001b[0m     \u001b[0m_cfits\u001b[0m\u001b[1;33m.\u001b[0m\u001b[0mfit_from_neighbours\u001b[0m\u001b[1;33m,\u001b[0m\u001b[1;33m\u001b[0m\u001b[1;33m\u001b[0m\u001b[0m\n\u001b[0;32m      4\u001b[0m     \u001b[0mds\u001b[0m\u001b[1;33m,\u001b[0m \u001b[0mreport_dir\u001b[0m\u001b[1;33m,\u001b[0m\u001b[1;33m\u001b[0m\u001b[1;33m\u001b[0m\u001b[0m\n\u001b[0;32m      5\u001b[0m     \u001b[1;36m20\u001b[0m\u001b[1;33m,\u001b[0m \u001b[0mds\u001b[0m\u001b[1;33m.\u001b[0m\u001b[0mneighbourhoods\u001b[0m\u001b[1;33m,\u001b[0m  \u001b[1;31m# function args\u001b[0m\u001b[1;33m\u001b[0m\u001b[1;33m\u001b[0m\u001b[0m\n",
      "\u001b[1;32m<ipython-input-22-1405b8a32e8f>\u001b[0m in \u001b[0;36mprofile_fxn\u001b[1;34m(f, ds, report_dir, t, l, m, label, *args, **kwargs)\u001b[0m\n\u001b[0;32m     68\u001b[0m     \u001b[1;31m# Profile\u001b[0m\u001b[1;33m\u001b[0m\u001b[1;33m\u001b[0m\u001b[1;33m\u001b[0m\u001b[0m\n\u001b[0;32m     69\u001b[0m     \u001b[1;32mif\u001b[0m \u001b[0ml\u001b[0m\u001b[1;33m:\u001b[0m\u001b[1;33m\u001b[0m\u001b[1;33m\u001b[0m\u001b[0m\n\u001b[1;32m---> 70\u001b[1;33m         \u001b[0mget_ipython\u001b[0m\u001b[1;33m(\u001b[0m\u001b[1;33m)\u001b[0m\u001b[1;33m.\u001b[0m\u001b[0mrun_line_magic\u001b[0m\u001b[1;33m(\u001b[0m\u001b[1;34m'lprun'\u001b[0m\u001b[1;33m,\u001b[0m \u001b[1;34m'-T {report_dir}/{fxn.__name__}_{ds.__str__()}.lprun -f fxn fxn(*fxn_args, **fxn_kwargs)'\u001b[0m\u001b[1;33m)\u001b[0m\u001b[1;33m\u001b[0m\u001b[1;33m\u001b[0m\u001b[0m\n\u001b[0m\u001b[0;32m     71\u001b[0m     \u001b[1;32mif\u001b[0m \u001b[0mt\u001b[0m\u001b[1;33m:\u001b[0m\u001b[1;33m\u001b[0m\u001b[1;33m\u001b[0m\u001b[0m\n\u001b[0;32m     72\u001b[0m         \u001b[0mo\u001b[0m \u001b[1;33m=\u001b[0m \u001b[0mget_ipython\u001b[0m\u001b[1;33m(\u001b[0m\u001b[1;33m)\u001b[0m\u001b[1;33m.\u001b[0m\u001b[0mrun_line_magic\u001b[0m\u001b[1;33m(\u001b[0m\u001b[1;34m'timeit'\u001b[0m\u001b[1;33m,\u001b[0m \u001b[1;34m'-o fxn(*fxn_args, **fxn_kwargs)'\u001b[0m\u001b[1;33m)\u001b[0m\u001b[1;33m\u001b[0m\u001b[1;33m\u001b[0m\u001b[0m\n",
      "\u001b[1;32m~/.local/share/virtualenvs/CNN-5gkgQAOT/lib/python3.8/site-packages/IPython/core/interactiveshell.py\u001b[0m in \u001b[0;36mrun_line_magic\u001b[1;34m(self, magic_name, line, _stack_depth)\u001b[0m\n\u001b[0;32m   2315\u001b[0m                 \u001b[0mkwargs\u001b[0m\u001b[1;33m[\u001b[0m\u001b[1;34m'local_ns'\u001b[0m\u001b[1;33m]\u001b[0m \u001b[1;33m=\u001b[0m \u001b[0msys\u001b[0m\u001b[1;33m.\u001b[0m\u001b[0m_getframe\u001b[0m\u001b[1;33m(\u001b[0m\u001b[0mstack_depth\u001b[0m\u001b[1;33m)\u001b[0m\u001b[1;33m.\u001b[0m\u001b[0mf_locals\u001b[0m\u001b[1;33m\u001b[0m\u001b[1;33m\u001b[0m\u001b[0m\n\u001b[0;32m   2316\u001b[0m             \u001b[1;32mwith\u001b[0m \u001b[0mself\u001b[0m\u001b[1;33m.\u001b[0m\u001b[0mbuiltin_trap\u001b[0m\u001b[1;33m:\u001b[0m\u001b[1;33m\u001b[0m\u001b[1;33m\u001b[0m\u001b[0m\n\u001b[1;32m-> 2317\u001b[1;33m                 \u001b[0mresult\u001b[0m \u001b[1;33m=\u001b[0m \u001b[0mfn\u001b[0m\u001b[1;33m(\u001b[0m\u001b[1;33m*\u001b[0m\u001b[0margs\u001b[0m\u001b[1;33m,\u001b[0m \u001b[1;33m**\u001b[0m\u001b[0mkwargs\u001b[0m\u001b[1;33m)\u001b[0m\u001b[1;33m\u001b[0m\u001b[1;33m\u001b[0m\u001b[0m\n\u001b[0m\u001b[0;32m   2318\u001b[0m             \u001b[1;32mreturn\u001b[0m \u001b[0mresult\u001b[0m\u001b[1;33m\u001b[0m\u001b[1;33m\u001b[0m\u001b[0m\n\u001b[0;32m   2319\u001b[0m \u001b[1;33m\u001b[0m\u001b[0m\n",
      "\u001b[1;32m<decorator-gen-129>\u001b[0m in \u001b[0;36mlprun\u001b[1;34m(self, parameter_s)\u001b[0m\n",
      "\u001b[1;32m~/.local/share/virtualenvs/CNN-5gkgQAOT/lib/python3.8/site-packages/IPython/core/magic.py\u001b[0m in \u001b[0;36m<lambda>\u001b[1;34m(f, *a, **k)\u001b[0m\n\u001b[0;32m    185\u001b[0m     \u001b[1;31m# but it's overkill for just that one bit of state.\u001b[0m\u001b[1;33m\u001b[0m\u001b[1;33m\u001b[0m\u001b[1;33m\u001b[0m\u001b[0m\n\u001b[0;32m    186\u001b[0m     \u001b[1;32mdef\u001b[0m \u001b[0mmagic_deco\u001b[0m\u001b[1;33m(\u001b[0m\u001b[0marg\u001b[0m\u001b[1;33m)\u001b[0m\u001b[1;33m:\u001b[0m\u001b[1;33m\u001b[0m\u001b[1;33m\u001b[0m\u001b[0m\n\u001b[1;32m--> 187\u001b[1;33m         \u001b[0mcall\u001b[0m \u001b[1;33m=\u001b[0m \u001b[1;32mlambda\u001b[0m \u001b[0mf\u001b[0m\u001b[1;33m,\u001b[0m \u001b[1;33m*\u001b[0m\u001b[0ma\u001b[0m\u001b[1;33m,\u001b[0m \u001b[1;33m**\u001b[0m\u001b[0mk\u001b[0m\u001b[1;33m:\u001b[0m \u001b[0mf\u001b[0m\u001b[1;33m(\u001b[0m\u001b[1;33m*\u001b[0m\u001b[0ma\u001b[0m\u001b[1;33m,\u001b[0m \u001b[1;33m**\u001b[0m\u001b[0mk\u001b[0m\u001b[1;33m)\u001b[0m\u001b[1;33m\u001b[0m\u001b[1;33m\u001b[0m\u001b[0m\n\u001b[0m\u001b[0;32m    188\u001b[0m \u001b[1;33m\u001b[0m\u001b[0m\n\u001b[0;32m    189\u001b[0m         \u001b[1;32mif\u001b[0m \u001b[0mcallable\u001b[0m\u001b[1;33m(\u001b[0m\u001b[0marg\u001b[0m\u001b[1;33m)\u001b[0m\u001b[1;33m:\u001b[0m\u001b[1;33m\u001b[0m\u001b[1;33m\u001b[0m\u001b[0m\n",
      "\u001b[1;32m~/.local/share/virtualenvs/CNN-5gkgQAOT/lib/python3.8/site-packages/line_profiler/line_profiler.py\u001b[0m in \u001b[0;36mlprun\u001b[1;34m(self, parameter_s)\u001b[0m\n\u001b[0;32m    374\u001b[0m         \u001b[1;31m# Trap text output.\u001b[0m\u001b[1;33m\u001b[0m\u001b[1;33m\u001b[0m\u001b[1;33m\u001b[0m\u001b[0m\n\u001b[0;32m    375\u001b[0m         \u001b[0mstdout_trap\u001b[0m \u001b[1;33m=\u001b[0m \u001b[0mStringIO\u001b[0m\u001b[1;33m(\u001b[0m\u001b[1;33m)\u001b[0m\u001b[1;33m\u001b[0m\u001b[1;33m\u001b[0m\u001b[0m\n\u001b[1;32m--> 376\u001b[1;33m         \u001b[0mprofile\u001b[0m\u001b[1;33m.\u001b[0m\u001b[0mprint_stats\u001b[0m\u001b[1;33m(\u001b[0m\u001b[0mstdout_trap\u001b[0m\u001b[1;33m,\u001b[0m \u001b[0moutput_unit\u001b[0m\u001b[1;33m=\u001b[0m\u001b[0moutput_unit\u001b[0m\u001b[1;33m,\u001b[0m \u001b[0mstripzeros\u001b[0m\u001b[1;33m=\u001b[0m\u001b[1;34m's'\u001b[0m \u001b[1;32min\u001b[0m \u001b[0mopts\u001b[0m\u001b[1;33m)\u001b[0m\u001b[1;33m\u001b[0m\u001b[1;33m\u001b[0m\u001b[0m\n\u001b[0m\u001b[0;32m    377\u001b[0m         \u001b[0moutput\u001b[0m \u001b[1;33m=\u001b[0m \u001b[0mstdout_trap\u001b[0m\u001b[1;33m.\u001b[0m\u001b[0mgetvalue\u001b[0m\u001b[1;33m(\u001b[0m\u001b[1;33m)\u001b[0m\u001b[1;33m\u001b[0m\u001b[1;33m\u001b[0m\u001b[0m\n\u001b[0;32m    378\u001b[0m         \u001b[0moutput\u001b[0m \u001b[1;33m=\u001b[0m \u001b[0moutput\u001b[0m\u001b[1;33m.\u001b[0m\u001b[0mrstrip\u001b[0m\u001b[1;33m(\u001b[0m\u001b[1;33m)\u001b[0m\u001b[1;33m\u001b[0m\u001b[1;33m\u001b[0m\u001b[0m\n",
      "\u001b[1;32m~/.local/share/virtualenvs/CNN-5gkgQAOT/lib/python3.8/site-packages/line_profiler/line_profiler.py\u001b[0m in \u001b[0;36mprint_stats\u001b[1;34m(self, stream, output_unit, stripzeros)\u001b[0m\n\u001b[0;32m    142\u001b[0m         \"\"\"\n\u001b[0;32m    143\u001b[0m         \u001b[0mlstats\u001b[0m \u001b[1;33m=\u001b[0m \u001b[0mself\u001b[0m\u001b[1;33m.\u001b[0m\u001b[0mget_stats\u001b[0m\u001b[1;33m(\u001b[0m\u001b[1;33m)\u001b[0m\u001b[1;33m\u001b[0m\u001b[1;33m\u001b[0m\u001b[0m\n\u001b[1;32m--> 144\u001b[1;33m         \u001b[0mshow_text\u001b[0m\u001b[1;33m(\u001b[0m\u001b[0mlstats\u001b[0m\u001b[1;33m.\u001b[0m\u001b[0mtimings\u001b[0m\u001b[1;33m,\u001b[0m \u001b[0mlstats\u001b[0m\u001b[1;33m.\u001b[0m\u001b[0munit\u001b[0m\u001b[1;33m,\u001b[0m \u001b[0moutput_unit\u001b[0m\u001b[1;33m=\u001b[0m\u001b[0moutput_unit\u001b[0m\u001b[1;33m,\u001b[0m \u001b[0mstream\u001b[0m\u001b[1;33m=\u001b[0m\u001b[0mstream\u001b[0m\u001b[1;33m,\u001b[0m \u001b[0mstripzeros\u001b[0m\u001b[1;33m=\u001b[0m\u001b[0mstripzeros\u001b[0m\u001b[1;33m)\u001b[0m\u001b[1;33m\u001b[0m\u001b[1;33m\u001b[0m\u001b[0m\n\u001b[0m\u001b[0;32m    145\u001b[0m \u001b[1;33m\u001b[0m\u001b[0m\n\u001b[0;32m    146\u001b[0m     \u001b[1;32mdef\u001b[0m \u001b[0mrun\u001b[0m\u001b[1;33m(\u001b[0m\u001b[0mself\u001b[0m\u001b[1;33m,\u001b[0m \u001b[0mcmd\u001b[0m\u001b[1;33m)\u001b[0m\u001b[1;33m:\u001b[0m\u001b[1;33m\u001b[0m\u001b[1;33m\u001b[0m\u001b[0m\n",
      "\u001b[1;32m~/.local/share/virtualenvs/CNN-5gkgQAOT/lib/python3.8/site-packages/line_profiler/line_profiler.py\u001b[0m in \u001b[0;36mshow_text\u001b[1;34m(stats, unit, output_unit, stream, stripzeros)\u001b[0m\n\u001b[0;32m    263\u001b[0m \u001b[1;33m\u001b[0m\u001b[0m\n\u001b[0;32m    264\u001b[0m     \u001b[1;32mfor\u001b[0m \u001b[1;33m(\u001b[0m\u001b[0mfn\u001b[0m\u001b[1;33m,\u001b[0m \u001b[0mlineno\u001b[0m\u001b[1;33m,\u001b[0m \u001b[0mname\u001b[0m\u001b[1;33m)\u001b[0m\u001b[1;33m,\u001b[0m \u001b[0mtimings\u001b[0m \u001b[1;32min\u001b[0m \u001b[0msorted\u001b[0m\u001b[1;33m(\u001b[0m\u001b[0mstats\u001b[0m\u001b[1;33m.\u001b[0m\u001b[0mitems\u001b[0m\u001b[1;33m(\u001b[0m\u001b[1;33m)\u001b[0m\u001b[1;33m)\u001b[0m\u001b[1;33m:\u001b[0m\u001b[1;33m\u001b[0m\u001b[1;33m\u001b[0m\u001b[0m\n\u001b[1;32m--> 265\u001b[1;33m         show_func(fn, lineno, name, stats[fn, lineno, name], unit,\n\u001b[0m\u001b[0;32m    266\u001b[0m             output_unit=output_unit, stream=stream, stripzeros=stripzeros)\n\u001b[0;32m    267\u001b[0m \u001b[1;33m\u001b[0m\u001b[0m\n",
      "\u001b[1;32m~/.local/share/virtualenvs/CNN-5gkgQAOT/lib/python3.8/site-packages/line_profiler/line_profiler.py\u001b[0m in \u001b[0;36mshow_func\u001b[1;34m(filename, start_lineno, func_name, timings, unit, output_unit, stream, stripzeros)\u001b[0m\n\u001b[0;32m    227\u001b[0m         \u001b[0mstream\u001b[0m\u001b[1;33m.\u001b[0m\u001b[0mwrite\u001b[0m\u001b[1;33m(\u001b[0m\u001b[1;34m\"Continuing without the function's contents.\\n\"\u001b[0m\u001b[1;33m)\u001b[0m\u001b[1;33m\u001b[0m\u001b[1;33m\u001b[0m\u001b[0m\n\u001b[0;32m    228\u001b[0m         \u001b[1;31m# Fake empty lines so we can see the timings, if not the code.\u001b[0m\u001b[1;33m\u001b[0m\u001b[1;33m\u001b[0m\u001b[1;33m\u001b[0m\u001b[0m\n\u001b[1;32m--> 229\u001b[1;33m         \u001b[0mnlines\u001b[0m \u001b[1;33m=\u001b[0m \u001b[0mmax\u001b[0m\u001b[1;33m(\u001b[0m\u001b[0mlinenos\u001b[0m\u001b[1;33m)\u001b[0m \u001b[1;33m-\u001b[0m \u001b[0mmin\u001b[0m\u001b[1;33m(\u001b[0m\u001b[0mmin\u001b[0m\u001b[1;33m(\u001b[0m\u001b[0mlinenos\u001b[0m\u001b[1;33m)\u001b[0m\u001b[1;33m,\u001b[0m \u001b[0mstart_lineno\u001b[0m\u001b[1;33m)\u001b[0m \u001b[1;33m+\u001b[0m \u001b[1;36m1\u001b[0m\u001b[1;33m\u001b[0m\u001b[1;33m\u001b[0m\u001b[0m\n\u001b[0m\u001b[0;32m    230\u001b[0m         \u001b[0msublines\u001b[0m \u001b[1;33m=\u001b[0m \u001b[1;33m[\u001b[0m\u001b[1;34m''\u001b[0m\u001b[1;33m]\u001b[0m \u001b[1;33m*\u001b[0m \u001b[0mnlines\u001b[0m\u001b[1;33m\u001b[0m\u001b[1;33m\u001b[0m\u001b[0m\n\u001b[0;32m    231\u001b[0m     \u001b[1;32mfor\u001b[0m \u001b[0mlineno\u001b[0m\u001b[1;33m,\u001b[0m \u001b[0mnhits\u001b[0m\u001b[1;33m,\u001b[0m \u001b[0mtime\u001b[0m \u001b[1;32min\u001b[0m \u001b[0mtimings\u001b[0m\u001b[1;33m:\u001b[0m\u001b[1;33m\u001b[0m\u001b[1;33m\u001b[0m\u001b[0m\n",
      "\u001b[1;31mValueError\u001b[0m: max() arg is an empty sequence"
     ]
    }
   ],
   "source": [
    "# Implementation using only standard library\n",
    "profile_fxn(\n",
    "    _cfits.fit_from_neighbours,\n",
    "    ds, report_dir,\n",
    "    20, ds.neighbourhoods,  # function args\n",
    "    label=\"std_cython\"\n",
    "    )"
   ]
  },
  {
   "cell_type": "code",
   "execution_count": 32,
   "metadata": {
    "ExecuteTime": {
     "end_time": "2020-05-15T09:24:16.712935Z",
     "start_time": "2020-05-15T09:24:14.570571Z"
    }
   },
   "outputs": [
    {
     "name": "stdout",
     "output_type": "stream",
     "text": [
      "25.8 ms ± 541 µs per loop (mean ± std. dev. of 7 runs, 10 loops each)\n"
     ]
    }
   ],
   "source": [
    "%timeit _cfits.fit_from_neighbours(20, ds.neighbourhoods)"
   ]
  },
  {
   "cell_type": "markdown",
   "metadata": {
    "ExecuteTime": {
     "end_time": "2020-05-12T16:01:15.725401Z",
     "start_time": "2020-05-12T16:01:15.714863Z"
    }
   },
   "source": [
    "#### From numpy.array"
   ]
  },
  {
   "cell_type": "code",
   "execution_count": 136,
   "metadata": {
    "ExecuteTime": {
     "end_time": "2020-05-14T09:22:18.236029Z",
     "start_time": "2020-05-14T09:22:18.209195Z"
    }
   },
   "outputs": [
    {
     "data": {
      "text/plain": [
       "<module 'snippets.fits' from '/home/janjoswig/CNN/tests/benchmark/snippets/fits.py'>"
      ]
     },
     "execution_count": 136,
     "metadata": {},
     "output_type": "execute_result"
    }
   ],
   "source": [
    "importlib.reload(fits)"
   ]
  },
  {
   "cell_type": "code",
   "execution_count": 118,
   "metadata": {
    "ExecuteTime": {
     "end_time": "2020-05-14T08:43:40.770080Z",
     "start_time": "2020-05-14T08:43:40.573675Z"
    }
   },
   "outputs": [],
   "source": [
    "# Switch to neighbourhoods as numpy.array of numpy.arrays\n",
    "ds.prepare_neighbours(0.5, numpy=True)"
   ]
  },
  {
   "cell_type": "code",
   "execution_count": 142,
   "metadata": {
    "ExecuteTime": {
     "end_time": "2020-05-14T09:25:57.501463Z",
     "start_time": "2020-05-14T09:25:57.055907Z"
    }
   },
   "outputs": [
    {
     "data": {
      "application/vnd.jupyter.widget-view+json": {
       "model_id": "1d986c8eff4b40288ec76bc65e64b913",
       "version_major": 2,
       "version_minor": 0
      },
      "text/plain": [
       "Canvas(toolbar=Toolbar(toolitems=[('Home', 'Reset original view', 'home', 'home'), ('Back', 'Back to previous …"
      ]
     },
     "metadata": {},
     "output_type": "display_data"
    }
   ],
   "source": [
    "plt.close(\"all\")\n",
    "fig, ax = plt.subplots()\n",
    "plot_data(ds.data, labels=baseline_to_labels(fits.fit_from_neighbours_baseline(20, ds.neighbours)), ax=ax, noise=0)\n",
    "plt.show()"
   ]
  },
  {
   "cell_type": "code",
   "execution_count": 140,
   "metadata": {
    "ExecuteTime": {
     "end_time": "2020-05-14T09:24:46.767373Z",
     "start_time": "2020-05-14T09:24:41.204169Z"
    }
   },
   "outputs": [
    {
     "name": "stdout",
     "output_type": "stream",
     "text": [
      "Length of labels:    2000\n",
      "Noise:               0\n",
      "Largest:             1000\n",
      "Clusters:            2\n",
      "\n",
      "*** Profile printout saved to text file 'reports/T460/fit_from_neighbours_baseline_circles_2000_n0.5.lprun'. \n",
      "368 ms ± 57.9 ms per loop (mean ± std. dev. of 7 runs, 1 loop each)\n"
     ]
    }
   ],
   "source": [
    "# Implementation using original implementation\n",
    "profile_fxn(\n",
    "    fits.fit_from_neighbours_baseline,\n",
    "    ds, report_dir,\n",
    "    20, ds.neighbours,  # function args\n",
    "    label=\"baseline\"\n",
    "    )"
   ]
  },
  {
   "cell_type": "code",
   "execution_count": 137,
   "metadata": {
    "ExecuteTime": {
     "end_time": "2020-05-14T09:22:19.737235Z",
     "start_time": "2020-05-14T09:22:19.521795Z"
    }
   },
   "outputs": [
    {
     "data": {
      "application/vnd.jupyter.widget-view+json": {
       "model_id": "77b1d640f4734322a1545d44a18aedf3",
       "version_major": 2,
       "version_minor": 0
      },
      "text/plain": [
       "Canvas(toolbar=Toolbar(toolitems=[('Home', 'Reset original view', 'home', 'home'), ('Back', 'Back to previous …"
      ]
     },
     "metadata": {},
     "output_type": "display_data"
    }
   ],
   "source": [
    "plt.close(\"all\")\n",
    "fig, ax = plt.subplots()\n",
    "plot_data(ds.data, labels=fits.fit_numpy_mix(20, ds.neighbours), ax=ax, noise=0)\n",
    "plt.show()"
   ]
  },
  {
   "cell_type": "code",
   "execution_count": 143,
   "metadata": {
    "ExecuteTime": {
     "end_time": "2020-05-14T09:26:19.807908Z",
     "start_time": "2020-05-14T09:26:07.501844Z"
    }
   },
   "outputs": [
    {
     "name": "stdout",
     "output_type": "stream",
     "text": [
      "Length of labels:    2000\n",
      "Noise:               0\n",
      "Largest:             1000\n",
      "Clusters:            2\n",
      "\n",
      "*** Profile printout saved to text file 'reports/T460/fit_numpy_mix_circles_2000_n0.5.lprun'. \n",
      "146 ms ± 1.58 ms per loop (mean ± std. dev. of 7 runs, 10 loops each)\n"
     ]
    }
   ],
   "source": [
    "# Implementation using numpy\n",
    "profile_fxn(\n",
    "    fits.fit_numpy_mix,\n",
    "    ds, report_dir,\n",
    "    20, ds.neighbours,  # function args\n",
    "    label=\"numpy_index\"\n",
    "    )"
   ]
  },
  {
   "cell_type": "code",
   "execution_count": 119,
   "metadata": {
    "ExecuteTime": {
     "end_time": "2020-05-14T08:43:41.819301Z",
     "start_time": "2020-05-14T08:43:41.643328Z"
    }
   },
   "outputs": [
    {
     "data": {
      "application/vnd.jupyter.widget-view+json": {
       "model_id": "d31e7529f6ea43179ee5343718778ead",
       "version_major": 2,
       "version_minor": 0
      },
      "text/plain": [
       "Canvas(toolbar=Toolbar(toolitems=[('Home', 'Reset original view', 'home', 'home'), ('Back', 'Back to previous …"
      ]
     },
     "metadata": {},
     "output_type": "display_data"
    }
   ],
   "source": [
    "plt.close(\"all\")\n",
    "fig, ax = plt.subplots()\n",
    "plot_data(ds.data, labels=np.asarray(fits.fit_numpy_from_neighbours_index(20, ds.neighbours)), ax=ax, noise=0)\n",
    "plt.show()"
   ]
  },
  {
   "cell_type": "code",
   "execution_count": 139,
   "metadata": {
    "ExecuteTime": {
     "end_time": "2020-05-14T09:23:09.065595Z",
     "start_time": "2020-05-14T09:22:59.353230Z"
    }
   },
   "outputs": [
    {
     "name": "stdout",
     "output_type": "stream",
     "text": [
      "Length of labels:    2000\n",
      "Noise:               0\n",
      "Largest:             1000\n",
      "Clusters:            2\n",
      "\n",
      "*** Profile printout saved to text file 'reports/T460/fit_numpy_from_neighbours_index_circles_2000_n0.5.lprun'. \n",
      "103 ms ± 19.6 ms per loop (mean ± std. dev. of 7 runs, 10 loops each)\n"
     ]
    }
   ],
   "source": [
    "# Implementation using numpy\n",
    "profile_fxn(\n",
    "    fits.fit_numpy_from_neighbours_index,\n",
    "    ds, report_dir,\n",
    "    20, ds.neighbours,  # function args\n",
    "    label=\"numpy_index\"\n",
    "    )"
   ]
  },
  {
   "cell_type": "code",
   "execution_count": 121,
   "metadata": {
    "ExecuteTime": {
     "end_time": "2020-05-14T08:44:29.094125Z",
     "start_time": "2020-05-14T08:44:28.898125Z"
    }
   },
   "outputs": [
    {
     "data": {
      "application/vnd.jupyter.widget-view+json": {
       "model_id": "060cd7d76eec415d8206fc8d8cd883c9",
       "version_major": 2,
       "version_minor": 0
      },
      "text/plain": [
       "Canvas(toolbar=Toolbar(toolitems=[('Home', 'Reset original view', 'home', 'home'), ('Back', 'Back to previous …"
      ]
     },
     "metadata": {},
     "output_type": "display_data"
    }
   ],
   "source": [
    "plt.close(\"all\")\n",
    "fig, ax = plt.subplots()\n",
    "plot_data(ds.data, labels=np.asarray(fits.fit_numpy_from_neighbours_loop(20, ds.neighbours)), ax=ax, noise=0)\n",
    "plt.show()"
   ]
  },
  {
   "cell_type": "code",
   "execution_count": 123,
   "metadata": {
    "ExecuteTime": {
     "end_time": "2020-05-14T08:44:53.210410Z",
     "start_time": "2020-05-14T08:44:43.962404Z"
    }
   },
   "outputs": [
    {
     "name": "stdout",
     "output_type": "stream",
     "text": [
      "Length of labels:    2000\n",
      "Noise:               0\n",
      "Largest:             1000\n",
      "Clusters:            2\n",
      "\n",
      "*** Profile printout saved to text file 'reports/T460/fit_numpy_from_neighbours_loop_circles_2000_n0.5.lprun'. \n",
      "96.9 ms ± 2.24 ms per loop (mean ± std. dev. of 7 runs, 10 loops each)\n"
     ]
    }
   ],
   "source": [
    "# Implementation using numpy\n",
    "profile_fxn(\n",
    "    fits.fit_numpy_from_neighbours_loop,\n",
    "    ds, report_dir,\n",
    "    20, ds.neighbours,  # function args\n",
    "    label=\"numpy_loop\"\n",
    "    )"
   ]
  },
  {
   "cell_type": "code",
   "execution_count": 124,
   "metadata": {
    "ExecuteTime": {
     "end_time": "2020-05-14T08:45:39.229926Z",
     "start_time": "2020-05-14T08:45:39.098221Z"
    }
   },
   "outputs": [
    {
     "data": {
      "application/vnd.jupyter.widget-view+json": {
       "model_id": "646a4ca25ef1436a95b77c8503d1b2c1",
       "version_major": 2,
       "version_minor": 0
      },
      "text/plain": [
       "Canvas(toolbar=Toolbar(toolitems=[('Home', 'Reset original view', 'home', 'home'), ('Back', 'Back to previous …"
      ]
     },
     "metadata": {},
     "output_type": "display_data"
    }
   ],
   "source": [
    "plt.close(\"all\")\n",
    "fig, ax = plt.subplots()\n",
    "plot_data(ds.data, labels=np.asarray(fits.fit_numpy_from_neighbours_filtermembers(20, ds.neighbours)), ax=ax, noise=0)\n",
    "plt.show()"
   ]
  },
  {
   "cell_type": "code",
   "execution_count": 130,
   "metadata": {
    "ExecuteTime": {
     "end_time": "2020-05-14T09:07:18.215444Z",
     "start_time": "2020-05-14T09:07:14.430605Z"
    }
   },
   "outputs": [
    {
     "name": "stdout",
     "output_type": "stream",
     "text": [
      "Length of labels:    2000\n",
      "Noise:               0\n",
      "Largest:             1000\n",
      "Clusters:            2\n",
      "\n",
      "*** Profile printout saved to text file 'reports/T460/fit_numpy_from_neighbours_filtermembers_circles_2000_n0.5.lprun'. \n",
      "43.8 ms ± 965 µs per loop (mean ± std. dev. of 7 runs, 10 loops each)\n"
     ]
    }
   ],
   "source": [
    "# Implementation using numpy\n",
    "profile_fxn(\n",
    "    fits.fit_numpy_from_neighbours_filtermembers,\n",
    "    ds, report_dir,\n",
    "    20, ds.neighbours,  # function args\n",
    "    label=\"numpy_filter\"\n",
    "    )"
   ]
  },
  {
   "cell_type": "code",
   "execution_count": 132,
   "metadata": {
    "ExecuteTime": {
     "end_time": "2020-05-14T09:20:12.936113Z",
     "start_time": "2020-05-14T09:20:12.913045Z"
    }
   },
   "outputs": [
    {
     "data": {
      "text/plain": [
       "<module 'snippets.fits' from '/home/janjoswig/CNN/tests/benchmark/snippets/fits.py'>"
      ]
     },
     "execution_count": 132,
     "metadata": {},
     "output_type": "execute_result"
    }
   ],
   "source": [
    "importlib.reload(fits)"
   ]
  },
  {
   "cell_type": "code",
   "execution_count": 129,
   "metadata": {
    "ExecuteTime": {
     "end_time": "2020-05-14T09:06:58.864939Z",
     "start_time": "2020-05-14T09:06:58.744883Z"
    }
   },
   "outputs": [
    {
     "data": {
      "application/vnd.jupyter.widget-view+json": {
       "model_id": "dc91ed8c4c8b408eb8185bb08e4b8ca4",
       "version_major": 2,
       "version_minor": 0
      },
      "text/plain": [
       "Canvas(toolbar=Toolbar(toolitems=[('Home', 'Reset original view', 'home', 'home'), ('Back', 'Back to previous …"
      ]
     },
     "metadata": {},
     "output_type": "display_data"
    }
   ],
   "source": [
    "plt.close(\"all\")\n",
    "fig, ax = plt.subplots()\n",
    "plot_data(ds.data, labels=np.asarray(fits.fit_numpy_from_neighbours_membercheck(20, ds.neighbours)), ax=ax, noise=0)\n",
    "plt.show()"
   ]
  },
  {
   "cell_type": "code",
   "execution_count": 131,
   "metadata": {
    "ExecuteTime": {
     "end_time": "2020-05-14T09:07:52.463530Z",
     "start_time": "2020-05-14T09:07:48.498782Z"
    }
   },
   "outputs": [
    {
     "name": "stdout",
     "output_type": "stream",
     "text": [
      "Length of labels:    2000\n",
      "Noise:               0\n",
      "Largest:             1000\n",
      "Clusters:            2\n",
      "\n",
      "*** Profile printout saved to text file 'reports/T460/fit_numpy_from_neighbours_membercheck_circles_2000_n0.5.lprun'. \n",
      "46.7 ms ± 4.34 ms per loop (mean ± std. dev. of 7 runs, 10 loops each)\n"
     ]
    }
   ],
   "source": [
    "# Implementation using numpy\n",
    "profile_fxn(\n",
    "    fits.fit_numpy_from_neighbours_membercheck,\n",
    "    ds, report_dir,\n",
    "    20, ds.neighbours,  # function args\n",
    "    label=\"numpy_filter\"\n",
    "    )"
   ]
  },
  {
   "cell_type": "code",
   "execution_count": 73,
   "metadata": {
    "ExecuteTime": {
     "end_time": "2020-05-12T16:37:21.000832Z",
     "start_time": "2020-05-12T16:37:20.958042Z"
    }
   },
   "outputs": [
    {
     "ename": "ValueError",
     "evalue": "Buffer dtype mismatch, expected 'npy_intp' but got 'double'",
     "output_type": "error",
     "traceback": [
      "\u001b[1;31m---------------------------------------------------------------------------\u001b[0m",
      "\u001b[1;31mValueError\u001b[0m                                Traceback (most recent call last)",
      "\u001b[1;32m<ipython-input-73-d8c72077d3b4>\u001b[0m in \u001b[0;36m<module>\u001b[1;34m\u001b[0m\n\u001b[0;32m      1\u001b[0m \u001b[1;31m# Implementation using cythonised numpy\u001b[0m\u001b[1;33m\u001b[0m\u001b[1;33m\u001b[0m\u001b[1;33m\u001b[0m\u001b[0m\n\u001b[1;32m----> 2\u001b[1;33m profile_fxn(\n\u001b[0m\u001b[0;32m      3\u001b[0m     \u001b[0mcfits\u001b[0m\u001b[1;33m.\u001b[0m\u001b[0mcfit_from_neighbours\u001b[0m\u001b[1;33m,\u001b[0m\u001b[1;33m\u001b[0m\u001b[1;33m\u001b[0m\u001b[0m\n\u001b[0;32m      4\u001b[0m     \u001b[0mds\u001b[0m\u001b[1;33m,\u001b[0m \u001b[0mreport_dir\u001b[0m\u001b[1;33m,\u001b[0m\u001b[1;33m\u001b[0m\u001b[1;33m\u001b[0m\u001b[0m\n\u001b[0;32m      5\u001b[0m     \u001b[1;36m1\u001b[0m\u001b[1;33m,\u001b[0m \u001b[0mds\u001b[0m\u001b[1;33m.\u001b[0m\u001b[0mneighbours\u001b[0m\u001b[1;33m,\u001b[0m  \u001b[1;31m# function args\u001b[0m\u001b[1;33m\u001b[0m\u001b[1;33m\u001b[0m\u001b[0m\n",
      "\u001b[1;32m<ipython-input-65-3b108bdce0ce>\u001b[0m in \u001b[0;36mprofile_fxn\u001b[1;34m(f, ds, report_dir, t, l, m, label, *args, **kwargs)\u001b[0m\n\u001b[0;32m     44\u001b[0m \u001b[1;33m\u001b[0m\u001b[0m\n\u001b[0;32m     45\u001b[0m     \u001b[1;31m# Validate function result\u001b[0m\u001b[1;33m\u001b[0m\u001b[1;33m\u001b[0m\u001b[1;33m\u001b[0m\u001b[0m\n\u001b[1;32m---> 46\u001b[1;33m     \u001b[0mresult\u001b[0m \u001b[1;33m=\u001b[0m \u001b[0mfxn\u001b[0m\u001b[1;33m(\u001b[0m\u001b[1;33m*\u001b[0m\u001b[0mfxn_args\u001b[0m\u001b[1;33m,\u001b[0m \u001b[1;33m**\u001b[0m\u001b[0mfxn_kwargs\u001b[0m\u001b[1;33m)\u001b[0m\u001b[1;33m\u001b[0m\u001b[1;33m\u001b[0m\u001b[0m\n\u001b[0m\u001b[0;32m     47\u001b[0m     \u001b[1;32mif\u001b[0m \u001b[0misinstance\u001b[0m\u001b[1;33m(\u001b[0m\u001b[0mresult\u001b[0m\u001b[1;33m,\u001b[0m \u001b[0mlist\u001b[0m\u001b[1;33m)\u001b[0m \u001b[1;32mand\u001b[0m \u001b[0misinstance\u001b[0m\u001b[1;33m(\u001b[0m\u001b[0mresult\u001b[0m\u001b[1;33m[\u001b[0m\u001b[1;36m0\u001b[0m\u001b[1;33m]\u001b[0m\u001b[1;33m,\u001b[0m \u001b[0mnp\u001b[0m\u001b[1;33m.\u001b[0m\u001b[0mndarray\u001b[0m\u001b[1;33m)\u001b[0m\u001b[1;33m:\u001b[0m\u001b[1;33m\u001b[0m\u001b[1;33m\u001b[0m\u001b[0m\n\u001b[0;32m     48\u001b[0m         \u001b[1;31m# Convert result if from original implementation\u001b[0m\u001b[1;33m\u001b[0m\u001b[1;33m\u001b[0m\u001b[1;33m\u001b[0m\u001b[0m\n",
      "\u001b[1;32m~/CNN/tests/benchmark/snippets/cfits.pyx\u001b[0m in \u001b[0;36mcfits.cfit_from_neighbours\u001b[1;34m()\u001b[0m\n",
      "\u001b[1;31mValueError\u001b[0m: Buffer dtype mismatch, expected 'npy_intp' but got 'double'"
     ]
    }
   ],
   "source": [
    "# Implementation using cythonised numpy\n",
    "profile_fxn(\n",
    "    cfits.cfit_from_neighbours,\n",
    "    ds, report_dir,\n",
    "    1, ds.neighbours,  # function args\n",
    "    label=\"cython_numpy_loop\",\n",
    "    l=False\n",
    "    )"
   ]
  },
  {
   "cell_type": "code",
   "execution_count": 34,
   "metadata": {
    "ExecuteTime": {
     "end_time": "2020-05-15T09:26:31.530988Z",
     "start_time": "2020-05-15T09:26:31.521665Z"
    }
   },
   "outputs": [
    {
     "name": "stdout",
     "output_type": "stream",
     "text": [
      "        std_cnn:   1.000\n"
     ]
    }
   ],
   "source": [
    "for x in ds.ratios():\n",
    "    print(f\"{x[0]:>15}: {x[1]:7.3f}\")"
   ]
  },
  {
   "cell_type": "markdown",
   "metadata": {},
   "source": [
    "#### Check in CNN class context"
   ]
  },
  {
   "cell_type": "code",
   "execution_count": 33,
   "metadata": {
    "ExecuteTime": {
     "end_time": "2020-05-15T09:25:40.661812Z",
     "start_time": "2020-05-15T09:25:38.188198Z"
    }
   },
   "outputs": [
    {
     "name": "stdout",
     "output_type": "stream",
     "text": [
      "\n",
      "*** Profile printout saved to text file 'reports/T460/fit_circles_2000_n0.5.lprun'. \n",
      "29.1 ms ± 598 µs per loop (mean ± std. dev. of 7 runs, 10 loops each)\n"
     ]
    }
   ],
   "source": [
    "cobj = cnn.CNN(neighbourhoods=cnn.Neighbourhoods(ds.neighbourhoods, 0.5))\n",
    "profile_fxn(\n",
    "    cobj.fit,\n",
    "    ds, report_dir,\n",
    "    0.5, 20,  # function args\n",
    "    label=\"std_cnn\",\n",
    "    rec=False\n",
    "    )"
   ]
  },
  {
   "cell_type": "code",
   "execution_count": null,
   "metadata": {},
   "outputs": [],
   "source": [
    "cobj = cluster.CNN(neighbourhoods=cnn.Neighbourhoods(ds.neighbourhoods, 0.5))\n",
    "profile_fxn(\n",
    "    cobj.fit,\n",
    "    ds, report_dir,\n",
    "    0.5, 20,  # function args\n",
    "    label=\"std_cnn\",\n",
    "    rec=False\n",
    "    )"
   ]
  },
  {
   "cell_type": "code",
   "execution_count": 27,
   "metadata": {
    "ExecuteTime": {
     "end_time": "2020-05-15T08:46:58.901004Z",
     "start_time": "2020-05-15T08:46:58.895828Z"
    }
   },
   "outputs": [
    {
     "data": {
      "text/plain": [
       "<module 'cfits' from '/home/janjoswig/CNN/cfits.cpython-38-x86_64-linux-gnu.so'>"
      ]
     },
     "execution_count": 27,
     "metadata": {},
     "output_type": "execute_result"
    }
   ],
   "source": [
    "importlib.reload(cfits)"
   ]
  },
  {
   "cell_type": "code",
   "execution_count": 26,
   "metadata": {
    "ExecuteTime": {
     "end_time": "2020-05-15T08:41:51.381793Z",
     "start_time": "2020-05-15T08:41:51.363671Z"
    }
   },
   "outputs": [
    {
     "data": {
      "text/html": [
       "<!DOCTYPE html>\n",
       "<!-- Generated by Cython 3.0a1 -->\n",
       "<html>\n",
       "<head>\n",
       "    <meta http-equiv=\"Content-Type\" content=\"text/html; charset=utf-8\" />\n",
       "    <title>Cython: _cython_magic_73f2c6fd19ae0bcb17642e04cb5b01b645994602.pyx</title>\n",
       "    <style type=\"text/css\">\n",
       "    \n",
       "body.cython { font-family: courier; font-size: 12; }\n",
       "\n",
       ".cython.tag  {  }\n",
       ".cython.line { margin: 0em }\n",
       ".cython.code { font-size: 9; color: #444444; display: none; margin: 0px 0px 0px 8px; border-left: 8px none; }\n",
       "\n",
       ".cython.line .run { background-color: #B0FFB0; }\n",
       ".cython.line .mis { background-color: #FFB0B0; }\n",
       ".cython.code.run  { border-left: 8px solid #B0FFB0; }\n",
       ".cython.code.mis  { border-left: 8px solid #FFB0B0; }\n",
       "\n",
       ".cython.code .py_c_api  { color: red; }\n",
       ".cython.code .py_macro_api  { color: #FF7000; }\n",
       ".cython.code .pyx_c_api  { color: #FF3000; }\n",
       ".cython.code .pyx_macro_api  { color: #FF7000; }\n",
       ".cython.code .refnanny  { color: #FFA000; }\n",
       ".cython.code .trace  { color: #FFA000; }\n",
       ".cython.code .error_goto  { color: #FFA000; }\n",
       "\n",
       ".cython.code .coerce  { color: #008000; border: 1px dotted #008000 }\n",
       ".cython.code .py_attr { color: #FF0000; font-weight: bold; }\n",
       ".cython.code .c_attr  { color: #0000FF; }\n",
       ".cython.code .py_call { color: #FF0000; font-weight: bold; }\n",
       ".cython.code .c_call  { color: #0000FF; }\n",
       "\n",
       ".cython.score-0 {background-color: #FFFFff;}\n",
       ".cython.score-1 {background-color: #FFFFe7;}\n",
       ".cython.score-2 {background-color: #FFFFd4;}\n",
       ".cython.score-3 {background-color: #FFFFc4;}\n",
       ".cython.score-4 {background-color: #FFFFb6;}\n",
       ".cython.score-5 {background-color: #FFFFaa;}\n",
       ".cython.score-6 {background-color: #FFFF9f;}\n",
       ".cython.score-7 {background-color: #FFFF96;}\n",
       ".cython.score-8 {background-color: #FFFF8d;}\n",
       ".cython.score-9 {background-color: #FFFF86;}\n",
       ".cython.score-10 {background-color: #FFFF7f;}\n",
       ".cython.score-11 {background-color: #FFFF79;}\n",
       ".cython.score-12 {background-color: #FFFF73;}\n",
       ".cython.score-13 {background-color: #FFFF6e;}\n",
       ".cython.score-14 {background-color: #FFFF6a;}\n",
       ".cython.score-15 {background-color: #FFFF66;}\n",
       ".cython.score-16 {background-color: #FFFF62;}\n",
       ".cython.score-17 {background-color: #FFFF5e;}\n",
       ".cython.score-18 {background-color: #FFFF5b;}\n",
       ".cython.score-19 {background-color: #FFFF57;}\n",
       ".cython.score-20 {background-color: #FFFF55;}\n",
       ".cython.score-21 {background-color: #FFFF52;}\n",
       ".cython.score-22 {background-color: #FFFF4f;}\n",
       ".cython.score-23 {background-color: #FFFF4d;}\n",
       ".cython.score-24 {background-color: #FFFF4b;}\n",
       ".cython.score-25 {background-color: #FFFF48;}\n",
       ".cython.score-26 {background-color: #FFFF46;}\n",
       ".cython.score-27 {background-color: #FFFF44;}\n",
       ".cython.score-28 {background-color: #FFFF43;}\n",
       ".cython.score-29 {background-color: #FFFF41;}\n",
       ".cython.score-30 {background-color: #FFFF3f;}\n",
       ".cython.score-31 {background-color: #FFFF3e;}\n",
       ".cython.score-32 {background-color: #FFFF3c;}\n",
       ".cython.score-33 {background-color: #FFFF3b;}\n",
       ".cython.score-34 {background-color: #FFFF39;}\n",
       ".cython.score-35 {background-color: #FFFF38;}\n",
       ".cython.score-36 {background-color: #FFFF37;}\n",
       ".cython.score-37 {background-color: #FFFF36;}\n",
       ".cython.score-38 {background-color: #FFFF35;}\n",
       ".cython.score-39 {background-color: #FFFF34;}\n",
       ".cython.score-40 {background-color: #FFFF33;}\n",
       ".cython.score-41 {background-color: #FFFF32;}\n",
       ".cython.score-42 {background-color: #FFFF31;}\n",
       ".cython.score-43 {background-color: #FFFF30;}\n",
       ".cython.score-44 {background-color: #FFFF2f;}\n",
       ".cython.score-45 {background-color: #FFFF2e;}\n",
       ".cython.score-46 {background-color: #FFFF2d;}\n",
       ".cython.score-47 {background-color: #FFFF2c;}\n",
       ".cython.score-48 {background-color: #FFFF2b;}\n",
       ".cython.score-49 {background-color: #FFFF2b;}\n",
       ".cython.score-50 {background-color: #FFFF2a;}\n",
       ".cython.score-51 {background-color: #FFFF29;}\n",
       ".cython.score-52 {background-color: #FFFF29;}\n",
       ".cython.score-53 {background-color: #FFFF28;}\n",
       ".cython.score-54 {background-color: #FFFF27;}\n",
       ".cython.score-55 {background-color: #FFFF27;}\n",
       ".cython.score-56 {background-color: #FFFF26;}\n",
       ".cython.score-57 {background-color: #FFFF26;}\n",
       ".cython.score-58 {background-color: #FFFF25;}\n",
       ".cython.score-59 {background-color: #FFFF24;}\n",
       ".cython.score-60 {background-color: #FFFF24;}\n",
       ".cython.score-61 {background-color: #FFFF23;}\n",
       ".cython.score-62 {background-color: #FFFF23;}\n",
       ".cython.score-63 {background-color: #FFFF22;}\n",
       ".cython.score-64 {background-color: #FFFF22;}\n",
       ".cython.score-65 {background-color: #FFFF22;}\n",
       ".cython.score-66 {background-color: #FFFF21;}\n",
       ".cython.score-67 {background-color: #FFFF21;}\n",
       ".cython.score-68 {background-color: #FFFF20;}\n",
       ".cython.score-69 {background-color: #FFFF20;}\n",
       ".cython.score-70 {background-color: #FFFF1f;}\n",
       ".cython.score-71 {background-color: #FFFF1f;}\n",
       ".cython.score-72 {background-color: #FFFF1f;}\n",
       ".cython.score-73 {background-color: #FFFF1e;}\n",
       ".cython.score-74 {background-color: #FFFF1e;}\n",
       ".cython.score-75 {background-color: #FFFF1e;}\n",
       ".cython.score-76 {background-color: #FFFF1d;}\n",
       ".cython.score-77 {background-color: #FFFF1d;}\n",
       ".cython.score-78 {background-color: #FFFF1c;}\n",
       ".cython.score-79 {background-color: #FFFF1c;}\n",
       ".cython.score-80 {background-color: #FFFF1c;}\n",
       ".cython.score-81 {background-color: #FFFF1c;}\n",
       ".cython.score-82 {background-color: #FFFF1b;}\n",
       ".cython.score-83 {background-color: #FFFF1b;}\n",
       ".cython.score-84 {background-color: #FFFF1b;}\n",
       ".cython.score-85 {background-color: #FFFF1a;}\n",
       ".cython.score-86 {background-color: #FFFF1a;}\n",
       ".cython.score-87 {background-color: #FFFF1a;}\n",
       ".cython.score-88 {background-color: #FFFF1a;}\n",
       ".cython.score-89 {background-color: #FFFF19;}\n",
       ".cython.score-90 {background-color: #FFFF19;}\n",
       ".cython.score-91 {background-color: #FFFF19;}\n",
       ".cython.score-92 {background-color: #FFFF19;}\n",
       ".cython.score-93 {background-color: #FFFF18;}\n",
       ".cython.score-94 {background-color: #FFFF18;}\n",
       ".cython.score-95 {background-color: #FFFF18;}\n",
       ".cython.score-96 {background-color: #FFFF18;}\n",
       ".cython.score-97 {background-color: #FFFF17;}\n",
       ".cython.score-98 {background-color: #FFFF17;}\n",
       ".cython.score-99 {background-color: #FFFF17;}\n",
       ".cython.score-100 {background-color: #FFFF17;}\n",
       ".cython.score-101 {background-color: #FFFF16;}\n",
       ".cython.score-102 {background-color: #FFFF16;}\n",
       ".cython.score-103 {background-color: #FFFF16;}\n",
       ".cython.score-104 {background-color: #FFFF16;}\n",
       ".cython.score-105 {background-color: #FFFF16;}\n",
       ".cython.score-106 {background-color: #FFFF15;}\n",
       ".cython.score-107 {background-color: #FFFF15;}\n",
       ".cython.score-108 {background-color: #FFFF15;}\n",
       ".cython.score-109 {background-color: #FFFF15;}\n",
       ".cython.score-110 {background-color: #FFFF15;}\n",
       ".cython.score-111 {background-color: #FFFF15;}\n",
       ".cython.score-112 {background-color: #FFFF14;}\n",
       ".cython.score-113 {background-color: #FFFF14;}\n",
       ".cython.score-114 {background-color: #FFFF14;}\n",
       ".cython.score-115 {background-color: #FFFF14;}\n",
       ".cython.score-116 {background-color: #FFFF14;}\n",
       ".cython.score-117 {background-color: #FFFF14;}\n",
       ".cython.score-118 {background-color: #FFFF13;}\n",
       ".cython.score-119 {background-color: #FFFF13;}\n",
       ".cython.score-120 {background-color: #FFFF13;}\n",
       ".cython.score-121 {background-color: #FFFF13;}\n",
       ".cython.score-122 {background-color: #FFFF13;}\n",
       ".cython.score-123 {background-color: #FFFF13;}\n",
       ".cython.score-124 {background-color: #FFFF13;}\n",
       ".cython.score-125 {background-color: #FFFF12;}\n",
       ".cython.score-126 {background-color: #FFFF12;}\n",
       ".cython.score-127 {background-color: #FFFF12;}\n",
       ".cython.score-128 {background-color: #FFFF12;}\n",
       ".cython.score-129 {background-color: #FFFF12;}\n",
       ".cython.score-130 {background-color: #FFFF12;}\n",
       ".cython.score-131 {background-color: #FFFF12;}\n",
       ".cython.score-132 {background-color: #FFFF11;}\n",
       ".cython.score-133 {background-color: #FFFF11;}\n",
       ".cython.score-134 {background-color: #FFFF11;}\n",
       ".cython.score-135 {background-color: #FFFF11;}\n",
       ".cython.score-136 {background-color: #FFFF11;}\n",
       ".cython.score-137 {background-color: #FFFF11;}\n",
       ".cython.score-138 {background-color: #FFFF11;}\n",
       ".cython.score-139 {background-color: #FFFF11;}\n",
       ".cython.score-140 {background-color: #FFFF11;}\n",
       ".cython.score-141 {background-color: #FFFF10;}\n",
       ".cython.score-142 {background-color: #FFFF10;}\n",
       ".cython.score-143 {background-color: #FFFF10;}\n",
       ".cython.score-144 {background-color: #FFFF10;}\n",
       ".cython.score-145 {background-color: #FFFF10;}\n",
       ".cython.score-146 {background-color: #FFFF10;}\n",
       ".cython.score-147 {background-color: #FFFF10;}\n",
       ".cython.score-148 {background-color: #FFFF10;}\n",
       ".cython.score-149 {background-color: #FFFF10;}\n",
       ".cython.score-150 {background-color: #FFFF0f;}\n",
       ".cython.score-151 {background-color: #FFFF0f;}\n",
       ".cython.score-152 {background-color: #FFFF0f;}\n",
       ".cython.score-153 {background-color: #FFFF0f;}\n",
       ".cython.score-154 {background-color: #FFFF0f;}\n",
       ".cython.score-155 {background-color: #FFFF0f;}\n",
       ".cython.score-156 {background-color: #FFFF0f;}\n",
       ".cython.score-157 {background-color: #FFFF0f;}\n",
       ".cython.score-158 {background-color: #FFFF0f;}\n",
       ".cython.score-159 {background-color: #FFFF0f;}\n",
       ".cython.score-160 {background-color: #FFFF0f;}\n",
       ".cython.score-161 {background-color: #FFFF0e;}\n",
       ".cython.score-162 {background-color: #FFFF0e;}\n",
       ".cython.score-163 {background-color: #FFFF0e;}\n",
       ".cython.score-164 {background-color: #FFFF0e;}\n",
       ".cython.score-165 {background-color: #FFFF0e;}\n",
       ".cython.score-166 {background-color: #FFFF0e;}\n",
       ".cython.score-167 {background-color: #FFFF0e;}\n",
       ".cython.score-168 {background-color: #FFFF0e;}\n",
       ".cython.score-169 {background-color: #FFFF0e;}\n",
       ".cython.score-170 {background-color: #FFFF0e;}\n",
       ".cython.score-171 {background-color: #FFFF0e;}\n",
       ".cython.score-172 {background-color: #FFFF0e;}\n",
       ".cython.score-173 {background-color: #FFFF0d;}\n",
       ".cython.score-174 {background-color: #FFFF0d;}\n",
       ".cython.score-175 {background-color: #FFFF0d;}\n",
       ".cython.score-176 {background-color: #FFFF0d;}\n",
       ".cython.score-177 {background-color: #FFFF0d;}\n",
       ".cython.score-178 {background-color: #FFFF0d;}\n",
       ".cython.score-179 {background-color: #FFFF0d;}\n",
       ".cython.score-180 {background-color: #FFFF0d;}\n",
       ".cython.score-181 {background-color: #FFFF0d;}\n",
       ".cython.score-182 {background-color: #FFFF0d;}\n",
       ".cython.score-183 {background-color: #FFFF0d;}\n",
       ".cython.score-184 {background-color: #FFFF0d;}\n",
       ".cython.score-185 {background-color: #FFFF0d;}\n",
       ".cython.score-186 {background-color: #FFFF0d;}\n",
       ".cython.score-187 {background-color: #FFFF0c;}\n",
       ".cython.score-188 {background-color: #FFFF0c;}\n",
       ".cython.score-189 {background-color: #FFFF0c;}\n",
       ".cython.score-190 {background-color: #FFFF0c;}\n",
       ".cython.score-191 {background-color: #FFFF0c;}\n",
       ".cython.score-192 {background-color: #FFFF0c;}\n",
       ".cython.score-193 {background-color: #FFFF0c;}\n",
       ".cython.score-194 {background-color: #FFFF0c;}\n",
       ".cython.score-195 {background-color: #FFFF0c;}\n",
       ".cython.score-196 {background-color: #FFFF0c;}\n",
       ".cython.score-197 {background-color: #FFFF0c;}\n",
       ".cython.score-198 {background-color: #FFFF0c;}\n",
       ".cython.score-199 {background-color: #FFFF0c;}\n",
       ".cython.score-200 {background-color: #FFFF0c;}\n",
       ".cython.score-201 {background-color: #FFFF0c;}\n",
       ".cython.score-202 {background-color: #FFFF0c;}\n",
       ".cython.score-203 {background-color: #FFFF0b;}\n",
       ".cython.score-204 {background-color: #FFFF0b;}\n",
       ".cython.score-205 {background-color: #FFFF0b;}\n",
       ".cython.score-206 {background-color: #FFFF0b;}\n",
       ".cython.score-207 {background-color: #FFFF0b;}\n",
       ".cython.score-208 {background-color: #FFFF0b;}\n",
       ".cython.score-209 {background-color: #FFFF0b;}\n",
       ".cython.score-210 {background-color: #FFFF0b;}\n",
       ".cython.score-211 {background-color: #FFFF0b;}\n",
       ".cython.score-212 {background-color: #FFFF0b;}\n",
       ".cython.score-213 {background-color: #FFFF0b;}\n",
       ".cython.score-214 {background-color: #FFFF0b;}\n",
       ".cython.score-215 {background-color: #FFFF0b;}\n",
       ".cython.score-216 {background-color: #FFFF0b;}\n",
       ".cython.score-217 {background-color: #FFFF0b;}\n",
       ".cython.score-218 {background-color: #FFFF0b;}\n",
       ".cython.score-219 {background-color: #FFFF0b;}\n",
       ".cython.score-220 {background-color: #FFFF0b;}\n",
       ".cython.score-221 {background-color: #FFFF0b;}\n",
       ".cython.score-222 {background-color: #FFFF0a;}\n",
       ".cython.score-223 {background-color: #FFFF0a;}\n",
       ".cython.score-224 {background-color: #FFFF0a;}\n",
       ".cython.score-225 {background-color: #FFFF0a;}\n",
       ".cython.score-226 {background-color: #FFFF0a;}\n",
       ".cython.score-227 {background-color: #FFFF0a;}\n",
       ".cython.score-228 {background-color: #FFFF0a;}\n",
       ".cython.score-229 {background-color: #FFFF0a;}\n",
       ".cython.score-230 {background-color: #FFFF0a;}\n",
       ".cython.score-231 {background-color: #FFFF0a;}\n",
       ".cython.score-232 {background-color: #FFFF0a;}\n",
       ".cython.score-233 {background-color: #FFFF0a;}\n",
       ".cython.score-234 {background-color: #FFFF0a;}\n",
       ".cython.score-235 {background-color: #FFFF0a;}\n",
       ".cython.score-236 {background-color: #FFFF0a;}\n",
       ".cython.score-237 {background-color: #FFFF0a;}\n",
       ".cython.score-238 {background-color: #FFFF0a;}\n",
       ".cython.score-239 {background-color: #FFFF0a;}\n",
       ".cython.score-240 {background-color: #FFFF0a;}\n",
       ".cython.score-241 {background-color: #FFFF0a;}\n",
       ".cython.score-242 {background-color: #FFFF0a;}\n",
       ".cython.score-243 {background-color: #FFFF0a;}\n",
       ".cython.score-244 {background-color: #FFFF0a;}\n",
       ".cython.score-245 {background-color: #FFFF0a;}\n",
       ".cython.score-246 {background-color: #FFFF09;}\n",
       ".cython.score-247 {background-color: #FFFF09;}\n",
       ".cython.score-248 {background-color: #FFFF09;}\n",
       ".cython.score-249 {background-color: #FFFF09;}\n",
       ".cython.score-250 {background-color: #FFFF09;}\n",
       ".cython.score-251 {background-color: #FFFF09;}\n",
       ".cython.score-252 {background-color: #FFFF09;}\n",
       ".cython.score-253 {background-color: #FFFF09;}\n",
       ".cython.score-254 {background-color: #FFFF09;}\n",
       ".cython .hll { background-color: #ffffcc }\n",
       ".cython  { background: #f8f8f8; }\n",
       ".cython .c { color: #408080; font-style: italic } /* Comment */\n",
       ".cython .err { border: 1px solid #FF0000 } /* Error */\n",
       ".cython .k { color: #008000; font-weight: bold } /* Keyword */\n",
       ".cython .o { color: #666666 } /* Operator */\n",
       ".cython .ch { color: #408080; font-style: italic } /* Comment.Hashbang */\n",
       ".cython .cm { color: #408080; font-style: italic } /* Comment.Multiline */\n",
       ".cython .cp { color: #BC7A00 } /* Comment.Preproc */\n",
       ".cython .cpf { color: #408080; font-style: italic } /* Comment.PreprocFile */\n",
       ".cython .c1 { color: #408080; font-style: italic } /* Comment.Single */\n",
       ".cython .cs { color: #408080; font-style: italic } /* Comment.Special */\n",
       ".cython .gd { color: #A00000 } /* Generic.Deleted */\n",
       ".cython .ge { font-style: italic } /* Generic.Emph */\n",
       ".cython .gr { color: #FF0000 } /* Generic.Error */\n",
       ".cython .gh { color: #000080; font-weight: bold } /* Generic.Heading */\n",
       ".cython .gi { color: #00A000 } /* Generic.Inserted */\n",
       ".cython .go { color: #888888 } /* Generic.Output */\n",
       ".cython .gp { color: #000080; font-weight: bold } /* Generic.Prompt */\n",
       ".cython .gs { font-weight: bold } /* Generic.Strong */\n",
       ".cython .gu { color: #800080; font-weight: bold } /* Generic.Subheading */\n",
       ".cython .gt { color: #0044DD } /* Generic.Traceback */\n",
       ".cython .kc { color: #008000; font-weight: bold } /* Keyword.Constant */\n",
       ".cython .kd { color: #008000; font-weight: bold } /* Keyword.Declaration */\n",
       ".cython .kn { color: #008000; font-weight: bold } /* Keyword.Namespace */\n",
       ".cython .kp { color: #008000 } /* Keyword.Pseudo */\n",
       ".cython .kr { color: #008000; font-weight: bold } /* Keyword.Reserved */\n",
       ".cython .kt { color: #B00040 } /* Keyword.Type */\n",
       ".cython .m { color: #666666 } /* Literal.Number */\n",
       ".cython .s { color: #BA2121 } /* Literal.String */\n",
       ".cython .na { color: #7D9029 } /* Name.Attribute */\n",
       ".cython .nb { color: #008000 } /* Name.Builtin */\n",
       ".cython .nc { color: #0000FF; font-weight: bold } /* Name.Class */\n",
       ".cython .no { color: #880000 } /* Name.Constant */\n",
       ".cython .nd { color: #AA22FF } /* Name.Decorator */\n",
       ".cython .ni { color: #999999; font-weight: bold } /* Name.Entity */\n",
       ".cython .ne { color: #D2413A; font-weight: bold } /* Name.Exception */\n",
       ".cython .nf { color: #0000FF } /* Name.Function */\n",
       ".cython .nl { color: #A0A000 } /* Name.Label */\n",
       ".cython .nn { color: #0000FF; font-weight: bold } /* Name.Namespace */\n",
       ".cython .nt { color: #008000; font-weight: bold } /* Name.Tag */\n",
       ".cython .nv { color: #19177C } /* Name.Variable */\n",
       ".cython .ow { color: #AA22FF; font-weight: bold } /* Operator.Word */\n",
       ".cython .w { color: #bbbbbb } /* Text.Whitespace */\n",
       ".cython .mb { color: #666666 } /* Literal.Number.Bin */\n",
       ".cython .mf { color: #666666 } /* Literal.Number.Float */\n",
       ".cython .mh { color: #666666 } /* Literal.Number.Hex */\n",
       ".cython .mi { color: #666666 } /* Literal.Number.Integer */\n",
       ".cython .mo { color: #666666 } /* Literal.Number.Oct */\n",
       ".cython .sa { color: #BA2121 } /* Literal.String.Affix */\n",
       ".cython .sb { color: #BA2121 } /* Literal.String.Backtick */\n",
       ".cython .sc { color: #BA2121 } /* Literal.String.Char */\n",
       ".cython .dl { color: #BA2121 } /* Literal.String.Delimiter */\n",
       ".cython .sd { color: #BA2121; font-style: italic } /* Literal.String.Doc */\n",
       ".cython .s2 { color: #BA2121 } /* Literal.String.Double */\n",
       ".cython .se { color: #BB6622; font-weight: bold } /* Literal.String.Escape */\n",
       ".cython .sh { color: #BA2121 } /* Literal.String.Heredoc */\n",
       ".cython .si { color: #BB6688; font-weight: bold } /* Literal.String.Interpol */\n",
       ".cython .sx { color: #008000 } /* Literal.String.Other */\n",
       ".cython .sr { color: #BB6688 } /* Literal.String.Regex */\n",
       ".cython .s1 { color: #BA2121 } /* Literal.String.Single */\n",
       ".cython .ss { color: #19177C } /* Literal.String.Symbol */\n",
       ".cython .bp { color: #008000 } /* Name.Builtin.Pseudo */\n",
       ".cython .fm { color: #0000FF } /* Name.Function.Magic */\n",
       ".cython .vc { color: #19177C } /* Name.Variable.Class */\n",
       ".cython .vg { color: #19177C } /* Name.Variable.Global */\n",
       ".cython .vi { color: #19177C } /* Name.Variable.Instance */\n",
       ".cython .vm { color: #19177C } /* Name.Variable.Magic */\n",
       ".cython .il { color: #666666 } /* Literal.Number.Integer.Long */\n",
       "    </style>\n",
       "</head>\n",
       "<body class=\"cython\">\n",
       "<p><span style=\"border-bottom: solid 1px grey;\">Generated by Cython 3.0a1</span></p>\n",
       "<p>\n",
       "    <span style=\"background-color: #FFFF00\">Yellow lines</span> hint at Python interaction.<br />\n",
       "    Click on a line that starts with a \"<code>+</code>\" to see the C code that Cython generated for it.\n",
       "</p>\n",
       "<div class=\"cython\"><pre class=\"cython line score-0\">&#xA0;<span class=\"\">001</span>: </pre>\n",
       "<pre class=\"cython line score-14\" onclick=\"(function(s){s.display=s.display==='block'?'none':'block'})(this.nextElementSibling.style)\">+<span class=\"\">002</span>: <span class=\"c\"># distutils: language = c++</span></pre>\n",
       "<pre class='cython code score-14 '>    __pyx_t_2 = <span class='pyx_c_api'>__Pyx_PyDict_NewPresized</span>(0);<span class='error_goto'> if (unlikely(!__pyx_t_2)) __PYX_ERR(0, 2, __pyx_L1_error)</span>\n",
       "    <span class='refnanny'>__Pyx_GOTREF</span>(__pyx_t_2);\n",
       "    #if CYTHON_COMPILING_IN_LIMITED_API\n",
       "    <span class='pyx_macro_api'>__Pyx_INCREF</span>(__pyx_t_2);\n",
       "    if (<span class='py_c_api'>PyModule_AddObject</span>(__pyx_m, __pyx_k_test, __pyx_t_2) &lt; 0) <span class='error_goto'>__PYX_ERR(0, 2, __pyx_L1_error)</span>\n",
       "    #else\n",
       "    if (<span class='py_c_api'>PyDict_SetItem</span>(__pyx_d, __pyx_n_s_test, __pyx_t_2) &lt; 0) <span class='error_goto'>__PYX_ERR(0, 2, __pyx_L1_error)</span>\n",
       "    #endif\n",
       "    <span class='pyx_macro_api'>__Pyx_DECREF</span>(__pyx_t_2); __pyx_t_2 = 0;\n",
       "</pre><pre class=\"cython line score-0\">&#xA0;<span class=\"\">003</span>: <span class=\"c\"># cython: boundcheck = False</span></pre>\n",
       "<pre class=\"cython line score-0\">&#xA0;<span class=\"\">004</span>: <span class=\"c\"># cython: wraparound = False</span></pre>\n",
       "<pre class=\"cython line score-0\">&#xA0;<span class=\"\">005</span>: </pre>\n",
       "<pre class=\"cython line score-0\">&#xA0;<span class=\"\">006</span>: <span class=\"k\">cimport</span> <span class=\"nn\">cython</span></pre>\n",
       "<pre class=\"cython line score-0\">&#xA0;<span class=\"\">007</span>: <span class=\"k\">from</span> <span class=\"nn\">libcpp.vector</span> <span class=\"k\">cimport</span> <span class=\"n\">vector</span></pre>\n",
       "<pre class=\"cython line score-0\">&#xA0;<span class=\"\">008</span>: </pre>\n",
       "<pre class=\"cython line score-86\" onclick=\"(function(s){s.display=s.display==='block'?'none':'block'})(this.nextElementSibling.style)\">+<span class=\"\">009</span>: <span class=\"k\">def</span> <span class=\"nf\">fit_from_neighbours</span><span class=\"p\">(</span></pre>\n",
       "<pre class='cython code score-86 '>/* Python wrapper */\n",
       "static PyObject *__pyx_pw_54_cython_magic_73f2c6fd19ae0bcb17642e04cb5b01b645994602_1fit_from_neighbours(PyObject *__pyx_self, \n",
       "#if CYTHON_METH_FASTCALL\n",
       "PyObject *const *__pyx_args, Py_ssize_t __pyx_nargs, PyObject *__pyx_kwds\n",
       "#else\n",
       "PyObject *__pyx_args, PyObject *__pyx_kwds\n",
       "#endif\n",
       "); /*proto*/\n",
       "<span class='py_macro_api'>PyDoc_STRVAR</span>(__pyx_doc_54_cython_magic_73f2c6fd19ae0bcb17642e04cb5b01b645994602_fit_from_neighbours, \"Worker function variant applying the CNN algorithm.\\n\\n    Assigns labels to points starting from pre-computed neighbourhoods.\\n    Uses Python standard library only.\\n\\n    Args:\\n        cnn_cutoff: Points need to share at least this many neighbours\\n            to be assigned to the same cluster (similarity criterion).\\n        neighbourhoods: List of length #points containing sets of\\n            neighbouring point indices\\n\\n    Returns:\\n        Labels\\n    \");\n",
       "static PyMethodDef __pyx_mdef_54_cython_magic_73f2c6fd19ae0bcb17642e04cb5b01b645994602_1fit_from_neighbours = {\"fit_from_neighbours\", (PyCFunction)(void*)(__Pyx_PyCFunction_FastCallWithKeywords)__pyx_pw_54_cython_magic_73f2c6fd19ae0bcb17642e04cb5b01b645994602_1fit_from_neighbours, __Pyx_METH_FASTCALL|METH_KEYWORDS, __pyx_doc_54_cython_magic_73f2c6fd19ae0bcb17642e04cb5b01b645994602_fit_from_neighbours};\n",
       "static PyObject *__pyx_pw_54_cython_magic_73f2c6fd19ae0bcb17642e04cb5b01b645994602_1fit_from_neighbours(PyObject *__pyx_self, \n",
       "#if CYTHON_METH_FASTCALL\n",
       "PyObject *const *__pyx_args, Py_ssize_t __pyx_nargs, PyObject *__pyx_kwds\n",
       "#else\n",
       "PyObject *__pyx_args, PyObject *__pyx_kwds\n",
       "#endif\n",
       ") {\n",
       "  PyObject *__pyx_v_cnn_cutoff = 0;\n",
       "  PyObject *__pyx_v_neighbourhoods = 0;\n",
       "  #if !CYTHON_METH_FASTCALL\n",
       "  CYTHON_UNUSED const Py_ssize_t __pyx_nargs = <span class='py_macro_api'>PyTuple_GET_SIZE</span>(__pyx_args);\n",
       "  #endif\n",
       "  CYTHON_UNUSED PyObject *const *__pyx_kwvalues = <span class='pyx_c_api'>__Pyx_KwValues_FASTCALL</span>(__pyx_args, __pyx_nargs);\n",
       "  PyObject *__pyx_r = 0;\n",
       "  <span class='refnanny'>__Pyx_RefNannyDeclarations</span>\n",
       "  <span class='refnanny'>__Pyx_RefNannySetupContext</span>(\"fit_from_neighbours (wrapper)\", 0);\n",
       "  {\n",
       "    #if CYTHON_COMPILING_IN_LIMITED_API\n",
       "    PyObject **__pyx_pyargnames[] = {&amp;__pyx_n_s_cnn_cutoff,&amp;__pyx_n_s_neighbourhoods,0};\n",
       "    #else\n",
       "    static PyObject **__pyx_pyargnames[] = {&amp;__pyx_n_s_cnn_cutoff,&amp;__pyx_n_s_neighbourhoods,0};\n",
       "    #endif\n",
       "    PyObject* values[2] = {0,0};\n",
       "    if (__pyx_kwds) {\n",
       "      Py_ssize_t kw_args;\n",
       "      switch (__pyx_nargs) {\n",
       "        case  2: values[1] = <span class='pyx_c_api'>__Pyx_Arg_FASTCALL</span>(__pyx_args, 1);\n",
       "        CYTHON_FALLTHROUGH;\n",
       "        case  1: values[0] = <span class='pyx_c_api'>__Pyx_Arg_FASTCALL</span>(__pyx_args, 0);\n",
       "        CYTHON_FALLTHROUGH;\n",
       "        case  0: break;\n",
       "        default: goto __pyx_L5_argtuple_error;\n",
       "      }\n",
       "      kw_args = <span class='pyx_c_api'>__Pyx_NumKwargs_FASTCALL</span>(__pyx_kwds);\n",
       "      switch (__pyx_nargs) {\n",
       "        case  0:\n",
       "        if (likely((values[0] = <span class='pyx_c_api'>__Pyx_GetKwValue_FASTCALL</span>(__pyx_kwds, __pyx_kwvalues, __pyx_n_s_cnn_cutoff)) != 0)) kw_args--;\n",
       "        else if (unlikely(<span class='py_c_api'>PyErr_Occurred</span>())) <span class='error_goto'>__PYX_ERR(0, 9, __pyx_L3_error)</span>\n",
       "        else goto __pyx_L5_argtuple_error;\n",
       "        CYTHON_FALLTHROUGH;\n",
       "        case  1:\n",
       "        if (likely((values[1] = <span class='pyx_c_api'>__Pyx_GetKwValue_FASTCALL</span>(__pyx_kwds, __pyx_kwvalues, __pyx_n_s_neighbourhoods)) != 0)) kw_args--;\n",
       "        else if (unlikely(<span class='py_c_api'>PyErr_Occurred</span>())) <span class='error_goto'>__PYX_ERR(0, 9, __pyx_L3_error)</span>\n",
       "        else {\n",
       "          <span class='pyx_c_api'>__Pyx_RaiseArgtupleInvalid</span>(\"fit_from_neighbours\", 1, 2, 2, 1); <span class='error_goto'>__PYX_ERR(0, 9, __pyx_L3_error)</span>\n",
       "        }\n",
       "      }\n",
       "      if (unlikely(kw_args &gt; 0)) {\n",
       "        const Py_ssize_t kwd_pos_args = __pyx_nargs;\n",
       "        if (unlikely(<span class='pyx_c_api'>__Pyx_ParseOptionalKeywords</span>(__pyx_kwds, __pyx_kwvalues, __pyx_pyargnames, 0, values + 0, kwd_pos_args, \"fit_from_neighbours\") &lt; 0)) <span class='error_goto'>__PYX_ERR(0, 9, __pyx_L3_error)</span>\n",
       "      }\n",
       "    } else if (unlikely(__pyx_nargs != 2)) {\n",
       "      goto __pyx_L5_argtuple_error;\n",
       "    } else {\n",
       "      values[0] = <span class='pyx_c_api'>__Pyx_Arg_FASTCALL</span>(__pyx_args, 0);\n",
       "      values[1] = <span class='pyx_c_api'>__Pyx_Arg_FASTCALL</span>(__pyx_args, 1);\n",
       "    }\n",
       "    __pyx_v_cnn_cutoff = values[0];\n",
       "    __pyx_v_neighbourhoods = ((PyObject*)values[1]);\n",
       "  }\n",
       "  goto __pyx_L4_argument_unpacking_done;\n",
       "  __pyx_L5_argtuple_error:;\n",
       "  <span class='pyx_c_api'>__Pyx_RaiseArgtupleInvalid</span>(\"fit_from_neighbours\", 1, 2, 2, __pyx_nargs); <span class='error_goto'>__PYX_ERR(0, 9, __pyx_L3_error)</span>\n",
       "  __pyx_L3_error:;\n",
       "  <span class='pyx_c_api'>__Pyx_AddTraceback</span>(\"_cython_magic_73f2c6fd19ae0bcb17642e04cb5b01b645994602.fit_from_neighbours\", __pyx_clineno, __pyx_lineno, __pyx_filename);\n",
       "  <span class='refnanny'>__Pyx_RefNannyFinishContext</span>();\n",
       "  return NULL;\n",
       "  __pyx_L4_argument_unpacking_done:;\n",
       "  if (unlikely(!<span class='pyx_c_api'>__Pyx_ArgTypeTest</span>(((PyObject *)__pyx_v_neighbourhoods), (&amp;PyList_Type), 1, \"neighbourhoods\", 1))) <span class='error_goto'>__PYX_ERR(0, 11, __pyx_L1_error)</span>\n",
       "  __pyx_r = __pyx_pf_54_cython_magic_73f2c6fd19ae0bcb17642e04cb5b01b645994602_fit_from_neighbours(__pyx_self, __pyx_v_cnn_cutoff, __pyx_v_neighbourhoods);\n",
       "\n",
       "  /* function exit code */\n",
       "  goto __pyx_L0;\n",
       "  __pyx_L1_error:;\n",
       "  __pyx_r = NULL;\n",
       "  __pyx_L0:;\n",
       "  <span class='refnanny'>__Pyx_RefNannyFinishContext</span>();\n",
       "  return __pyx_r;\n",
       "}\n",
       "\n",
       "static PyObject *__pyx_pf_54_cython_magic_73f2c6fd19ae0bcb17642e04cb5b01b645994602_fit_from_neighbours(CYTHON_UNUSED PyObject *__pyx_self, PyObject *__pyx_v_cnn_cutoff, PyObject *__pyx_v_neighbourhoods) {\n",
       "  int __pyx_v_n;\n",
       "  int __pyx_v_m;\n",
       "  int __pyx_v_k;\n",
       "  std::vector&lt;int&gt;  __pyx_v_labels;\n",
       "  std::vector&lt;int&gt;  __pyx_v_consider;\n",
       "  std::vector&lt;int&gt;  __pyx_v_stack;\n",
       "  int __pyx_v_current;\n",
       "  PyObject *__pyx_v_neighbours = 0;\n",
       "  PyObject *__pyx_v_neighbour_neighbours = 0;\n",
       "  int __pyx_v_init_point;\n",
       "  int __pyx_v_point;\n",
       "  int __pyx_v_member_i;\n",
       "  int __pyx_v_member;\n",
       "  CYTHON_UNUSED int __pyx_7genexpr__pyx_v__;\n",
       "  CYTHON_UNUSED int __pyx_8genexpr1__pyx_v__;\n",
       "  PyObject *__pyx_r = NULL;\n",
       "  <span class='refnanny'>__Pyx_RefNannyDeclarations</span>\n",
       "  <span class='refnanny'>__Pyx_RefNannySetupContext</span>(\"fit_from_neighbours\", 0);\n",
       "/* … */\n",
       "  /* function exit code */\n",
       "  __pyx_L1_error:;\n",
       "  <span class='pyx_macro_api'>__Pyx_XDECREF</span>(__pyx_t_2);\n",
       "  <span class='pyx_macro_api'>__Pyx_XDECREF</span>(__pyx_t_8);\n",
       "  <span class='pyx_c_api'>__Pyx_AddTraceback</span>(\"_cython_magic_73f2c6fd19ae0bcb17642e04cb5b01b645994602.fit_from_neighbours\", __pyx_clineno, __pyx_lineno, __pyx_filename);\n",
       "  __pyx_r = NULL;\n",
       "  __pyx_L0:;\n",
       "  <span class='pyx_macro_api'>__Pyx_XDECREF</span>(__pyx_v_neighbours);\n",
       "  <span class='pyx_macro_api'>__Pyx_XDECREF</span>(__pyx_v_neighbour_neighbours);\n",
       "  <span class='refnanny'>__Pyx_XGIVEREF</span>(__pyx_r);\n",
       "  <span class='refnanny'>__Pyx_RefNannyFinishContext</span>();\n",
       "  return __pyx_r;\n",
       "}\n",
       "/* … */\n",
       "  __pyx_tuple__2 = <span class='py_c_api'>PyTuple_Pack</span>(17, __pyx_n_s_cnn_cutoff, __pyx_n_s_neighbourhoods, __pyx_n_s_n, __pyx_n_s_m, __pyx_n_s_k, __pyx_n_s_labels, __pyx_n_s_consider, __pyx_n_s_stack, __pyx_n_s_current, __pyx_n_s_neighbours, __pyx_n_s_neighbour_neighbours, __pyx_n_s_init_point, __pyx_n_s_point, __pyx_n_s_member_i, __pyx_n_s_member, __pyx_n_s_, __pyx_n_s_);<span class='error_goto'> if (unlikely(!__pyx_tuple__2)) __PYX_ERR(0, 9, __pyx_L1_error)</span>\n",
       "  <span class='refnanny'>__Pyx_GOTREF</span>(__pyx_tuple__2);\n",
       "  <span class='refnanny'>__Pyx_GIVEREF</span>(__pyx_tuple__2);\n",
       "/* … */\n",
       "    __pyx_t_1 = <span class='pyx_c_api'>__Pyx_PyDict_NewPresized</span>(2);<span class='error_goto'> if (unlikely(!__pyx_t_1)) __PYX_ERR(0, 9, __pyx_L1_error)</span>\n",
       "    <span class='refnanny'>__Pyx_GOTREF</span>(__pyx_t_1);\n",
       "    if (<span class='py_c_api'>PyDict_SetItem</span>(__pyx_t_1, __pyx_n_s_cnn_cutoff, __pyx_n_s_int) &lt; 0) <span class='error_goto'>__PYX_ERR(0, 9, __pyx_L1_error)</span>\n",
       "    if (<span class='py_c_api'>PyDict_SetItem</span>(__pyx_t_1, __pyx_n_s_neighbourhoods, __pyx_n_s_list) &lt; 0) <span class='error_goto'>__PYX_ERR(0, 9, __pyx_L1_error)</span>\n",
       "    #if CYTHON_COMPILING_IN_LIMITED_API\n",
       "    __pyx_t_3 = <span class='py_c_api'>PyDict_New</span>();<span class='error_goto'> if (unlikely(!__pyx_t_3)) __PYX_ERR(0, 9, __pyx_L1_error)</span>\n",
       "    <span class='refnanny'>__Pyx_GOTREF</span>(__pyx_t_3);\n",
       "    __pyx_t_2 = <span class='pyx_c_api'>__Pyx_CyFunction_New</span>(&amp;__pyx_mdef_54_cython_magic_73f2c6fd19ae0bcb17642e04cb5b01b645994602_1fit_from_neighbours, 0, __pyx_n_s_fit_from_neighbours, NULL, __pyx_n_s_cython_magic_73f2c6fd19ae0bcb17, __pyx_t_3, ((PyObject *)__pyx_codeobj__3));<span class='error_goto'> if (unlikely(!__pyx_t_2)) __PYX_ERR(0, 9, __pyx_L1_error)</span>\n",
       "    <span class='pyx_macro_api'>__Pyx_DECREF</span>(__pyx_t_3); __pyx_t_3 = 0;\n",
       "    #else\n",
       "    __pyx_t_2 = <span class='pyx_c_api'>__Pyx_CyFunction_New</span>(&amp;__pyx_mdef_54_cython_magic_73f2c6fd19ae0bcb17642e04cb5b01b645994602_1fit_from_neighbours, 0, __pyx_n_s_fit_from_neighbours, NULL, __pyx_n_s_cython_magic_73f2c6fd19ae0bcb17, __pyx_d, ((PyObject *)__pyx_codeobj__3));<span class='error_goto'> if (unlikely(!__pyx_t_2)) __PYX_ERR(0, 9, __pyx_L1_error)</span>\n",
       "    #endif\n",
       "    <span class='refnanny'>__Pyx_GOTREF</span>(__pyx_t_2);\n",
       "    <span class='pyx_c_api'>__Pyx_CyFunction_SetAnnotationsDict</span>(__pyx_t_2, __pyx_t_1);\n",
       "    <span class='pyx_macro_api'>__Pyx_DECREF</span>(__pyx_t_1); __pyx_t_1 = 0;\n",
       "    #if CYTHON_COMPILING_IN_LIMITED_API\n",
       "    <span class='pyx_macro_api'>__Pyx_INCREF</span>(__pyx_t_2);\n",
       "    if (<span class='py_c_api'>PyModule_AddObject</span>(__pyx_m, __pyx_k_fit_from_neighbours, __pyx_t_2) &lt; 0) <span class='error_goto'>__PYX_ERR(0, 9, __pyx_L1_error)</span>\n",
       "    #else\n",
       "    if (<span class='py_c_api'>PyDict_SetItem</span>(__pyx_d, __pyx_n_s_fit_from_neighbours, __pyx_t_2) &lt; 0) <span class='error_goto'>__PYX_ERR(0, 9, __pyx_L1_error)</span>\n",
       "    #endif\n",
       "    <span class='pyx_macro_api'>__Pyx_DECREF</span>(__pyx_t_2); __pyx_t_2 = 0;\n",
       "</pre><pre class=\"cython line score-0\">&#xA0;<span class=\"\">010</span>:         <span class=\"n\">cnn_cutoff</span><span class=\"p\">:</span> <span class=\"nb\">int</span><span class=\"p\">,</span></pre>\n",
       "<pre class=\"cython line score-0\">&#xA0;<span class=\"\">011</span>:         <span class=\"n\">neighbourhoods</span><span class=\"p\">:</span> <span class=\"nb\">list</span><span class=\"p\">):</span></pre>\n",
       "<pre class=\"cython line score-0\">&#xA0;<span class=\"\">012</span>:     <span class=\"sd\">&quot;&quot;&quot;Worker function variant applying the CNN algorithm.</span></pre>\n",
       "<pre class=\"cython line score-0\">&#xA0;<span class=\"\">013</span>: </pre>\n",
       "<pre class=\"cython line score-0\">&#xA0;<span class=\"\">014</span>: <span class=\"sd\">    Assigns labels to points starting from pre-computed neighbourhoods.</span></pre>\n",
       "<pre class=\"cython line score-0\">&#xA0;<span class=\"\">015</span>: <span class=\"sd\">    Uses Python standard library only.</span></pre>\n",
       "<pre class=\"cython line score-0\">&#xA0;<span class=\"\">016</span>: </pre>\n",
       "<pre class=\"cython line score-0\">&#xA0;<span class=\"\">017</span>: <span class=\"sd\">    Args:</span></pre>\n",
       "<pre class=\"cython line score-0\">&#xA0;<span class=\"\">018</span>: <span class=\"sd\">        cnn_cutoff: Points need to share at least this many neighbours</span></pre>\n",
       "<pre class=\"cython line score-0\">&#xA0;<span class=\"\">019</span>: <span class=\"sd\">            to be assigned to the same cluster (similarity criterion).</span></pre>\n",
       "<pre class=\"cython line score-0\">&#xA0;<span class=\"\">020</span>: <span class=\"sd\">        neighbourhoods: List of length #points containing sets of</span></pre>\n",
       "<pre class=\"cython line score-0\">&#xA0;<span class=\"\">021</span>: <span class=\"sd\">            neighbouring point indices</span></pre>\n",
       "<pre class=\"cython line score-0\">&#xA0;<span class=\"\">022</span>: </pre>\n",
       "<pre class=\"cython line score-0\">&#xA0;<span class=\"\">023</span>: <span class=\"sd\">    Returns:</span></pre>\n",
       "<pre class=\"cython line score-0\">&#xA0;<span class=\"\">024</span>: <span class=\"sd\">        Labels</span></pre>\n",
       "<pre class=\"cython line score-0\">&#xA0;<span class=\"\">025</span>: <span class=\"sd\">    &quot;&quot;&quot;</span></pre>\n",
       "<pre class=\"cython line score-0\">&#xA0;<span class=\"\">026</span>: </pre>\n",
       "<pre class=\"cython line score-0\">&#xA0;<span class=\"\">027</span>:     <span class=\"k\">cdef</span> <span class=\"kt\">int</span> <span class=\"nf\">n</span><span class=\"p\">,</span> <span class=\"nf\">m</span><span class=\"p\">,</span> <span class=\"nf\">k</span></pre>\n",
       "<pre class=\"cython line score-0\">&#xA0;<span class=\"\">028</span>:     <span class=\"k\">cdef</span> <span class=\"kt\">vector</span>[<span class=\"kt\">int</span>] <span class=\"nf\">labels</span></pre>\n",
       "<pre class=\"cython line score-0\">&#xA0;<span class=\"\">029</span>:     <span class=\"k\">cdef</span> <span class=\"kt\">vector</span>[<span class=\"kt\">int</span>] <span class=\"nf\">consider</span></pre>\n",
       "<pre class=\"cython line score-0\">&#xA0;<span class=\"\">030</span>:     <span class=\"k\">cdef</span> <span class=\"kt\">vector</span>[<span class=\"kt\">int</span>] <span class=\"nf\">stack</span></pre>\n",
       "<pre class=\"cython line score-0\">&#xA0;<span class=\"\">031</span>:     <span class=\"k\">cdef</span> <span class=\"kt\">int</span> <span class=\"nf\">current</span></pre>\n",
       "<pre class=\"cython line score-0\">&#xA0;<span class=\"\">032</span>:     <span class=\"k\">cdef</span> <span class=\"kt\">set</span> <span class=\"nf\">neighbours</span><span class=\"p\">,</span> <span class=\"nf\">neighbour_neighbours</span></pre>\n",
       "<pre class=\"cython line score-0\">&#xA0;<span class=\"\">033</span>:     <span class=\"k\">cdef</span> <span class=\"kt\">int</span> <span class=\"nf\">init_point</span><span class=\"p\">,</span> <span class=\"nf\">point</span><span class=\"p\">,</span> <span class=\"nf\">member_i</span><span class=\"p\">,</span> <span class=\"nf\">member</span></pre>\n",
       "<pre class=\"cython line score-0\">&#xA0;<span class=\"\">034</span>: </pre>\n",
       "<pre class=\"cython line score-0\">&#xA0;<span class=\"\">035</span>:    <span class=\"c\"># Number of points</span></pre>\n",
       "<pre class=\"cython line score-6\" onclick=\"(function(s){s.display=s.display==='block'?'none':'block'})(this.nextElementSibling.style)\">+<span class=\"\">036</span>:     <span class=\"n\">n</span> <span class=\"o\">=</span> <span class=\"nb\">len</span><span class=\"p\">(</span><span class=\"n\">neighbourhoods</span><span class=\"p\">)</span></pre>\n",
       "<pre class='cython code score-6 '>  if (unlikely(__pyx_v_neighbourhoods == Py_None)) {\n",
       "    <span class='py_c_api'>PyErr_SetString</span>(PyExc_TypeError, \"object of type 'NoneType' has no len()\");\n",
       "    <span class='error_goto'>__PYX_ERR(0, 36, __pyx_L1_error)</span>\n",
       "  }\n",
       "  __pyx_t_1 = <span class='py_macro_api'>PyList_GET_SIZE</span>(__pyx_v_neighbourhoods);<span class='error_goto'> if (unlikely(__pyx_t_1 == ((Py_ssize_t)-1))) __PYX_ERR(0, 36, __pyx_L1_error)</span>\n",
       "  __pyx_v_n = __pyx_t_1;\n",
       "</pre><pre class=\"cython line score-0\">&#xA0;<span class=\"\">037</span>: </pre>\n",
       "<pre class=\"cython line score-0\">&#xA0;<span class=\"\">038</span>:     <span class=\"c\"># Initialise labels</span></pre>\n",
       "<pre class=\"cython line score-10\" onclick=\"(function(s){s.display=s.display==='block'?'none':'block'})(this.nextElementSibling.style)\">+<span class=\"\">039</span>:     <span class=\"n\">labels</span> <span class=\"o\">=</span> <span class=\"p\">[</span><span class=\"mf\">0</span> <span class=\"k\">for</span> <span class=\"n\">_</span> <span class=\"ow\">in</span> <span class=\"nb\">range</span><span class=\"p\">(</span><span class=\"n\">n</span><span class=\"p\">)]</span></pre>\n",
       "<pre class='cython code score-10 '>  { /* enter inner scope */\n",
       "    __pyx_t_2 = <span class='py_c_api'>PyList_New</span>(0);<span class='error_goto'> if (unlikely(!__pyx_t_2)) __PYX_ERR(0, 39, __pyx_L1_error)</span>\n",
       "    <span class='refnanny'>__Pyx_GOTREF</span>(__pyx_t_2);\n",
       "    __pyx_t_3 = __pyx_v_n;\n",
       "    __pyx_t_4 = __pyx_t_3;\n",
       "    for (__pyx_t_5 = 0; __pyx_t_5 &lt; __pyx_t_4; __pyx_t_5+=1) {\n",
       "      __pyx_7genexpr__pyx_v__ = __pyx_t_5;\n",
       "      if (unlikely(<span class='pyx_c_api'>__Pyx_ListComp_Append</span>(__pyx_t_2, (PyObject*)__pyx_int_0))) <span class='error_goto'>__PYX_ERR(0, 39, __pyx_L1_error)</span>\n",
       "    }\n",
       "  } /* exit inner scope */\n",
       "  __pyx_t_6 = <span class='pyx_c_api'>__pyx_convert_vector_from_py_int</span>(__pyx_t_2);<span class='error_goto'> if (unlikely(PyErr_Occurred())) __PYX_ERR(0, 39, __pyx_L1_error)</span>\n",
       "  <span class='pyx_macro_api'>__Pyx_DECREF</span>(__pyx_t_2); __pyx_t_2 = 0;\n",
       "  __pyx_v_labels = __pyx_t_6;\n",
       "</pre><pre class=\"cython line score-0\">&#xA0;<span class=\"\">040</span>: </pre>\n",
       "<pre class=\"cython line score-0\">&#xA0;<span class=\"\">041</span>:     <span class=\"c\"># Track assigment</span></pre>\n",
       "<pre class=\"cython line score-10\" onclick=\"(function(s){s.display=s.display==='block'?'none':'block'})(this.nextElementSibling.style)\">+<span class=\"\">042</span>:     <span class=\"n\">consider</span> <span class=\"o\">=</span> <span class=\"p\">[</span><span class=\"mf\">1</span> <span class=\"k\">for</span> <span class=\"n\">_</span> <span class=\"ow\">in</span> <span class=\"nb\">range</span><span class=\"p\">(</span><span class=\"n\">n</span><span class=\"p\">)]</span></pre>\n",
       "<pre class='cython code score-10 '>  { /* enter inner scope */\n",
       "    __pyx_t_2 = <span class='py_c_api'>PyList_New</span>(0);<span class='error_goto'> if (unlikely(!__pyx_t_2)) __PYX_ERR(0, 42, __pyx_L1_error)</span>\n",
       "    <span class='refnanny'>__Pyx_GOTREF</span>(__pyx_t_2);\n",
       "    __pyx_t_3 = __pyx_v_n;\n",
       "    __pyx_t_4 = __pyx_t_3;\n",
       "    for (__pyx_t_5 = 0; __pyx_t_5 &lt; __pyx_t_4; __pyx_t_5+=1) {\n",
       "      __pyx_8genexpr1__pyx_v__ = __pyx_t_5;\n",
       "      if (unlikely(<span class='pyx_c_api'>__Pyx_ListComp_Append</span>(__pyx_t_2, (PyObject*)__pyx_int_1))) <span class='error_goto'>__PYX_ERR(0, 42, __pyx_L1_error)</span>\n",
       "    }\n",
       "  } /* exit inner scope */\n",
       "  __pyx_t_6 = <span class='pyx_c_api'>__pyx_convert_vector_from_py_int</span>(__pyx_t_2);<span class='error_goto'> if (unlikely(PyErr_Occurred())) __PYX_ERR(0, 42, __pyx_L1_error)</span>\n",
       "  <span class='pyx_macro_api'>__Pyx_DECREF</span>(__pyx_t_2); __pyx_t_2 = 0;\n",
       "  __pyx_v_consider = __pyx_t_6;\n",
       "</pre><pre class=\"cython line score-0\">&#xA0;<span class=\"\">043</span>: </pre>\n",
       "<pre class=\"cython line score-0\">&#xA0;<span class=\"\">044</span>:     <span class=\"c\"># Start with first cluster (0 = noise)</span></pre>\n",
       "<pre class=\"cython line score-0\" onclick=\"(function(s){s.display=s.display==='block'?'none':'block'})(this.nextElementSibling.style)\">+<span class=\"\">045</span>:     <span class=\"n\">current</span> <span class=\"o\">=</span> <span class=\"mf\">1</span></pre>\n",
       "<pre class='cython code score-0 '>  __pyx_v_current = 1;\n",
       "</pre><pre class=\"cython line score-0\">&#xA0;<span class=\"\">046</span>: </pre>\n",
       "<pre class=\"cython line score-0\" onclick=\"(function(s){s.display=s.display==='block'?'none':'block'})(this.nextElementSibling.style)\">+<span class=\"\">047</span>:     <span class=\"k\">for</span> <span class=\"n\">init_point</span> <span class=\"ow\">in</span> <span class=\"nb\">range</span><span class=\"p\">(</span><span class=\"n\">n</span><span class=\"p\">):</span></pre>\n",
       "<pre class='cython code score-0 '>  __pyx_t_3 = __pyx_v_n;\n",
       "  __pyx_t_4 = __pyx_t_3;\n",
       "  for (__pyx_t_5 = 0; __pyx_t_5 &lt; __pyx_t_4; __pyx_t_5+=1) {\n",
       "    __pyx_v_init_point = __pyx_t_5;\n",
       "</pre><pre class=\"cython line score-0\">&#xA0;<span class=\"\">048</span>:         <span class=\"c\"># Loop over points</span></pre>\n",
       "<pre class=\"cython line score-0\" onclick=\"(function(s){s.display=s.display==='block'?'none':'block'})(this.nextElementSibling.style)\">+<span class=\"\">049</span>:         <span class=\"k\">if</span> <span class=\"n\">consider</span><span class=\"p\">[</span><span class=\"n\">init_point</span><span class=\"p\">]</span> <span class=\"o\">==</span> <span class=\"mf\">0</span><span class=\"p\">:</span></pre>\n",
       "<pre class='cython code score-0 '>    __pyx_t_7 = (((__pyx_v_consider[__pyx_v_init_point]) == 0) != 0);\n",
       "    if (__pyx_t_7) {\n",
       "/* … */\n",
       "    }\n",
       "</pre><pre class=\"cython line score-0\">&#xA0;<span class=\"\">050</span>:             <span class=\"c\"># Point already assigned</span></pre>\n",
       "<pre class=\"cython line score-0\" onclick=\"(function(s){s.display=s.display==='block'?'none':'block'})(this.nextElementSibling.style)\">+<span class=\"\">051</span>:             <span class=\"k\">continue</span></pre>\n",
       "<pre class='cython code score-0 '>      goto __pyx_L7_continue;\n",
       "</pre><pre class=\"cython line score-0\">&#xA0;<span class=\"\">052</span>: </pre>\n",
       "<pre class=\"cython line score-20\" onclick=\"(function(s){s.display=s.display==='block'?'none':'block'})(this.nextElementSibling.style)\">+<span class=\"\">053</span>:         <span class=\"n\">neighbours</span> <span class=\"o\">=</span> <span class=\"n\">neighbourhoods</span><span class=\"p\">[</span><span class=\"n\">init_point</span><span class=\"p\">]</span></pre>\n",
       "<pre class='cython code score-20 '>    if (unlikely(__pyx_v_neighbourhoods == Py_None)) {\n",
       "      <span class='py_c_api'>PyErr_SetString</span>(PyExc_TypeError, \"'NoneType' object is not subscriptable\");\n",
       "      <span class='error_goto'>__PYX_ERR(0, 53, __pyx_L1_error)</span>\n",
       "    }\n",
       "    __pyx_t_2 = <span class='pyx_c_api'>__Pyx_GetItemInt_List</span>(__pyx_v_neighbourhoods, __pyx_v_init_point, int, 1, __Pyx_PyInt_From_int, 1, 0, 1);<span class='error_goto'> if (unlikely(!__pyx_t_2)) __PYX_ERR(0, 53, __pyx_L1_error)</span>\n",
       "    <span class='refnanny'>__Pyx_GOTREF</span>(__pyx_t_2);\n",
       "    if (!(likely(<span class='py_c_api'>PySet_CheckExact</span>(__pyx_t_2))||((__pyx_t_2) == Py_None)||(<span class='py_c_api'>PyErr_Format</span>(PyExc_TypeError, \"Expected %.16s, got %.200s\", \"set\", <span class='pyx_c_api'>__Pyx_PyType_Name</span>(Py_TYPE(__pyx_t_2))), 0))) <span class='error_goto'>__PYX_ERR(0, 53, __pyx_L1_error)</span>\n",
       "    <span class='pyx_macro_api'>__Pyx_XDECREF_SET</span>(__pyx_v_neighbours, ((PyObject*)__pyx_t_2));\n",
       "    __pyx_t_2 = 0;\n",
       "</pre><pre class=\"cython line score-6\" onclick=\"(function(s){s.display=s.display==='block'?'none':'block'})(this.nextElementSibling.style)\">+<span class=\"\">054</span>:         <span class=\"n\">m</span> <span class=\"o\">=</span> <span class=\"nb\">len</span><span class=\"p\">(</span><span class=\"n\">neighbours</span><span class=\"p\">)</span></pre>\n",
       "<pre class='cython code score-6 '>    if (unlikely(__pyx_v_neighbours == Py_None)) {\n",
       "      <span class='py_c_api'>PyErr_SetString</span>(PyExc_TypeError, \"object of type 'NoneType' has no len()\");\n",
       "      <span class='error_goto'>__PYX_ERR(0, 54, __pyx_L1_error)</span>\n",
       "    }\n",
       "    __pyx_t_1 = <span class='py_macro_api'>PySet_GET_SIZE</span>(__pyx_v_neighbours);<span class='error_goto'> if (unlikely(__pyx_t_1 == ((Py_ssize_t)-1))) __PYX_ERR(0, 54, __pyx_L1_error)</span>\n",
       "    __pyx_v_m = __pyx_t_1;\n",
       "</pre><pre class=\"cython line score-11\" onclick=\"(function(s){s.display=s.display==='block'?'none':'block'})(this.nextElementSibling.style)\">+<span class=\"\">055</span>:         <span class=\"k\">if</span> <span class=\"n\">m</span> <span class=\"o\">&lt;=</span> <span class=\"n\">cnn_cutoff</span><span class=\"p\">:</span></pre>\n",
       "<pre class='cython code score-11 '>    __pyx_t_2 = <span class='pyx_c_api'>__Pyx_PyInt_From_int</span>(__pyx_v_m);<span class='error_goto'> if (unlikely(!__pyx_t_2)) __PYX_ERR(0, 55, __pyx_L1_error)</span>\n",
       "    <span class='refnanny'>__Pyx_GOTREF</span>(__pyx_t_2);\n",
       "    __pyx_t_8 = <span class='py_c_api'>PyObject_RichCompare</span>(__pyx_t_2, __pyx_v_cnn_cutoff, Py_LE); <span class='refnanny'>__Pyx_XGOTREF</span>(__pyx_t_8);<span class='error_goto'> if (unlikely(!__pyx_t_8)) __PYX_ERR(0, 55, __pyx_L1_error)</span>\n",
       "    <span class='pyx_macro_api'>__Pyx_DECREF</span>(__pyx_t_2); __pyx_t_2 = 0;\n",
       "    __pyx_t_7 = <span class='pyx_c_api'>__Pyx_PyObject_IsTrue</span>(__pyx_t_8); if (unlikely(__pyx_t_7 &lt; 0)) <span class='error_goto'>__PYX_ERR(0, 55, __pyx_L1_error)</span>\n",
       "    <span class='pyx_macro_api'>__Pyx_DECREF</span>(__pyx_t_8); __pyx_t_8 = 0;\n",
       "    if (__pyx_t_7) {\n",
       "/* … */\n",
       "    }\n",
       "</pre><pre class=\"cython line score-0\">&#xA0;<span class=\"\">056</span>:             <span class=\"c\"># Point can not fulfill cnn condition</span></pre>\n",
       "<pre class=\"cython line score-0\" onclick=\"(function(s){s.display=s.display==='block'?'none':'block'})(this.nextElementSibling.style)\">+<span class=\"\">057</span>:             <span class=\"n\">labels</span><span class=\"p\">[</span><span class=\"n\">init_point</span><span class=\"p\">]</span> <span class=\"o\">=</span> <span class=\"mf\">0</span>             <span class=\"c\"># Assign cluster label</span></pre>\n",
       "<pre class='cython code score-0 '>      (__pyx_v_labels[__pyx_v_init_point]) = 0;\n",
       "</pre><pre class=\"cython line score-0\" onclick=\"(function(s){s.display=s.display==='block'?'none':'block'})(this.nextElementSibling.style)\">+<span class=\"\">058</span>:             <span class=\"n\">consider</span><span class=\"p\">[</span><span class=\"n\">init_point</span><span class=\"p\">]</span> <span class=\"o\">=</span> <span class=\"mf\">0</span>           <span class=\"c\"># Mark point as included</span></pre>\n",
       "<pre class='cython code score-0 '>      (__pyx_v_consider[__pyx_v_init_point]) = 0;\n",
       "</pre><pre class=\"cython line score-0\" onclick=\"(function(s){s.display=s.display==='block'?'none':'block'})(this.nextElementSibling.style)\">+<span class=\"\">059</span>:             <span class=\"k\">continue</span></pre>\n",
       "<pre class='cython code score-0 '>      goto __pyx_L7_continue;\n",
       "</pre><pre class=\"cython line score-0\">&#xA0;<span class=\"\">060</span>: </pre>\n",
       "<pre class=\"cython line score-0\" onclick=\"(function(s){s.display=s.display==='block'?'none':'block'})(this.nextElementSibling.style)\">+<span class=\"\">061</span>:         <span class=\"n\">labels</span><span class=\"p\">[</span><span class=\"n\">init_point</span><span class=\"p\">]</span> <span class=\"o\">=</span> <span class=\"n\">current</span>          <span class=\"c\"># Assign cluster label</span></pre>\n",
       "<pre class='cython code score-0 '>    (__pyx_v_labels[__pyx_v_init_point]) = __pyx_v_current;\n",
       "</pre><pre class=\"cython line score-0\" onclick=\"(function(s){s.display=s.display==='block'?'none':'block'})(this.nextElementSibling.style)\">+<span class=\"\">062</span>:         <span class=\"n\">consider</span><span class=\"p\">[</span><span class=\"n\">init_point</span><span class=\"p\">]</span> <span class=\"o\">=</span> <span class=\"mf\">0</span>              <span class=\"c\"># Mark point as included</span></pre>\n",
       "<pre class='cython code score-0 '>    (__pyx_v_consider[__pyx_v_init_point]) = 0;\n",
       "</pre><pre class=\"cython line score-0\">&#xA0;<span class=\"\">063</span>: </pre>\n",
       "<pre class=\"cython line score-0\" onclick=\"(function(s){s.display=s.display==='block'?'none':'block'})(this.nextElementSibling.style)\">+<span class=\"\">064</span>:         <span class=\"n\">point</span> <span class=\"o\">=</span> <span class=\"n\">init_point</span></pre>\n",
       "<pre class='cython code score-0 '>    __pyx_v_point = __pyx_v_init_point;\n",
       "</pre><pre class=\"cython line score-0\" onclick=\"(function(s){s.display=s.display==='block'?'none':'block'})(this.nextElementSibling.style)\">+<span class=\"\">065</span>:         <span class=\"k\">while</span> <span class=\"bp\">True</span><span class=\"p\">:</span></pre>\n",
       "<pre class='cython code score-0 '>    while (1) {\n",
       "</pre><pre class=\"cython line score-0\">&#xA0;<span class=\"\">066</span>:             <span class=\"c\"># Loop over neighbouring points</span></pre>\n",
       "<pre class=\"cython line score-0\" onclick=\"(function(s){s.display=s.display==='block'?'none':'block'})(this.nextElementSibling.style)\">+<span class=\"\">067</span>:             <span class=\"k\">for</span> <span class=\"n\">member_i</span> <span class=\"ow\">in</span> <span class=\"nb\">range</span><span class=\"p\">(</span><span class=\"n\">m</span><span class=\"p\">):</span></pre>\n",
       "<pre class='cython code score-0 '>      __pyx_t_9 = __pyx_v_m;\n",
       "      __pyx_t_10 = __pyx_t_9;\n",
       "      for (__pyx_t_11 = 0; __pyx_t_11 &lt; __pyx_t_10; __pyx_t_11+=1) {\n",
       "        __pyx_v_member_i = __pyx_t_11;\n",
       "</pre><pre class=\"cython line score-10\" onclick=\"(function(s){s.display=s.display==='block'?'none':'block'})(this.nextElementSibling.style)\">+<span class=\"\">068</span>:                 <span class=\"n\">member</span> <span class=\"o\">=</span> <span class=\"n\">neighbours</span><span class=\"p\">[</span><span class=\"n\">member_i</span><span class=\"p\">]</span></pre>\n",
       "<pre class='cython code score-10 '>        __pyx_t_8 = <span class='pyx_c_api'>__Pyx_GetItemInt</span>(__pyx_v_neighbours, __pyx_v_member_i, int, 1, __Pyx_PyInt_From_int, 0, 0, 1);<span class='error_goto'> if (unlikely(!__pyx_t_8)) __PYX_ERR(0, 68, __pyx_L1_error)</span>\n",
       "        <span class='refnanny'>__Pyx_GOTREF</span>(__pyx_t_8);\n",
       "        __pyx_t_12 = <span class='pyx_c_api'>__Pyx_PyInt_As_int</span>(__pyx_t_8); if (unlikely((__pyx_t_12 == (int)-1) &amp;&amp; <span class='py_c_api'>PyErr_Occurred</span>())) <span class='error_goto'>__PYX_ERR(0, 68, __pyx_L1_error)</span>\n",
       "        <span class='pyx_macro_api'>__Pyx_DECREF</span>(__pyx_t_8); __pyx_t_8 = 0;\n",
       "        __pyx_v_member = __pyx_t_12;\n",
       "</pre><pre class=\"cython line score-0\" onclick=\"(function(s){s.display=s.display==='block'?'none':'block'})(this.nextElementSibling.style)\">+<span class=\"\">069</span>:                 <span class=\"k\">if</span> <span class=\"n\">consider</span><span class=\"p\">[</span><span class=\"n\">member</span><span class=\"p\">]</span> <span class=\"o\">==</span> <span class=\"mf\">0</span><span class=\"p\">:</span></pre>\n",
       "<pre class='cython code score-0 '>        __pyx_t_7 = (((__pyx_v_consider[__pyx_v_member]) == 0) != 0);\n",
       "        if (__pyx_t_7) {\n",
       "/* … */\n",
       "        }\n",
       "</pre><pre class=\"cython line score-0\">&#xA0;<span class=\"\">070</span>:                     <span class=\"c\"># Point already assigned</span></pre>\n",
       "<pre class=\"cython line score-0\" onclick=\"(function(s){s.display=s.display==='block'?'none':'block'})(this.nextElementSibling.style)\">+<span class=\"\">071</span>:                     <span class=\"k\">continue</span></pre>\n",
       "<pre class='cython code score-0 '>          goto __pyx_L13_continue;\n",
       "</pre><pre class=\"cython line score-0\">&#xA0;<span class=\"\">072</span>: </pre>\n",
       "<pre class=\"cython line score-20\" onclick=\"(function(s){s.display=s.display==='block'?'none':'block'})(this.nextElementSibling.style)\">+<span class=\"\">073</span>:                 <span class=\"n\">neighbour_neighbours</span> <span class=\"o\">=</span> <span class=\"n\">neighbourhoods</span><span class=\"p\">[</span><span class=\"n\">member</span><span class=\"p\">]</span></pre>\n",
       "<pre class='cython code score-20 '>        if (unlikely(__pyx_v_neighbourhoods == Py_None)) {\n",
       "          <span class='py_c_api'>PyErr_SetString</span>(PyExc_TypeError, \"'NoneType' object is not subscriptable\");\n",
       "          <span class='error_goto'>__PYX_ERR(0, 73, __pyx_L1_error)</span>\n",
       "        }\n",
       "        __pyx_t_8 = <span class='pyx_c_api'>__Pyx_GetItemInt_List</span>(__pyx_v_neighbourhoods, __pyx_v_member, int, 1, __Pyx_PyInt_From_int, 1, 0, 1);<span class='error_goto'> if (unlikely(!__pyx_t_8)) __PYX_ERR(0, 73, __pyx_L1_error)</span>\n",
       "        <span class='refnanny'>__Pyx_GOTREF</span>(__pyx_t_8);\n",
       "        if (!(likely(<span class='py_c_api'>PySet_CheckExact</span>(__pyx_t_8))||((__pyx_t_8) == Py_None)||(<span class='py_c_api'>PyErr_Format</span>(PyExc_TypeError, \"Expected %.16s, got %.200s\", \"set\", <span class='pyx_c_api'>__Pyx_PyType_Name</span>(Py_TYPE(__pyx_t_8))), 0))) <span class='error_goto'>__PYX_ERR(0, 73, __pyx_L1_error)</span>\n",
       "        <span class='pyx_macro_api'>__Pyx_XDECREF_SET</span>(__pyx_v_neighbour_neighbours, ((PyObject*)__pyx_t_8));\n",
       "        __pyx_t_8 = 0;\n",
       "</pre><pre class=\"cython line score-6\" onclick=\"(function(s){s.display=s.display==='block'?'none':'block'})(this.nextElementSibling.style)\">+<span class=\"\">074</span>:                 <span class=\"n\">k</span> <span class=\"o\">=</span> <span class=\"nb\">len</span><span class=\"p\">(</span><span class=\"n\">neighbour_neighbours</span><span class=\"p\">)</span></pre>\n",
       "<pre class='cython code score-6 '>        if (unlikely(__pyx_v_neighbour_neighbours == Py_None)) {\n",
       "          <span class='py_c_api'>PyErr_SetString</span>(PyExc_TypeError, \"object of type 'NoneType' has no len()\");\n",
       "          <span class='error_goto'>__PYX_ERR(0, 74, __pyx_L1_error)</span>\n",
       "        }\n",
       "        __pyx_t_1 = <span class='py_macro_api'>PySet_GET_SIZE</span>(__pyx_v_neighbour_neighbours);<span class='error_goto'> if (unlikely(__pyx_t_1 == ((Py_ssize_t)-1))) __PYX_ERR(0, 74, __pyx_L1_error)</span>\n",
       "        __pyx_v_k = __pyx_t_1;\n",
       "</pre><pre class=\"cython line score-11\" onclick=\"(function(s){s.display=s.display==='block'?'none':'block'})(this.nextElementSibling.style)\">+<span class=\"\">075</span>:                 <span class=\"k\">if</span> <span class=\"n\">k</span> <span class=\"o\">&lt;=</span> <span class=\"n\">cnn_cutoff</span><span class=\"p\">:</span></pre>\n",
       "<pre class='cython code score-11 '>        __pyx_t_8 = <span class='pyx_c_api'>__Pyx_PyInt_From_int</span>(__pyx_v_k);<span class='error_goto'> if (unlikely(!__pyx_t_8)) __PYX_ERR(0, 75, __pyx_L1_error)</span>\n",
       "        <span class='refnanny'>__Pyx_GOTREF</span>(__pyx_t_8);\n",
       "        __pyx_t_2 = <span class='py_c_api'>PyObject_RichCompare</span>(__pyx_t_8, __pyx_v_cnn_cutoff, Py_LE); <span class='refnanny'>__Pyx_XGOTREF</span>(__pyx_t_2);<span class='error_goto'> if (unlikely(!__pyx_t_2)) __PYX_ERR(0, 75, __pyx_L1_error)</span>\n",
       "        <span class='pyx_macro_api'>__Pyx_DECREF</span>(__pyx_t_8); __pyx_t_8 = 0;\n",
       "        __pyx_t_7 = <span class='pyx_c_api'>__Pyx_PyObject_IsTrue</span>(__pyx_t_2); if (unlikely(__pyx_t_7 &lt; 0)) <span class='error_goto'>__PYX_ERR(0, 75, __pyx_L1_error)</span>\n",
       "        <span class='pyx_macro_api'>__Pyx_DECREF</span>(__pyx_t_2); __pyx_t_2 = 0;\n",
       "        if (__pyx_t_7) {\n",
       "/* … */\n",
       "        }\n",
       "</pre><pre class=\"cython line score-0\" onclick=\"(function(s){s.display=s.display==='block'?'none':'block'})(this.nextElementSibling.style)\">+<span class=\"\">076</span>:                     <span class=\"n\">labels</span><span class=\"p\">[</span><span class=\"n\">member</span><span class=\"p\">]</span> <span class=\"o\">=</span> <span class=\"mf\">0</span></pre>\n",
       "<pre class='cython code score-0 '>          (__pyx_v_labels[__pyx_v_member]) = 0;\n",
       "</pre><pre class=\"cython line score-0\" onclick=\"(function(s){s.display=s.display==='block'?'none':'block'})(this.nextElementSibling.style)\">+<span class=\"\">077</span>:                     <span class=\"n\">consider</span><span class=\"p\">[</span><span class=\"n\">member</span><span class=\"p\">]</span> <span class=\"o\">=</span> <span class=\"mf\">0</span></pre>\n",
       "<pre class='cython code score-0 '>          (__pyx_v_consider[__pyx_v_member]) = 0;\n",
       "</pre><pre class=\"cython line score-0\" onclick=\"(function(s){s.display=s.display==='block'?'none':'block'})(this.nextElementSibling.style)\">+<span class=\"\">078</span>:                     <span class=\"k\">continue</span></pre>\n",
       "<pre class='cython code score-0 '>          goto __pyx_L13_continue;\n",
       "</pre><pre class=\"cython line score-0\">&#xA0;<span class=\"\">079</span>: </pre>\n",
       "<pre class=\"cython line score-0\">&#xA0;<span class=\"\">080</span>:                 <span class=\"c\"># conditional growth</span></pre>\n",
       "<pre class=\"cython line score-19\" onclick=\"(function(s){s.display=s.display==='block'?'none':'block'})(this.nextElementSibling.style)\">+<span class=\"\">081</span>:                 <span class=\"k\">if</span> <span class=\"p\">(</span><span class=\"nb\">len</span><span class=\"p\">(</span><span class=\"n\">neighbours</span><span class=\"o\">.</span><span class=\"n\">intersection</span><span class=\"p\">(</span><span class=\"n\">neighbourhoods</span><span class=\"p\">[</span><span class=\"n\">member</span><span class=\"p\">]))</span></pre>\n",
       "<pre class='cython code score-19 '>        if (unlikely(__pyx_v_neighbourhoods == Py_None)) {\n",
       "          <span class='py_c_api'>PyErr_SetString</span>(PyExc_TypeError, \"'NoneType' object is not subscriptable\");\n",
       "          <span class='error_goto'>__PYX_ERR(0, 81, __pyx_L1_error)</span>\n",
       "        }\n",
       "        __pyx_t_2 = <span class='pyx_c_api'>__Pyx_GetItemInt_List</span>(__pyx_v_neighbourhoods, __pyx_v_member, int, 1, __Pyx_PyInt_From_int, 1, 0, 1);<span class='error_goto'> if (unlikely(!__pyx_t_2)) __PYX_ERR(0, 81, __pyx_L1_error)</span>\n",
       "        <span class='refnanny'>__Pyx_GOTREF</span>(__pyx_t_2);\n",
       "        __pyx_t_8 = __Pyx_CallUnboundCMethod1(&amp;__pyx_umethod_PySet_Type_intersection, __pyx_v_neighbours, __pyx_t_2);<span class='error_goto'> if (unlikely(!__pyx_t_8)) __PYX_ERR(0, 81, __pyx_L1_error)</span>\n",
       "        <span class='refnanny'>__Pyx_GOTREF</span>(__pyx_t_8);\n",
       "        <span class='pyx_macro_api'>__Pyx_DECREF</span>(__pyx_t_2); __pyx_t_2 = 0;\n",
       "        __pyx_t_1 = <span class='py_c_api'>PyObject_Length</span>(__pyx_t_8);<span class='error_goto'> if (unlikely(__pyx_t_1 == ((Py_ssize_t)-1))) __PYX_ERR(0, 81, __pyx_L1_error)</span>\n",
       "        <span class='pyx_macro_api'>__Pyx_DECREF</span>(__pyx_t_8); __pyx_t_8 = 0;\n",
       "        __pyx_t_8 = <span class='py_c_api'>PyInt_FromSsize_t</span>(__pyx_t_1);<span class='error_goto'> if (unlikely(!__pyx_t_8)) __PYX_ERR(0, 81, __pyx_L1_error)</span>\n",
       "        <span class='refnanny'>__Pyx_GOTREF</span>(__pyx_t_8);\n",
       "/* … */\n",
       "        if (__pyx_t_7) {\n",
       "/* … */\n",
       "        }\n",
       "        __pyx_L13_continue:;\n",
       "      }\n",
       "</pre><pre class=\"cython line score-9\" onclick=\"(function(s){s.display=s.display==='block'?'none':'block'})(this.nextElementSibling.style)\">+<span class=\"\">082</span>:                         <span class=\"o\">&gt;=</span> <span class=\"n\">cnn_cutoff</span><span class=\"p\">):</span></pre>\n",
       "<pre class='cython code score-9 '>        __pyx_t_2 = <span class='py_c_api'>PyObject_RichCompare</span>(__pyx_t_8, __pyx_v_cnn_cutoff, Py_GE); <span class='refnanny'>__Pyx_XGOTREF</span>(__pyx_t_2);<span class='error_goto'> if (unlikely(!__pyx_t_2)) __PYX_ERR(0, 82, __pyx_L1_error)</span>\n",
       "        <span class='pyx_macro_api'>__Pyx_DECREF</span>(__pyx_t_8); __pyx_t_8 = 0;\n",
       "        __pyx_t_7 = <span class='pyx_c_api'>__Pyx_PyObject_IsTrue</span>(__pyx_t_2); if (unlikely(__pyx_t_7 &lt; 0)) <span class='error_goto'>__PYX_ERR(0, 82, __pyx_L1_error)</span>\n",
       "        <span class='pyx_macro_api'>__Pyx_DECREF</span>(__pyx_t_2); __pyx_t_2 = 0;\n",
       "</pre><pre class=\"cython line score-0\" onclick=\"(function(s){s.display=s.display==='block'?'none':'block'})(this.nextElementSibling.style)\">+<span class=\"\">083</span>:                     <span class=\"n\">labels</span><span class=\"p\">[</span><span class=\"n\">member</span><span class=\"p\">]</span> <span class=\"o\">=</span> <span class=\"n\">current</span></pre>\n",
       "<pre class='cython code score-0 '>          (__pyx_v_labels[__pyx_v_member]) = __pyx_v_current;\n",
       "</pre><pre class=\"cython line score-0\" onclick=\"(function(s){s.display=s.display==='block'?'none':'block'})(this.nextElementSibling.style)\">+<span class=\"\">084</span>:                     <span class=\"n\">consider</span><span class=\"p\">[</span><span class=\"n\">member</span><span class=\"p\">]</span> <span class=\"o\">=</span> <span class=\"mf\">0</span></pre>\n",
       "<pre class='cython code score-0 '>          (__pyx_v_consider[__pyx_v_member]) = 0;\n",
       "</pre><pre class=\"cython line score-0\" onclick=\"(function(s){s.display=s.display==='block'?'none':'block'})(this.nextElementSibling.style)\">+<span class=\"\">085</span>:                     <span class=\"n\">stack</span><span class=\"o\">.</span><span class=\"n\">push_back</span><span class=\"p\">(</span><span class=\"n\">member</span><span class=\"p\">)</span></pre>\n",
       "<pre class='cython code score-0 '>          try {\n",
       "            __pyx_v_stack.push_back(__pyx_v_member);\n",
       "          } catch(...) {\n",
       "            __Pyx_CppExn2PyErr();\n",
       "            <span class='error_goto'>__PYX_ERR(0, 85, __pyx_L1_error)</span>\n",
       "          }\n",
       "</pre><pre class=\"cython line score-0\">&#xA0;<span class=\"\">086</span>: </pre>\n",
       "<pre class=\"cython line score-0\" onclick=\"(function(s){s.display=s.display==='block'?'none':'block'})(this.nextElementSibling.style)\">+<span class=\"\">087</span>:             <span class=\"k\">if</span> <span class=\"n\">stack</span><span class=\"o\">.</span><span class=\"n\">size</span><span class=\"p\">()</span> <span class=\"o\">==</span> <span class=\"mf\">0</span><span class=\"p\">:</span></pre>\n",
       "<pre class='cython code score-0 '>      __pyx_t_7 = ((__pyx_v_stack.size() == 0) != 0);\n",
       "      if (__pyx_t_7) {\n",
       "/* … */\n",
       "      }\n",
       "</pre><pre class=\"cython line score-0\">&#xA0;<span class=\"\">088</span>:                 <span class=\"c\"># No points left to check</span></pre>\n",
       "<pre class=\"cython line score-0\" onclick=\"(function(s){s.display=s.display==='block'?'none':'block'})(this.nextElementSibling.style)\">+<span class=\"\">089</span>:                 <span class=\"k\">break</span></pre>\n",
       "<pre class='cython code score-0 '>        goto __pyx_L12_break;\n",
       "</pre><pre class=\"cython line score-0\">&#xA0;<span class=\"\">090</span>: </pre>\n",
       "<pre class=\"cython line score-0\" onclick=\"(function(s){s.display=s.display==='block'?'none':'block'})(this.nextElementSibling.style)\">+<span class=\"\">091</span>:             <span class=\"k\">while</span> <span class=\"n\">stack</span><span class=\"o\">.</span><span class=\"n\">size</span><span class=\"p\">()</span> <span class=\"o\">&gt;</span> <span class=\"mf\">0</span><span class=\"p\">:</span></pre>\n",
       "<pre class='cython code score-0 '>      while (1) {\n",
       "        __pyx_t_7 = ((__pyx_v_stack.size() &gt; 0) != 0);\n",
       "        if (!__pyx_t_7) break;\n",
       "</pre><pre class=\"cython line score-0\" onclick=\"(function(s){s.display=s.display==='block'?'none':'block'})(this.nextElementSibling.style)\">+<span class=\"\">092</span>:                 <span class=\"n\">point</span> <span class=\"o\">=</span> <span class=\"n\">stack</span><span class=\"o\">.</span><span class=\"n\">back</span><span class=\"p\">()</span>  <span class=\"c\"># Get the next point from the queue</span></pre>\n",
       "<pre class='cython code score-0 '>        __pyx_v_point = __pyx_v_stack.back();\n",
       "</pre><pre class=\"cython line score-0\" onclick=\"(function(s){s.display=s.display==='block'?'none':'block'})(this.nextElementSibling.style)\">+<span class=\"\">093</span>:                 <span class=\"n\">stack</span><span class=\"o\">.</span><span class=\"n\">pop_back</span><span class=\"p\">()</span></pre>\n",
       "<pre class='cython code score-0 '>        __pyx_v_stack.pop_back();\n",
       "</pre><pre class=\"cython line score-20\" onclick=\"(function(s){s.display=s.display==='block'?'none':'block'})(this.nextElementSibling.style)\">+<span class=\"\">094</span>:                 <span class=\"n\">neighbours</span> <span class=\"o\">=</span> <span class=\"n\">neighbourhoods</span><span class=\"p\">[</span><span class=\"n\">point</span><span class=\"p\">]</span></pre>\n",
       "<pre class='cython code score-20 '>        if (unlikely(__pyx_v_neighbourhoods == Py_None)) {\n",
       "          <span class='py_c_api'>PyErr_SetString</span>(PyExc_TypeError, \"'NoneType' object is not subscriptable\");\n",
       "          <span class='error_goto'>__PYX_ERR(0, 94, __pyx_L1_error)</span>\n",
       "        }\n",
       "        __pyx_t_2 = <span class='pyx_c_api'>__Pyx_GetItemInt_List</span>(__pyx_v_neighbourhoods, __pyx_v_point, int, 1, __Pyx_PyInt_From_int, 1, 0, 1);<span class='error_goto'> if (unlikely(!__pyx_t_2)) __PYX_ERR(0, 94, __pyx_L1_error)</span>\n",
       "        <span class='refnanny'>__Pyx_GOTREF</span>(__pyx_t_2);\n",
       "        if (!(likely(<span class='py_c_api'>PySet_CheckExact</span>(__pyx_t_2))||((__pyx_t_2) == Py_None)||(<span class='py_c_api'>PyErr_Format</span>(PyExc_TypeError, \"Expected %.16s, got %.200s\", \"set\", <span class='pyx_c_api'>__Pyx_PyType_Name</span>(Py_TYPE(__pyx_t_2))), 0))) <span class='error_goto'>__PYX_ERR(0, 94, __pyx_L1_error)</span>\n",
       "        <span class='pyx_macro_api'>__Pyx_DECREF_SET</span>(__pyx_v_neighbours, ((PyObject*)__pyx_t_2));\n",
       "        __pyx_t_2 = 0;\n",
       "</pre><pre class=\"cython line score-6\" onclick=\"(function(s){s.display=s.display==='block'?'none':'block'})(this.nextElementSibling.style)\">+<span class=\"\">095</span>:                 <span class=\"n\">m</span> <span class=\"o\">=</span> <span class=\"nb\">len</span><span class=\"p\">(</span><span class=\"n\">neighbours</span><span class=\"p\">)</span></pre>\n",
       "<pre class='cython code score-6 '>        if (unlikely(__pyx_v_neighbours == Py_None)) {\n",
       "          <span class='py_c_api'>PyErr_SetString</span>(PyExc_TypeError, \"object of type 'NoneType' has no len()\");\n",
       "          <span class='error_goto'>__PYX_ERR(0, 95, __pyx_L1_error)</span>\n",
       "        }\n",
       "        __pyx_t_1 = <span class='py_macro_api'>PySet_GET_SIZE</span>(__pyx_v_neighbours);<span class='error_goto'> if (unlikely(__pyx_t_1 == ((Py_ssize_t)-1))) __PYX_ERR(0, 95, __pyx_L1_error)</span>\n",
       "        __pyx_v_m = __pyx_t_1;\n",
       "</pre><pre class=\"cython line score-11\" onclick=\"(function(s){s.display=s.display==='block'?'none':'block'})(this.nextElementSibling.style)\">+<span class=\"\">096</span>:                 <span class=\"k\">if</span> <span class=\"n\">m</span> <span class=\"o\">&lt;=</span> <span class=\"n\">cnn_cutoff</span><span class=\"p\">:</span></pre>\n",
       "<pre class='cython code score-11 '>        __pyx_t_2 = <span class='pyx_c_api'>__Pyx_PyInt_From_int</span>(__pyx_v_m);<span class='error_goto'> if (unlikely(!__pyx_t_2)) __PYX_ERR(0, 96, __pyx_L1_error)</span>\n",
       "        <span class='refnanny'>__Pyx_GOTREF</span>(__pyx_t_2);\n",
       "        __pyx_t_8 = <span class='py_c_api'>PyObject_RichCompare</span>(__pyx_t_2, __pyx_v_cnn_cutoff, Py_LE); <span class='refnanny'>__Pyx_XGOTREF</span>(__pyx_t_8);<span class='error_goto'> if (unlikely(!__pyx_t_8)) __PYX_ERR(0, 96, __pyx_L1_error)</span>\n",
       "        <span class='pyx_macro_api'>__Pyx_DECREF</span>(__pyx_t_2); __pyx_t_2 = 0;\n",
       "        __pyx_t_7 = <span class='pyx_c_api'>__Pyx_PyObject_IsTrue</span>(__pyx_t_8); if (unlikely(__pyx_t_7 &lt; 0)) <span class='error_goto'>__PYX_ERR(0, 96, __pyx_L1_error)</span>\n",
       "        <span class='pyx_macro_api'>__Pyx_DECREF</span>(__pyx_t_8); __pyx_t_8 = 0;\n",
       "        if (__pyx_t_7) {\n",
       "/* … */\n",
       "        }\n",
       "</pre><pre class=\"cython line score-0\">&#xA0;<span class=\"\">097</span>:                     <span class=\"c\"># Point can not fulfill cnn condition</span></pre>\n",
       "<pre class=\"cython line score-0\" onclick=\"(function(s){s.display=s.display==='block'?'none':'block'})(this.nextElementSibling.style)\">+<span class=\"\">098</span>:                     <span class=\"n\">labels</span><span class=\"p\">[</span><span class=\"n\">init_point</span><span class=\"p\">]</span> <span class=\"o\">=</span> <span class=\"mf\">0</span>             <span class=\"c\"># Assign cluster label</span></pre>\n",
       "<pre class='cython code score-0 '>          (__pyx_v_labels[__pyx_v_init_point]) = 0;\n",
       "</pre><pre class=\"cython line score-0\" onclick=\"(function(s){s.display=s.display==='block'?'none':'block'})(this.nextElementSibling.style)\">+<span class=\"\">099</span>:                     <span class=\"n\">consider</span><span class=\"p\">[</span><span class=\"n\">init_point</span><span class=\"p\">]</span> <span class=\"o\">=</span> <span class=\"mf\">0</span>           <span class=\"c\"># Mark point as included</span></pre>\n",
       "<pre class='cython code score-0 '>          (__pyx_v_consider[__pyx_v_init_point]) = 0;\n",
       "</pre><pre class=\"cython line score-0\" onclick=\"(function(s){s.display=s.display==='block'?'none':'block'})(this.nextElementSibling.style)\">+<span class=\"\">100</span>:                     <span class=\"k\">continue</span></pre>\n",
       "<pre class='cython code score-0 '>          goto __pyx_L19_continue;\n",
       "</pre><pre class=\"cython line score-0\" onclick=\"(function(s){s.display=s.display==='block'?'none':'block'})(this.nextElementSibling.style)\">+<span class=\"\">101</span>:                 <span class=\"k\">break</span></pre>\n",
       "<pre class='cython code score-0 '>        goto __pyx_L20_break;\n",
       "        __pyx_L19_continue:;\n",
       "      }\n",
       "      __pyx_L20_break:;\n",
       "    }\n",
       "    __pyx_L12_break:;\n",
       "</pre><pre class=\"cython line score-0\">&#xA0;<span class=\"\">102</span>: </pre>\n",
       "<pre class=\"cython line score-0\" onclick=\"(function(s){s.display=s.display==='block'?'none':'block'})(this.nextElementSibling.style)\">+<span class=\"\">103</span>:         <span class=\"n\">current</span> <span class=\"o\">+=</span> <span class=\"mf\">1</span></pre>\n",
       "<pre class='cython code score-0 '>    __pyx_v_current = (__pyx_v_current + 1);\n",
       "    __pyx_L7_continue:;\n",
       "  }\n",
       "</pre><pre class=\"cython line score-0\">&#xA0;<span class=\"\">104</span>: </pre>\n",
       "<pre class=\"cython line score-3\" onclick=\"(function(s){s.display=s.display==='block'?'none':'block'})(this.nextElementSibling.style)\">+<span class=\"\">105</span>:     <span class=\"k\">return</span> <span class=\"n\">labels</span></pre>\n",
       "<pre class='cython code score-3 '>  <span class='pyx_macro_api'>__Pyx_XDECREF</span>(__pyx_r);\n",
       "  __pyx_t_8 = <span class='pyx_c_api'>__pyx_convert_vector_to_py_int</span>(__pyx_v_labels);<span class='error_goto'> if (unlikely(!__pyx_t_8)) __PYX_ERR(0, 105, __pyx_L1_error)</span>\n",
       "  <span class='refnanny'>__Pyx_GOTREF</span>(__pyx_t_8);\n",
       "  __pyx_r = __pyx_t_8;\n",
       "  __pyx_t_8 = 0;\n",
       "  goto __pyx_L0;\n",
       "</pre></div></body></html>"
      ],
      "text/plain": [
       "<IPython.core.display.HTML object>"
      ]
     },
     "execution_count": 26,
     "metadata": {},
     "output_type": "execute_result"
    }
   ],
   "source": [
    "%%cython --annotate\n",
    "\n",
    "# distutils: language = c++\n",
    "# cython: boundcheck = False\n",
    "# cython: wraparound = False\n",
    "\n",
    "cimport cython\n",
    "from libcpp.vector cimport vector\n",
    "\n",
    "def fit_from_neighbours(\n",
    "        cnn_cutoff: int,\n",
    "        neighbourhoods: list):\n",
    "    \"\"\"Worker function variant applying the CNN algorithm.\n",
    "\n",
    "    Assigns labels to points starting from pre-computed neighbourhoods.\n",
    "    Uses Python standard library only.\n",
    "\n",
    "    Args:\n",
    "        cnn_cutoff: Points need to share at least this many neighbours\n",
    "            to be assigned to the same cluster (similarity criterion).\n",
    "        neighbourhoods: List of length #points containing sets of\n",
    "            neighbouring point indices\n",
    "\n",
    "    Returns:\n",
    "        Labels\n",
    "    \"\"\"\n",
    "\n",
    "    cdef int n, m, k\n",
    "    cdef vector[int] labels\n",
    "    cdef vector[int] consider\n",
    "    cdef vector[int] stack\n",
    "    cdef int current\n",
    "    cdef set neighbours, neighbour_neighbours\n",
    "    cdef int init_point, point, member_i, member\n",
    "\n",
    "   # Number of points\n",
    "    n = len(neighbourhoods)\n",
    "\n",
    "    # Initialise labels\n",
    "    labels = [0 for _ in range(n)]\n",
    "\n",
    "    # Track assigment\n",
    "    consider = [1 for _ in range(n)]\n",
    "\n",
    "    # Start with first cluster (0 = noise)\n",
    "    current = 1\n",
    "\n",
    "    for init_point in range(n):\n",
    "        # Loop over points\n",
    "        if consider[init_point] == 0:\n",
    "            # Point already assigned\n",
    "            continue\n",
    "\n",
    "        neighbours = neighbourhoods[init_point]\n",
    "        m = len(neighbours)\n",
    "        if m <= cnn_cutoff:\n",
    "            # Point can not fulfill cnn condition\n",
    "            labels[init_point] = 0             # Assign cluster label\n",
    "            consider[init_point] = 0           # Mark point as included\n",
    "            continue\n",
    "\n",
    "        labels[init_point] = current          # Assign cluster label\n",
    "        consider[init_point] = 0              # Mark point as included\n",
    "\n",
    "        point = init_point\n",
    "        while True:\n",
    "            # Loop over neighbouring points\n",
    "            for member_i in range(m):\n",
    "                member = neighbours[member_i]\n",
    "                if consider[member] == 0:\n",
    "                    # Point already assigned\n",
    "                    continue\n",
    "\n",
    "                neighbour_neighbours = neighbourhoods[member]\n",
    "                k = len(neighbour_neighbours)\n",
    "                if k <= cnn_cutoff:\n",
    "                    labels[member] = 0\n",
    "                    consider[member] = 0\n",
    "                    continue\n",
    "\n",
    "                # conditional growth\n",
    "                if (len(neighbours.intersection(neighbourhoods[member]))\n",
    "                        >= cnn_cutoff):\n",
    "                    labels[member] = current\n",
    "                    consider[member] = 0\n",
    "                    stack.push_back(member)\n",
    "\n",
    "            if stack.size() == 0:\n",
    "                # No points left to check\n",
    "                break\n",
    "\n",
    "            while stack.size() > 0:\n",
    "                point = stack.back()  # Get the next point from the queue\n",
    "                stack.pop_back()\n",
    "                neighbours = neighbourhoods[point]\n",
    "                m = len(neighbours)\n",
    "                if m <= cnn_cutoff:\n",
    "                    # Point can not fulfill cnn condition\n",
    "                    labels[init_point] = 0             # Assign cluster label\n",
    "                    consider[init_point] = 0           # Mark point as included\n",
    "                    continue\n",
    "                break\n",
    "\n",
    "        current += 1\n",
    "\n",
    "    return labels"
   ]
  }
 ],
 "metadata": {
  "celltoolbar": "Initialization Cell",
  "kernelspec": {
   "display_name": "Python 3",
   "language": "python",
   "name": "python3"
  },
  "language_info": {
   "codemirror_mode": {
    "name": "ipython",
    "version": 3
   },
   "file_extension": ".py",
   "mimetype": "text/x-python",
   "name": "python",
   "nbconvert_exporter": "python",
   "pygments_lexer": "ipython3",
   "version": "3.8.1"
  },
  "toc": {
   "base_numbering": 1,
   "nav_menu": {},
   "number_sections": true,
   "sideBar": true,
   "skip_h1_title": true,
   "title_cell": "Table of Contents",
   "title_sidebar": "Contents",
   "toc_cell": true,
   "toc_position": {
    "height": "calc(100% - 180px)",
    "left": "10px",
    "top": "150px",
    "width": "164.988px"
   },
   "toc_section_display": true,
   "toc_window_display": true
  }
 },
 "nbformat": 4,
 "nbformat_minor": 4
}
