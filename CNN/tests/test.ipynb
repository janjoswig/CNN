{
 "cells": [
  {
   "cell_type": "markdown",
   "metadata": {},
   "source": [
    "# Test for the cnn module"
   ]
  },
  {
   "cell_type": "markdown",
   "metadata": {},
   "source": [
    "Source: https://scikit-learn.org/stable/auto_examples/cluster/plot_cluster_comparison.html\n",
    "\n",
    "The test consists of six model data sets."
   ]
  },
  {
   "cell_type": "markdown",
   "metadata": {},
   "source": [
    "First import the module."
   ]
  },
  {
   "cell_type": "code",
   "execution_count": 1,
   "metadata": {
    "ExecuteTime": {
     "end_time": "2018-11-15T16:33:37.564702Z",
     "start_time": "2018-11-15T16:33:30.493137Z"
    }
   },
   "outputs": [],
   "source": [
    "import cnn"
   ]
  },
  {
   "cell_type": "markdown",
   "metadata": {},
   "source": [
    "Other import:"
   ]
  },
  {
   "cell_type": "code",
   "execution_count": 2,
   "metadata": {
    "ExecuteTime": {
     "end_time": "2018-11-15T16:33:40.371365Z",
     "start_time": "2018-11-15T16:33:37.567753Z"
    }
   },
   "outputs": [],
   "source": [
    "import warnings\n",
    "import numpy as np\n",
    "import matplotlib.pyplot as plt\n",
    "from sklearn import datasets\n",
    "from sklearn.preprocessing import StandardScaler\n",
    "from itertools import cycle, islice"
   ]
  },
  {
   "cell_type": "markdown",
   "metadata": {},
   "source": [
    "Set how many data points should be generated and a random seed."
   ]
  },
  {
   "cell_type": "code",
   "execution_count": 3,
   "metadata": {
    "ExecuteTime": {
     "end_time": "2018-11-15T16:33:40.382988Z",
     "start_time": "2018-11-15T16:33:40.374812Z"
    }
   },
   "outputs": [],
   "source": [
    "np.random.seed(0)\n",
    "n_samples = 2000"
   ]
  },
  {
   "cell_type": "markdown",
   "metadata": {},
   "source": [
    "Then we can generate the test sets."
   ]
  },
  {
   "cell_type": "code",
   "execution_count": 4,
   "metadata": {
    "ExecuteTime": {
     "end_time": "2018-11-15T16:33:40.407372Z",
     "start_time": "2018-11-15T16:33:40.385902Z"
    }
   },
   "outputs": [],
   "source": [
    "noisy_circles, _ = datasets.make_circles(n_samples=n_samples,\n",
    "                                         factor=.5,\n",
    "                                         noise=.05)\n",
    "\n",
    "noisy_moons, _ = datasets.make_moons(n_samples=n_samples,\n",
    "                                     noise=.05)\n",
    "\n",
    "blobs, _ = datasets.make_blobs(n_samples=n_samples,\n",
    "                            random_state=8)\n",
    "\n",
    "no_structure = np.random.rand(n_samples, 2)\n",
    "\n",
    "random_state = 170\n",
    "X, y = datasets.make_blobs(n_samples=n_samples,\n",
    "                           random_state=random_state)\n",
    "transformation = [[0.6, -0.6], [-0.4, 0.8]]\n",
    "X_aniso = np.dot(X, transformation)\n",
    "aniso = X_aniso\n",
    "\n",
    "varied, _ = datasets.make_blobs(n_samples=n_samples,\n",
    "                             cluster_std=[1.0, 2.5, 0.5],\n",
    "                             random_state=random_state)"
   ]
  },
  {
   "cell_type": "markdown",
   "metadata": {},
   "source": [
    "Set the cluster parameters:"
   ]
  },
  {
   "cell_type": "code",
   "execution_count": 5,
   "metadata": {
    "ExecuteTime": {
     "end_time": "2018-11-15T16:33:40.459225Z",
     "start_time": "2018-11-15T16:33:40.411260Z"
    }
   },
   "outputs": [],
   "source": [
    "testsets = [\n",
    "    ('circles', noisy_circles, {'radius_cutoff': 0.5, 'cnn_cutoff': 20,\n",
    "                     'member_cutoff': 100, 'max_clusters': None}),\n",
    "    ('moons', noisy_moons, {'radius_cutoff': 0.5, 'cnn_cutoff': 20,\n",
    "                     'member_cutoff': 1, 'max_clusters': None}),\n",
    "    ('varied', varied, {'radius_cutoff': 0.28, 'cnn_cutoff': 20,\n",
    "                     'member_cutoff': 5, 'max_clusters': None}),\n",
    "    ('aniso', aniso, {'radius_cutoff': 0.29, 'cnn_cutoff': 30,\n",
    "                     'member_cutoff': 5, 'max_clusters': None}),\n",
    "    ('blobs', blobs, {'radius_cutoff': 0.4, 'cnn_cutoff': 20,\n",
    "                     'member_cutoff': 1, 'max_clusters': None}),\n",
    "    ('None', no_structure, {'radius_cutoff': 0.5, 'cnn_cutoff': 20,\n",
    "                     'member_cutoff': 1, 'max_clusters': None}),\n",
    "    ]"
   ]
  },
  {
   "cell_type": "markdown",
   "metadata": {},
   "source": [
    "And take a look at the sets:"
   ]
  },
  {
   "cell_type": "code",
   "execution_count": 6,
   "metadata": {
    "ExecuteTime": {
     "end_time": "2018-11-15T16:33:40.819153Z",
     "start_time": "2018-11-15T16:33:40.462347Z"
    }
   },
   "outputs": [
    {
     "data": {
      "image/png": "[encoded data removed]",
      "text/plain": [
       "<Figure size 432x288 with 6 Axes>"
      ]
     },
     "metadata": {},
     "output_type": "display_data"
    }
   ],
   "source": [
    "fig, ax = plt.subplots(2, 3)\n",
    "Ax = ax.flatten()\n",
    "\n",
    "for count, (testset_name, testset, *_) in enumerate(testsets):\n",
    "    testset = StandardScaler().fit_transform(testset)\n",
    "    axes = Ax[count]\n",
    "    axes.plot(testset[:, 0], testset[:, 1], '.')\n",
    "    axes.set_xticks(())\n",
    "    axes.set_yticks(())\n",
    "    axes.set_xlim(-2.5, 2.5)\n",
    "    axes.set_ylim(-2.5, 2.5)\n",
    "    axes.set_title(f'{testset_name}')"
   ]
  },
  {
   "cell_type": "markdown",
   "metadata": {},
   "source": [
    "Next we specify the cluster parameters used for each set."
   ]
  },
  {
   "cell_type": "code",
   "execution_count": 7,
   "metadata": {
    "ExecuteTime": {
     "end_time": "2018-11-15T16:33:44.720059Z",
     "start_time": "2018-11-15T16:33:40.821152Z"
    }
   },
   "outputs": [
    {
     "name": "stdout",
     "output_type": "stream",
     "text": [
      "2000\n",
      "Execution time for call of dist(): 0 hours, 0 minutes, 0.0356 seconds\n",
      "Execution time for call of cluster(): 0 hours, 0 minutes, 0.3396 seconds\n",
      "recording: ... \n",
      "points               2000\n",
      "radius_cutoff         0.5\n",
      "cnn_cutoff             20\n",
      "member_cutoff         100\n",
      "max_clusters         None\n",
      "n_cluster               2\n",
      "largest               0.5\n",
      "noise                   0\n",
      "time             0.339643\n",
      "dtype: object\n",
      "2000\n",
      "Execution time for call of dist(): 0 hours, 0 minutes, 0.0356 seconds\n",
      "Execution time for call of cluster(): 0 hours, 0 minutes, 0.4401 seconds\n",
      "recording: ... \n",
      "points               2000\n",
      "radius_cutoff         0.5\n",
      "cnn_cutoff             20\n",
      "member_cutoff           1\n",
      "max_clusters         None\n",
      "n_cluster               2\n",
      "largest               0.5\n",
      "noise                   0\n",
      "time             0.440094\n",
      "dtype: object\n",
      "2000\n",
      "Execution time for call of dist(): 0 hours, 0 minutes, 0.0264 seconds\n",
      "Execution time for call of cluster(): 0 hours, 0 minutes, 0.4008 seconds\n",
      "recording: ... \n",
      "points              2000\n",
      "radius_cutoff       0.28\n",
      "cnn_cutoff            20\n",
      "member_cutoff          5\n",
      "max_clusters        None\n",
      "n_cluster              3\n",
      "largest            0.338\n",
      "noise             0.0875\n",
      "time             0.40076\n",
      "dtype: object\n",
      "2000\n",
      "Execution time for call of dist(): 0 hours, 0 minutes, 0.0267 seconds\n",
      "Execution time for call of cluster(): 0 hours, 0 minutes, 0.4361 seconds\n",
      "recording: ... \n",
      "points               2000\n",
      "radius_cutoff        0.29\n",
      "cnn_cutoff             30\n",
      "member_cutoff           5\n",
      "max_clusters         None\n",
      "n_cluster               3\n",
      "largest             0.321\n",
      "noise              0.0435\n",
      "time             0.436106\n",
      "dtype: object\n",
      "2000\n",
      "Execution time for call of dist(): 0 hours, 0 minutes, 0.0265 seconds\n",
      "Execution time for call of cluster(): 0 hours, 0 minutes, 0.7148 seconds\n",
      "recording: ... \n",
      "points              2000\n",
      "radius_cutoff        0.4\n",
      "cnn_cutoff            20\n",
      "member_cutoff          1\n",
      "max_clusters        None\n",
      "n_cluster              3\n",
      "largest           0.3335\n",
      "noise                  0\n",
      "time             0.71479\n",
      "dtype: object\n",
      "2000\n",
      "Execution time for call of dist(): 0 hours, 0 minutes, 0.0268 seconds\n",
      "Execution time for call of cluster(): 0 hours, 0 minutes, 0.2885 seconds\n",
      "recording: ... \n",
      "points               2000\n",
      "radius_cutoff         0.5\n",
      "cnn_cutoff             20\n",
      "member_cutoff           1\n",
      "max_clusters         None\n",
      "n_cluster               1\n",
      "largest                 1\n",
      "noise                   0\n",
      "time             0.288518\n",
      "dtype: object\n"
     ]
    },
    {
     "data": {
      "image/png": "[encoded data removed]",
      "text/plain": [
       "<Figure size 432x288 with 6 Axes>"
      ]
     },
     "metadata": {},
     "output_type": "display_data"
    }
   ],
   "source": [
    "fig, ax = plt.subplots(2, 3)\n",
    "Ax = ax.flatten()\n",
    "\n",
    "for count, (testset_name, testset, params) in enumerate(testsets):\n",
    "    testset = StandardScaler().fit_transform(testset)\n",
    "    \n",
    "    cobj = cnn.CNN(data=testset)\n",
    "    cobj.dist()\n",
    "    #cobj.dist_hist()\n",
    "    cobj.cluster(radius_cutoff=params['radius_cutoff'],\n",
    "                 cnn_cutoff=params['cnn_cutoff'],\n",
    "                 member_cutoff=params['member_cutoff'],\n",
    "                 max_clusters=params['max_clusters'])\n",
    "\n",
    "    colors = np.array(list(islice(cycle(['#000000', '#396ab1', '#da7c30',\n",
    "                                         '#3e9651', '#cc2529', '#535154',\n",
    "                                         '#6b4c9a', '#922428', '#948b3d']),\n",
    "                                  int(max(cobj.labels) + 1))))\n",
    "\n",
    "    axes = Ax[count]\n",
    "    axes.scatter(testset[:, 0], testset[:, 1], s=10, color=colors[cobj.labels])\n",
    "    axes.set_xticks(())\n",
    "    axes.set_yticks(())\n",
    "    axes.set_xlim(-2.5, 2.5)\n",
    "    axes.set_ylim(-2.5, 2.5)\n",
    "    axes.set_title(f'{testset_name}')\n",
    "    \n",
    "plt.show()\n",
    "plt.close()"
   ]
  },
  {
   "cell_type": "code",
   "execution_count": null,
   "metadata": {},
   "outputs": [],
   "source": []
  },
  {
   "cell_type": "code",
   "execution_count": null,
   "metadata": {},
   "outputs": [],
   "source": []
  },
  {
   "cell_type": "code",
   "execution_count": null,
   "metadata": {},
   "outputs": [],
   "source": []
  }
 ],
 "metadata": {
  "kernelspec": {
   "display_name": "Python 3",
   "language": "python",
   "name": "python3"
  },
  "language_info": {
   "codemirror_mode": {
    "name": "ipython",
    "version": 3
   },
   "file_extension": ".py",
   "mimetype": "text/x-python",
   "name": "python",
   "nbconvert_exporter": "python",
   "pygments_lexer": "ipython3",
   "version": "3.6.6"
  },
  "varInspector": {
   "cols": {
    "lenName": 16,
    "lenType": 16,
    "lenVar": 40
   },
   "kernels_config": {
    "python": {
     "delete_cmd_postfix": "",
     "delete_cmd_prefix": "del ",
     "library": "var_list.py",
     "varRefreshCmd": "print(var_dic_list())"
    },
    "r": {
     "delete_cmd_postfix": ") ",
     "delete_cmd_prefix": "rm(",
     "library": "var_list.r",
     "varRefreshCmd": "cat(var_dic_list()) "
    }
   },
   "types_to_exclude": [
    "module",
    "function",
    "builtin_function_or_method",
    "instance",
    "_Feature"
   ],
   "window_display": false
  }
 },
 "nbformat": 4,
 "nbformat_minor": 2
}
