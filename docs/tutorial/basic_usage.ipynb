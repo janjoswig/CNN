{
 "cells": [
  {
   "cell_type": "markdown",
   "metadata": {},
   "source": [
    "# Basic usage of the cnn module"
   ]
  },
  {
   "cell_type": "markdown",
   "metadata": {
    "toc": true
   },
   "source": [
    "<h1>Contents<span class=\"tocSkip\"></span></h1>\n",
    "<div class=\"toc\"><ul class=\"toc-item\"><li><span><a href=\"#Pre-requirements\" data-toc-modified-id=\"Pre-requirements-1\"><span class=\"toc-item-num\">1&nbsp;&nbsp;</span>Pre-requirements</a></span><ul class=\"toc-item\"><li><span><a href=\"#Import-dependencies\" data-toc-modified-id=\"Import-dependencies-1.1\"><span class=\"toc-item-num\">1.1&nbsp;&nbsp;</span>Import dependencies</a></span></li><li><span><a href=\"#Notebook-configuration\" data-toc-modified-id=\"Notebook-configuration-1.2\"><span class=\"toc-item-num\">1.2&nbsp;&nbsp;</span>Notebook configuration</a></span></li><li><span><a href=\"#Package-configuration\" data-toc-modified-id=\"Package-configuration-1.3\"><span class=\"toc-item-num\">1.3&nbsp;&nbsp;</span>Package configuration</a></span></li></ul></li><li><span><a href=\"#Getting-started\" data-toc-modified-id=\"Getting-started-2\"><span class=\"toc-item-num\">2&nbsp;&nbsp;</span>Getting started</a></span><ul class=\"toc-item\"><li><span><a href=\"#Class-API\" data-toc-modified-id=\"Class-API-2.1\"><span class=\"toc-item-num\">2.1&nbsp;&nbsp;</span>Class API</a></span></li><li><span><a href=\"#Functional-API\" data-toc-modified-id=\"Functional-API-2.2\"><span class=\"toc-item-num\">2.2&nbsp;&nbsp;</span>Functional API</a></span></li></ul></li></ul></div>"
   ]
  },
  {
   "cell_type": "markdown",
   "metadata": {},
   "source": [
    "## Pre-requirements"
   ]
  },
  {
   "cell_type": "markdown",
   "metadata": {},
   "source": [
    "### Import dependencies"
   ]
  },
  {
   "cell_type": "code",
   "execution_count": 1,
   "metadata": {
    "ExecuteTime": {
     "end_time": "2020-06-09T15:18:40.626545Z",
     "start_time": "2020-06-09T15:18:40.055715Z"
    }
   },
   "outputs": [],
   "source": [
    "import sys\n",
    "\n",
    "import matplotlib as mpl\n",
    "import matplotlib.pyplot as plt\n",
    "import pandas as pd  # Optional dependency\n",
    "\n",
    "import cnnclustering.cnn as cnn  # CNN clustering"
   ]
  },
  {
   "cell_type": "markdown",
   "metadata": {},
   "source": [
    "This notebook was created using Python 3.8."
   ]
  },
  {
   "cell_type": "code",
   "execution_count": 2,
   "metadata": {
    "ExecuteTime": {
     "end_time": "2020-06-09T15:18:40.632947Z",
     "start_time": "2020-06-09T15:18:40.628755Z"
    }
   },
   "outputs": [
    {
     "name": "stdout",
     "output_type": "stream",
     "text": [
      "3.8.3 (default, May 15 2020, 15:24:35) \n",
      "[GCC 8.3.0]\n"
     ]
    }
   ],
   "source": [
    "# Version information\n",
    "print(sys.version)"
   ]
  },
  {
   "cell_type": "markdown",
   "metadata": {},
   "source": [
    "### Notebook configuration"
   ]
  },
  {
   "cell_type": "markdown",
   "metadata": {},
   "source": [
    "We use `matplotlib` to create plots. A `\"matplotlibrc\"` file (as provided as `\"${CNNCLUSTERING_DIR}/docs/tutorial/matplotlibrc\"`) can be used to customise the appearance of the plots."
   ]
  },
  {
   "cell_type": "code",
   "execution_count": 3,
   "metadata": {
    "ExecuteTime": {
     "end_time": "2020-06-09T15:18:40.655437Z",
     "start_time": "2020-06-09T15:18:40.636753Z"
    }
   },
   "outputs": [],
   "source": [
    "# Matplotlib configuration\n",
    "mpl.rc_file(\n",
    "    \"matplotlibrc\",\n",
    "    use_default_template=False\n",
    ")"
   ]
  },
  {
   "cell_type": "code",
   "execution_count": 4,
   "metadata": {
    "ExecuteTime": {
     "end_time": "2020-06-09T15:18:40.671475Z",
     "start_time": "2020-06-09T15:18:40.660165Z"
    }
   },
   "outputs": [],
   "source": [
    "# Axis property defaults for the plots\n",
    "ax_props = {\n",
    "    \"aspect\": \"equal\"\n",
    "}\n",
    "\n",
    "dot_props = {\n",
    "    \"marker\": \"o\",\n",
    "    \"markeredgecolor\": \"k\"\n",
    "}"
   ]
  },
  {
   "cell_type": "markdown",
   "metadata": {},
   "source": [
    "Optionally, we can interface with Pandas."
   ]
  },
  {
   "cell_type": "code",
   "execution_count": 5,
   "metadata": {
    "ExecuteTime": {
     "end_time": "2020-06-09T15:18:40.694456Z",
     "start_time": "2020-06-09T15:18:40.673598Z"
    }
   },
   "outputs": [],
   "source": [
    "# Pandas DataFrame print options\n",
    "pd.set_option('display.max_rows', 1000)"
   ]
  },
  {
   "cell_type": "markdown",
   "metadata": {},
   "source": [
    "### Package configuration"
   ]
  },
  {
   "cell_type": "markdown",
   "metadata": {},
   "source": [
    "The `cnnclustering` Python package offers basic options to be configured by the user. On import, a configuration file (`\".cnnclusteringrc\"`), located either in the current working directory or the users home, is loaded. If no such file is provided, the package uses a set of reasonable defaults. An example configuration file can be found under `${CNNCLUSTERING_DIR}/`."
   ]
  },
  {
   "cell_type": "code",
   "execution_count": 6,
   "metadata": {
    "ExecuteTime": {
     "end_time": "2020-06-09T15:18:40.710758Z",
     "start_time": "2020-06-09T15:18:40.701857Z"
    }
   },
   "outputs": [],
   "source": [
    "# Configuration file found?\n",
    "cnn.settings.cfgfile  # If None, no file is provided"
   ]
  },
  {
   "cell_type": "code",
   "execution_count": 7,
   "metadata": {
    "ExecuteTime": {
     "end_time": "2020-06-09T15:18:40.734700Z",
     "start_time": "2020-06-09T15:18:40.713008Z"
    },
    "run_control": {
     "marked": true
    },
    "scrolled": true
   },
   "outputs": [
    {
     "data": {
      "text/plain": [
       "{'default_cnn_cutoff': '1',\n",
       " 'default_cnn_offset': '0',\n",
       " 'default_radius_cutoff': '1',\n",
       " 'default_member_cutoff': '2',\n",
       " 'default_fit_policy': 'conservative',\n",
       " 'float_precision': 'sp',\n",
       " 'int_precision': 'sp'}"
      ]
     },
     "execution_count": 7,
     "metadata": {},
     "output_type": "execute_result"
    }
   ],
   "source": [
    "# Display default settings\n",
    "cnn.settings.defaults"
   ]
  },
  {
   "cell_type": "markdown",
   "metadata": {},
   "source": [
    "## Getting started"
   ]
  },
  {
   "cell_type": "markdown",
   "metadata": {},
   "source": [
    "### Class API"
   ]
  },
  {
   "cell_type": "markdown",
   "metadata": {},
   "source": [
    "The `cnnclustering.cnn` module provides a user API through the `CNN` clustering class. An instance of this class can be used to bundle input data (e.g. data points) with cluster results (labels, summary) alongside the clustering methods and convenience functions for further analysis (not only in an Molecular Dynamics context). As a guiding principle, a `CNN` cluster object is always associated with one particular data set and allows varying cluster parameters."
   ]
  },
  {
   "cell_type": "markdown",
   "metadata": {},
   "source": [
    "<div class=\"alert alert-info\">\n",
    "\n",
    "**Info:** See also this __scikit-learn__ [fork](https://github.com/janjoswig/scikit-learn) for an alternative API following a parameter centered approach as `sklearn.cluster.cnn`.\n",
    "\n",
    "</div>"
   ]
  },
  {
   "cell_type": "markdown",
   "metadata": {},
   "source": [
    "A clustering using the class API from the `cnnclustering.cnn` module starts with the initialisation of a clustering object:"
   ]
  },
  {
   "cell_type": "code",
   "execution_count": 8,
   "metadata": {
    "ExecuteTime": {
     "end_time": "2020-06-09T15:18:40.749924Z",
     "start_time": "2020-06-09T15:18:40.737506Z"
    }
   },
   "outputs": [
    {
     "name": "stdout",
     "output_type": "stream",
     "text": [
      "================================================================================\n",
      "CNN cluster object\n",
      "--------------------------------------------------------------------------------\n",
      "Alias :                         root\n",
      "Hierachy level :                0\n",
      "\n",
      "Data point shape :              Parts      - None\n",
      "                                Points     - 1\n",
      "                                Dimensions - 0\n",
      "\n",
      "Distance matrix calculated :    1\n",
      "Neighbourhoods calculated :     None\n",
      "Density graph calculated :      None\n",
      "\n",
      "Clustered :                     False\n",
      "Children :                      False\n",
      "================================================================================\n",
      "\n"
     ]
    }
   ],
   "source": [
    "cnnobj = cnn.CNN()  # Create an empty cluster object\n",
    "print(cnnobj)       # Print a cluster object overview"
   ]
  },
  {
   "cell_type": "markdown",
   "metadata": {},
   "source": [
    "At any time it can be useful to get an overview over the current state of a clustering, i.e. which data is associated with a cluster object. From top to bottom the information printed above reads:\n",
    "\n",
    " - `Alias`: An optional string description of the object. This can be useful if many objects are handled at the same time.\n",
    " \n",
    " - `Hierarchy level`: We created this object from scratch, so it will be on the highest possible hierarchy level (0). Dealing with cluster object hierarchies will be described in another tutorial.\n",
    " \n",
    " - `Data point shape`: Data can be associated to the object in the form of data points ($n$ points in $d$ arbitrary dimensions). Data points constitute a primary input format.\n",
    "   - `Parts`: Data point can be organised in independent parts. We will see when this is useful in another tutorial.\n",
    "   - `Points`: Number of points in the data set.\n",
    "   - `Dimensions`: Number of dimension of the data set.\n",
    "   \n",
    " - `Distance matrix calculated`: Data can also (additionally or exclusively) be associated to the object in form of pairwise distances ($n^2$ distances for $n$ data points). Pairwise distances constitute a primary input format. The number of parts underlying the data set is displayed under `Data point shape` even if no points have been loaded explicitly into the object.\n",
    " \n",
    " - `Neighbourhoods calculated`: The CNN clustering relies on point neighbourhood information that has to be calculated with respect to a search radius $r$. Neighbourhoods constitute a secondary input format as they need to be recomputed (from points or distances) for varying values of $r$.\n",
    " \n",
    " - `Density graph calculated`: Similar to neighbourhoods data can be associated to the object in form of a density connectivity graph with respect to neighbour search radius $r$ and a similarity cutoff $c$. Density graphs constitute a secondary input format as they need to be recomputed (from points, distances or neighbourhoods) for varying values of $r$ and $c$.\n",
    " \n",
    " - `Clustered`: Indicates if the data has been cluster, i.e. if label assignments are present.\n",
    " \n",
    " - `Children`: Indicates if cluster objects lower in the cluster hierarchy are linked to the object. Dealing with cluster object hierarchies will be described in another tutorial."
   ]
  },
  {
   "cell_type": "markdown",
   "metadata": {},
   "source": [
    "Data can be passed to the clustering object on initialisation as such (see the tutorial on __Data input formats__ an overview on how to pass data of differing nature):"
   ]
  },
  {
   "cell_type": "code",
   "execution_count": 9,
   "metadata": {
    "ExecuteTime": {
     "end_time": "2020-06-09T15:18:40.771867Z",
     "start_time": "2020-06-09T15:18:40.752558Z"
    }
   },
   "outputs": [
    {
     "name": "stdout",
     "output_type": "stream",
     "text": [
      "================================================================================\n",
      "CNN cluster object\n",
      "--------------------------------------------------------------------------------\n",
      "Alias :                         root\n",
      "Hierachy level :                0\n",
      "\n",
      "Data point shape :              Parts      - 1\n",
      "                                Points     - 12\n",
      "                                Dimensions - 2\n",
      "\n",
      "Distance matrix calculated :    1\n",
      "Neighbourhoods calculated :     None\n",
      "Density graph calculated :      None\n",
      "\n",
      "Clustered :                     False\n",
      "Children :                      False\n",
      "================================================================================\n",
      "\n"
     ]
    }
   ],
   "source": [
    "# 2D data points (list of lists, 12 points in 2 dimensions)\n",
    "data_points = [   # point index\n",
    "    [0, 0],       # 0\n",
    "    [1, 1],       # 1\n",
    "    [1, 0],       # 2\n",
    "    [0, -1],      # 3\n",
    "    [0.5, -0.5],  # 4\n",
    "    [2,  1.5],    # 5\n",
    "    [2.5, -0.5],  # 6\n",
    "    [4, 2],       # 7\n",
    "    [4.5, 2.5],   # 8\n",
    "    [5, -1],      # 9\n",
    "    [5.5, -0.5],  # 10\n",
    "    [5.5, -1.5],  # 11\n",
    "    ]\n",
    "\n",
    "cnnobj = cnn.CNN(points=data_points)\n",
    "print(cnnobj)"
   ]
  },
  {
   "cell_type": "markdown",
   "metadata": {},
   "source": [
    "We see in the overview that we have now a data set of 12 points in 2 dimensions loaded into the cluster object. The data points are stored on the clustering object under `cnnobj.data`."
   ]
  },
  {
   "cell_type": "code",
   "execution_count": 10,
   "metadata": {
    "ExecuteTime": {
     "end_time": "2020-06-09T15:18:40.792449Z",
     "start_time": "2020-06-09T15:18:40.773972Z"
    }
   },
   "outputs": [
    {
     "data": {
      "text/plain": [
       "Points([[ 0. ,  0. ],\n",
       "        [ 1. ,  1. ],\n",
       "        [ 1. ,  0. ],\n",
       "        [ 0. , -1. ],\n",
       "        [ 0.5, -0.5],\n",
       "        [ 2. ,  1.5],\n",
       "        [ 2.5, -0.5],\n",
       "        [ 4. ,  2. ],\n",
       "        [ 4.5,  2.5],\n",
       "        [ 5. , -1. ],\n",
       "        [ 5.5, -0.5],\n",
       "        [ 5.5, -1.5]])"
      ]
     },
     "execution_count": 10,
     "metadata": {},
     "output_type": "execute_result"
    }
   ],
   "source": [
    "cnnobj.data.points"
   ]
  },
  {
   "cell_type": "markdown",
   "metadata": {},
   "source": [
    "To cluster these points we can use the `cnnobj.fit` method. The clustering depends on two parameters:\n",
    "  \n",
    "  - `radius_cutoff`: Points are considered neighbours if the distance between them is smaller than this cutoff radius $r$.\n",
    "  - `cnn_cutoff`: Points are assigned to the same cluster if they share at least this number of $c$ common neighbours.\n",
    "  \n",
    "The `cnnobj.fit` method will figure out which kind of input data is provided. For the clustering procedure, we ultimately need to compute the neighbouring points with respect to the `radius_cutoff` for each point in the data set. Based on the `policy` keyword argument, these neighbours are either pre-computed in bulk (`policy = \"progressive\"`) before the actual clustering or on-the-fly during the clustering (`policy = \"conservative\"`).  The current default value for the policy is set to `\"conservative\"`. This can be changed in a configuration file with the option `\"default_fit_policy\"`."
   ]
  },
  {
   "cell_type": "code",
   "execution_count": 11,
   "metadata": {
    "ExecuteTime": {
     "end_time": "2020-06-09T15:18:40.960865Z",
     "start_time": "2020-06-09T15:18:40.794631Z"
    }
   },
   "outputs": [
    {
     "ename": "NotImplementedError",
     "evalue": "",
     "output_type": "error",
     "traceback": [
      "\u001b[1;31m---------------------------------------------------------------------------\u001b[0m",
      "\u001b[1;31mNotImplementedError\u001b[0m                       Traceback (most recent call last)",
      "\u001b[1;32m<ipython-input-11-f88b21537560>\u001b[0m in \u001b[0;36m<module>\u001b[1;34m\u001b[0m\n\u001b[0;32m      1\u001b[0m \u001b[1;31m# Compute neighbourhoods on-the-fly\u001b[0m\u001b[1;33m\u001b[0m\u001b[1;33m\u001b[0m\u001b[1;33m\u001b[0m\u001b[0m\n\u001b[1;32m----> 2\u001b[1;33m \u001b[0mcnnobj\u001b[0m\u001b[1;33m.\u001b[0m\u001b[0mfit\u001b[0m\u001b[1;33m(\u001b[0m\u001b[0mradius_cutoff\u001b[0m\u001b[1;33m=\u001b[0m\u001b[1;36m1.5\u001b[0m\u001b[1;33m,\u001b[0m \u001b[0mcnn_cutoff\u001b[0m\u001b[1;33m=\u001b[0m\u001b[1;36m1\u001b[0m\u001b[1;33m,\u001b[0m \u001b[0mpolicy\u001b[0m\u001b[1;33m=\u001b[0m\u001b[1;34m\"conservative\"\u001b[0m\u001b[1;33m)\u001b[0m\u001b[1;33m\u001b[0m\u001b[1;33m\u001b[0m\u001b[0m\n\u001b[0m",
      "\u001b[1;32m~/CNN/cnnclustering/cnn.py\u001b[0m in \u001b[0;36mwrapper\u001b[1;34m(self, *args, **kwargs)\u001b[0m\n\u001b[0;32m     95\u001b[0m     \u001b[1;33m@\u001b[0m\u001b[0mfunctools\u001b[0m\u001b[1;33m.\u001b[0m\u001b[0mwraps\u001b[0m\u001b[1;33m(\u001b[0m\u001b[0mfunction_\u001b[0m\u001b[1;33m)\u001b[0m\u001b[1;33m\u001b[0m\u001b[1;33m\u001b[0m\u001b[0m\n\u001b[0;32m     96\u001b[0m     \u001b[1;32mdef\u001b[0m \u001b[0mwrapper\u001b[0m\u001b[1;33m(\u001b[0m\u001b[0mself\u001b[0m\u001b[1;33m,\u001b[0m \u001b[1;33m*\u001b[0m\u001b[0margs\u001b[0m\u001b[1;33m,\u001b[0m \u001b[1;33m**\u001b[0m\u001b[0mkwargs\u001b[0m\u001b[1;33m)\u001b[0m\u001b[1;33m:\u001b[0m\u001b[1;33m\u001b[0m\u001b[1;33m\u001b[0m\u001b[0m\n\u001b[1;32m---> 97\u001b[1;33m         \u001b[0mwrapped\u001b[0m \u001b[1;33m=\u001b[0m \u001b[0mfunction_\u001b[0m\u001b[1;33m(\u001b[0m\u001b[0mself\u001b[0m\u001b[1;33m,\u001b[0m \u001b[1;33m*\u001b[0m\u001b[0margs\u001b[0m\u001b[1;33m,\u001b[0m \u001b[1;33m**\u001b[0m\u001b[0mkwargs\u001b[0m\u001b[1;33m)\u001b[0m\u001b[1;33m\u001b[0m\u001b[1;33m\u001b[0m\u001b[0m\n\u001b[0m\u001b[0;32m     98\u001b[0m         \u001b[1;32mif\u001b[0m \u001b[0mwrapped\u001b[0m \u001b[1;32mis\u001b[0m \u001b[1;32mnot\u001b[0m \u001b[1;32mNone\u001b[0m\u001b[1;33m:\u001b[0m\u001b[1;33m\u001b[0m\u001b[1;33m\u001b[0m\u001b[0m\n\u001b[0;32m     99\u001b[0m             \u001b[1;32mif\u001b[0m \u001b[0mlen\u001b[0m\u001b[1;33m(\u001b[0m\u001b[0mwrapped\u001b[0m\u001b[1;33m)\u001b[0m \u001b[1;33m==\u001b[0m \u001b[1;36m3\u001b[0m\u001b[1;33m:\u001b[0m\u001b[1;33m\u001b[0m\u001b[1;33m\u001b[0m\u001b[0m\n",
      "\u001b[1;32m~/CNN/cnnclustering/cnn.py\u001b[0m in \u001b[0;36mwrapper\u001b[1;34m(*args, **kwargs)\u001b[0m\n\u001b[0;32m     66\u001b[0m     \u001b[1;32mdef\u001b[0m \u001b[0mwrapper\u001b[0m\u001b[1;33m(\u001b[0m\u001b[1;33m*\u001b[0m\u001b[0margs\u001b[0m\u001b[1;33m,\u001b[0m \u001b[1;33m**\u001b[0m\u001b[0mkwargs\u001b[0m\u001b[1;33m)\u001b[0m\u001b[1;33m:\u001b[0m\u001b[1;33m\u001b[0m\u001b[1;33m\u001b[0m\u001b[0m\n\u001b[0;32m     67\u001b[0m         \u001b[0mgo\u001b[0m \u001b[1;33m=\u001b[0m \u001b[0mtime\u001b[0m\u001b[1;33m.\u001b[0m\u001b[0mtime\u001b[0m\u001b[1;33m(\u001b[0m\u001b[1;33m)\u001b[0m\u001b[1;33m\u001b[0m\u001b[1;33m\u001b[0m\u001b[0m\n\u001b[1;32m---> 68\u001b[1;33m         \u001b[0mwrapped\u001b[0m \u001b[1;33m=\u001b[0m \u001b[0mfunction_\u001b[0m\u001b[1;33m(\u001b[0m\u001b[1;33m*\u001b[0m\u001b[0margs\u001b[0m\u001b[1;33m,\u001b[0m \u001b[1;33m**\u001b[0m\u001b[0mkwargs\u001b[0m\u001b[1;33m)\u001b[0m\u001b[1;33m\u001b[0m\u001b[1;33m\u001b[0m\u001b[0m\n\u001b[0m\u001b[0;32m     69\u001b[0m         \u001b[0mstop\u001b[0m \u001b[1;33m=\u001b[0m \u001b[0mtime\u001b[0m\u001b[1;33m.\u001b[0m\u001b[0mtime\u001b[0m\u001b[1;33m(\u001b[0m\u001b[1;33m)\u001b[0m\u001b[1;33m\u001b[0m\u001b[1;33m\u001b[0m\u001b[0m\n\u001b[0;32m     70\u001b[0m         \u001b[1;32mif\u001b[0m \u001b[0mwrapped\u001b[0m \u001b[1;32mis\u001b[0m \u001b[1;32mnot\u001b[0m \u001b[1;32mNone\u001b[0m\u001b[1;33m:\u001b[0m\u001b[1;33m\u001b[0m\u001b[1;33m\u001b[0m\u001b[0m\n",
      "\u001b[1;32m~/CNN/cnnclustering/cnn.py\u001b[0m in \u001b[0;36mfit\u001b[1;34m(self, radius_cutoff, cnn_cutoff, member_cutoff, max_clusters, cnn_offset, info, sort_by_size, rec, v, policy)\u001b[0m\n\u001b[0;32m   2109\u001b[0m             \u001b[1;32melif\u001b[0m \u001b[0mparams\u001b[0m\u001b[1;33m[\u001b[0m\u001b[1;34m\"policy\"\u001b[0m\u001b[1;33m]\u001b[0m \u001b[1;33m==\u001b[0m \u001b[1;34m\"conservative\"\u001b[0m\u001b[1;33m:\u001b[0m\u001b[1;33m\u001b[0m\u001b[1;33m\u001b[0m\u001b[0m\n\u001b[0;32m   2110\u001b[0m                 \u001b[1;31m# Use distances as input and calculate neighbours online\u001b[0m\u001b[1;33m\u001b[0m\u001b[1;33m\u001b[0m\u001b[1;33m\u001b[0m\u001b[0m\n\u001b[1;32m-> 2111\u001b[1;33m                 \u001b[1;32mraise\u001b[0m \u001b[0mNotImplementedError\u001b[0m\u001b[1;33m(\u001b[0m\u001b[1;33m)\u001b[0m\u001b[1;33m\u001b[0m\u001b[1;33m\u001b[0m\u001b[0m\n\u001b[0m\u001b[0;32m   2112\u001b[0m \u001b[1;33m\u001b[0m\u001b[0m\n\u001b[0;32m   2113\u001b[0m         \u001b[1;31m# Points loaded?\u001b[0m\u001b[1;33m\u001b[0m\u001b[1;33m\u001b[0m\u001b[1;33m\u001b[0m\u001b[0m\n",
      "\u001b[1;31mNotImplementedError\u001b[0m: "
     ]
    }
   ],
   "source": [
    "# Compute neighbourhoods on-the-fly\n",
    "cnnobj.fit(radius_cutoff=1.5, cnn_cutoff=1, policy=\"conservative\")"
   ]
  },
  {
   "cell_type": "code",
   "execution_count": null,
   "metadata": {
    "ExecuteTime": {
     "end_time": "2020-06-09T15:18:40.964923Z",
     "start_time": "2020-06-09T15:18:40.259Z"
    }
   },
   "outputs": [],
   "source": [
    "# Pre-compute neighbourhoods in bulk\n",
    "cnnobj.fit(radius_cutoff=1.5, cnn_cutoff=1, policy=\"progressive\")"
   ]
  },
  {
   "cell_type": "markdown",
   "metadata": {},
   "source": [
    "<div class=\"alert alert-info\">\n",
    "\n",
    "**Info:** For this simple small data set there is virtually no performance difference between the policies. In general, bulk computation can be computationally more efficient as we can easily make use of efficient external neighbour-search methods. It also allows us to recycle once computed neighbourhood information for cluster approaches with varying `cnn_cutoff` but same `radius_cutoff`. On the other hand it can be quite memory-intensive for large data sets to store the neighbourhood information alongside the data in the original format. Computing the neighbourhoods on-the-fly as we go through the data set is memory friendly but can be computationally more expensive as we fall back to brute-force neighbour-search and once computed information can not be re-used (although this is partly countered by caching). Instead of relying on the specific methods used with the *progressive* policy, the user is also encouraged to pre-compute input with any external method of choice as needed. The possibilities of calculating neighbourhood or distance information are vast and it is wise to choose the appropriate technique for the particular data at hand.\n",
    "\n",
    "</div>"
   ]
  },
  {
   "cell_type": "markdown",
   "metadata": {},
   "source": [
    "Per default a clustering attempt returns and prints a comprehensive summary of the cluster parameters and the outcome. You can suppress the recording with the keyword argument `rec = False` and the printing with `v = False`:\n",
    "\n",
    "  - N: Number of data points.\n",
    "  - R: Radius cutoff *r*.\n",
    "  - C: CNN cutoff *c*.\n",
    "  - min: Member cutoff (valid clusters need to have at least this many members).\n",
    "  - max: Maximum cluster count (keep only the *max* largest clusters and disregard smaller clusters).\n",
    "  - #clusters: Number of identified clusters.\n",
    "  - %largest: Member share on the total number of points in the largest cluster.\n",
    "  - %noise: Member share on the total number of points identified as noise (not part of any cluster).\n",
    "  \n",
    "The `min` (keyword argument `member_cutoff`) and `max` (keyword argument `max_clusters`) only take effect in an optional post processing step when `sort_by_size = True`. The clusters are sorted in order by there size (first cluster has the highest member count) and are trimmed in the way that small clusters are considered noise."
   ]
  },
  {
   "cell_type": "markdown",
   "metadata": {},
   "source": [
    "When we now look again at the cluster object overview, we can see that two things have changed. First, since we used the *progressive* policy above, the `Neighbourhoods calculated` entry now shows us, that neighbourhoods for 12 points at a search radius of $r = 1.5$ are associated with our object. They can be re-used later.\n",
    "Second, `Clustered` is now set to `True` indicating that we have attempted to cluster the data set."
   ]
  },
  {
   "cell_type": "code",
   "execution_count": null,
   "metadata": {
    "ExecuteTime": {
     "end_time": "2020-06-09T15:18:40.968084Z",
     "start_time": "2020-06-09T15:18:40.263Z"
    }
   },
   "outputs": [],
   "source": [
    "print(cnnobj)"
   ]
  },
  {
   "cell_type": "markdown",
   "metadata": {},
   "source": [
    "The essential outcome of the clustering are cluster label assignments for each point. Points classified as *noise* (not part of any cluster) are labeled 0. Integer labels larger than 0 indicate the membership to one of the identified cluster of each point. If clusters where sorted (`sort_by_size = True`), cluster 1 has the highest member count."
   ]
  },
  {
   "cell_type": "code",
   "execution_count": null,
   "metadata": {
    "ExecuteTime": {
     "end_time": "2020-06-09T15:18:40.969591Z",
     "start_time": "2020-06-09T15:18:40.268Z"
    }
   },
   "outputs": [],
   "source": [
    "cnnobj.labels"
   ]
  },
  {
   "cell_type": "markdown",
   "metadata": {},
   "source": [
    "The `labels` attribute of a cluster object always holds the result of the latest fit. All cluster results (from fits where `rec = True`) are collected in a summary without storing the actual labels."
   ]
  },
  {
   "cell_type": "code",
   "execution_count": null,
   "metadata": {
    "ExecuteTime": {
     "end_time": "2020-06-09T15:18:40.972310Z",
     "start_time": "2020-06-09T15:18:40.271Z"
    }
   },
   "outputs": [],
   "source": [
    "print(*cnnobj.summary, sep=\"\\n\")"
   ]
  },
  {
   "cell_type": "markdown",
   "metadata": {},
   "source": [
    "If you have Pandas installed, the summary can be transformed into a handy `pandas.DataFrame`."
   ]
  },
  {
   "cell_type": "code",
   "execution_count": null,
   "metadata": {
    "ExecuteTime": {
     "end_time": "2020-06-09T15:18:40.974245Z",
     "start_time": "2020-06-09T15:18:40.275Z"
    }
   },
   "outputs": [],
   "source": [
    "cnnobj.summary.to_DataFrame()"
   ]
  },
  {
   "cell_type": "markdown",
   "metadata": {},
   "source": [
    "A cluster object comes with a variety of convenience methods that allow for example a quick look at a plot of data points and a cluster result."
   ]
  },
  {
   "cell_type": "code",
   "execution_count": null,
   "metadata": {
    "ExecuteTime": {
     "end_time": "2020-06-09T15:18:40.976243Z",
     "start_time": "2020-06-09T15:18:40.278Z"
    },
    "scrolled": true
   },
   "outputs": [],
   "source": [
    "fig, ax = plt.subplots(1, 2)\n",
    "ax[0].set_title(\"original\")\n",
    "cnnobj.evaluate(ax=ax[0], original=True,\n",
    "                ax_props=ax_props, plot_props=dot_props)\n",
    "ax[1].set_title(\"clustered\")\n",
    "cnnobj.evaluate(ax=ax[1],\n",
    "                ax_props=ax_props, plot_props=dot_props)\n",
    "fig.tight_layout()"
   ]
  },
  {
   "cell_type": "markdown",
   "metadata": {},
   "source": [
    "### Functional API"
   ]
  },
  {
   "cell_type": "markdown",
   "metadata": {},
   "source": [
    "As an alternative to the class based API, the `cnnclustering.cnn` module provides a functional API for quick results."
   ]
  },
  {
   "cell_type": "code",
   "execution_count": null,
   "metadata": {
    "ExecuteTime": {
     "end_time": "2020-06-09T15:18:40.977974Z",
     "start_time": "2020-06-09T15:18:40.281Z"
    }
   },
   "outputs": [],
   "source": [
    "labels = cnn.fit(\n",
    "    data=cnn.Points(data_points),\n",
    "    radius_cutoff=1.5,\n",
    "    cnn_cutoff=1,\n",
    "    policy=\"conservative\"\n",
    ")\n",
    "labels"
   ]
  }
 ],
 "metadata": {
  "kernelspec": {
   "display_name": "Python 3",
   "language": "python",
   "name": "python3"
  },
  "language_info": {
   "codemirror_mode": {
    "name": "ipython",
    "version": 3
   },
   "file_extension": ".py",
   "mimetype": "text/x-python",
   "name": "python",
   "nbconvert_exporter": "python",
   "pygments_lexer": "ipython3",
   "version": "3.8.3"
  },
  "toc": {
   "base_numbering": 1,
   "nav_menu": {},
   "number_sections": true,
   "sideBar": true,
   "skip_h1_title": true,
   "title_cell": "Contents",
   "title_sidebar": "Contents",
   "toc_cell": true,
   "toc_position": {
    "height": "calc(100% - 180px)",
    "left": "10px",
    "top": "150px",
    "width": "164.988px"
   },
   "toc_section_display": true,
   "toc_window_display": true
  },
  "varInspector": {
   "cols": {
    "lenName": 16,
    "lenType": 16,
    "lenVar": 40
   },
   "kernels_config": {
    "python": {
     "delete_cmd_postfix": "",
     "delete_cmd_prefix": "del ",
     "library": "var_list.py",
     "varRefreshCmd": "print(var_dic_list())"
    },
    "r": {
     "delete_cmd_postfix": ") ",
     "delete_cmd_prefix": "rm(",
     "library": "var_list.r",
     "varRefreshCmd": "cat(var_dic_list()) "
    }
   },
   "types_to_exclude": [
    "module",
    "function",
    "builtin_function_or_method",
    "instance",
    "_Feature"
   ],
   "window_display": false
  }
 },
 "nbformat": 4,
 "nbformat_minor": 2
}
