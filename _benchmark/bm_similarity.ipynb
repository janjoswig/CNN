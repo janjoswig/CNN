{
 "cells": [
  {
   "cell_type": "markdown",
   "metadata": {},
   "source": [
    "# Benchmarking"
   ]
  },
  {
   "cell_type": "markdown",
   "metadata": {},
   "source": [
    "Notebook to organise benchmarks of different implementations of the density-criterion (similarity) check. In general, two neighbourhood containers are tested to have at least a certain number of common elements. For an even base line, only cythonised versions are tested. The possible variants use:\n",
    "\n",
    "  - Python set intersection\n",
    "  - Python set controlled queries\n",
    "  - libcpp.set controlled queries\n",
    "  - NumPy array intersection\n",
    "  - NumPy array controlled queries"
   ]
  },
  {
   "cell_type": "markdown",
   "metadata": {
    "toc": true
   },
   "source": [
    "<h1>Table of Contents<span class=\"tocSkip\"></span></h1>\n",
    "<div class=\"toc\"><ul class=\"toc-item\"><li><span><a href=\"#Pre-requirements\" data-toc-modified-id=\"Pre-requirements-1\"><span class=\"toc-item-num\">1&nbsp;&nbsp;</span>Pre-requirements</a></span></li><li><span><a href=\"#Version-info\" data-toc-modified-id=\"Version-info-2\"><span class=\"toc-item-num\">2&nbsp;&nbsp;</span>Version info</a></span></li><li><span><a href=\"#Helper-function-definitions\" data-toc-modified-id=\"Helper-function-definitions-3\"><span class=\"toc-item-num\">3&nbsp;&nbsp;</span>Helper function definitions</a></span></li><li><span><a href=\"#Python-set\" data-toc-modified-id=\"Python-set-4\"><span class=\"toc-item-num\">4&nbsp;&nbsp;</span>Python set</a></span></li><li><span><a href=\"#NumPy-Array\" data-toc-modified-id=\"NumPy-Array-5\"><span class=\"toc-item-num\">5&nbsp;&nbsp;</span>NumPy Array</a></span></li></ul></div>"
   ]
  },
  {
   "cell_type": "markdown",
   "metadata": {},
   "source": [
    "## Pre-requirements"
   ]
  },
  {
   "cell_type": "code",
   "execution_count": 2,
   "metadata": {
    "ExecuteTime": {
     "end_time": "2020-10-05T09:31:03.622131Z",
     "start_time": "2020-10-05T09:31:02.893556Z"
    },
    "scrolled": true
   },
   "outputs": [],
   "source": [
    "from collections import defaultdict\n",
    "import sys\n",
    "import time\n",
    "\n",
    "import numpy as np\n",
    "\n",
    "# %matplotlib widget\n",
    "import matplotlib as mpl\n",
    "import matplotlib.pyplot as plt\n",
    "\n",
    "# Jupyter extensions\n",
    "%load_ext Cython\n",
    "%load_ext line_profiler\n",
    "%load_ext memory_profiler"
   ]
  },
  {
   "cell_type": "code",
   "execution_count": 3,
   "metadata": {
    "ExecuteTime": {
     "end_time": "2020-10-05T09:31:04.691998Z",
     "start_time": "2020-10-05T09:31:04.669308Z"
    }
   },
   "outputs": [],
   "source": [
    "# Matplotlib configuration\n",
    "mpl.rcParams.update(mpl.rcParamsDefault)\n",
    "mpl.rc_file(\"../matplotlibrc\", use_default_template=False)"
   ]
  },
  {
   "cell_type": "code",
   "execution_count": 4,
   "metadata": {
    "ExecuteTime": {
     "end_time": "2020-10-05T09:31:05.135930Z",
     "start_time": "2020-10-05T09:31:05.126229Z"
    }
   },
   "outputs": [
    {
     "data": {
      "text/html": [
       "<style>\n",
       ".container { width:85% !important; }\n",
       "</style>\n"
      ],
      "text/plain": [
       "<IPython.core.display.HTML object>"
      ]
     },
     "metadata": {},
     "output_type": "display_data"
    }
   ],
   "source": [
    "%%HTML\n",
    "<style>\n",
    ".container { width:85% !important; }\n",
    "</style>"
   ]
  },
  {
   "cell_type": "markdown",
   "metadata": {},
   "source": [
    "## Version info"
   ]
  },
  {
   "cell_type": "code",
   "execution_count": 59,
   "metadata": {
    "ExecuteTime": {
     "end_time": "2020-10-06T07:41:29.054122Z",
     "start_time": "2020-10-06T07:41:29.041663Z"
    },
    "init_cell": true
   },
   "outputs": [
    {
     "name": "stdout",
     "output_type": "stream",
     "text": [
      "              Python :   3.8.5 | packaged by conda-forge | (default, Aug 21 2020, 18:21:27)  [GCC 7.5.0]\n"
     ]
    }
   ],
   "source": [
    "print(f\"{'Python':>20} :  \", *sys.version.splitlines())\n",
    "\n",
    "modules = [\n",
    "]\n",
    "\n",
    "for alias, m in modules:\n",
    "    try:\n",
    "        print(f\"{alias:>20} :  \", m.__version__)\n",
    "    except AttributeError:\n",
    "        print(f\"{alias:>20} :  \", \"no version info\")"
   ]
  },
  {
   "cell_type": "markdown",
   "metadata": {},
   "source": [
    "## Helper function definitions"
   ]
  },
  {
   "cell_type": "code",
   "execution_count": 6,
   "metadata": {
    "ExecuteTime": {
     "end_time": "2020-10-05T09:31:08.860570Z",
     "start_time": "2020-10-05T09:31:08.838566Z"
    }
   },
   "outputs": [],
   "source": [
    "CASES_HIGH_SIM = [ # a, b, c\n",
    "    (range(10), range(10), \"10\"),\n",
    "    (range(100), range(100), \"100\"),\n",
    "    (range(1000), range(1000), \"1000\"),\n",
    "    (range(10000), range(10000), \"10000\"),\n",
    "    (range(100000), range(100000), \"100000\"),\n",
    "    (range(1000000), range(1000000), \"1000000\"),\n",
    "]\n",
    "\n",
    "CASES_LOW_SIM = [ # a, b, c\n",
    "    (range(10), range(10, 20), \"10\"),\n",
    "    (range(100), range(100, 200), \"100\"),\n",
    "    (range(1000), range(1000, 2000), \"1000\"),\n",
    "    (range(10000), range(10000, 20000), \"10000\"),\n",
    "    (range(100000), range(100000, 200000), \"100000\"),\n",
    "    (range(1000000), range(1000000, 2000000), \"1000000\"),\n",
    "]"
   ]
  },
  {
   "cell_type": "code",
   "execution_count": 7,
   "metadata": {
    "ExecuteTime": {
     "end_time": "2020-10-05T09:31:10.414291Z",
     "start_time": "2020-10-05T09:31:10.389872Z"
    }
   },
   "outputs": [],
   "source": [
    "def format_case(case, form=\"set\"):\n",
    "    if form == \"set\":\n",
    "        return tuple(set(x) for x in case[:2]) + (case[2], )\n",
    "    elif form == \"array\":\n",
    "        return tuple(np.asarray(x, dtype=np.intp) for x in case[:2]) + (case[2], )\n",
    "    else:\n",
    "        raise ValueError(\"Unknown format\")"
   ]
  },
  {
   "cell_type": "markdown",
   "metadata": {},
   "source": [
    "## Python set"
   ]
  },
  {
   "cell_type": "code",
   "execution_count": 8,
   "metadata": {
    "ExecuteTime": {
     "end_time": "2020-10-05T09:31:13.100235Z",
     "start_time": "2020-10-05T09:31:12.461203Z"
    }
   },
   "outputs": [],
   "source": [
    "%%cython\n",
    "\n",
    "cpdef bint check_similarity_set(set a, set b, Py_ssize_t c):\n",
    "    \"\"\"Check if similarity criterion is fulfilled.\n",
    "\n",
    "    Args:\n",
    "        a: Set of point indices\n",
    "        b: Set (collection) of point indices\n",
    "        c: Similarity cut-off\n",
    "\n",
    "    Returns:\n",
    "        True if set `a` and set `b` have at least `c` common\n",
    "        elements\n",
    "    \"\"\"\n",
    "\n",
    "    if c == 0:\n",
    "        return 1\n",
    "    \n",
    "    cdef Py_ssize_t len_intersec = len(a.intersection(b))\n",
    "    if len_intersec >= c:\n",
    "        return 1\n",
    "    return 0"
   ]
  },
  {
   "cell_type": "code",
   "execution_count": 9,
   "metadata": {
    "ExecuteTime": {
     "end_time": "2020-10-05T09:31:13.278146Z",
     "start_time": "2020-10-05T09:31:13.268359Z"
    }
   },
   "outputs": [],
   "source": [
    "%%cython\n",
    "\n",
    "cpdef bint check_similarity_set_min(set a, set b, Py_ssize_t c):\n",
    "    \"\"\"Check if similarity criterion is fulfilled.\n",
    "\n",
    "    Args:\n",
    "        a: Set of point indices\n",
    "        b: Set (collection) of point indices\n",
    "        c: Similarity cut-off\n",
    "\n",
    "    Returns:\n",
    "        True if set `a` and set `b` have at least `c` common\n",
    "        elements\n",
    "    \"\"\"\n",
    "\n",
    "    if c == 0:\n",
    "        return 1\n",
    "    \n",
    "    if len(a) > len(b):\n",
    "        a, b = b, a\n",
    "    \n",
    "    cdef Py_ssize_t ai\n",
    "    cdef Py_ssize_t common = 0\n",
    "\n",
    "    for ai in a:\n",
    "        if ai in b:\n",
    "            common += 1\n",
    "            if common == c:\n",
    "                return 1\n",
    "\n",
    "    return 0"
   ]
  },
  {
   "cell_type": "markdown",
   "metadata": {},
   "source": [
    "## NumPy Array"
   ]
  },
  {
   "cell_type": "code",
   "execution_count": 10,
   "metadata": {
    "ExecuteTime": {
     "end_time": "2020-10-05T09:31:15.020952Z",
     "start_time": "2020-10-05T09:31:14.996378Z"
    }
   },
   "outputs": [
    {
     "data": {
      "text/html": [
       "<!DOCTYPE html>\n",
       "<!-- Generated by Cython 0.29.21 -->\n",
       "<html>\n",
       "<head>\n",
       "    <meta http-equiv=\"Content-Type\" content=\"text/html; charset=utf-8\" />\n",
       "    <title>Cython: _cython_magic_f7d61c5f9fe712799446c56e264d9857.pyx</title>\n",
       "    <style type=\"text/css\">\n",
       "    \n",
       "body.cython { font-family: courier; font-size: 12; }\n",
       "\n",
       ".cython.tag  {  }\n",
       ".cython.line { margin: 0em }\n",
       ".cython.code { font-size: 9; color: #444444; display: none; margin: 0px 0px 0px 8px; border-left: 8px none; }\n",
       "\n",
       ".cython.line .run { background-color: #B0FFB0; }\n",
       ".cython.line .mis { background-color: #FFB0B0; }\n",
       ".cython.code.run  { border-left: 8px solid #B0FFB0; }\n",
       ".cython.code.mis  { border-left: 8px solid #FFB0B0; }\n",
       "\n",
       ".cython.code .py_c_api  { color: red; }\n",
       ".cython.code .py_macro_api  { color: #FF7000; }\n",
       ".cython.code .pyx_c_api  { color: #FF3000; }\n",
       ".cython.code .pyx_macro_api  { color: #FF7000; }\n",
       ".cython.code .refnanny  { color: #FFA000; }\n",
       ".cython.code .trace  { color: #FFA000; }\n",
       ".cython.code .error_goto  { color: #FFA000; }\n",
       "\n",
       ".cython.code .coerce  { color: #008000; border: 1px dotted #008000 }\n",
       ".cython.code .py_attr { color: #FF0000; font-weight: bold; }\n",
       ".cython.code .c_attr  { color: #0000FF; }\n",
       ".cython.code .py_call { color: #FF0000; font-weight: bold; }\n",
       ".cython.code .c_call  { color: #0000FF; }\n",
       "\n",
       ".cython.score-0 {background-color: #FFFFff;}\n",
       ".cython.score-1 {background-color: #FFFFe7;}\n",
       ".cython.score-2 {background-color: #FFFFd4;}\n",
       ".cython.score-3 {background-color: #FFFFc4;}\n",
       ".cython.score-4 {background-color: #FFFFb6;}\n",
       ".cython.score-5 {background-color: #FFFFaa;}\n",
       ".cython.score-6 {background-color: #FFFF9f;}\n",
       ".cython.score-7 {background-color: #FFFF96;}\n",
       ".cython.score-8 {background-color: #FFFF8d;}\n",
       ".cython.score-9 {background-color: #FFFF86;}\n",
       ".cython.score-10 {background-color: #FFFF7f;}\n",
       ".cython.score-11 {background-color: #FFFF79;}\n",
       ".cython.score-12 {background-color: #FFFF73;}\n",
       ".cython.score-13 {background-color: #FFFF6e;}\n",
       ".cython.score-14 {background-color: #FFFF6a;}\n",
       ".cython.score-15 {background-color: #FFFF66;}\n",
       ".cython.score-16 {background-color: #FFFF62;}\n",
       ".cython.score-17 {background-color: #FFFF5e;}\n",
       ".cython.score-18 {background-color: #FFFF5b;}\n",
       ".cython.score-19 {background-color: #FFFF57;}\n",
       ".cython.score-20 {background-color: #FFFF55;}\n",
       ".cython.score-21 {background-color: #FFFF52;}\n",
       ".cython.score-22 {background-color: #FFFF4f;}\n",
       ".cython.score-23 {background-color: #FFFF4d;}\n",
       ".cython.score-24 {background-color: #FFFF4b;}\n",
       ".cython.score-25 {background-color: #FFFF48;}\n",
       ".cython.score-26 {background-color: #FFFF46;}\n",
       ".cython.score-27 {background-color: #FFFF44;}\n",
       ".cython.score-28 {background-color: #FFFF43;}\n",
       ".cython.score-29 {background-color: #FFFF41;}\n",
       ".cython.score-30 {background-color: #FFFF3f;}\n",
       ".cython.score-31 {background-color: #FFFF3e;}\n",
       ".cython.score-32 {background-color: #FFFF3c;}\n",
       ".cython.score-33 {background-color: #FFFF3b;}\n",
       ".cython.score-34 {background-color: #FFFF39;}\n",
       ".cython.score-35 {background-color: #FFFF38;}\n",
       ".cython.score-36 {background-color: #FFFF37;}\n",
       ".cython.score-37 {background-color: #FFFF36;}\n",
       ".cython.score-38 {background-color: #FFFF35;}\n",
       ".cython.score-39 {background-color: #FFFF34;}\n",
       ".cython.score-40 {background-color: #FFFF33;}\n",
       ".cython.score-41 {background-color: #FFFF32;}\n",
       ".cython.score-42 {background-color: #FFFF31;}\n",
       ".cython.score-43 {background-color: #FFFF30;}\n",
       ".cython.score-44 {background-color: #FFFF2f;}\n",
       ".cython.score-45 {background-color: #FFFF2e;}\n",
       ".cython.score-46 {background-color: #FFFF2d;}\n",
       ".cython.score-47 {background-color: #FFFF2c;}\n",
       ".cython.score-48 {background-color: #FFFF2b;}\n",
       ".cython.score-49 {background-color: #FFFF2b;}\n",
       ".cython.score-50 {background-color: #FFFF2a;}\n",
       ".cython.score-51 {background-color: #FFFF29;}\n",
       ".cython.score-52 {background-color: #FFFF29;}\n",
       ".cython.score-53 {background-color: #FFFF28;}\n",
       ".cython.score-54 {background-color: #FFFF27;}\n",
       ".cython.score-55 {background-color: #FFFF27;}\n",
       ".cython.score-56 {background-color: #FFFF26;}\n",
       ".cython.score-57 {background-color: #FFFF26;}\n",
       ".cython.score-58 {background-color: #FFFF25;}\n",
       ".cython.score-59 {background-color: #FFFF24;}\n",
       ".cython.score-60 {background-color: #FFFF24;}\n",
       ".cython.score-61 {background-color: #FFFF23;}\n",
       ".cython.score-62 {background-color: #FFFF23;}\n",
       ".cython.score-63 {background-color: #FFFF22;}\n",
       ".cython.score-64 {background-color: #FFFF22;}\n",
       ".cython.score-65 {background-color: #FFFF22;}\n",
       ".cython.score-66 {background-color: #FFFF21;}\n",
       ".cython.score-67 {background-color: #FFFF21;}\n",
       ".cython.score-68 {background-color: #FFFF20;}\n",
       ".cython.score-69 {background-color: #FFFF20;}\n",
       ".cython.score-70 {background-color: #FFFF1f;}\n",
       ".cython.score-71 {background-color: #FFFF1f;}\n",
       ".cython.score-72 {background-color: #FFFF1f;}\n",
       ".cython.score-73 {background-color: #FFFF1e;}\n",
       ".cython.score-74 {background-color: #FFFF1e;}\n",
       ".cython.score-75 {background-color: #FFFF1e;}\n",
       ".cython.score-76 {background-color: #FFFF1d;}\n",
       ".cython.score-77 {background-color: #FFFF1d;}\n",
       ".cython.score-78 {background-color: #FFFF1c;}\n",
       ".cython.score-79 {background-color: #FFFF1c;}\n",
       ".cython.score-80 {background-color: #FFFF1c;}\n",
       ".cython.score-81 {background-color: #FFFF1c;}\n",
       ".cython.score-82 {background-color: #FFFF1b;}\n",
       ".cython.score-83 {background-color: #FFFF1b;}\n",
       ".cython.score-84 {background-color: #FFFF1b;}\n",
       ".cython.score-85 {background-color: #FFFF1a;}\n",
       ".cython.score-86 {background-color: #FFFF1a;}\n",
       ".cython.score-87 {background-color: #FFFF1a;}\n",
       ".cython.score-88 {background-color: #FFFF1a;}\n",
       ".cython.score-89 {background-color: #FFFF19;}\n",
       ".cython.score-90 {background-color: #FFFF19;}\n",
       ".cython.score-91 {background-color: #FFFF19;}\n",
       ".cython.score-92 {background-color: #FFFF19;}\n",
       ".cython.score-93 {background-color: #FFFF18;}\n",
       ".cython.score-94 {background-color: #FFFF18;}\n",
       ".cython.score-95 {background-color: #FFFF18;}\n",
       ".cython.score-96 {background-color: #FFFF18;}\n",
       ".cython.score-97 {background-color: #FFFF17;}\n",
       ".cython.score-98 {background-color: #FFFF17;}\n",
       ".cython.score-99 {background-color: #FFFF17;}\n",
       ".cython.score-100 {background-color: #FFFF17;}\n",
       ".cython.score-101 {background-color: #FFFF16;}\n",
       ".cython.score-102 {background-color: #FFFF16;}\n",
       ".cython.score-103 {background-color: #FFFF16;}\n",
       ".cython.score-104 {background-color: #FFFF16;}\n",
       ".cython.score-105 {background-color: #FFFF16;}\n",
       ".cython.score-106 {background-color: #FFFF15;}\n",
       ".cython.score-107 {background-color: #FFFF15;}\n",
       ".cython.score-108 {background-color: #FFFF15;}\n",
       ".cython.score-109 {background-color: #FFFF15;}\n",
       ".cython.score-110 {background-color: #FFFF15;}\n",
       ".cython.score-111 {background-color: #FFFF15;}\n",
       ".cython.score-112 {background-color: #FFFF14;}\n",
       ".cython.score-113 {background-color: #FFFF14;}\n",
       ".cython.score-114 {background-color: #FFFF14;}\n",
       ".cython.score-115 {background-color: #FFFF14;}\n",
       ".cython.score-116 {background-color: #FFFF14;}\n",
       ".cython.score-117 {background-color: #FFFF14;}\n",
       ".cython.score-118 {background-color: #FFFF13;}\n",
       ".cython.score-119 {background-color: #FFFF13;}\n",
       ".cython.score-120 {background-color: #FFFF13;}\n",
       ".cython.score-121 {background-color: #FFFF13;}\n",
       ".cython.score-122 {background-color: #FFFF13;}\n",
       ".cython.score-123 {background-color: #FFFF13;}\n",
       ".cython.score-124 {background-color: #FFFF13;}\n",
       ".cython.score-125 {background-color: #FFFF12;}\n",
       ".cython.score-126 {background-color: #FFFF12;}\n",
       ".cython.score-127 {background-color: #FFFF12;}\n",
       ".cython.score-128 {background-color: #FFFF12;}\n",
       ".cython.score-129 {background-color: #FFFF12;}\n",
       ".cython.score-130 {background-color: #FFFF12;}\n",
       ".cython.score-131 {background-color: #FFFF12;}\n",
       ".cython.score-132 {background-color: #FFFF11;}\n",
       ".cython.score-133 {background-color: #FFFF11;}\n",
       ".cython.score-134 {background-color: #FFFF11;}\n",
       ".cython.score-135 {background-color: #FFFF11;}\n",
       ".cython.score-136 {background-color: #FFFF11;}\n",
       ".cython.score-137 {background-color: #FFFF11;}\n",
       ".cython.score-138 {background-color: #FFFF11;}\n",
       ".cython.score-139 {background-color: #FFFF11;}\n",
       ".cython.score-140 {background-color: #FFFF11;}\n",
       ".cython.score-141 {background-color: #FFFF10;}\n",
       ".cython.score-142 {background-color: #FFFF10;}\n",
       ".cython.score-143 {background-color: #FFFF10;}\n",
       ".cython.score-144 {background-color: #FFFF10;}\n",
       ".cython.score-145 {background-color: #FFFF10;}\n",
       ".cython.score-146 {background-color: #FFFF10;}\n",
       ".cython.score-147 {background-color: #FFFF10;}\n",
       ".cython.score-148 {background-color: #FFFF10;}\n",
       ".cython.score-149 {background-color: #FFFF10;}\n",
       ".cython.score-150 {background-color: #FFFF0f;}\n",
       ".cython.score-151 {background-color: #FFFF0f;}\n",
       ".cython.score-152 {background-color: #FFFF0f;}\n",
       ".cython.score-153 {background-color: #FFFF0f;}\n",
       ".cython.score-154 {background-color: #FFFF0f;}\n",
       ".cython.score-155 {background-color: #FFFF0f;}\n",
       ".cython.score-156 {background-color: #FFFF0f;}\n",
       ".cython.score-157 {background-color: #FFFF0f;}\n",
       ".cython.score-158 {background-color: #FFFF0f;}\n",
       ".cython.score-159 {background-color: #FFFF0f;}\n",
       ".cython.score-160 {background-color: #FFFF0f;}\n",
       ".cython.score-161 {background-color: #FFFF0e;}\n",
       ".cython.score-162 {background-color: #FFFF0e;}\n",
       ".cython.score-163 {background-color: #FFFF0e;}\n",
       ".cython.score-164 {background-color: #FFFF0e;}\n",
       ".cython.score-165 {background-color: #FFFF0e;}\n",
       ".cython.score-166 {background-color: #FFFF0e;}\n",
       ".cython.score-167 {background-color: #FFFF0e;}\n",
       ".cython.score-168 {background-color: #FFFF0e;}\n",
       ".cython.score-169 {background-color: #FFFF0e;}\n",
       ".cython.score-170 {background-color: #FFFF0e;}\n",
       ".cython.score-171 {background-color: #FFFF0e;}\n",
       ".cython.score-172 {background-color: #FFFF0e;}\n",
       ".cython.score-173 {background-color: #FFFF0d;}\n",
       ".cython.score-174 {background-color: #FFFF0d;}\n",
       ".cython.score-175 {background-color: #FFFF0d;}\n",
       ".cython.score-176 {background-color: #FFFF0d;}\n",
       ".cython.score-177 {background-color: #FFFF0d;}\n",
       ".cython.score-178 {background-color: #FFFF0d;}\n",
       ".cython.score-179 {background-color: #FFFF0d;}\n",
       ".cython.score-180 {background-color: #FFFF0d;}\n",
       ".cython.score-181 {background-color: #FFFF0d;}\n",
       ".cython.score-182 {background-color: #FFFF0d;}\n",
       ".cython.score-183 {background-color: #FFFF0d;}\n",
       ".cython.score-184 {background-color: #FFFF0d;}\n",
       ".cython.score-185 {background-color: #FFFF0d;}\n",
       ".cython.score-186 {background-color: #FFFF0d;}\n",
       ".cython.score-187 {background-color: #FFFF0c;}\n",
       ".cython.score-188 {background-color: #FFFF0c;}\n",
       ".cython.score-189 {background-color: #FFFF0c;}\n",
       ".cython.score-190 {background-color: #FFFF0c;}\n",
       ".cython.score-191 {background-color: #FFFF0c;}\n",
       ".cython.score-192 {background-color: #FFFF0c;}\n",
       ".cython.score-193 {background-color: #FFFF0c;}\n",
       ".cython.score-194 {background-color: #FFFF0c;}\n",
       ".cython.score-195 {background-color: #FFFF0c;}\n",
       ".cython.score-196 {background-color: #FFFF0c;}\n",
       ".cython.score-197 {background-color: #FFFF0c;}\n",
       ".cython.score-198 {background-color: #FFFF0c;}\n",
       ".cython.score-199 {background-color: #FFFF0c;}\n",
       ".cython.score-200 {background-color: #FFFF0c;}\n",
       ".cython.score-201 {background-color: #FFFF0c;}\n",
       ".cython.score-202 {background-color: #FFFF0c;}\n",
       ".cython.score-203 {background-color: #FFFF0b;}\n",
       ".cython.score-204 {background-color: #FFFF0b;}\n",
       ".cython.score-205 {background-color: #FFFF0b;}\n",
       ".cython.score-206 {background-color: #FFFF0b;}\n",
       ".cython.score-207 {background-color: #FFFF0b;}\n",
       ".cython.score-208 {background-color: #FFFF0b;}\n",
       ".cython.score-209 {background-color: #FFFF0b;}\n",
       ".cython.score-210 {background-color: #FFFF0b;}\n",
       ".cython.score-211 {background-color: #FFFF0b;}\n",
       ".cython.score-212 {background-color: #FFFF0b;}\n",
       ".cython.score-213 {background-color: #FFFF0b;}\n",
       ".cython.score-214 {background-color: #FFFF0b;}\n",
       ".cython.score-215 {background-color: #FFFF0b;}\n",
       ".cython.score-216 {background-color: #FFFF0b;}\n",
       ".cython.score-217 {background-color: #FFFF0b;}\n",
       ".cython.score-218 {background-color: #FFFF0b;}\n",
       ".cython.score-219 {background-color: #FFFF0b;}\n",
       ".cython.score-220 {background-color: #FFFF0b;}\n",
       ".cython.score-221 {background-color: #FFFF0b;}\n",
       ".cython.score-222 {background-color: #FFFF0a;}\n",
       ".cython.score-223 {background-color: #FFFF0a;}\n",
       ".cython.score-224 {background-color: #FFFF0a;}\n",
       ".cython.score-225 {background-color: #FFFF0a;}\n",
       ".cython.score-226 {background-color: #FFFF0a;}\n",
       ".cython.score-227 {background-color: #FFFF0a;}\n",
       ".cython.score-228 {background-color: #FFFF0a;}\n",
       ".cython.score-229 {background-color: #FFFF0a;}\n",
       ".cython.score-230 {background-color: #FFFF0a;}\n",
       ".cython.score-231 {background-color: #FFFF0a;}\n",
       ".cython.score-232 {background-color: #FFFF0a;}\n",
       ".cython.score-233 {background-color: #FFFF0a;}\n",
       ".cython.score-234 {background-color: #FFFF0a;}\n",
       ".cython.score-235 {background-color: #FFFF0a;}\n",
       ".cython.score-236 {background-color: #FFFF0a;}\n",
       ".cython.score-237 {background-color: #FFFF0a;}\n",
       ".cython.score-238 {background-color: #FFFF0a;}\n",
       ".cython.score-239 {background-color: #FFFF0a;}\n",
       ".cython.score-240 {background-color: #FFFF0a;}\n",
       ".cython.score-241 {background-color: #FFFF0a;}\n",
       ".cython.score-242 {background-color: #FFFF0a;}\n",
       ".cython.score-243 {background-color: #FFFF0a;}\n",
       ".cython.score-244 {background-color: #FFFF0a;}\n",
       ".cython.score-245 {background-color: #FFFF0a;}\n",
       ".cython.score-246 {background-color: #FFFF09;}\n",
       ".cython.score-247 {background-color: #FFFF09;}\n",
       ".cython.score-248 {background-color: #FFFF09;}\n",
       ".cython.score-249 {background-color: #FFFF09;}\n",
       ".cython.score-250 {background-color: #FFFF09;}\n",
       ".cython.score-251 {background-color: #FFFF09;}\n",
       ".cython.score-252 {background-color: #FFFF09;}\n",
       ".cython.score-253 {background-color: #FFFF09;}\n",
       ".cython.score-254 {background-color: #FFFF09;}\n",
       ".cython .hll { background-color: #ffffcc }\n",
       ".cython  { background: #f8f8f8; }\n",
       ".cython .c { color: #408080; font-style: italic } /* Comment */\n",
       ".cython .err { border: 1px solid #FF0000 } /* Error */\n",
       ".cython .k { color: #008000; font-weight: bold } /* Keyword */\n",
       ".cython .o { color: #666666 } /* Operator */\n",
       ".cython .ch { color: #408080; font-style: italic } /* Comment.Hashbang */\n",
       ".cython .cm { color: #408080; font-style: italic } /* Comment.Multiline */\n",
       ".cython .cp { color: #BC7A00 } /* Comment.Preproc */\n",
       ".cython .cpf { color: #408080; font-style: italic } /* Comment.PreprocFile */\n",
       ".cython .c1 { color: #408080; font-style: italic } /* Comment.Single */\n",
       ".cython .cs { color: #408080; font-style: italic } /* Comment.Special */\n",
       ".cython .gd { color: #A00000 } /* Generic.Deleted */\n",
       ".cython .ge { font-style: italic } /* Generic.Emph */\n",
       ".cython .gr { color: #FF0000 } /* Generic.Error */\n",
       ".cython .gh { color: #000080; font-weight: bold } /* Generic.Heading */\n",
       ".cython .gi { color: #00A000 } /* Generic.Inserted */\n",
       ".cython .go { color: #888888 } /* Generic.Output */\n",
       ".cython .gp { color: #000080; font-weight: bold } /* Generic.Prompt */\n",
       ".cython .gs { font-weight: bold } /* Generic.Strong */\n",
       ".cython .gu { color: #800080; font-weight: bold } /* Generic.Subheading */\n",
       ".cython .gt { color: #0044DD } /* Generic.Traceback */\n",
       ".cython .kc { color: #008000; font-weight: bold } /* Keyword.Constant */\n",
       ".cython .kd { color: #008000; font-weight: bold } /* Keyword.Declaration */\n",
       ".cython .kn { color: #008000; font-weight: bold } /* Keyword.Namespace */\n",
       ".cython .kp { color: #008000 } /* Keyword.Pseudo */\n",
       ".cython .kr { color: #008000; font-weight: bold } /* Keyword.Reserved */\n",
       ".cython .kt { color: #B00040 } /* Keyword.Type */\n",
       ".cython .m { color: #666666 } /* Literal.Number */\n",
       ".cython .s { color: #BA2121 } /* Literal.String */\n",
       ".cython .na { color: #7D9029 } /* Name.Attribute */\n",
       ".cython .nb { color: #008000 } /* Name.Builtin */\n",
       ".cython .nc { color: #0000FF; font-weight: bold } /* Name.Class */\n",
       ".cython .no { color: #880000 } /* Name.Constant */\n",
       ".cython .nd { color: #AA22FF } /* Name.Decorator */\n",
       ".cython .ni { color: #999999; font-weight: bold } /* Name.Entity */\n",
       ".cython .ne { color: #D2413A; font-weight: bold } /* Name.Exception */\n",
       ".cython .nf { color: #0000FF } /* Name.Function */\n",
       ".cython .nl { color: #A0A000 } /* Name.Label */\n",
       ".cython .nn { color: #0000FF; font-weight: bold } /* Name.Namespace */\n",
       ".cython .nt { color: #008000; font-weight: bold } /* Name.Tag */\n",
       ".cython .nv { color: #19177C } /* Name.Variable */\n",
       ".cython .ow { color: #AA22FF; font-weight: bold } /* Operator.Word */\n",
       ".cython .w { color: #bbbbbb } /* Text.Whitespace */\n",
       ".cython .mb { color: #666666 } /* Literal.Number.Bin */\n",
       ".cython .mf { color: #666666 } /* Literal.Number.Float */\n",
       ".cython .mh { color: #666666 } /* Literal.Number.Hex */\n",
       ".cython .mi { color: #666666 } /* Literal.Number.Integer */\n",
       ".cython .mo { color: #666666 } /* Literal.Number.Oct */\n",
       ".cython .sa { color: #BA2121 } /* Literal.String.Affix */\n",
       ".cython .sb { color: #BA2121 } /* Literal.String.Backtick */\n",
       ".cython .sc { color: #BA2121 } /* Literal.String.Char */\n",
       ".cython .dl { color: #BA2121 } /* Literal.String.Delimiter */\n",
       ".cython .sd { color: #BA2121; font-style: italic } /* Literal.String.Doc */\n",
       ".cython .s2 { color: #BA2121 } /* Literal.String.Double */\n",
       ".cython .se { color: #BB6622; font-weight: bold } /* Literal.String.Escape */\n",
       ".cython .sh { color: #BA2121 } /* Literal.String.Heredoc */\n",
       ".cython .si { color: #BB6688; font-weight: bold } /* Literal.String.Interpol */\n",
       ".cython .sx { color: #008000 } /* Literal.String.Other */\n",
       ".cython .sr { color: #BB6688 } /* Literal.String.Regex */\n",
       ".cython .s1 { color: #BA2121 } /* Literal.String.Single */\n",
       ".cython .ss { color: #19177C } /* Literal.String.Symbol */\n",
       ".cython .bp { color: #008000 } /* Name.Builtin.Pseudo */\n",
       ".cython .fm { color: #0000FF } /* Name.Function.Magic */\n",
       ".cython .vc { color: #19177C } /* Name.Variable.Class */\n",
       ".cython .vg { color: #19177C } /* Name.Variable.Global */\n",
       ".cython .vi { color: #19177C } /* Name.Variable.Instance */\n",
       ".cython .vm { color: #19177C } /* Name.Variable.Magic */\n",
       ".cython .il { color: #666666 } /* Literal.Number.Integer.Long */\n",
       "    </style>\n",
       "</head>\n",
       "<body class=\"cython\">\n",
       "<p><span style=\"border-bottom: solid 1px grey;\">Generated by Cython 0.29.21</span></p>\n",
       "<p>\n",
       "    <span style=\"background-color: #FFFF00\">Yellow lines</span> hint at Python interaction.<br />\n",
       "    Click on a line that starts with a \"<code>+</code>\" to see the C code that Cython generated for it.\n",
       "</p>\n",
       "<div class=\"cython\"><pre class=\"cython line score-0\">&#xA0;<span class=\"\">01</span>: </pre>\n",
       "<pre class=\"cython line score-16\" onclick=\"(function(s){s.display=s.display==='block'?'none':'block'})(this.nextElementSibling.style)\">+<span class=\"\">02</span>: <span class=\"k\">import</span> <span class=\"nn\">numpy</span> <span class=\"k\">as</span> <span class=\"nn\">np</span></pre>\n",
       "<pre class='cython code score-16 '>  __pyx_t_1 = <span class='pyx_c_api'>__Pyx_Import</span>(__pyx_n_s_numpy, 0, 0);<span class='error_goto'> if (unlikely(!__pyx_t_1)) __PYX_ERR(0, 2, __pyx_L1_error)</span>\n",
       "  <span class='refnanny'>__Pyx_GOTREF</span>(__pyx_t_1);\n",
       "  if (<span class='py_c_api'>PyDict_SetItem</span>(__pyx_d, __pyx_n_s_np, __pyx_t_1) &lt; 0) <span class='error_goto'>__PYX_ERR(0, 2, __pyx_L1_error)</span>\n",
       "  <span class='pyx_macro_api'>__Pyx_DECREF</span>(__pyx_t_1); __pyx_t_1 = 0;\n",
       "/* … */\n",
       "  __pyx_t_1 = <span class='pyx_c_api'>__Pyx_PyDict_NewPresized</span>(0);<span class='error_goto'> if (unlikely(!__pyx_t_1)) __PYX_ERR(0, 2, __pyx_L1_error)</span>\n",
       "  <span class='refnanny'>__Pyx_GOTREF</span>(__pyx_t_1);\n",
       "  if (<span class='py_c_api'>PyDict_SetItem</span>(__pyx_d, __pyx_n_s_test, __pyx_t_1) &lt; 0) <span class='error_goto'>__PYX_ERR(0, 2, __pyx_L1_error)</span>\n",
       "  <span class='pyx_macro_api'>__Pyx_DECREF</span>(__pyx_t_1); __pyx_t_1 = 0;\n",
       "</pre><pre class=\"cython line score-0\">&#xA0;<span class=\"\">03</span>: <span class=\"k\">cimport</span> <span class=\"nn\">numpy</span> <span class=\"k\">as</span> <span class=\"nn\">np</span></pre>\n",
       "<pre class=\"cython line score-0\">&#xA0;<span class=\"\">04</span>: </pre>\n",
       "<pre class=\"cython line score-0\">&#xA0;<span class=\"\">05</span>: <span class=\"k\">ctypedef</span> <span class=\"n\">np</span><span class=\"o\">.</span><span class=\"n\">intp_t</span> <span class=\"n\">ARRAYINDEX_DTYPE_t</span></pre>\n",
       "<pre class=\"cython line score-0\">&#xA0;<span class=\"\">06</span>: </pre>\n",
       "<pre class=\"cython line score-49\" onclick=\"(function(s){s.display=s.display==='block'?'none':'block'})(this.nextElementSibling.style)\">+<span class=\"\">07</span>: <span class=\"k\">cpdef</span> <span class=\"kt\">bint</span> <span class=\"nf\">check_similarity_array_min</span><span class=\"p\">(</span></pre>\n",
       "<pre class='cython code score-49 '>static PyObject *__pyx_pw_46_cython_magic_f7d61c5f9fe712799446c56e264d9857_1check_similarity_array_min(PyObject *__pyx_self, PyObject *__pyx_args, PyObject *__pyx_kwds); /*proto*/\n",
       "static int __pyx_f_46_cython_magic_f7d61c5f9fe712799446c56e264d9857_check_similarity_array_min(__Pyx_memviewslice __pyx_v_a, __Pyx_memviewslice __pyx_v_b, __pyx_t_46_cython_magic_f7d61c5f9fe712799446c56e264d9857_ARRAYINDEX_DTYPE_t __pyx_v_c, CYTHON_UNUSED int __pyx_skip_dispatch) {\n",
       "  __pyx_t_46_cython_magic_f7d61c5f9fe712799446c56e264d9857_ARRAYINDEX_DTYPE_t __pyx_v_i;\n",
       "  __pyx_t_46_cython_magic_f7d61c5f9fe712799446c56e264d9857_ARRAYINDEX_DTYPE_t __pyx_v_j;\n",
       "  __pyx_t_46_cython_magic_f7d61c5f9fe712799446c56e264d9857_ARRAYINDEX_DTYPE_t __pyx_v_sa;\n",
       "  __pyx_t_46_cython_magic_f7d61c5f9fe712799446c56e264d9857_ARRAYINDEX_DTYPE_t __pyx_v_sb;\n",
       "  __pyx_t_46_cython_magic_f7d61c5f9fe712799446c56e264d9857_ARRAYINDEX_DTYPE_t __pyx_v_ai;\n",
       "  __pyx_t_46_cython_magic_f7d61c5f9fe712799446c56e264d9857_ARRAYINDEX_DTYPE_t __pyx_v_bj;\n",
       "  __pyx_t_46_cython_magic_f7d61c5f9fe712799446c56e264d9857_ARRAYINDEX_DTYPE_t __pyx_v_common;\n",
       "  int __pyx_r;\n",
       "  <span class='refnanny'>__Pyx_RefNannyDeclarations</span>\n",
       "  <span class='refnanny'>__Pyx_RefNannySetupContext</span>(\"check_similarity_array_min\", 0);\n",
       "  __PYX_INC_MEMVIEW(&amp;__pyx_v_a, 1);\n",
       "  __PYX_INC_MEMVIEW(&amp;__pyx_v_b, 1);\n",
       "/* … */\n",
       "  /* function exit code */\n",
       "  __pyx_L1_error:;\n",
       "  __PYX_XDEC_MEMVIEW(&amp;__pyx_t_2, 1);\n",
       "  __PYX_XDEC_MEMVIEW(&amp;__pyx_t_3, 1);\n",
       "  <span class='pyx_c_api'>__Pyx_WriteUnraisable</span>(\"_cython_magic_f7d61c5f9fe712799446c56e264d9857.check_similarity_array_min\", __pyx_clineno, __pyx_lineno, __pyx_filename, 1, 0);\n",
       "  __pyx_r = 0;\n",
       "  __pyx_L0:;\n",
       "  __PYX_XDEC_MEMVIEW(&amp;__pyx_v_a, 1);\n",
       "  __PYX_XDEC_MEMVIEW(&amp;__pyx_v_b, 1);\n",
       "  <span class='refnanny'>__Pyx_RefNannyFinishContext</span>();\n",
       "  return __pyx_r;\n",
       "}\n",
       "\n",
       "/* Python wrapper */\n",
       "static PyObject *__pyx_pw_46_cython_magic_f7d61c5f9fe712799446c56e264d9857_1check_similarity_array_min(PyObject *__pyx_self, PyObject *__pyx_args, PyObject *__pyx_kwds); /*proto*/\n",
       "static char __pyx_doc_46_cython_magic_f7d61c5f9fe712799446c56e264d9857_check_similarity_array_min[] = \"Check if the CNN criterion is fullfilled\\n\\n    Check if `a` and `b` have at least `c` common elements.  Faster than\\n    computing the intersection (say with `numpy.intersect1d`) and\\n    comparing its length to `c`.\\n\\n    Args:\\n        a, b: 1D Array of integers (neighbour point indices) that\\n            supports the buffer protocol.\\n        c: Check if `a` and `b` share this many elements.\\n    Returns:\\n        1 if set `a` and set `b` have at least `c` common\\n        elements, 0 otherwise\\n    \";\n",
       "static PyObject *__pyx_pw_46_cython_magic_f7d61c5f9fe712799446c56e264d9857_1check_similarity_array_min(PyObject *__pyx_self, PyObject *__pyx_args, PyObject *__pyx_kwds) {\n",
       "  __Pyx_memviewslice __pyx_v_a = { 0, 0, { 0 }, { 0 }, { 0 } };\n",
       "  __Pyx_memviewslice __pyx_v_b = { 0, 0, { 0 }, { 0 }, { 0 } };\n",
       "  __pyx_t_46_cython_magic_f7d61c5f9fe712799446c56e264d9857_ARRAYINDEX_DTYPE_t __pyx_v_c;\n",
       "  PyObject *__pyx_r = 0;\n",
       "  <span class='refnanny'>__Pyx_RefNannyDeclarations</span>\n",
       "  <span class='refnanny'>__Pyx_RefNannySetupContext</span>(\"check_similarity_array_min (wrapper)\", 0);\n",
       "  {\n",
       "    static PyObject **__pyx_pyargnames[] = {&amp;__pyx_n_s_a,&amp;__pyx_n_s_b,&amp;__pyx_n_s_c,0};\n",
       "    PyObject* values[3] = {0,0,0};\n",
       "    if (unlikely(__pyx_kwds)) {\n",
       "      Py_ssize_t kw_args;\n",
       "      const Py_ssize_t pos_args = <span class='py_macro_api'>PyTuple_GET_SIZE</span>(__pyx_args);\n",
       "      switch (pos_args) {\n",
       "        case  3: values[2] = <span class='py_macro_api'>PyTuple_GET_ITEM</span>(__pyx_args, 2);\n",
       "        CYTHON_FALLTHROUGH;\n",
       "        case  2: values[1] = <span class='py_macro_api'>PyTuple_GET_ITEM</span>(__pyx_args, 1);\n",
       "        CYTHON_FALLTHROUGH;\n",
       "        case  1: values[0] = <span class='py_macro_api'>PyTuple_GET_ITEM</span>(__pyx_args, 0);\n",
       "        CYTHON_FALLTHROUGH;\n",
       "        case  0: break;\n",
       "        default: goto __pyx_L5_argtuple_error;\n",
       "      }\n",
       "      kw_args = <span class='py_c_api'>PyDict_Size</span>(__pyx_kwds);\n",
       "      switch (pos_args) {\n",
       "        case  0:\n",
       "        if (likely((values[0] = <span class='pyx_c_api'>__Pyx_PyDict_GetItemStr</span>(__pyx_kwds, __pyx_n_s_a)) != 0)) kw_args--;\n",
       "        else goto __pyx_L5_argtuple_error;\n",
       "        CYTHON_FALLTHROUGH;\n",
       "        case  1:\n",
       "        if (likely((values[1] = <span class='pyx_c_api'>__Pyx_PyDict_GetItemStr</span>(__pyx_kwds, __pyx_n_s_b)) != 0)) kw_args--;\n",
       "        else {\n",
       "          <span class='pyx_c_api'>__Pyx_RaiseArgtupleInvalid</span>(\"check_similarity_array_min\", 1, 3, 3, 1); <span class='error_goto'>__PYX_ERR(0, 7, __pyx_L3_error)</span>\n",
       "        }\n",
       "        CYTHON_FALLTHROUGH;\n",
       "        case  2:\n",
       "        if (likely((values[2] = <span class='pyx_c_api'>__Pyx_PyDict_GetItemStr</span>(__pyx_kwds, __pyx_n_s_c)) != 0)) kw_args--;\n",
       "        else {\n",
       "          <span class='pyx_c_api'>__Pyx_RaiseArgtupleInvalid</span>(\"check_similarity_array_min\", 1, 3, 3, 2); <span class='error_goto'>__PYX_ERR(0, 7, __pyx_L3_error)</span>\n",
       "        }\n",
       "      }\n",
       "      if (unlikely(kw_args &gt; 0)) {\n",
       "        if (unlikely(<span class='pyx_c_api'>__Pyx_ParseOptionalKeywords</span>(__pyx_kwds, __pyx_pyargnames, 0, values, pos_args, \"check_similarity_array_min\") &lt; 0)) <span class='error_goto'>__PYX_ERR(0, 7, __pyx_L3_error)</span>\n",
       "      }\n",
       "    } else if (<span class='py_macro_api'>PyTuple_GET_SIZE</span>(__pyx_args) != 3) {\n",
       "      goto __pyx_L5_argtuple_error;\n",
       "    } else {\n",
       "      values[0] = <span class='py_macro_api'>PyTuple_GET_ITEM</span>(__pyx_args, 0);\n",
       "      values[1] = <span class='py_macro_api'>PyTuple_GET_ITEM</span>(__pyx_args, 1);\n",
       "      values[2] = <span class='py_macro_api'>PyTuple_GET_ITEM</span>(__pyx_args, 2);\n",
       "    }\n",
       "    __pyx_v_a = __Pyx_PyObject_to_MemoryviewSlice_dc_nn___pyx_t_46_cython_magic_f7d61c5f9fe712799446c56e264d9857_ARRAYINDEX_DTYPE_t(values[0], PyBUF_WRITABLE);<span class='error_goto'> if (unlikely(!__pyx_v_a.memview)) __PYX_ERR(0, 8, __pyx_L3_error)</span>\n",
       "    __pyx_v_b = __Pyx_PyObject_to_MemoryviewSlice_dc_nn___pyx_t_46_cython_magic_f7d61c5f9fe712799446c56e264d9857_ARRAYINDEX_DTYPE_t(values[1], PyBUF_WRITABLE);<span class='error_goto'> if (unlikely(!__pyx_v_b.memview)) __PYX_ERR(0, 9, __pyx_L3_error)</span>\n",
       "    __pyx_v_c = <span class='pyx_c_api'>__Pyx_PyInt_As_Py_intptr_t</span>(values[2]); if (unlikely((__pyx_v_c == ((npy_intp)-1)) &amp;&amp; <span class='py_c_api'>PyErr_Occurred</span>())) <span class='error_goto'>__PYX_ERR(0, 10, __pyx_L3_error)</span>\n",
       "  }\n",
       "  goto __pyx_L4_argument_unpacking_done;\n",
       "  __pyx_L5_argtuple_error:;\n",
       "  <span class='pyx_c_api'>__Pyx_RaiseArgtupleInvalid</span>(\"check_similarity_array_min\", 1, 3, 3, <span class='py_macro_api'>PyTuple_GET_SIZE</span>(__pyx_args)); <span class='error_goto'>__PYX_ERR(0, 7, __pyx_L3_error)</span>\n",
       "  __pyx_L3_error:;\n",
       "  <span class='pyx_c_api'>__Pyx_AddTraceback</span>(\"_cython_magic_f7d61c5f9fe712799446c56e264d9857.check_similarity_array_min\", __pyx_clineno, __pyx_lineno, __pyx_filename);\n",
       "  <span class='refnanny'>__Pyx_RefNannyFinishContext</span>();\n",
       "  return NULL;\n",
       "  __pyx_L4_argument_unpacking_done:;\n",
       "  __pyx_r = __pyx_pf_46_cython_magic_f7d61c5f9fe712799446c56e264d9857_check_similarity_array_min(__pyx_self, __pyx_v_a, __pyx_v_b, __pyx_v_c);\n",
       "  int __pyx_lineno = 0;\n",
       "  const char *__pyx_filename = NULL;\n",
       "  int __pyx_clineno = 0;\n",
       "\n",
       "  /* function exit code */\n",
       "  <span class='refnanny'>__Pyx_RefNannyFinishContext</span>();\n",
       "  return __pyx_r;\n",
       "}\n",
       "\n",
       "static PyObject *__pyx_pf_46_cython_magic_f7d61c5f9fe712799446c56e264d9857_check_similarity_array_min(CYTHON_UNUSED PyObject *__pyx_self, __Pyx_memviewslice __pyx_v_a, __Pyx_memviewslice __pyx_v_b, __pyx_t_46_cython_magic_f7d61c5f9fe712799446c56e264d9857_ARRAYINDEX_DTYPE_t __pyx_v_c) {\n",
       "  PyObject *__pyx_r = NULL;\n",
       "  <span class='refnanny'>__Pyx_RefNannyDeclarations</span>\n",
       "  <span class='refnanny'>__Pyx_RefNannySetupContext</span>(\"check_similarity_array_min\", 0);\n",
       "  <span class='pyx_macro_api'>__Pyx_XDECREF</span>(__pyx_r);\n",
       "  if (unlikely(!__pyx_v_a.memview)) { <span class='pyx_c_api'>__Pyx_RaiseUnboundLocalError</span>(\"a\"); <span class='error_goto'>__PYX_ERR(0, 7, __pyx_L1_error)</span> }\n",
       "  if (unlikely(!__pyx_v_b.memview)) { <span class='pyx_c_api'>__Pyx_RaiseUnboundLocalError</span>(\"b\"); <span class='error_goto'>__PYX_ERR(0, 7, __pyx_L1_error)</span> }\n",
       "  __pyx_t_1 = <span class='pyx_c_api'>__Pyx_PyBool_FromLong</span>(__pyx_f_46_cython_magic_f7d61c5f9fe712799446c56e264d9857_check_similarity_array_min(__pyx_v_a, __pyx_v_b, __pyx_v_c, 0));<span class='error_goto'> if (unlikely(!__pyx_t_1)) __PYX_ERR(0, 7, __pyx_L1_error)</span>\n",
       "  <span class='refnanny'>__Pyx_GOTREF</span>(__pyx_t_1);\n",
       "  __pyx_r = __pyx_t_1;\n",
       "  __pyx_t_1 = 0;\n",
       "  goto __pyx_L0;\n",
       "\n",
       "  /* function exit code */\n",
       "  __pyx_L1_error:;\n",
       "  <span class='pyx_macro_api'>__Pyx_XDECREF</span>(__pyx_t_1);\n",
       "  <span class='pyx_c_api'>__Pyx_AddTraceback</span>(\"_cython_magic_f7d61c5f9fe712799446c56e264d9857.check_similarity_array_min\", __pyx_clineno, __pyx_lineno, __pyx_filename);\n",
       "  __pyx_r = NULL;\n",
       "  __pyx_L0:;\n",
       "  __PYX_XDEC_MEMVIEW(&amp;__pyx_v_a, 1);\n",
       "  __PYX_XDEC_MEMVIEW(&amp;__pyx_v_b, 1);\n",
       "  <span class='refnanny'>__Pyx_XGIVEREF</span>(__pyx_r);\n",
       "  <span class='refnanny'>__Pyx_RefNannyFinishContext</span>();\n",
       "  return __pyx_r;\n",
       "}\n",
       "</pre><pre class=\"cython line score-0\">&#xA0;<span class=\"\">08</span>:         <span class=\"n\">ARRAYINDEX_DTYPE_t</span><span class=\"p\">[::</span><span class=\"mf\">1</span><span class=\"p\">]</span> <span class=\"n\">a</span><span class=\"p\">,</span></pre>\n",
       "<pre class=\"cython line score-0\">&#xA0;<span class=\"\">09</span>:         <span class=\"n\">ARRAYINDEX_DTYPE_t</span><span class=\"p\">[::</span><span class=\"mf\">1</span><span class=\"p\">]</span> <span class=\"n\">b</span><span class=\"p\">,</span></pre>\n",
       "<pre class=\"cython line score-0\">&#xA0;<span class=\"\">10</span>:         <span class=\"n\">ARRAYINDEX_DTYPE_t</span> <span class=\"n\">c</span><span class=\"p\">):</span></pre>\n",
       "<pre class=\"cython line score-0\">&#xA0;<span class=\"\">11</span>:     <span class=\"sd\">&quot;&quot;&quot;Check if the CNN criterion is fullfilled</span></pre>\n",
       "<pre class=\"cython line score-0\">&#xA0;<span class=\"\">12</span>: </pre>\n",
       "<pre class=\"cython line score-0\">&#xA0;<span class=\"\">13</span>: <span class=\"sd\">    Check if `a` and `b` have at least `c` common elements.  Faster than</span></pre>\n",
       "<pre class=\"cython line score-0\">&#xA0;<span class=\"\">14</span>: <span class=\"sd\">    computing the intersection (say with `numpy.intersect1d`) and</span></pre>\n",
       "<pre class=\"cython line score-0\">&#xA0;<span class=\"\">15</span>: <span class=\"sd\">    comparing its length to `c`.</span></pre>\n",
       "<pre class=\"cython line score-0\">&#xA0;<span class=\"\">16</span>: </pre>\n",
       "<pre class=\"cython line score-0\">&#xA0;<span class=\"\">17</span>: <span class=\"sd\">    Args:</span></pre>\n",
       "<pre class=\"cython line score-0\">&#xA0;<span class=\"\">18</span>: <span class=\"sd\">        a, b: 1D Array of integers (neighbour point indices) that</span></pre>\n",
       "<pre class=\"cython line score-0\">&#xA0;<span class=\"\">19</span>: <span class=\"sd\">            supports the buffer protocol.</span></pre>\n",
       "<pre class=\"cython line score-0\">&#xA0;<span class=\"\">20</span>: <span class=\"sd\">        c: Check if `a` and `b` share this many elements.</span></pre>\n",
       "<pre class=\"cython line score-0\">&#xA0;<span class=\"\">21</span>: <span class=\"sd\">    Returns:</span></pre>\n",
       "<pre class=\"cython line score-0\">&#xA0;<span class=\"\">22</span>: <span class=\"sd\">        1 if set `a` and set `b` have at least `c` common</span></pre>\n",
       "<pre class=\"cython line score-0\">&#xA0;<span class=\"\">23</span>: <span class=\"sd\">        elements, 0 otherwise</span></pre>\n",
       "<pre class=\"cython line score-0\">&#xA0;<span class=\"\">24</span>: <span class=\"sd\">    &quot;&quot;&quot;</span></pre>\n",
       "<pre class=\"cython line score-0\">&#xA0;<span class=\"\">25</span>: </pre>\n",
       "<pre class=\"cython line score-0\">&#xA0;<span class=\"\">26</span>:     <span class=\"k\">cdef</span> <span class=\"kt\">ARRAYINDEX_DTYPE_t</span> <span class=\"nf\">i</span><span class=\"p\">,</span> <span class=\"nf\">j</span>                   <span class=\"c\"># Control variables</span></pre>\n",
       "<pre class=\"cython line score-0\" onclick=\"(function(s){s.display=s.display==='block'?'none':'block'})(this.nextElementSibling.style)\">+<span class=\"\">27</span>:     <span class=\"k\">cdef</span> <span class=\"kt\">ARRAYINDEX_DTYPE_t</span> <span class=\"nf\">sa</span> <span class=\"o\">=</span> <span class=\"n\">a</span><span class=\"o\">.</span><span class=\"n\">shape</span><span class=\"p\">[</span><span class=\"mf\">0</span><span class=\"p\">]</span>        <span class=\"c\"># Array lengths</span></pre>\n",
       "<pre class='cython code score-0 '>  __pyx_v_sa = (__pyx_v_a.shape[0]);\n",
       "</pre><pre class=\"cython line score-0\" onclick=\"(function(s){s.display=s.display==='block'?'none':'block'})(this.nextElementSibling.style)\">+<span class=\"\">28</span>:     <span class=\"k\">cdef</span> <span class=\"kt\">ARRAYINDEX_DTYPE_t</span> <span class=\"nf\">sb</span> <span class=\"o\">=</span> <span class=\"n\">b</span><span class=\"o\">.</span><span class=\"n\">shape</span><span class=\"p\">[</span><span class=\"mf\">0</span><span class=\"p\">]</span></pre>\n",
       "<pre class='cython code score-0 '>  __pyx_v_sb = (__pyx_v_b.shape[0]);\n",
       "</pre><pre class=\"cython line score-0\">&#xA0;<span class=\"\">29</span>:     <span class=\"k\">cdef</span> <span class=\"kt\">ARRAYINDEX_DTYPE_t</span> <span class=\"nf\">ai</span><span class=\"p\">,</span> <span class=\"nf\">bj</span>                 <span class=\"c\"># Checked elements</span></pre>\n",
       "<pre class=\"cython line score-0\" onclick=\"(function(s){s.display=s.display==='block'?'none':'block'})(this.nextElementSibling.style)\">+<span class=\"\">30</span>:     <span class=\"k\">cdef</span> <span class=\"kt\">ARRAYINDEX_DTYPE_t</span> <span class=\"nf\">common</span> <span class=\"o\">=</span> <span class=\"mf\">0</span>                        <span class=\"c\"># Common neighbours count</span></pre>\n",
       "<pre class='cython code score-0 '>  __pyx_v_common = 0;\n",
       "</pre><pre class=\"cython line score-0\">&#xA0;<span class=\"\">31</span>: </pre>\n",
       "<pre class=\"cython line score-0\" onclick=\"(function(s){s.display=s.display==='block'?'none':'block'})(this.nextElementSibling.style)\">+<span class=\"\">32</span>:     <span class=\"k\">if</span> <span class=\"n\">c</span> <span class=\"o\">==</span> <span class=\"mf\">0</span><span class=\"p\">:</span></pre>\n",
       "<pre class='cython code score-0 '>  __pyx_t_1 = ((__pyx_v_c == 0) != 0);\n",
       "  if (__pyx_t_1) {\n",
       "/* … */\n",
       "  }\n",
       "</pre><pre class=\"cython line score-0\" onclick=\"(function(s){s.display=s.display==='block'?'none':'block'})(this.nextElementSibling.style)\">+<span class=\"\">33</span>:         <span class=\"k\">return</span> <span class=\"mf\">1</span></pre>\n",
       "<pre class='cython code score-0 '>    __pyx_r = 1;\n",
       "    goto __pyx_L0;\n",
       "</pre><pre class=\"cython line score-0\">&#xA0;<span class=\"\">34</span>: </pre>\n",
       "<pre class=\"cython line score-0\" onclick=\"(function(s){s.display=s.display==='block'?'none':'block'})(this.nextElementSibling.style)\">+<span class=\"\">35</span>:     <span class=\"k\">if</span> <span class=\"n\">sa</span> <span class=\"o\">&gt;</span> <span class=\"n\">sb</span><span class=\"p\">:</span></pre>\n",
       "<pre class='cython code score-0 '>  __pyx_t_1 = ((__pyx_v_sa &gt; __pyx_v_sb) != 0);\n",
       "  if (__pyx_t_1) {\n",
       "/* … */\n",
       "  }\n",
       "</pre><pre class=\"cython line score-0\" onclick=\"(function(s){s.display=s.display==='block'?'none':'block'})(this.nextElementSibling.style)\">+<span class=\"\">36</span>:         <span class=\"n\">a</span><span class=\"p\">,</span> <span class=\"n\">b</span> <span class=\"o\">=</span> <span class=\"n\">b</span><span class=\"p\">,</span> <span class=\"n\">a</span></pre>\n",
       "<pre class='cython code score-0 '>    __pyx_t_2 = __pyx_v_b;\n",
       "    __PYX_INC_MEMVIEW(&amp;__pyx_t_2, 1);\n",
       "    __pyx_t_3 = __pyx_v_a;\n",
       "    __PYX_INC_MEMVIEW(&amp;__pyx_t_3, 1);\n",
       "    __PYX_XDEC_MEMVIEW(&amp;__pyx_v_a, 1);\n",
       "    __pyx_v_a = __pyx_t_2;\n",
       "    __pyx_t_2.memview = NULL;\n",
       "    __pyx_t_2.data = NULL;\n",
       "    __PYX_XDEC_MEMVIEW(&amp;__pyx_v_b, 1);\n",
       "    __pyx_v_b = __pyx_t_3;\n",
       "    __pyx_t_3.memview = NULL;\n",
       "    __pyx_t_3.data = NULL;\n",
       "</pre><pre class=\"cython line score-0\">&#xA0;<span class=\"\">37</span>: </pre>\n",
       "<pre class=\"cython line score-0\" onclick=\"(function(s){s.display=s.display==='block'?'none':'block'})(this.nextElementSibling.style)\">+<span class=\"\">38</span>:     <span class=\"k\">for</span> <span class=\"n\">i</span> <span class=\"ow\">in</span> <span class=\"nb\">range</span><span class=\"p\">(</span><span class=\"n\">sa</span><span class=\"p\">):</span></pre>\n",
       "<pre class='cython code score-0 '>  __pyx_t_4 = __pyx_v_sa;\n",
       "  __pyx_t_5 = __pyx_t_4;\n",
       "  for (__pyx_t_6 = 0; __pyx_t_6 &lt; __pyx_t_5; __pyx_t_6+=1) {\n",
       "    __pyx_v_i = __pyx_t_6;\n",
       "</pre><pre class=\"cython line score-2\" onclick=\"(function(s){s.display=s.display==='block'?'none':'block'})(this.nextElementSibling.style)\">+<span class=\"\">39</span>:         <span class=\"n\">ai</span> <span class=\"o\">=</span> <span class=\"n\">a</span><span class=\"p\">[</span><span class=\"n\">i</span><span class=\"p\">]</span></pre>\n",
       "<pre class='cython code score-2 '>    __pyx_t_7 = __pyx_v_i;\n",
       "    __pyx_t_8 = -1;\n",
       "    if (__pyx_t_7 &lt; 0) {\n",
       "      __pyx_t_7 += __pyx_v_a.shape[0];\n",
       "      if (unlikely(__pyx_t_7 &lt; 0)) __pyx_t_8 = 0;\n",
       "    } else if (unlikely(__pyx_t_7 &gt;= __pyx_v_a.shape[0])) __pyx_t_8 = 0;\n",
       "    if (unlikely(__pyx_t_8 != -1)) {\n",
       "      <span class='pyx_c_api'>__Pyx_RaiseBufferIndexError</span>(__pyx_t_8);\n",
       "      <span class='error_goto'>__PYX_ERR(0, 39, __pyx_L1_error)</span>\n",
       "    }\n",
       "    __pyx_v_ai = (*((__pyx_t_46_cython_magic_f7d61c5f9fe712799446c56e264d9857_ARRAYINDEX_DTYPE_t *) ( /* dim=0 */ ((char *) (((__pyx_t_46_cython_magic_f7d61c5f9fe712799446c56e264d9857_ARRAYINDEX_DTYPE_t *) __pyx_v_a.data) + __pyx_t_7)) )));\n",
       "</pre><pre class=\"cython line score-0\" onclick=\"(function(s){s.display=s.display==='block'?'none':'block'})(this.nextElementSibling.style)\">+<span class=\"\">40</span>:         <span class=\"k\">for</span> <span class=\"n\">j</span> <span class=\"ow\">in</span> <span class=\"nb\">range</span><span class=\"p\">(</span><span class=\"n\">sb</span><span class=\"p\">):</span></pre>\n",
       "<pre class='cython code score-0 '>    __pyx_t_9 = __pyx_v_sb;\n",
       "    __pyx_t_10 = __pyx_t_9;\n",
       "    for (__pyx_t_11 = 0; __pyx_t_11 &lt; __pyx_t_10; __pyx_t_11+=1) {\n",
       "      __pyx_v_j = __pyx_t_11;\n",
       "</pre><pre class=\"cython line score-2\" onclick=\"(function(s){s.display=s.display==='block'?'none':'block'})(this.nextElementSibling.style)\">+<span class=\"\">41</span>:             <span class=\"n\">bj</span> <span class=\"o\">=</span> <span class=\"n\">b</span><span class=\"p\">[</span><span class=\"n\">j</span><span class=\"p\">]</span></pre>\n",
       "<pre class='cython code score-2 '>      __pyx_t_7 = __pyx_v_j;\n",
       "      __pyx_t_8 = -1;\n",
       "      if (__pyx_t_7 &lt; 0) {\n",
       "        __pyx_t_7 += __pyx_v_b.shape[0];\n",
       "        if (unlikely(__pyx_t_7 &lt; 0)) __pyx_t_8 = 0;\n",
       "      } else if (unlikely(__pyx_t_7 &gt;= __pyx_v_b.shape[0])) __pyx_t_8 = 0;\n",
       "      if (unlikely(__pyx_t_8 != -1)) {\n",
       "        <span class='pyx_c_api'>__Pyx_RaiseBufferIndexError</span>(__pyx_t_8);\n",
       "        <span class='error_goto'>__PYX_ERR(0, 41, __pyx_L1_error)</span>\n",
       "      }\n",
       "      __pyx_v_bj = (*((__pyx_t_46_cython_magic_f7d61c5f9fe712799446c56e264d9857_ARRAYINDEX_DTYPE_t *) ( /* dim=0 */ ((char *) (((__pyx_t_46_cython_magic_f7d61c5f9fe712799446c56e264d9857_ARRAYINDEX_DTYPE_t *) __pyx_v_b.data) + __pyx_t_7)) )));\n",
       "</pre><pre class=\"cython line score-0\" onclick=\"(function(s){s.display=s.display==='block'?'none':'block'})(this.nextElementSibling.style)\">+<span class=\"\">42</span>:             <span class=\"k\">if</span> <span class=\"n\">ai</span> <span class=\"o\">==</span> <span class=\"n\">bj</span><span class=\"p\">:</span></pre>\n",
       "<pre class='cython code score-0 '>      __pyx_t_1 = ((__pyx_v_ai == __pyx_v_bj) != 0);\n",
       "      if (__pyx_t_1) {\n",
       "/* … */\n",
       "      }\n",
       "    }\n",
       "    __pyx_L8_break:;\n",
       "  }\n",
       "</pre><pre class=\"cython line score-0\">&#xA0;<span class=\"\">43</span>:                 <span class=\"c\"># Check similarity and return/move on early</span></pre>\n",
       "<pre class=\"cython line score-0\" onclick=\"(function(s){s.display=s.display==='block'?'none':'block'})(this.nextElementSibling.style)\">+<span class=\"\">44</span>:                 <span class=\"n\">common</span> <span class=\"o\">+=</span> <span class=\"mf\">1</span></pre>\n",
       "<pre class='cython code score-0 '>        __pyx_v_common = (__pyx_v_common + 1);\n",
       "</pre><pre class=\"cython line score-0\" onclick=\"(function(s){s.display=s.display==='block'?'none':'block'})(this.nextElementSibling.style)\">+<span class=\"\">45</span>:                 <span class=\"k\">if</span> <span class=\"n\">common</span> <span class=\"o\">==</span> <span class=\"n\">c</span><span class=\"p\">:</span></pre>\n",
       "<pre class='cython code score-0 '>        __pyx_t_1 = ((__pyx_v_common == __pyx_v_c) != 0);\n",
       "        if (__pyx_t_1) {\n",
       "/* … */\n",
       "        }\n",
       "</pre><pre class=\"cython line score-0\" onclick=\"(function(s){s.display=s.display==='block'?'none':'block'})(this.nextElementSibling.style)\">+<span class=\"\">46</span>:                     <span class=\"k\">return</span> <span class=\"mf\">1</span></pre>\n",
       "<pre class='cython code score-0 '>          __pyx_r = 1;\n",
       "          goto __pyx_L0;\n",
       "</pre><pre class=\"cython line score-0\" onclick=\"(function(s){s.display=s.display==='block'?'none':'block'})(this.nextElementSibling.style)\">+<span class=\"\">47</span>:                 <span class=\"k\">break</span></pre>\n",
       "<pre class='cython code score-0 '>        goto __pyx_L8_break;\n",
       "</pre><pre class=\"cython line score-0\" onclick=\"(function(s){s.display=s.display==='block'?'none':'block'})(this.nextElementSibling.style)\">+<span class=\"\">48</span>:     <span class=\"k\">return</span> <span class=\"mf\">0</span></pre>\n",
       "<pre class='cython code score-0 '>  __pyx_r = 0;\n",
       "  goto __pyx_L0;\n",
       "</pre></div></body></html>"
      ],
      "text/plain": [
       "<IPython.core.display.HTML object>"
      ]
     },
     "execution_count": 10,
     "metadata": {},
     "output_type": "execute_result"
    }
   ],
   "source": [
    "%%cython -a\n",
    "\n",
    "import numpy as np\n",
    "cimport numpy as np\n",
    "\n",
    "ctypedef np.intp_t ARRAYINDEX_DTYPE_t\n",
    "\n",
    "cpdef bint check_similarity_array_min(\n",
    "        ARRAYINDEX_DTYPE_t[::1] a,\n",
    "        ARRAYINDEX_DTYPE_t[::1] b,\n",
    "        ARRAYINDEX_DTYPE_t c):\n",
    "    \"\"\"Check if the CNN criterion is fullfilled\n",
    "\n",
    "    Check if `a` and `b` have at least `c` common elements.  Faster than\n",
    "    computing the intersection (say with `numpy.intersect1d`) and\n",
    "    comparing its length to `c`.\n",
    "\n",
    "    Args:\n",
    "        a, b: 1D Array of integers (neighbour point indices) that\n",
    "            supports the buffer protocol.\n",
    "        c: Check if `a` and `b` share this many elements.\n",
    "    Returns:\n",
    "        1 if set `a` and set `b` have at least `c` common\n",
    "        elements, 0 otherwise\n",
    "    \"\"\"\n",
    "\n",
    "    cdef ARRAYINDEX_DTYPE_t i, j                   # Control variables\n",
    "    cdef ARRAYINDEX_DTYPE_t sa = a.shape[0]        # Array lengths\n",
    "    cdef ARRAYINDEX_DTYPE_t sb = b.shape[0]\n",
    "    cdef ARRAYINDEX_DTYPE_t ai, bj                 # Checked elements\n",
    "    cdef ARRAYINDEX_DTYPE_t common = 0             # Common neighbours count\n",
    "\n",
    "    if c == 0:\n",
    "        return 1\n",
    "    \n",
    "    if sa > sb:\n",
    "        a, b = b, a\n",
    "\n",
    "    for i in range(sa):\n",
    "        ai = a[i]\n",
    "        for j in range(sb):\n",
    "            bj = b[j]\n",
    "            if ai == bj:\n",
    "                # Check similarity and return/move on early\n",
    "                common += 1\n",
    "                if common == c:\n",
    "                    return 1\n",
    "                break\n",
    "    return 0"
   ]
  },
  {
   "cell_type": "code",
   "execution_count": 11,
   "metadata": {
    "ExecuteTime": {
     "end_time": "2020-10-05T09:31:15.905047Z",
     "start_time": "2020-10-05T09:31:15.886067Z"
    }
   },
   "outputs": [],
   "source": [
    "%%cython\n",
    "\n",
    "import numpy as np\n",
    "cimport numpy as np\n",
    "\n",
    "ctypedef np.intp_t ARRAYINDEX_DTYPE_t\n",
    "\n",
    "cpdef bint check_similarity_array(\n",
    "        ARRAYINDEX_DTYPE_t[::1] a,\n",
    "        ARRAYINDEX_DTYPE_t[::1] b,\n",
    "        ARRAYINDEX_DTYPE_t c):\n",
    "    \"\"\"Check if the CNN criterion is fullfilled\n",
    "\n",
    "    Check if `a` and `b` have at least `c` common elements.\n",
    "\n",
    "    Args:\n",
    "        a, b: 1D Array of integers (neighbour point indices) that\n",
    "            supports the buffer protocol.\n",
    "        c: Check if `a` and `b` share this many elements.\n",
    "    Returns:\n",
    "        1 if set `a` and set `b` have at least `c` common\n",
    "        elements, 0 otherwise\n",
    "    \"\"\"\n",
    "\n",
    "    cdef ARRAYINDEX_DTYPE_t i, j                   # Control variables\n",
    "    cdef ARRAYINDEX_DTYPE_t ai, bj                 # Checked elements\n",
    "    cdef ARRAYINDEX_DTYPE_t common                 # Common neighbours count\n",
    "\n",
    "    if c == 0:\n",
    "        return 1\n",
    "    \n",
    "    common = np.intersect1d(a, b, assume_unique=True).shape[0]\n",
    "    if common >= c:\n",
    "        return 1\n",
    "    return 0"
   ]
  },
  {
   "cell_type": "code",
   "execution_count": 38,
   "metadata": {
    "ExecuteTime": {
     "end_time": "2020-10-05T10:10:52.609339Z",
     "start_time": "2020-10-05T10:10:46.021074Z"
    }
   },
   "outputs": [],
   "source": [
    "%%cython\n",
    "\n",
    "from libc.stdlib cimport malloc, free\n",
    "import numpy as np\n",
    "cimport numpy as np\n",
    "\n",
    "ctypedef np.intp_t ARRAYINDEX_DTYPE_t\n",
    "\n",
    "cpdef bint check_similarity_array_custom(\n",
    "        ARRAYINDEX_DTYPE_t[::1] a,\n",
    "        ARRAYINDEX_DTYPE_t[::1] b,\n",
    "        ARRAYINDEX_DTYPE_t c):\n",
    "    \"\"\"Check if the CNN criterion is fullfilled\n",
    "\n",
    "    Check if `a` and `b` have at least `c` common elements.\n",
    "\n",
    "    Args:\n",
    "        a, b: 1D Array of integers (neighbour point indices) that\n",
    "            supports the buffer protocol.\n",
    "        c: Check if `a` and `b` share this many elements.\n",
    "    Returns:\n",
    "        1 if set `a` and set `b` have at least `c` common\n",
    "        elements, 0 otherwise\n",
    "    \"\"\"\n",
    "    \n",
    "    if c == 0:\n",
    "        return 1\n",
    "\n",
    "    cdef ARRAYINDEX_DTYPE_t i = 0, j = 0, k = 0  # Control variables\n",
    "    cdef ARRAYINDEX_DTYPE_t sa = a.shape[0]\n",
    "    cdef ARRAYINDEX_DTYPE_t sb = b.shape[0]\n",
    "    cdef ARRAYINDEX_DTYPE_t ai, bj \n",
    "    cdef ARRAYINDEX_DTYPE_t common = 0         # Common neighbours count\n",
    "    \n",
    "    cdef ARRAYINDEX_DTYPE_t* mergedsort_arrayptr\n",
    "\n",
    "    mergedsort_arrayptr = <ARRAYINDEX_DTYPE_t*> malloc(sizeof(ARRAYINDEX_DTYPE_t) * (sa + sb))\n",
    "\n",
    "    ai = a[i]\n",
    "    bj = b[j]\n",
    "    while True:\n",
    "        if ai < bj:\n",
    "            mergedsort_arrayptr[k] = ai\n",
    "            i += 1\n",
    "            k += 1\n",
    "            if (i == sa):\n",
    "                mergedsort_arrayptr[k] = b[j]\n",
    "                j += 1\n",
    "                k += 1 \n",
    "                while j < sb:\n",
    "                    mergedsort_arrayptr[k] = b[j]\n",
    "                    j += 1\n",
    "                    k += 1\n",
    "                break\n",
    "            ai = a[i]\n",
    "        else:\n",
    "            mergedsort_arrayptr[k] = bj\n",
    "            j += 1\n",
    "            k += 1\n",
    "            if (j == sb):\n",
    "                mergedsort_arrayptr[k] = a[i]\n",
    "                i += 1\n",
    "                k += 1 \n",
    "                while i < sa:\n",
    "                    mergedsort_arrayptr[k] = a[i]\n",
    "                    i += 1\n",
    "                    k += 1\n",
    "                break\n",
    "            bj = b[j]\n",
    "        \n",
    "    for i in range(k - 1):\n",
    "        if mergedsort_arrayptr[i] == mergedsort_arrayptr[i + 1]:\n",
    "            common += 1\n",
    "            if common == c:\n",
    "                free(mergedsort_arrayptr)\n",
    "                return 1\n",
    "            \n",
    "    free(mergedsort_arrayptr)\n",
    "    return 0"
   ]
  },
  {
   "cell_type": "code",
   "execution_count": 52,
   "metadata": {
    "ExecuteTime": {
     "end_time": "2020-10-05T10:44:44.558692Z",
     "start_time": "2020-10-05T10:44:39.141639Z"
    }
   },
   "outputs": [
    {
     "name": "stderr",
     "output_type": "stream",
     "text": [
      "warning: /home/janjoswig/.cache/ipython/cython/_cython_magic_61e6836633445823207417287c53d7f5.pyx:31:10: Use boundscheck(False) for faster access\n",
      "warning: /home/janjoswig/.cache/ipython/cython/_cython_magic_61e6836633445823207417287c53d7f5.pyx:32:10: Use boundscheck(False) for faster access\n",
      "warning: /home/janjoswig/.cache/ipython/cython/_cython_magic_61e6836633445823207417287c53d7f5.pyx:48:18: Use boundscheck(False) for faster access\n",
      "warning: /home/janjoswig/.cache/ipython/cython/_cython_magic_61e6836633445823207417287c53d7f5.pyx:62:18: Use boundscheck(False) for faster access\n"
     ]
    }
   ],
   "source": [
    "%%cython\n",
    "\n",
    "from libc.stdlib cimport malloc, free\n",
    "import numpy as np\n",
    "cimport numpy as np\n",
    "\n",
    "ctypedef np.intp_t ARRAYINDEX_DTYPE_t\n",
    "\n",
    "cpdef bint check_similarity_array_custom2(\n",
    "        ARRAYINDEX_DTYPE_t[::1] a,\n",
    "        ARRAYINDEX_DTYPE_t[::1] b,\n",
    "        ARRAYINDEX_DTYPE_t c) nogil:\n",
    "    \"\"\"Check if the CNN criterion is fullfilled\n",
    "\n",
    "    Check if `a` and `b` have at least `c` common elements.\n",
    "\n",
    "    Args:\n",
    "        a, b: 1D Array of integers (neighbour point indices) that\n",
    "            supports the buffer protocol.\n",
    "        c: Check if `a` and `b` share this many elements.\n",
    "    Returns:\n",
    "        1 if set `a` and set `b` have at least `c` common\n",
    "        elements, 0 otherwise\n",
    "    \"\"\"\n",
    "\n",
    "    cdef ARRAYINDEX_DTYPE_t i = 0, j = 0  # Control variables\n",
    "    cdef ARRAYINDEX_DTYPE_t sa = a.shape[0]\n",
    "    cdef ARRAYINDEX_DTYPE_t sb = b.shape[0]\n",
    "    cdef ARRAYINDEX_DTYPE_t ai, bj, k \n",
    "    cdef ARRAYINDEX_DTYPE_t common = 0         # Common neighbours count\n",
    "    \n",
    "    ai = a[i]\n",
    "    bj = b[j]\n",
    "    k = -1\n",
    "    while True:\n",
    "        if ai < bj:\n",
    "            if ai == k:\n",
    "                common += 1\n",
    "                if common == c:\n",
    "                    return 1\n",
    "            k = ai\n",
    "            i += 1\n",
    "            if (i == sa):\n",
    "                if bj == k:\n",
    "                    common += 1\n",
    "                    if common == c:\n",
    "                        return 1\n",
    "                return 0\n",
    "            ai = a[i] \n",
    "        else:\n",
    "            if bj == k:\n",
    "                common += 1\n",
    "                if common == c:\n",
    "                    return 1\n",
    "            k = bj\n",
    "            j += 1\n",
    "            if (j == sb):\n",
    "                if ai == k:\n",
    "                    common += 1\n",
    "                    if common == c:\n",
    "                        return 1\n",
    "                return 0\n",
    "            bj = b[j]"
   ]
  },
  {
   "cell_type": "code",
   "execution_count": 58,
   "metadata": {
    "ExecuteTime": {
     "end_time": "2020-10-05T12:10:25.515952Z",
     "start_time": "2020-10-05T12:10:25.498005Z"
    }
   },
   "outputs": [
    {
     "data": {
      "text/plain": [
       "False"
      ]
     },
     "execution_count": 58,
     "metadata": {},
     "output_type": "execute_result"
    }
   ],
   "source": [
    "check_similarity_array_custom2(np.arange(10000), np.arange(10000), 10001)"
   ]
  },
  {
   "cell_type": "code",
   "execution_count": 37,
   "metadata": {
    "ExecuteTime": {
     "end_time": "2020-10-05T10:10:27.912367Z",
     "start_time": "2020-10-05T10:10:27.905207Z"
    }
   },
   "outputs": [
    {
     "data": {
      "text/plain": [
       "True"
      ]
     },
     "execution_count": 37,
     "metadata": {},
     "output_type": "execute_result"
    }
   ],
   "source": [
    "check_similarity_array_custom2(np.array([1, 3, 6, 7]), np.array([1, 2, 3, 6, 7]), 1)"
   ]
  },
  {
   "cell_type": "code",
   "execution_count": 42,
   "metadata": {
    "ExecuteTime": {
     "end_time": "2020-10-05T10:12:01.655158Z",
     "start_time": "2020-10-05T10:12:01.649757Z"
    }
   },
   "outputs": [],
   "source": [
    "check_functions = [\n",
    "    # (check_similarity_set, \"set\", \"set\"),\n",
    "    # (check_similarity_set_min, \"set_min\", \"set\"),\n",
    "    (check_similarity_array, \"array\", \"array\"),\n",
    "    # (check_similarity_array_min, \"array_min\", \"array\"),\n",
    "    # (check_similarity_array_custom, \"array_custom\", \"array\"),\n",
    "    (check_similarity_array_custom2, \"array_custom2\", \"array\"),\n",
    "    ]"
   ]
  },
  {
   "cell_type": "code",
   "execution_count": 43,
   "metadata": {
    "ExecuteTime": {
     "end_time": "2020-10-05T10:17:23.739054Z",
     "start_time": "2020-10-05T10:12:09.183131Z"
    }
   },
   "outputs": [
    {
     "name": "stdout",
     "output_type": "stream",
     "text": [
      "17.5 µs ± 2.22 µs per loop (mean ± std. dev. of 7 runs, 100000 loops each)\n",
      "18.4 µs ± 1.94 µs per loop (mean ± std. dev. of 7 runs, 100000 loops each)\n",
      "16.1 µs ± 763 ns per loop (mean ± std. dev. of 7 runs, 100000 loops each)\n",
      "20.5 µs ± 1.28 µs per loop (mean ± std. dev. of 7 runs, 100000 loops each)\n",
      "20.8 µs ± 4.35 µs per loop (mean ± std. dev. of 7 runs, 10000 loops each)\n",
      "18.1 µs ± 421 ns per loop (mean ± std. dev. of 7 runs, 100000 loops each)\n",
      "97.2 µs ± 1.39 µs per loop (mean ± std. dev. of 7 runs, 10000 loops each)\n",
      "97.4 µs ± 810 ns per loop (mean ± std. dev. of 7 runs, 10000 loops each)\n",
      "97.8 µs ± 832 ns per loop (mean ± std. dev. of 7 runs, 10000 loops each)\n",
      "1.18 ms ± 3.25 µs per loop (mean ± std. dev. of 7 runs, 1000 loops each)\n",
      "1.18 ms ± 6.45 µs per loop (mean ± std. dev. of 7 runs, 1000 loops each)\n",
      "1.18 ms ± 5.26 µs per loop (mean ± std. dev. of 7 runs, 1000 loops each)\n",
      "17.7 ms ± 2.28 ms per loop (mean ± std. dev. of 7 runs, 100 loops each)\n",
      "16.4 ms ± 548 µs per loop (mean ± std. dev. of 7 runs, 10 loops each)\n",
      "17 ms ± 1.62 ms per loop (mean ± std. dev. of 7 runs, 100 loops each)\n",
      "214 ms ± 3.24 ms per loop (mean ± std. dev. of 7 runs, 1 loop each)\n",
      "211 ms ± 6.36 ms per loop (mean ± std. dev. of 7 runs, 1 loop each)\n",
      "210 ms ± 5.11 ms per loop (mean ± std. dev. of 7 runs, 1 loop each)\n",
      "1.22 µs ± 9.76 ns per loop (mean ± std. dev. of 7 runs, 1000000 loops each)\n",
      "1.29 µs ± 88.5 ns per loop (mean ± std. dev. of 7 runs, 1000000 loops each)\n",
      "1.27 µs ± 5.85 ns per loop (mean ± std. dev. of 7 runs, 1000000 loops each)\n",
      "1.23 µs ± 11.1 ns per loop (mean ± std. dev. of 7 runs, 1000000 loops each)\n",
      "1.57 µs ± 278 ns per loop (mean ± std. dev. of 7 runs, 1000000 loops each)\n",
      "1.55 µs ± 26.9 ns per loop (mean ± std. dev. of 7 runs, 1000000 loops each)\n",
      "1.21 µs ± 8.76 ns per loop (mean ± std. dev. of 7 runs, 1000000 loops each)\n",
      "2.6 µs ± 40.6 ns per loop (mean ± std. dev. of 7 runs, 100000 loops each)\n",
      "4.01 µs ± 68.9 ns per loop (mean ± std. dev. of 7 runs, 100000 loops each)\n",
      "1.21 µs ± 8.32 ns per loop (mean ± std. dev. of 7 runs, 1000000 loops each)\n",
      "14.9 µs ± 133 ns per loop (mean ± std. dev. of 7 runs, 100000 loops each)\n",
      "28.9 µs ± 1.44 µs per loop (mean ± std. dev. of 7 runs, 10000 loops each)\n",
      "1.21 µs ± 21.7 ns per loop (mean ± std. dev. of 7 runs, 1000000 loops each)\n",
      "134 µs ± 636 ns per loop (mean ± std. dev. of 7 runs, 10000 loops each)\n",
      "271 µs ± 5.65 µs per loop (mean ± std. dev. of 7 runs, 1000 loops each)\n",
      "1.21 µs ± 11.1 ns per loop (mean ± std. dev. of 7 runs, 1000000 loops each)\n",
      "1.39 ms ± 5.18 µs per loop (mean ± std. dev. of 7 runs, 1000 loops each)\n",
      "2.78 ms ± 36.8 µs per loop (mean ± std. dev. of 7 runs, 100 loops each)\n"
     ]
    }
   ],
   "source": [
    "if \"timings_high_sim\" not in dir():\n",
    "    timings_high_sim = defaultdict(lambda: defaultdict(dict))\n",
    "for f, name, form in check_functions:\n",
    "    for case in CASES_HIGH_SIM:\n",
    "        case = format_case(case, form=form)\n",
    "        for c, kind in [(1, \"1\"), (int(case[2]) // 2, \"half\"), (int(case[2]), \"full\")]:\n",
    "            timings_high_sim[name][case[2]][kind] = %timeit -o f(*case[:2], c)"
   ]
  },
  {
   "cell_type": "code",
   "execution_count": 25,
   "metadata": {
    "ExecuteTime": {
     "end_time": "2020-10-05T09:43:59.738142Z",
     "start_time": "2020-10-05T09:43:59.716660Z"
    }
   },
   "outputs": [
    {
     "data": {
      "text/plain": [
       "defaultdict(<function __main__.<lambda>()>,\n",
       "            {'array_custom': defaultdict(dict,\n",
       "                         {'10': {'1': <TimeitResult : 1.26 µs ± 104 ns per loop (mean ± std. dev. of 7 runs, 1000000 loops each)>,\n",
       "                           'half': <TimeitResult : 1.19 µs ± 30.8 ns per loop (mean ± std. dev. of 7 runs, 1000000 loops each)>,\n",
       "                           'full': <TimeitResult : 1.19 µs ± 10.4 ns per loop (mean ± std. dev. of 7 runs, 1000000 loops each)>},\n",
       "                          '100': {'1': <TimeitResult : 1.47 µs ± 5.98 ns per loop (mean ± std. dev. of 7 runs, 1000000 loops each)>,\n",
       "                           'half': <TimeitResult : 1.57 µs ± 8.43 ns per loop (mean ± std. dev. of 7 runs, 1000000 loops each)>,\n",
       "                           'full': <TimeitResult : 1.93 µs ± 317 ns per loop (mean ± std. dev. of 7 runs, 1000000 loops each)>},\n",
       "                          '1000': {'1': <TimeitResult : 5.03 µs ± 839 ns per loop (mean ± std. dev. of 7 runs, 100000 loops each)>,\n",
       "                           'half': <TimeitResult : 5.5 µs ± 698 ns per loop (mean ± std. dev. of 7 runs, 100000 loops each)>,\n",
       "                           'full': <TimeitResult : 6.69 µs ± 892 ns per loop (mean ± std. dev. of 7 runs, 100000 loops each)>},\n",
       "                          '10000': {'1': <TimeitResult : 25.5 µs ± 1.5 µs per loop (mean ± std. dev. of 7 runs, 10000 loops each)>,\n",
       "                           'half': <TimeitResult : 35.9 µs ± 3.82 µs per loop (mean ± std. dev. of 7 runs, 10000 loops each)>,\n",
       "                           'full': <TimeitResult : 40.6 µs ± 4.62 µs per loop (mean ± std. dev. of 7 runs, 10000 loops each)>},\n",
       "                          '100000': {'1': <TimeitResult : 362 µs ± 81.2 µs per loop (mean ± std. dev. of 7 runs, 1000 loops each)>,\n",
       "                           'half': <TimeitResult : 406 µs ± 76.1 µs per loop (mean ± std. dev. of 7 runs, 1000 loops each)>,\n",
       "                           'full': <TimeitResult : 449 µs ± 127 µs per loop (mean ± std. dev. of 7 runs, 1000 loops each)>},\n",
       "                          '1000000': {'1': <TimeitResult : 3.62 ms ± 615 µs per loop (mean ± std. dev. of 7 runs, 100 loops each)>,\n",
       "                           'half': <TimeitResult : 3.87 ms ± 80.5 µs per loop (mean ± std. dev. of 7 runs, 100 loops each)>,\n",
       "                           'full': <TimeitResult : 4.61 ms ± 44.5 µs per loop (mean ± std. dev. of 7 runs, 100 loops each)>}}),\n",
       "             'set': defaultdict(dict,\n",
       "                         {'10': {'1': <TimeitResult : 468 ns ± 5.52 ns per loop (mean ± std. dev. of 7 runs, 1000000 loops each)>,\n",
       "                           'half': <TimeitResult : 465 ns ± 6.96 ns per loop (mean ± std. dev. of 7 runs, 1000000 loops each)>,\n",
       "                           'full': <TimeitResult : 469 ns ± 5.05 ns per loop (mean ± std. dev. of 7 runs, 1000000 loops each)>},\n",
       "                          '100': {'1': <TimeitResult : 2.34 µs ± 69.6 ns per loop (mean ± std. dev. of 7 runs, 100000 loops each)>,\n",
       "                           'half': <TimeitResult : 2.41 µs ± 266 ns per loop (mean ± std. dev. of 7 runs, 100000 loops each)>,\n",
       "                           'full': <TimeitResult : 2.4 µs ± 216 ns per loop (mean ± std. dev. of 7 runs, 100000 loops each)>},\n",
       "                          '1000': {'1': <TimeitResult : 26.1 µs ± 551 ns per loop (mean ± std. dev. of 7 runs, 10000 loops each)>,\n",
       "                           'half': <TimeitResult : 26.3 µs ± 483 ns per loop (mean ± std. dev. of 7 runs, 10000 loops each)>,\n",
       "                           'full': <TimeitResult : 25.9 µs ± 348 ns per loop (mean ± std. dev. of 7 runs, 10000 loops each)>},\n",
       "                          '10000': {'1': <TimeitResult : 325 µs ± 7.12 µs per loop (mean ± std. dev. of 7 runs, 1000 loops each)>,\n",
       "                           'half': <TimeitResult : 329 µs ± 5.23 µs per loop (mean ± std. dev. of 7 runs, 1000 loops each)>,\n",
       "                           'full': <TimeitResult : 349 µs ± 24 µs per loop (mean ± std. dev. of 7 runs, 1000 loops each)>},\n",
       "                          '100000': {'1': <TimeitResult : 4.87 ms ± 461 µs per loop (mean ± std. dev. of 7 runs, 100 loops each)>,\n",
       "                           'half': <TimeitResult : 5.07 ms ± 538 µs per loop (mean ± std. dev. of 7 runs, 100 loops each)>,\n",
       "                           'full': <TimeitResult : 4.88 ms ± 354 µs per loop (mean ± std. dev. of 7 runs, 100 loops each)>},\n",
       "                          '1000000': {'1': <TimeitResult : 45.7 ms ± 586 µs per loop (mean ± std. dev. of 7 runs, 10 loops each)>,\n",
       "                           'half': <TimeitResult : 62.7 ms ± 7.22 ms per loop (mean ± std. dev. of 7 runs, 10 loops each)>,\n",
       "                           'full': <TimeitResult : 45.6 ms ± 624 µs per loop (mean ± std. dev. of 7 runs, 10 loops each)>}}),\n",
       "             'set_min': defaultdict(dict,\n",
       "                         {'10': {'1': <TimeitResult : 244 ns ± 5.62 ns per loop (mean ± std. dev. of 7 runs, 1000000 loops each)>,\n",
       "                           'half': <TimeitResult : 326 ns ± 3.86 ns per loop (mean ± std. dev. of 7 runs, 1000000 loops each)>,\n",
       "                           'full': <TimeitResult : 442 ns ± 7.14 ns per loop (mean ± std. dev. of 7 runs, 1000000 loops each)>},\n",
       "                          '100': {'1': <TimeitResult : 247 ns ± 5.39 ns per loop (mean ± std. dev. of 7 runs, 1000000 loops each)>,\n",
       "                           'half': <TimeitResult : 1.25 µs ± 95.4 ns per loop (mean ± std. dev. of 7 runs, 1000000 loops each)>,\n",
       "                           'full': <TimeitResult : 2.25 µs ± 48.5 ns per loop (mean ± std. dev. of 7 runs, 100000 loops each)>},\n",
       "                          '1000': {'1': <TimeitResult : 252 ns ± 6.31 ns per loop (mean ± std. dev. of 7 runs, 1000000 loops each)>,\n",
       "                           'half': <TimeitResult : 19 µs ± 1.89 µs per loop (mean ± std. dev. of 7 runs, 100000 loops each)>,\n",
       "                           'full': <TimeitResult : 41.2 µs ± 3.94 µs per loop (mean ± std. dev. of 7 runs, 10000 loops each)>},\n",
       "                          '10000': {'1': <TimeitResult : 255 ns ± 9.06 ns per loop (mean ± std. dev. of 7 runs, 1000000 loops each)>,\n",
       "                           'half': <TimeitResult : 249 µs ± 42.2 µs per loop (mean ± std. dev. of 7 runs, 1000 loops each)>,\n",
       "                           'full': <TimeitResult : 498 µs ± 55 µs per loop (mean ± std. dev. of 7 runs, 1000 loops each)>},\n",
       "                          '100000': {'1': <TimeitResult : 283 ns ± 49.2 ns per loop (mean ± std. dev. of 7 runs, 1000000 loops each)>,\n",
       "                           'half': <TimeitResult : 3.1 ms ± 625 µs per loop (mean ± std. dev. of 7 runs, 100 loops each)>,\n",
       "                           'full': <TimeitResult : 4.98 ms ± 963 µs per loop (mean ± std. dev. of 7 runs, 100 loops each)>},\n",
       "                          '1000000': {'1': <TimeitResult : 248 ns ± 5.2 ns per loop (mean ± std. dev. of 7 runs, 1000000 loops each)>,\n",
       "                           'half': <TimeitResult : 23.3 ms ± 934 µs per loop (mean ± std. dev. of 7 runs, 10 loops each)>,\n",
       "                           'full': <TimeitResult : 44.9 ms ± 485 µs per loop (mean ± std. dev. of 7 runs, 10 loops each)>}})})"
      ]
     },
     "execution_count": 25,
     "metadata": {},
     "output_type": "execute_result"
    }
   ],
   "source": [
    "timings_high_sim"
   ]
  },
  {
   "cell_type": "code",
   "execution_count": 131,
   "metadata": {
    "ExecuteTime": {
     "end_time": "2020-10-02T12:39:08.321737Z",
     "start_time": "2020-10-02T12:39:08.288460Z"
    }
   },
   "outputs": [
    {
     "ename": "PicklingError",
     "evalue": "Can't pickle <function <lambda> at 0x7fde918be940>: attribute lookup <lambda> on __main__ failed",
     "output_type": "error",
     "traceback": [
      "\u001b[1;31m---------------------------------------------------------------------------\u001b[0m",
      "\u001b[1;31mPicklingError\u001b[0m                             Traceback (most recent call last)",
      "\u001b[1;32m<ipython-input-131-dc3fe9084846>\u001b[0m in \u001b[0;36m<module>\u001b[1;34m\u001b[0m\n\u001b[1;32m----> 1\u001b[1;33m \u001b[0mnp\u001b[0m\u001b[1;33m.\u001b[0m\u001b[0msave\u001b[0m\u001b[1;33m(\u001b[0m\u001b[1;34m\"timings_high_sim.npy\"\u001b[0m\u001b[1;33m,\u001b[0m \u001b[0mtimings_high_sim\u001b[0m\u001b[1;33m)\u001b[0m\u001b[1;33m\u001b[0m\u001b[1;33m\u001b[0m\u001b[0m\n\u001b[0m",
      "\u001b[1;32m<__array_function__ internals>\u001b[0m in \u001b[0;36msave\u001b[1;34m(*args, **kwargs)\u001b[0m\n",
      "\u001b[1;32m~/.pyenv/versions/miniconda3-4.7.12/envs/cnnclustering/lib/python3.8/site-packages/numpy/lib/npyio.py\u001b[0m in \u001b[0;36msave\u001b[1;34m(file, arr, allow_pickle, fix_imports)\u001b[0m\n\u001b[0;32m    526\u001b[0m     \u001b[1;32mwith\u001b[0m \u001b[0mfile_ctx\u001b[0m \u001b[1;32mas\u001b[0m \u001b[0mfid\u001b[0m\u001b[1;33m:\u001b[0m\u001b[1;33m\u001b[0m\u001b[1;33m\u001b[0m\u001b[0m\n\u001b[0;32m    527\u001b[0m         \u001b[0marr\u001b[0m \u001b[1;33m=\u001b[0m \u001b[0mnp\u001b[0m\u001b[1;33m.\u001b[0m\u001b[0masanyarray\u001b[0m\u001b[1;33m(\u001b[0m\u001b[0marr\u001b[0m\u001b[1;33m)\u001b[0m\u001b[1;33m\u001b[0m\u001b[1;33m\u001b[0m\u001b[0m\n\u001b[1;32m--> 528\u001b[1;33m         format.write_array(fid, arr, allow_pickle=allow_pickle,\n\u001b[0m\u001b[0;32m    529\u001b[0m                            pickle_kwargs=dict(fix_imports=fix_imports))\n\u001b[0;32m    530\u001b[0m \u001b[1;33m\u001b[0m\u001b[0m\n",
      "\u001b[1;32m~/.pyenv/versions/miniconda3-4.7.12/envs/cnnclustering/lib/python3.8/site-packages/numpy/lib/format.py\u001b[0m in \u001b[0;36mwrite_array\u001b[1;34m(fp, array, version, allow_pickle, pickle_kwargs)\u001b[0m\n\u001b[0;32m    662\u001b[0m         \u001b[1;32mif\u001b[0m \u001b[0mpickle_kwargs\u001b[0m \u001b[1;32mis\u001b[0m \u001b[1;32mNone\u001b[0m\u001b[1;33m:\u001b[0m\u001b[1;33m\u001b[0m\u001b[1;33m\u001b[0m\u001b[0m\n\u001b[0;32m    663\u001b[0m             \u001b[0mpickle_kwargs\u001b[0m \u001b[1;33m=\u001b[0m \u001b[1;33m{\u001b[0m\u001b[1;33m}\u001b[0m\u001b[1;33m\u001b[0m\u001b[1;33m\u001b[0m\u001b[0m\n\u001b[1;32m--> 664\u001b[1;33m         \u001b[0mpickle\u001b[0m\u001b[1;33m.\u001b[0m\u001b[0mdump\u001b[0m\u001b[1;33m(\u001b[0m\u001b[0marray\u001b[0m\u001b[1;33m,\u001b[0m \u001b[0mfp\u001b[0m\u001b[1;33m,\u001b[0m \u001b[0mprotocol\u001b[0m\u001b[1;33m=\u001b[0m\u001b[1;36m3\u001b[0m\u001b[1;33m,\u001b[0m \u001b[1;33m**\u001b[0m\u001b[0mpickle_kwargs\u001b[0m\u001b[1;33m)\u001b[0m\u001b[1;33m\u001b[0m\u001b[1;33m\u001b[0m\u001b[0m\n\u001b[0m\u001b[0;32m    665\u001b[0m     \u001b[1;32melif\u001b[0m \u001b[0marray\u001b[0m\u001b[1;33m.\u001b[0m\u001b[0mflags\u001b[0m\u001b[1;33m.\u001b[0m\u001b[0mf_contiguous\u001b[0m \u001b[1;32mand\u001b[0m \u001b[1;32mnot\u001b[0m \u001b[0marray\u001b[0m\u001b[1;33m.\u001b[0m\u001b[0mflags\u001b[0m\u001b[1;33m.\u001b[0m\u001b[0mc_contiguous\u001b[0m\u001b[1;33m:\u001b[0m\u001b[1;33m\u001b[0m\u001b[1;33m\u001b[0m\u001b[0m\n\u001b[0;32m    666\u001b[0m         \u001b[1;32mif\u001b[0m \u001b[0misfileobj\u001b[0m\u001b[1;33m(\u001b[0m\u001b[0mfp\u001b[0m\u001b[1;33m)\u001b[0m\u001b[1;33m:\u001b[0m\u001b[1;33m\u001b[0m\u001b[1;33m\u001b[0m\u001b[0m\n",
      "\u001b[1;31mPicklingError\u001b[0m: Can't pickle <function <lambda> at 0x7fde918be940>: attribute lookup <lambda> on __main__ failed"
     ]
    }
   ],
   "source": [
    "np.save(\"timings_high_sim.npy\", timings_high_sim)"
   ]
  },
  {
   "cell_type": "code",
   "execution_count": 45,
   "metadata": {
    "ExecuteTime": {
     "end_time": "2020-10-05T10:20:10.544100Z",
     "start_time": "2020-10-05T10:20:09.272287Z"
    },
    "run_control": {
     "marked": true
    }
   },
   "outputs": [
    {
     "data": {
      "image/png": "[encoded data removed]",
      "text/plain": [
       "<Figure size 750x450 with 2 Axes>"
      ]
     },
     "metadata": {},
     "output_type": "display_data"
    }
   ],
   "source": [
    "plt.close(\"all\")\n",
    "fig, ax = plt.subplots(1, 2)\n",
    "fs = [(\"set\", \"blue\"),\n",
    "      (\"set_min\", \"orange\"),\n",
    "      (\"array\", \"green\"),\n",
    "      #(\"array_min\", \"red\"),\n",
    "      (\"array_custom\", \"purple\"),\n",
    "      (\"array_custom2\", \"yellow\")]\n",
    "ns = [\"10\", \"100\", \"1000\", \"10000\", \"100000\", \"1000000\"]\n",
    "ns_ = [int(x) for x in ns]\n",
    "cs = [(\"1\", 0.5), (\"half\", 0.75), (\"full\", 1)]\n",
    "for f, color in fs:\n",
    "    for c, alpha in cs:\n",
    "        timings_ = [x[c].average for x in timings_high_sim[f].values()]\n",
    "        ax[0].plot(\n",
    "            ns_, timings_,\n",
    "            color=color, alpha=alpha,\n",
    "            marker=\"o\",\n",
    "            markerfacecolor=color, markeredgecolor=\"k\")\n",
    "        ax[1].plot(\n",
    "            ns_, timings_,\n",
    "            color=color, alpha=alpha,\n",
    "            marker=\"o\",\n",
    "            markerfacecolor=color, markeredgecolor=\"k\")\n",
    "ax[0].set(**{\n",
    "    \"xlabel\": \"$n$\",\n",
    "    \"ylabel\": \"$t$ / s\",\n",
    "    # \"ylim\": (-0.01, 0.1),\n",
    "})\n",
    "ax[1].set(**{\n",
    "    \"xscale\": \"log\",\n",
    "    \"yscale\": \"log\",\n",
    "    \"xlabel\": \"$n$\",\n",
    "})\n",
    "fig.subplots_adjust(wspace=0.3)\n",
    "# plt.savefig(\"bm_check_similarity.png\")\n",
    "plt.show()"
   ]
  },
  {
   "cell_type": "code",
   "execution_count": 51,
   "metadata": {
    "ExecuteTime": {
     "end_time": "2020-10-05T10:24:14.823421Z",
     "start_time": "2020-10-05T10:24:13.868235Z"
    },
    "run_control": {
     "marked": true
    }
   },
   "outputs": [
    {
     "data": {
      "image/png": "[encoded data removed]",
      "text/plain": [
       "<Figure size 750x450 with 2 Axes>"
      ]
     },
     "metadata": {},
     "output_type": "display_data"
    }
   ],
   "source": [
    "plt.close(\"all\")\n",
    "fig, ax = plt.subplots(1, 2)\n",
    "fs = [(\"set\", \"blue\"),\n",
    "      (\"set_min\", \"orange\"),\n",
    "      (\"array\", \"green\"),\n",
    "      #(\"array_min\", \"red\"),\n",
    "      (\"array_custom\", \"purple\"),\n",
    "      (\"array_custom2\", \"yellow\")]\n",
    "ns = [\"10\", \"100\", \"1000\", \"10000\", \"100000\", \"1000000\"]\n",
    "ns_ = [int(x) for x in ns]\n",
    "cs = [(\"1\", 0.5), (\"half\", 0.75), (\"full\", 1)]\n",
    "for f, color in fs:\n",
    "    for c, alpha in cs:\n",
    "        timings_ = [x[c].average for x in timings_high_sim[f].values()]\n",
    "        ax[0].plot(\n",
    "            ns_, timings_,\n",
    "            color=color, alpha=alpha,\n",
    "            marker=\"o\",\n",
    "            markerfacecolor=color, markeredgecolor=\"k\")\n",
    "        ax[1].plot(\n",
    "            ns_, timings_,\n",
    "            color=color, alpha=alpha,\n",
    "            marker=\"o\",\n",
    "            markerfacecolor=color, markeredgecolor=\"k\")\n",
    "ax[0].set(**{\n",
    "    \"xlabel\": \"$n$\",\n",
    "    \"ylabel\": \"$t$ / s\",\n",
    "    \"ylim\": (-0.01, 0.1),\n",
    "})\n",
    "ax[1].set(**{\n",
    "    \"xscale\": \"log\",\n",
    "    \"yscale\": \"log\",\n",
    "    \"xlabel\": \"$n$\",\n",
    "})\n",
    "fig.subplots_adjust(wspace=0.3)\n",
    "plt.savefig(\"bm_check_similarity.png\")\n",
    "plt.show()"
   ]
  },
  {
   "cell_type": "code",
   "execution_count": 50,
   "metadata": {
    "ExecuteTime": {
     "end_time": "2020-10-05T10:22:16.568148Z",
     "start_time": "2020-10-05T10:22:15.839867Z"
    }
   },
   "outputs": [
    {
     "data": {
      "image/png": "[encoded data removed]",
      "text/plain": [
       "<Figure size 750x450 with 2 Axes>"
      ]
     },
     "metadata": {},
     "output_type": "display_data"
    }
   ],
   "source": [
    "plt.close(\"all\")\n",
    "fig, ax = plt.subplots(1, 2)\n",
    "fs = [(\"set\", \"blue\"),\n",
    "      (\"set_min\", \"orange\"),\n",
    "      (\"array\", \"green\"),\n",
    "      #(\"array_min\", \"red\"),\n",
    "      (\"array_custom\", \"purple\"),\n",
    "      (\"array_custom2\", \"yellow\")]\n",
    "ns = [\"10\", \"100\", \"1000\", \"10000\", \"100000\", \"1000000\"]\n",
    "ns_ = [int(x) for x in ns]\n",
    "cs = [(\"1\", 0.5), (\"half\", 0.75), (\"full\", 1)]\n",
    "for f, color in fs:\n",
    "    for c, alpha in cs:\n",
    "        timings_ = [x[c].average for x in timings_high_sim[f].values()]\n",
    "        ax[0].plot(\n",
    "            ns_, timings_,\n",
    "            color=color, alpha=alpha,\n",
    "            marker=\"o\",\n",
    "            markerfacecolor=color, markeredgecolor=\"k\")\n",
    "        ax[1].plot(\n",
    "            ns_, timings_,\n",
    "            color=color, alpha=alpha,\n",
    "            marker=\"o\",\n",
    "            markerfacecolor=color, markeredgecolor=\"k\")\n",
    "ax[0].set(**{\n",
    "    \"xlabel\": \"$n$\",\n",
    "    \"ylabel\": \"$t$ / s\",\n",
    "    \"ylim\": (-0.00001, 0.0001),\n",
    "    \"xlim\": (0, 1000),\n",
    "})\n",
    "ax[1].set(**{\n",
    "    \"xscale\": \"log\",\n",
    "    \"yscale\": \"log\",\n",
    "    \"xlabel\": \"$n$\",\n",
    "    \"ylim\": (None, 0.0001),\n",
    "    \"xlim\": (None, 1000),\n",
    "})\n",
    "fig.subplots_adjust(wspace=0.3)\n",
    "# plt.savefig(\"bm_check_similarity.png\")\n",
    "plt.show()"
   ]
  },
  {
   "cell_type": "code",
   "execution_count": 135,
   "metadata": {
    "ExecuteTime": {
     "end_time": "2020-10-02T12:59:28.291745Z",
     "start_time": "2020-10-02T12:59:28.271987Z"
    }
   },
   "outputs": [
    {
     "data": {
      "text/plain": [
       "array([1])"
      ]
     },
     "execution_count": 135,
     "metadata": {},
     "output_type": "execute_result"
    }
   ],
   "source": [
    "np.intersect1d(np.arange(10), np.array([1, 1, 1, 1, 1, 1]), assume_unique=False)"
   ]
  },
  {
   "cell_type": "code",
   "execution_count": 140,
   "metadata": {
    "ExecuteTime": {
     "end_time": "2020-10-02T13:06:40.974136Z",
     "start_time": "2020-10-02T13:06:40.962726Z"
    }
   },
   "outputs": [
    {
     "data": {
      "text/plain": [
       "array([2, 3, 4, 5])"
      ]
     },
     "execution_count": 140,
     "metadata": {},
     "output_type": "execute_result"
    }
   ],
   "source": [
    "a = np.array([1, 2, 5, 4, 3, 8])\n",
    "b = np.array([2, 5, 4, 3, 9])\n",
    "aux = np.concatenate((a, b))\n",
    "aux.sort()\n",
    "mask = aux[1:] == aux[:-1]\n",
    "int1d = aux[:-1][mask]\n",
    "int1d"
   ]
  },
  {
   "cell_type": "code",
   "execution_count": null,
   "metadata": {},
   "outputs": [],
   "source": [
    "if \"timings_low_sim\" not in dir():\n",
    "    timings_low_sim = defaultdict(lambda: defaultdict(dict))\n",
    "for f, name in [(check_similarity_set, \"set\"), ]:\n",
    "    for case in CASES_LOW_SIM:\n",
    "        case = format_case(case)\n",
    "        for c in [1, int(case[2]) // 2, int(case[2])]:\n",
    "            timings_high_sim[name][case[2]][c] = %timeit -o f(*case[:2], c)"
   ]
  },
  {
   "cell_type": "code",
   "execution_count": 155,
   "metadata": {
    "ExecuteTime": {
     "end_time": "2020-10-03T12:13:12.383775Z",
     "start_time": "2020-10-03T12:13:12.376014Z"
    }
   },
   "outputs": [],
   "source": [
    "from sklearn.neighbors import NearestNeighbors"
   ]
  },
  {
   "cell_type": "code",
   "execution_count": 165,
   "metadata": {
    "ExecuteTime": {
     "end_time": "2020-10-03T12:15:46.143886Z",
     "start_time": "2020-10-03T12:15:46.134684Z"
    }
   },
   "outputs": [],
   "source": [
    "data = np.random.uniform(size=(20, 5))"
   ]
  },
  {
   "cell_type": "code",
   "execution_count": 166,
   "metadata": {
    "ExecuteTime": {
     "end_time": "2020-10-03T12:15:47.063494Z",
     "start_time": "2020-10-03T12:15:47.042573Z"
    }
   },
   "outputs": [
    {
     "data": {
      "text/plain": [
       "array([[0.73391482, 0.28696864, 0.48582144, 0.30402796, 0.375301  ],\n",
       "       [0.38462525, 0.56080514, 0.25542902, 0.90400775, 0.09898257],\n",
       "       [0.93602879, 0.86826484, 0.80005939, 0.24961222, 0.29558796],\n",
       "       [0.94819447, 0.68990506, 0.41983289, 0.89793178, 0.05286364],\n",
       "       [0.5901626 , 0.53803887, 0.46831329, 0.0431153 , 0.66992998],\n",
       "       [0.7979114 , 0.91434285, 0.57148309, 0.24518511, 0.3809271 ],\n",
       "       [0.57299437, 0.8315745 , 0.3530245 , 0.48489106, 0.73763019],\n",
       "       [0.93470662, 0.36502629, 0.5148658 , 0.93696483, 0.54988367],\n",
       "       [0.73305091, 0.72802003, 0.25137544, 0.36773948, 0.83506226],\n",
       "       [0.34355281, 0.52208506, 0.41651214, 0.80987567, 0.14107594],\n",
       "       [0.84429963, 0.24044789, 0.4558434 , 0.3687441 , 0.05108865],\n",
       "       [0.28120058, 0.10595988, 0.76741607, 0.28137111, 0.31193377],\n",
       "       [0.69676029, 0.69867432, 0.53818004, 0.74567754, 0.37187044],\n",
       "       [0.82779472, 0.33118835, 0.57614879, 0.3451896 , 0.51848923],\n",
       "       [0.5667147 , 0.07554341, 0.86783845, 0.99829478, 0.00905636],\n",
       "       [0.08815779, 0.86028631, 0.15643126, 0.76700132, 0.82364741],\n",
       "       [0.21788428, 0.85748863, 0.03145123, 0.40709968, 0.62133801],\n",
       "       [0.42814551, 0.11966241, 0.12650062, 0.6156425 , 0.94716318],\n",
       "       [0.20558886, 0.44044953, 0.7136976 , 0.58398686, 0.52029626],\n",
       "       [0.8754077 , 0.70945798, 0.0308494 , 0.5027941 , 0.782421  ]])"
      ]
     },
     "execution_count": 166,
     "metadata": {},
     "output_type": "execute_result"
    }
   ],
   "source": [
    "data"
   ]
  },
  {
   "cell_type": "code",
   "execution_count": 167,
   "metadata": {
    "ExecuteTime": {
     "end_time": "2020-10-03T12:15:49.323601Z",
     "start_time": "2020-10-03T12:15:49.319035Z"
    }
   },
   "outputs": [
    {
     "data": {
      "text/plain": [
       "NearestNeighbors()"
      ]
     },
     "execution_count": 167,
     "metadata": {},
     "output_type": "execute_result"
    }
   ],
   "source": [
    "nmodel = NearestNeighbors()\n",
    "nmodel.fit(data)"
   ]
  },
  {
   "cell_type": "code",
   "execution_count": 171,
   "metadata": {
    "ExecuteTime": {
     "end_time": "2020-10-03T12:16:08.262828Z",
     "start_time": "2020-10-03T12:16:08.240162Z"
    }
   },
   "outputs": [
    {
     "data": {
      "text/plain": [
       "array([array([ 0,  4, 10, 13]), array([1, 9]), array([2, 5]),\n",
       "       array([ 3, 12]), array([ 0,  4,  8, 13]), array([2, 5]),\n",
       "       array([ 6,  8, 16, 19]), array([ 7, 12]), array([ 4,  6,  8, 19]),\n",
       "       array([ 1,  9, 12]), array([ 0, 10, 13]), array([11]),\n",
       "       array([ 3,  7,  9, 12]), array([ 0,  4, 10, 13]), array([14]),\n",
       "       array([15, 16]), array([ 6, 15, 16]), array([17]), array([18]),\n",
       "       array([ 6,  8, 19])], dtype=object)"
      ]
     },
     "execution_count": 171,
     "metadata": {},
     "output_type": "execute_result"
    }
   ],
   "source": [
    "nmodel.radius_neighbors(data, 0.5, return_distance=False)"
   ]
  },
  {
   "cell_type": "code",
   "execution_count": null,
   "metadata": {},
   "outputs": [],
   "source": []
  }
 ],
 "metadata": {
  "celltoolbar": "Initialization Cell",
  "kernelspec": {
   "display_name": "Python 3",
   "language": "python",
   "name": "python3"
  },
  "language_info": {
   "codemirror_mode": {
    "name": "ipython",
    "version": 3
   },
   "file_extension": ".py",
   "mimetype": "text/x-python",
   "name": "python",
   "nbconvert_exporter": "python",
   "pygments_lexer": "ipython3",
   "version": "3.8.8"
  },
  "toc": {
   "base_numbering": 1,
   "nav_menu": {},
   "number_sections": true,
   "sideBar": true,
   "skip_h1_title": true,
   "title_cell": "Table of Contents",
   "title_sidebar": "Contents",
   "toc_cell": true,
   "toc_position": {
    "height": "calc(100% - 180px)",
    "left": "10px",
    "top": "150px",
    "width": "164.972px"
   },
   "toc_section_display": true,
   "toc_window_display": true
  },
  "varInspector": {
   "cols": {
    "lenName": 16,
    "lenType": 16,
    "lenVar": 40
   },
   "kernels_config": {
    "python": {
     "delete_cmd_postfix": "",
     "delete_cmd_prefix": "del ",
     "library": "var_list.py",
     "varRefreshCmd": "print(var_dic_list())"
    },
    "r": {
     "delete_cmd_postfix": ") ",
     "delete_cmd_prefix": "rm(",
     "library": "var_list.r",
     "varRefreshCmd": "cat(var_dic_list()) "
    }
   },
   "types_to_exclude": [
    "module",
    "function",
    "builtin_function_or_method",
    "instance",
    "_Feature"
   ],
   "window_display": false
  }
 },
 "nbformat": 4,
 "nbformat_minor": 4
}
